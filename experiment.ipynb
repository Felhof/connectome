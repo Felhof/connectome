{
 "cells": [
  {
   "cell_type": "code",
   "execution_count": 18,
   "metadata": {
    "collapsed": true,
    "ExecuteTime": {
     "end_time": "2023-06-24T22:39:26.836329478Z",
     "start_time": "2023-06-24T22:39:26.771574765Z"
    }
   },
   "outputs": [
    {
     "name": "stdout",
     "output_type": "stream",
     "text": [
      "The autoreload extension is already loaded. To reload it, use:\n",
      "  %reload_ext autoreload\n"
     ]
    }
   ],
   "source": [
    "import itertools\n",
    "import math\n",
    "from contextlib import contextmanager\n",
    "from dataclasses import dataclass\n",
    "from functools import partial\n",
    "from typing import List, Callable, Union, Generator, Literal\n",
    "\n",
    "import torch\n",
    "from circuitsvis.attention import attention_pattern\n",
    "from torch import Tensor\n",
    "from tqdm.autonotebook import trange, tqdm\n",
    "from jaxtyping import Float, Int\n",
    "from transformer_lens import HookedTransformer\n",
    "from transformer_lens.hook_points import HookPoint\n",
    "\n",
    "from utils import (\n",
    "    docstring_metric,\n",
    "    ioi_metric,\n",
    "    kl_on_last_token,\n",
    "    layer_level_connectom,\n",
    "    sankey_diagram_of_connectome, Connexion,\n",
    ")\n",
    "import diego as d\n",
    "\n",
    "%load_ext autoreload\n",
    "%autoreload 2"
   ]
  },
  {
   "cell_type": "code",
   "execution_count": 2,
   "outputs": [
    {
     "name": "stderr",
     "output_type": "stream",
     "text": [
      "Using pad_token, but it is not set yet.\n"
     ]
    },
    {
     "name": "stdout",
     "output_type": "stream",
     "text": [
      "Loaded pretrained model gpt2-small into HookedTransformer\n"
     ]
    }
   ],
   "source": [
    "model = HookedTransformer.from_pretrained(\"gpt2-small\")"
   ],
   "metadata": {
    "collapsed": false,
    "ExecuteTime": {
     "end_time": "2023-06-24T22:11:40.248740502Z",
     "start_time": "2023-06-24T22:11:36.251090262Z"
    }
   }
  },
  {
   "cell_type": "code",
   "execution_count": 3,
   "outputs": [],
   "source": [
    "# model = HookedTransformer.from_pretrained(\"attn-only-4l\")"
   ],
   "metadata": {
    "collapsed": false,
    "ExecuteTime": {
     "end_time": "2023-06-24T22:11:40.287835989Z",
     "start_time": "2023-06-24T22:11:40.249268501Z"
    }
   }
  },
  {
   "cell_type": "code",
   "execution_count": 21,
   "outputs": [
    {
     "data": {
      "text/plain": "0it [00:00, ?it/s]",
      "application/vnd.jupyter.widget-view+json": {
       "version_major": 2,
       "version_minor": 0,
       "model_id": "b636285388834bc88df16417ae468e81"
      }
     },
     "metadata": {},
     "output_type": "display_data"
    },
    {
     "data": {
      "application/vnd.plotly.v1+json": {
       "data": [
        {
         "link": {
          "color": [
           "rgba(255,0,0, 0.5307326912879944)",
           "rgba(255,0,0, 0.15326105058193207)",
           "rgba(0,0,255, 0.7874057292938232)",
           "rgba(0,0,255, 0.800000011920929)",
           "rgba(0,0,255, 0.1938512921333313)",
           "rgba(0,0,255, 0.32892462611198425)",
           "rgba(0,0,255, 0.24092154204845428)",
           "rgba(255,0,0, 0.20376518368721008)",
           "rgba(0,0,255, 0.17774787545204163)",
           "rgba(0,0,255, 0.20099785923957825)"
          ],
          "label": [
           "All layers",
           "All layers",
           "All layers",
           "All layers",
           "All layers",
           "All layers",
           "All layers",
           "All layers",
           "All layers",
           "All layers"
          ],
          "source": [
           1,
           2,
           3,
           9,
           10,
           2,
           3,
           9,
           1,
           2
          ],
          "target": [
           13,
           13,
           13,
           13,
           13,
           9,
           9,
           9,
           2,
           3
          ],
          "value": [
           1.90289306640625,
           0.5495033264160156,
           2.8231706619262695,
           2.868326187133789,
           0.6950359344482422,
           1.1793289184570312,
           0.8638019561767578,
           0.7305812835693359,
           0.637298583984375,
           0.7206592559814453
          ]
         },
         "node": {
          "label": [
           "1: 'When'",
           "2: ' John'",
           "3: ' and'",
           "4: ' Mary'",
           "5: ' went'",
           "6: ' to'",
           "7: ' the'",
           "8: ' store'",
           "9: ','",
           "10: ' John'",
           "11: ' gave'",
           "12: ' a'",
           "13: ' book'",
           "14: ' to'"
          ],
          "line": {
           "color": "black",
           "width": 0.5
          },
          "pad": 15,
          "thickness": 20
         },
         "type": "sankey"
        }
       ],
       "layout": {
        "template": {
         "data": {
          "histogram2dcontour": [
           {
            "type": "histogram2dcontour",
            "colorbar": {
             "outlinewidth": 0,
             "ticks": ""
            },
            "colorscale": [
             [
              0.0,
              "#0d0887"
             ],
             [
              0.1111111111111111,
              "#46039f"
             ],
             [
              0.2222222222222222,
              "#7201a8"
             ],
             [
              0.3333333333333333,
              "#9c179e"
             ],
             [
              0.4444444444444444,
              "#bd3786"
             ],
             [
              0.5555555555555556,
              "#d8576b"
             ],
             [
              0.6666666666666666,
              "#ed7953"
             ],
             [
              0.7777777777777778,
              "#fb9f3a"
             ],
             [
              0.8888888888888888,
              "#fdca26"
             ],
             [
              1.0,
              "#f0f921"
             ]
            ]
           }
          ],
          "choropleth": [
           {
            "type": "choropleth",
            "colorbar": {
             "outlinewidth": 0,
             "ticks": ""
            }
           }
          ],
          "histogram2d": [
           {
            "type": "histogram2d",
            "colorbar": {
             "outlinewidth": 0,
             "ticks": ""
            },
            "colorscale": [
             [
              0.0,
              "#0d0887"
             ],
             [
              0.1111111111111111,
              "#46039f"
             ],
             [
              0.2222222222222222,
              "#7201a8"
             ],
             [
              0.3333333333333333,
              "#9c179e"
             ],
             [
              0.4444444444444444,
              "#bd3786"
             ],
             [
              0.5555555555555556,
              "#d8576b"
             ],
             [
              0.6666666666666666,
              "#ed7953"
             ],
             [
              0.7777777777777778,
              "#fb9f3a"
             ],
             [
              0.8888888888888888,
              "#fdca26"
             ],
             [
              1.0,
              "#f0f921"
             ]
            ]
           }
          ],
          "heatmap": [
           {
            "type": "heatmap",
            "colorbar": {
             "outlinewidth": 0,
             "ticks": ""
            },
            "colorscale": [
             [
              0.0,
              "#0d0887"
             ],
             [
              0.1111111111111111,
              "#46039f"
             ],
             [
              0.2222222222222222,
              "#7201a8"
             ],
             [
              0.3333333333333333,
              "#9c179e"
             ],
             [
              0.4444444444444444,
              "#bd3786"
             ],
             [
              0.5555555555555556,
              "#d8576b"
             ],
             [
              0.6666666666666666,
              "#ed7953"
             ],
             [
              0.7777777777777778,
              "#fb9f3a"
             ],
             [
              0.8888888888888888,
              "#fdca26"
             ],
             [
              1.0,
              "#f0f921"
             ]
            ]
           }
          ],
          "heatmapgl": [
           {
            "type": "heatmapgl",
            "colorbar": {
             "outlinewidth": 0,
             "ticks": ""
            },
            "colorscale": [
             [
              0.0,
              "#0d0887"
             ],
             [
              0.1111111111111111,
              "#46039f"
             ],
             [
              0.2222222222222222,
              "#7201a8"
             ],
             [
              0.3333333333333333,
              "#9c179e"
             ],
             [
              0.4444444444444444,
              "#bd3786"
             ],
             [
              0.5555555555555556,
              "#d8576b"
             ],
             [
              0.6666666666666666,
              "#ed7953"
             ],
             [
              0.7777777777777778,
              "#fb9f3a"
             ],
             [
              0.8888888888888888,
              "#fdca26"
             ],
             [
              1.0,
              "#f0f921"
             ]
            ]
           }
          ],
          "contourcarpet": [
           {
            "type": "contourcarpet",
            "colorbar": {
             "outlinewidth": 0,
             "ticks": ""
            }
           }
          ],
          "contour": [
           {
            "type": "contour",
            "colorbar": {
             "outlinewidth": 0,
             "ticks": ""
            },
            "colorscale": [
             [
              0.0,
              "#0d0887"
             ],
             [
              0.1111111111111111,
              "#46039f"
             ],
             [
              0.2222222222222222,
              "#7201a8"
             ],
             [
              0.3333333333333333,
              "#9c179e"
             ],
             [
              0.4444444444444444,
              "#bd3786"
             ],
             [
              0.5555555555555556,
              "#d8576b"
             ],
             [
              0.6666666666666666,
              "#ed7953"
             ],
             [
              0.7777777777777778,
              "#fb9f3a"
             ],
             [
              0.8888888888888888,
              "#fdca26"
             ],
             [
              1.0,
              "#f0f921"
             ]
            ]
           }
          ],
          "surface": [
           {
            "type": "surface",
            "colorbar": {
             "outlinewidth": 0,
             "ticks": ""
            },
            "colorscale": [
             [
              0.0,
              "#0d0887"
             ],
             [
              0.1111111111111111,
              "#46039f"
             ],
             [
              0.2222222222222222,
              "#7201a8"
             ],
             [
              0.3333333333333333,
              "#9c179e"
             ],
             [
              0.4444444444444444,
              "#bd3786"
             ],
             [
              0.5555555555555556,
              "#d8576b"
             ],
             [
              0.6666666666666666,
              "#ed7953"
             ],
             [
              0.7777777777777778,
              "#fb9f3a"
             ],
             [
              0.8888888888888888,
              "#fdca26"
             ],
             [
              1.0,
              "#f0f921"
             ]
            ]
           }
          ],
          "mesh3d": [
           {
            "type": "mesh3d",
            "colorbar": {
             "outlinewidth": 0,
             "ticks": ""
            }
           }
          ],
          "scatter": [
           {
            "fillpattern": {
             "fillmode": "overlay",
             "size": 10,
             "solidity": 0.2
            },
            "type": "scatter"
           }
          ],
          "parcoords": [
           {
            "type": "parcoords",
            "line": {
             "colorbar": {
              "outlinewidth": 0,
              "ticks": ""
             }
            }
           }
          ],
          "scatterpolargl": [
           {
            "type": "scatterpolargl",
            "marker": {
             "colorbar": {
              "outlinewidth": 0,
              "ticks": ""
             }
            }
           }
          ],
          "bar": [
           {
            "error_x": {
             "color": "#2a3f5f"
            },
            "error_y": {
             "color": "#2a3f5f"
            },
            "marker": {
             "line": {
              "color": "#E5ECF6",
              "width": 0.5
             },
             "pattern": {
              "fillmode": "overlay",
              "size": 10,
              "solidity": 0.2
             }
            },
            "type": "bar"
           }
          ],
          "scattergeo": [
           {
            "type": "scattergeo",
            "marker": {
             "colorbar": {
              "outlinewidth": 0,
              "ticks": ""
             }
            }
           }
          ],
          "scatterpolar": [
           {
            "type": "scatterpolar",
            "marker": {
             "colorbar": {
              "outlinewidth": 0,
              "ticks": ""
             }
            }
           }
          ],
          "histogram": [
           {
            "marker": {
             "pattern": {
              "fillmode": "overlay",
              "size": 10,
              "solidity": 0.2
             }
            },
            "type": "histogram"
           }
          ],
          "scattergl": [
           {
            "type": "scattergl",
            "marker": {
             "colorbar": {
              "outlinewidth": 0,
              "ticks": ""
             }
            }
           }
          ],
          "scatter3d": [
           {
            "type": "scatter3d",
            "line": {
             "colorbar": {
              "outlinewidth": 0,
              "ticks": ""
             }
            },
            "marker": {
             "colorbar": {
              "outlinewidth": 0,
              "ticks": ""
             }
            }
           }
          ],
          "scattermapbox": [
           {
            "type": "scattermapbox",
            "marker": {
             "colorbar": {
              "outlinewidth": 0,
              "ticks": ""
             }
            }
           }
          ],
          "scatterternary": [
           {
            "type": "scatterternary",
            "marker": {
             "colorbar": {
              "outlinewidth": 0,
              "ticks": ""
             }
            }
           }
          ],
          "scattercarpet": [
           {
            "type": "scattercarpet",
            "marker": {
             "colorbar": {
              "outlinewidth": 0,
              "ticks": ""
             }
            }
           }
          ],
          "carpet": [
           {
            "aaxis": {
             "endlinecolor": "#2a3f5f",
             "gridcolor": "white",
             "linecolor": "white",
             "minorgridcolor": "white",
             "startlinecolor": "#2a3f5f"
            },
            "baxis": {
             "endlinecolor": "#2a3f5f",
             "gridcolor": "white",
             "linecolor": "white",
             "minorgridcolor": "white",
             "startlinecolor": "#2a3f5f"
            },
            "type": "carpet"
           }
          ],
          "table": [
           {
            "cells": {
             "fill": {
              "color": "#EBF0F8"
             },
             "line": {
              "color": "white"
             }
            },
            "header": {
             "fill": {
              "color": "#C8D4E3"
             },
             "line": {
              "color": "white"
             }
            },
            "type": "table"
           }
          ],
          "barpolar": [
           {
            "marker": {
             "line": {
              "color": "#E5ECF6",
              "width": 0.5
             },
             "pattern": {
              "fillmode": "overlay",
              "size": 10,
              "solidity": 0.2
             }
            },
            "type": "barpolar"
           }
          ],
          "pie": [
           {
            "automargin": true,
            "type": "pie"
           }
          ]
         },
         "layout": {
          "autotypenumbers": "strict",
          "colorway": [
           "#636efa",
           "#EF553B",
           "#00cc96",
           "#ab63fa",
           "#FFA15A",
           "#19d3f3",
           "#FF6692",
           "#B6E880",
           "#FF97FF",
           "#FECB52"
          ],
          "font": {
           "color": "#2a3f5f"
          },
          "hovermode": "closest",
          "hoverlabel": {
           "align": "left"
          },
          "paper_bgcolor": "white",
          "plot_bgcolor": "#E5ECF6",
          "polar": {
           "bgcolor": "#E5ECF6",
           "angularaxis": {
            "gridcolor": "white",
            "linecolor": "white",
            "ticks": ""
           },
           "radialaxis": {
            "gridcolor": "white",
            "linecolor": "white",
            "ticks": ""
           }
          },
          "ternary": {
           "bgcolor": "#E5ECF6",
           "aaxis": {
            "gridcolor": "white",
            "linecolor": "white",
            "ticks": ""
           },
           "baxis": {
            "gridcolor": "white",
            "linecolor": "white",
            "ticks": ""
           },
           "caxis": {
            "gridcolor": "white",
            "linecolor": "white",
            "ticks": ""
           }
          },
          "coloraxis": {
           "colorbar": {
            "outlinewidth": 0,
            "ticks": ""
           }
          },
          "colorscale": {
           "sequential": [
            [
             0.0,
             "#0d0887"
            ],
            [
             0.1111111111111111,
             "#46039f"
            ],
            [
             0.2222222222222222,
             "#7201a8"
            ],
            [
             0.3333333333333333,
             "#9c179e"
            ],
            [
             0.4444444444444444,
             "#bd3786"
            ],
            [
             0.5555555555555556,
             "#d8576b"
            ],
            [
             0.6666666666666666,
             "#ed7953"
            ],
            [
             0.7777777777777778,
             "#fb9f3a"
            ],
            [
             0.8888888888888888,
             "#fdca26"
            ],
            [
             1.0,
             "#f0f921"
            ]
           ],
           "sequentialminus": [
            [
             0.0,
             "#0d0887"
            ],
            [
             0.1111111111111111,
             "#46039f"
            ],
            [
             0.2222222222222222,
             "#7201a8"
            ],
            [
             0.3333333333333333,
             "#9c179e"
            ],
            [
             0.4444444444444444,
             "#bd3786"
            ],
            [
             0.5555555555555556,
             "#d8576b"
            ],
            [
             0.6666666666666666,
             "#ed7953"
            ],
            [
             0.7777777777777778,
             "#fb9f3a"
            ],
            [
             0.8888888888888888,
             "#fdca26"
            ],
            [
             1.0,
             "#f0f921"
            ]
           ],
           "diverging": [
            [
             0,
             "#8e0152"
            ],
            [
             0.1,
             "#c51b7d"
            ],
            [
             0.2,
             "#de77ae"
            ],
            [
             0.3,
             "#f1b6da"
            ],
            [
             0.4,
             "#fde0ef"
            ],
            [
             0.5,
             "#f7f7f7"
            ],
            [
             0.6,
             "#e6f5d0"
            ],
            [
             0.7,
             "#b8e186"
            ],
            [
             0.8,
             "#7fbc41"
            ],
            [
             0.9,
             "#4d9221"
            ],
            [
             1,
             "#276419"
            ]
           ]
          },
          "xaxis": {
           "gridcolor": "white",
           "linecolor": "white",
           "ticks": "",
           "title": {
            "standoff": 15
           },
           "zerolinecolor": "white",
           "automargin": true,
           "zerolinewidth": 2
          },
          "yaxis": {
           "gridcolor": "white",
           "linecolor": "white",
           "ticks": "",
           "title": {
            "standoff": 15
           },
           "zerolinecolor": "white",
           "automargin": true,
           "zerolinewidth": 2
          },
          "scene": {
           "xaxis": {
            "backgroundcolor": "#E5ECF6",
            "gridcolor": "white",
            "linecolor": "white",
            "showbackground": true,
            "ticks": "",
            "zerolinecolor": "white",
            "gridwidth": 2
           },
           "yaxis": {
            "backgroundcolor": "#E5ECF6",
            "gridcolor": "white",
            "linecolor": "white",
            "showbackground": true,
            "ticks": "",
            "zerolinecolor": "white",
            "gridwidth": 2
           },
           "zaxis": {
            "backgroundcolor": "#E5ECF6",
            "gridcolor": "white",
            "linecolor": "white",
            "showbackground": true,
            "ticks": "",
            "zerolinecolor": "white",
            "gridwidth": 2
           }
          },
          "shapedefaults": {
           "line": {
            "color": "#2a3f5f"
           }
          },
          "annotationdefaults": {
           "arrowcolor": "#2a3f5f",
           "arrowhead": 0,
           "arrowwidth": 1
          },
          "geo": {
           "bgcolor": "white",
           "landcolor": "#E5ECF6",
           "subunitcolor": "white",
           "showland": true,
           "showlakes": true,
           "lakecolor": "white"
          },
          "title": {
           "x": 0.05
          },
          "mapbox": {
           "style": "light"
          }
         }
        },
        "title": {
         "text": "Effect of Attention Knockout"
        },
        "font": {
         "size": 10
        }
       },
       "config": {
        "plotlyServerURL": "https://plot.ly"
       }
      },
      "text/html": "<div>                            <div id=\"01bee617-e222-4730-9955-ae5131c308c4\" class=\"plotly-graph-div\" style=\"height:525px; width:100%;\"></div>            <script type=\"text/javascript\">                require([\"plotly\"], function(Plotly) {                    window.PLOTLYENV=window.PLOTLYENV || {};                                    if (document.getElementById(\"01bee617-e222-4730-9955-ae5131c308c4\")) {                    Plotly.newPlot(                        \"01bee617-e222-4730-9955-ae5131c308c4\",                        [{\"link\":{\"color\":[\"rgba(255,0,0, 0.5307326912879944)\",\"rgba(255,0,0, 0.15326105058193207)\",\"rgba(0,0,255, 0.7874057292938232)\",\"rgba(0,0,255, 0.800000011920929)\",\"rgba(0,0,255, 0.1938512921333313)\",\"rgba(0,0,255, 0.32892462611198425)\",\"rgba(0,0,255, 0.24092154204845428)\",\"rgba(255,0,0, 0.20376518368721008)\",\"rgba(0,0,255, 0.17774787545204163)\",\"rgba(0,0,255, 0.20099785923957825)\"],\"label\":[\"All layers\",\"All layers\",\"All layers\",\"All layers\",\"All layers\",\"All layers\",\"All layers\",\"All layers\",\"All layers\",\"All layers\"],\"source\":[1,2,3,9,10,2,3,9,1,2],\"target\":[13,13,13,13,13,9,9,9,2,3],\"value\":[1.90289306640625,0.5495033264160156,2.8231706619262695,2.868326187133789,0.6950359344482422,1.1793289184570312,0.8638019561767578,0.7305812835693359,0.637298583984375,0.7206592559814453]},\"node\":{\"label\":[\"1: 'When'\",\"2: ' John'\",\"3: ' and'\",\"4: ' Mary'\",\"5: ' went'\",\"6: ' to'\",\"7: ' the'\",\"8: ' store'\",\"9: ','\",\"10: ' John'\",\"11: ' gave'\",\"12: ' a'\",\"13: ' book'\",\"14: ' to'\"],\"line\":{\"color\":\"black\",\"width\":0.5},\"pad\":15,\"thickness\":20},\"type\":\"sankey\"}],                        {\"template\":{\"data\":{\"histogram2dcontour\":[{\"type\":\"histogram2dcontour\",\"colorbar\":{\"outlinewidth\":0,\"ticks\":\"\"},\"colorscale\":[[0.0,\"#0d0887\"],[0.1111111111111111,\"#46039f\"],[0.2222222222222222,\"#7201a8\"],[0.3333333333333333,\"#9c179e\"],[0.4444444444444444,\"#bd3786\"],[0.5555555555555556,\"#d8576b\"],[0.6666666666666666,\"#ed7953\"],[0.7777777777777778,\"#fb9f3a\"],[0.8888888888888888,\"#fdca26\"],[1.0,\"#f0f921\"]]}],\"choropleth\":[{\"type\":\"choropleth\",\"colorbar\":{\"outlinewidth\":0,\"ticks\":\"\"}}],\"histogram2d\":[{\"type\":\"histogram2d\",\"colorbar\":{\"outlinewidth\":0,\"ticks\":\"\"},\"colorscale\":[[0.0,\"#0d0887\"],[0.1111111111111111,\"#46039f\"],[0.2222222222222222,\"#7201a8\"],[0.3333333333333333,\"#9c179e\"],[0.4444444444444444,\"#bd3786\"],[0.5555555555555556,\"#d8576b\"],[0.6666666666666666,\"#ed7953\"],[0.7777777777777778,\"#fb9f3a\"],[0.8888888888888888,\"#fdca26\"],[1.0,\"#f0f921\"]]}],\"heatmap\":[{\"type\":\"heatmap\",\"colorbar\":{\"outlinewidth\":0,\"ticks\":\"\"},\"colorscale\":[[0.0,\"#0d0887\"],[0.1111111111111111,\"#46039f\"],[0.2222222222222222,\"#7201a8\"],[0.3333333333333333,\"#9c179e\"],[0.4444444444444444,\"#bd3786\"],[0.5555555555555556,\"#d8576b\"],[0.6666666666666666,\"#ed7953\"],[0.7777777777777778,\"#fb9f3a\"],[0.8888888888888888,\"#fdca26\"],[1.0,\"#f0f921\"]]}],\"heatmapgl\":[{\"type\":\"heatmapgl\",\"colorbar\":{\"outlinewidth\":0,\"ticks\":\"\"},\"colorscale\":[[0.0,\"#0d0887\"],[0.1111111111111111,\"#46039f\"],[0.2222222222222222,\"#7201a8\"],[0.3333333333333333,\"#9c179e\"],[0.4444444444444444,\"#bd3786\"],[0.5555555555555556,\"#d8576b\"],[0.6666666666666666,\"#ed7953\"],[0.7777777777777778,\"#fb9f3a\"],[0.8888888888888888,\"#fdca26\"],[1.0,\"#f0f921\"]]}],\"contourcarpet\":[{\"type\":\"contourcarpet\",\"colorbar\":{\"outlinewidth\":0,\"ticks\":\"\"}}],\"contour\":[{\"type\":\"contour\",\"colorbar\":{\"outlinewidth\":0,\"ticks\":\"\"},\"colorscale\":[[0.0,\"#0d0887\"],[0.1111111111111111,\"#46039f\"],[0.2222222222222222,\"#7201a8\"],[0.3333333333333333,\"#9c179e\"],[0.4444444444444444,\"#bd3786\"],[0.5555555555555556,\"#d8576b\"],[0.6666666666666666,\"#ed7953\"],[0.7777777777777778,\"#fb9f3a\"],[0.8888888888888888,\"#fdca26\"],[1.0,\"#f0f921\"]]}],\"surface\":[{\"type\":\"surface\",\"colorbar\":{\"outlinewidth\":0,\"ticks\":\"\"},\"colorscale\":[[0.0,\"#0d0887\"],[0.1111111111111111,\"#46039f\"],[0.2222222222222222,\"#7201a8\"],[0.3333333333333333,\"#9c179e\"],[0.4444444444444444,\"#bd3786\"],[0.5555555555555556,\"#d8576b\"],[0.6666666666666666,\"#ed7953\"],[0.7777777777777778,\"#fb9f3a\"],[0.8888888888888888,\"#fdca26\"],[1.0,\"#f0f921\"]]}],\"mesh3d\":[{\"type\":\"mesh3d\",\"colorbar\":{\"outlinewidth\":0,\"ticks\":\"\"}}],\"scatter\":[{\"fillpattern\":{\"fillmode\":\"overlay\",\"size\":10,\"solidity\":0.2},\"type\":\"scatter\"}],\"parcoords\":[{\"type\":\"parcoords\",\"line\":{\"colorbar\":{\"outlinewidth\":0,\"ticks\":\"\"}}}],\"scatterpolargl\":[{\"type\":\"scatterpolargl\",\"marker\":{\"colorbar\":{\"outlinewidth\":0,\"ticks\":\"\"}}}],\"bar\":[{\"error_x\":{\"color\":\"#2a3f5f\"},\"error_y\":{\"color\":\"#2a3f5f\"},\"marker\":{\"line\":{\"color\":\"#E5ECF6\",\"width\":0.5},\"pattern\":{\"fillmode\":\"overlay\",\"size\":10,\"solidity\":0.2}},\"type\":\"bar\"}],\"scattergeo\":[{\"type\":\"scattergeo\",\"marker\":{\"colorbar\":{\"outlinewidth\":0,\"ticks\":\"\"}}}],\"scatterpolar\":[{\"type\":\"scatterpolar\",\"marker\":{\"colorbar\":{\"outlinewidth\":0,\"ticks\":\"\"}}}],\"histogram\":[{\"marker\":{\"pattern\":{\"fillmode\":\"overlay\",\"size\":10,\"solidity\":0.2}},\"type\":\"histogram\"}],\"scattergl\":[{\"type\":\"scattergl\",\"marker\":{\"colorbar\":{\"outlinewidth\":0,\"ticks\":\"\"}}}],\"scatter3d\":[{\"type\":\"scatter3d\",\"line\":{\"colorbar\":{\"outlinewidth\":0,\"ticks\":\"\"}},\"marker\":{\"colorbar\":{\"outlinewidth\":0,\"ticks\":\"\"}}}],\"scattermapbox\":[{\"type\":\"scattermapbox\",\"marker\":{\"colorbar\":{\"outlinewidth\":0,\"ticks\":\"\"}}}],\"scatterternary\":[{\"type\":\"scatterternary\",\"marker\":{\"colorbar\":{\"outlinewidth\":0,\"ticks\":\"\"}}}],\"scattercarpet\":[{\"type\":\"scattercarpet\",\"marker\":{\"colorbar\":{\"outlinewidth\":0,\"ticks\":\"\"}}}],\"carpet\":[{\"aaxis\":{\"endlinecolor\":\"#2a3f5f\",\"gridcolor\":\"white\",\"linecolor\":\"white\",\"minorgridcolor\":\"white\",\"startlinecolor\":\"#2a3f5f\"},\"baxis\":{\"endlinecolor\":\"#2a3f5f\",\"gridcolor\":\"white\",\"linecolor\":\"white\",\"minorgridcolor\":\"white\",\"startlinecolor\":\"#2a3f5f\"},\"type\":\"carpet\"}],\"table\":[{\"cells\":{\"fill\":{\"color\":\"#EBF0F8\"},\"line\":{\"color\":\"white\"}},\"header\":{\"fill\":{\"color\":\"#C8D4E3\"},\"line\":{\"color\":\"white\"}},\"type\":\"table\"}],\"barpolar\":[{\"marker\":{\"line\":{\"color\":\"#E5ECF6\",\"width\":0.5},\"pattern\":{\"fillmode\":\"overlay\",\"size\":10,\"solidity\":0.2}},\"type\":\"barpolar\"}],\"pie\":[{\"automargin\":true,\"type\":\"pie\"}]},\"layout\":{\"autotypenumbers\":\"strict\",\"colorway\":[\"#636efa\",\"#EF553B\",\"#00cc96\",\"#ab63fa\",\"#FFA15A\",\"#19d3f3\",\"#FF6692\",\"#B6E880\",\"#FF97FF\",\"#FECB52\"],\"font\":{\"color\":\"#2a3f5f\"},\"hovermode\":\"closest\",\"hoverlabel\":{\"align\":\"left\"},\"paper_bgcolor\":\"white\",\"plot_bgcolor\":\"#E5ECF6\",\"polar\":{\"bgcolor\":\"#E5ECF6\",\"angularaxis\":{\"gridcolor\":\"white\",\"linecolor\":\"white\",\"ticks\":\"\"},\"radialaxis\":{\"gridcolor\":\"white\",\"linecolor\":\"white\",\"ticks\":\"\"}},\"ternary\":{\"bgcolor\":\"#E5ECF6\",\"aaxis\":{\"gridcolor\":\"white\",\"linecolor\":\"white\",\"ticks\":\"\"},\"baxis\":{\"gridcolor\":\"white\",\"linecolor\":\"white\",\"ticks\":\"\"},\"caxis\":{\"gridcolor\":\"white\",\"linecolor\":\"white\",\"ticks\":\"\"}},\"coloraxis\":{\"colorbar\":{\"outlinewidth\":0,\"ticks\":\"\"}},\"colorscale\":{\"sequential\":[[0.0,\"#0d0887\"],[0.1111111111111111,\"#46039f\"],[0.2222222222222222,\"#7201a8\"],[0.3333333333333333,\"#9c179e\"],[0.4444444444444444,\"#bd3786\"],[0.5555555555555556,\"#d8576b\"],[0.6666666666666666,\"#ed7953\"],[0.7777777777777778,\"#fb9f3a\"],[0.8888888888888888,\"#fdca26\"],[1.0,\"#f0f921\"]],\"sequentialminus\":[[0.0,\"#0d0887\"],[0.1111111111111111,\"#46039f\"],[0.2222222222222222,\"#7201a8\"],[0.3333333333333333,\"#9c179e\"],[0.4444444444444444,\"#bd3786\"],[0.5555555555555556,\"#d8576b\"],[0.6666666666666666,\"#ed7953\"],[0.7777777777777778,\"#fb9f3a\"],[0.8888888888888888,\"#fdca26\"],[1.0,\"#f0f921\"]],\"diverging\":[[0,\"#8e0152\"],[0.1,\"#c51b7d\"],[0.2,\"#de77ae\"],[0.3,\"#f1b6da\"],[0.4,\"#fde0ef\"],[0.5,\"#f7f7f7\"],[0.6,\"#e6f5d0\"],[0.7,\"#b8e186\"],[0.8,\"#7fbc41\"],[0.9,\"#4d9221\"],[1,\"#276419\"]]},\"xaxis\":{\"gridcolor\":\"white\",\"linecolor\":\"white\",\"ticks\":\"\",\"title\":{\"standoff\":15},\"zerolinecolor\":\"white\",\"automargin\":true,\"zerolinewidth\":2},\"yaxis\":{\"gridcolor\":\"white\",\"linecolor\":\"white\",\"ticks\":\"\",\"title\":{\"standoff\":15},\"zerolinecolor\":\"white\",\"automargin\":true,\"zerolinewidth\":2},\"scene\":{\"xaxis\":{\"backgroundcolor\":\"#E5ECF6\",\"gridcolor\":\"white\",\"linecolor\":\"white\",\"showbackground\":true,\"ticks\":\"\",\"zerolinecolor\":\"white\",\"gridwidth\":2},\"yaxis\":{\"backgroundcolor\":\"#E5ECF6\",\"gridcolor\":\"white\",\"linecolor\":\"white\",\"showbackground\":true,\"ticks\":\"\",\"zerolinecolor\":\"white\",\"gridwidth\":2},\"zaxis\":{\"backgroundcolor\":\"#E5ECF6\",\"gridcolor\":\"white\",\"linecolor\":\"white\",\"showbackground\":true,\"ticks\":\"\",\"zerolinecolor\":\"white\",\"gridwidth\":2}},\"shapedefaults\":{\"line\":{\"color\":\"#2a3f5f\"}},\"annotationdefaults\":{\"arrowcolor\":\"#2a3f5f\",\"arrowhead\":0,\"arrowwidth\":1},\"geo\":{\"bgcolor\":\"white\",\"landcolor\":\"#E5ECF6\",\"subunitcolor\":\"white\",\"showland\":true,\"showlakes\":true,\"lakecolor\":\"white\"},\"title\":{\"x\":0.05},\"mapbox\":{\"style\":\"light\"}}},\"title\":{\"text\":\"Effect of Attention Knockout\"},\"font\":{\"size\":10}},                        {\"responsive\": true}                    ).then(function(){\n                            \nvar gd = document.getElementById('01bee617-e222-4730-9955-ae5131c308c4');\nvar x = new MutationObserver(function (mutations, observer) {{\n        var display = window.getComputedStyle(gd).display;\n        if (!display || display === 'none') {{\n            console.log([gd, 'removed!']);\n            Plotly.purge(gd);\n            observer.disconnect();\n        }}\n}});\n\n// Listen for the removal of the full notebook cells\nvar notebookContainer = gd.closest('#notebook-container');\nif (notebookContainer) {{\n    x.observe(notebookContainer, {childList: true});\n}}\n\n// Listen for the clearing of the current output cell\nvar outputEl = gd.closest('.output');\nif (outputEl) {{\n    x.observe(outputEl, {childList: true});\n}}\n\n                        })                };                });            </script>        </div>"
     },
     "metadata": {},
     "output_type": "display_data"
    }
   ],
   "source": [
    "threshold = 0.4\n",
    "prompt = \"When John and Mary went to the store, John gave a book to\"\n",
    "c = d.connectom(model, prompt,\n",
    "          d.logit_diff_metric(model, ' Mary', ' John'),\n",
    "          d.ZeroPattern(),\n",
    "          strategy=partial(d.explore_backtrack, threshold=threshold),\n",
    "          # strategy=explore_all_pairs,\n",
    ")\n",
    "sankey_diagram_of_connectome(model, prompt, c, threshold=threshold)"
   ],
   "metadata": {
    "collapsed": false,
    "ExecuteTime": {
     "end_time": "2023-06-24T22:43:03.327670315Z",
     "start_time": "2023-06-24T22:43:00.583535625Z"
    }
   }
  },
  {
   "cell_type": "code",
   "execution_count": 12,
   "outputs": [
    {
     "data": {
      "text/plain": "0it [00:00, ?it/s]",
      "application/vnd.jupyter.widget-view+json": {
       "version_major": 2,
       "version_minor": 0,
       "model_id": "2cf890b570e64801ab6f40dde41bee20"
      }
     },
     "metadata": {},
     "output_type": "display_data"
    },
    {
     "data": {
      "text/plain": "[Connexion(source=slice(0, 15, None), target=slice(0, 15, None), score=tensor(-4.6977), note='All layers'),\n Connexion(source=slice(0, 8, None), target=slice(0, 8, None), score=tensor(-6.0758), note='All layers'),\n Connexion(source=slice(8, 15, None), target=slice(8, 15, None), score=tensor(-3.2468), note='All layers'),\n Connexion(source=slice(8, 12, None), target=slice(12, 15, None), score=tensor(-3.1742), note='All layers'),\n Connexion(source=slice(4, 8, None), target=slice(0, 4, None), score=tensor(0.), note='All layers'),\n Connexion(source=slice(12, 15, None), target=slice(8, 12, None), score=tensor(0.), note='All layers'),\n Connexion(source=slice(10, 12, None), target=slice(12, 14, None), score=tensor(0.1059), note='All layers'),\n Connexion(source=slice(8, 10, None), target=slice(14, 15, None), score=tensor(-0.1457), note='All layers'),\n Connexion(source=slice(8, 15, None), target=slice(0, 8, None), score=tensor(0.), note='All layers'),\n Connexion(source=slice(10, 12, None), target=slice(14, 15, None), score=tensor(-2.7753), note='All layers'),\n Connexion(source=slice(0, 8, None), target=slice(8, 15, None), score=tensor(-4.3916), note='All layers'),\n Connexion(source=slice(11, 12, None), target=slice(14, 15, None), score=tensor(-0.6950), note='All layers'),\n Connexion(source=slice(8, 12, None), target=slice(8, 12, None), score=tensor(0.0926), note='All layers'),\n Connexion(source=slice(0, 4, None), target=slice(12, 15, None), score=tensor(1.7210), note='All layers'),\n Connexion(source=slice(10, 11, None), target=slice(15, 15, None), score=tensor(0.), note='All layers'),\n Connexion(source=slice(4, 8, None), target=slice(4, 8, None), score=tensor(-0.0859), note='All layers'),\n Connexion(source=slice(4, 8, None), target=slice(8, 12, None), score=tensor(-0.9644), note='All layers'),\n Connexion(source=slice(6, 8, None), target=slice(10, 12, None), score=tensor(-0.1231), note='All layers'),\n Connexion(source=slice(12, 15, None), target=slice(12, 15, None), score=tensor(-0.4347), note='All layers'),\n Connexion(source=slice(0, 4, None), target=slice(0, 4, None), score=tensor(-6.4740), note='All layers'),\n Connexion(source=slice(4, 8, None), target=slice(12, 15, None), score=tensor(-2.5945), note='All layers'),\n Connexion(source=slice(4, 6, None), target=slice(10, 12, None), score=tensor(-0.7667), note='All layers'),\n Connexion(source=slice(0, 4, None), target=slice(4, 8, None), score=tensor(-3.3026), note='All layers'),\n Connexion(source=slice(6, 8, None), target=slice(8, 10, None), score=tensor(0.0048), note='All layers'),\n Connexion(source=slice(6, 8, None), target=slice(14, 15, None), score=tensor(0.0574), note='All layers'),\n Connexion(source=slice(4, 5, None), target=slice(11, 12, None), score=tensor(-0.0068), note='All layers'),\n Connexion(source=slice(10, 11, None), target=slice(14, 15, None), score=tensor(-2.8683), note='All layers'),\n Connexion(source=slice(2, 4, None), target=slice(12, 14, None), score=tensor(0.0407), note='All layers'),\n Connexion(source=slice(4, 6, None), target=slice(8, 10, None), score=tensor(-0.0670), note='All layers'),\n Connexion(source=slice(4, 6, None), target=slice(14, 15, None), score=tensor(-2.6459), note='All layers'),\n Connexion(source=slice(8, 10, None), target=slice(12, 14, None), score=tensor(-0.0624), note='All layers'),\n Connexion(source=slice(2, 4, None), target=slice(14, 15, None), score=tensor(2.0607), note='All layers'),\n Connexion(source=slice(0, 4, None), target=slice(8, 12, None), score=tensor(-2.0761), note='All layers'),\n Connexion(source=slice(0, 2, None), target=slice(10, 12, None), score=tensor(-0.3224), note='All layers'),\n Connexion(source=slice(2, 3, None), target=slice(15, 15, None), score=tensor(0.), note='All layers'),\n Connexion(source=slice(5, 6, None), target=slice(10, 11, None), score=tensor(-0.0121), note='All layers'),\n Connexion(source=slice(2, 4, None), target=slice(0, 2, None), score=tensor(0.), note='All layers'),\n Connexion(source=slice(11, 12, None), target=slice(15, 15, None), score=tensor(0.), note='All layers'),\n Connexion(source=slice(0, 2, None), target=slice(14, 15, None), score=tensor(0.1650), note='All layers'),\n Connexion(source=slice(0, 2, None), target=slice(8, 10, None), score=tensor(0.1774), note='All layers'),\n Connexion(source=slice(5, 6, None), target=slice(11, 12, None), score=tensor(0.0850), note='All layers'),\n Connexion(source=slice(4, 5, None), target=slice(15, 15, None), score=tensor(0.), note='All layers'),\n Connexion(source=slice(3, 4, None), target=slice(15, 15, None), score=tensor(0.), note='All layers'),\n Connexion(source=slice(0, 2, None), target=slice(0, 2, None), score=tensor(-5.8625), note='All layers'),\n Connexion(source=slice(2, 3, None), target=slice(14, 15, None), score=tensor(1.9029), note='All layers'),\n Connexion(source=slice(5, 6, None), target=slice(15, 15, None), score=tensor(0.), note='All layers'),\n Connexion(source=slice(4, 5, None), target=slice(14, 15, None), score=tensor(-2.8232), note='All layers'),\n Connexion(source=slice(2, 4, None), target=slice(6, 8, None), score=tensor(-0.1021), note='All layers'),\n Connexion(source=slice(3, 4, None), target=slice(14, 15, None), score=tensor(0.5495), note='All layers'),\n Connexion(source=slice(1, 2, None), target=slice(1, 2, None), score=tensor(-0.3182), note='All layers'),\n Connexion(source=slice(4, 6, None), target=slice(12, 14, None), score=tensor(0.0589), note='All layers'),\n Connexion(source=slice(0, 2, None), target=slice(6, 8, None), score=tensor(-0.0951), note='All layers'),\n Connexion(source=slice(1, 2, None), target=slice(0, 1, None), score=tensor(0.), note='All layers'),\n Connexion(source=slice(5, 6, None), target=slice(14, 15, None), score=tensor(0.2776), note='All layers'),\n Connexion(source=slice(2, 4, None), target=slice(4, 6, None), score=tensor(-0.5848), note='All layers'),\n Connexion(source=slice(0, 2, None), target=slice(12, 14, None), score=tensor(0.0107), note='All layers'),\n Connexion(source=slice(3, 4, None), target=slice(4, 5, None), score=tensor(-0.7207), note='All layers'),\n Connexion(source=slice(3, 4, None), target=slice(5, 6, None), score=tensor(-0.2090), note='All layers'),\n Connexion(source=slice(2, 4, None), target=slice(2, 4, None), score=tensor(-0.7163), note='All layers'),\n Connexion(source=slice(2, 3, None), target=slice(5, 6, None), score=tensor(0.1373), note='All layers'),\n Connexion(source=slice(0, 1, None), target=slice(1, 2, None), score=tensor(-0.6937), note='All layers'),\n Connexion(source=slice(0, 2, None), target=slice(4, 6, None), score=tensor(-0.7774), note='All layers'),\n Connexion(source=slice(2, 3, None), target=slice(3, 4, None), score=tensor(-0.6373), note='All layers'),\n Connexion(source=slice(0, 2, None), target=slice(2, 4, None), score=tensor(0.3809), note='All layers'),\n Connexion(source=slice(4, 5, None), target=slice(10, 11, None), score=tensor(-0.8638), note='All layers'),\n Connexion(source=slice(2, 4, None), target=slice(10, 12, None), score=tensor(-1.6763), note='All layers'),\n Connexion(source=slice(0, 1, None), target=slice(0, 1, None), score=tensor(-0.1384), note='All layers'),\n Connexion(source=slice(6, 8, None), target=slice(12, 14, None), score=tensor(-0.0226), note='All layers'),\n Connexion(source=slice(3, 4, None), target=slice(10, 11, None), score=tensor(-1.1793), note='All layers'),\n Connexion(source=slice(3, 4, None), target=slice(11, 12, None), score=tensor(-0.0571), note='All layers'),\n Connexion(source=slice(3, 4, None), target=slice(3, 4, None), score=tensor(-0.0479), note='All layers'),\n Connexion(source=slice(2, 4, None), target=slice(8, 10, None), score=tensor(0.2041), note='All layers'),\n Connexion(source=slice(2, 3, None), target=slice(2, 3, None), score=tensor(0.0837), note='All layers'),\n Connexion(source=slice(3, 4, None), target=slice(2, 3, None), score=tensor(0.), note='All layers'),\n Connexion(source=slice(1, 2, None), target=slice(4, 5, None), score=tensor(-0.0992), note='All layers'),\n Connexion(source=slice(1, 2, None), target=slice(5, 6, None), score=tensor(-0.0101), note='All layers'),\n Connexion(source=slice(0, 1, None), target=slice(4, 5, None), score=tensor(-0.4878), note='All layers'),\n Connexion(source=slice(2, 3, None), target=slice(4, 5, None), score=tensor(0.3643), note='All layers'),\n Connexion(source=slice(0, 1, None), target=slice(5, 6, None), score=tensor(0.0162), note='All layers'),\n Connexion(source=slice(2, 3, None), target=slice(10, 11, None), score=tensor(-0.3143), note='All layers'),\n Connexion(source=slice(2, 3, None), target=slice(11, 12, None), score=tensor(0.0554), note='All layers')]"
     },
     "execution_count": 12,
     "metadata": {},
     "output_type": "execute_result"
    }
   ],
   "source": [
    "strategy = partial(explore_bisect, threshold=0.5)\n",
    "connectom(model, prompt,\n",
    "          LogitDiffMetric(' Mary', ' John', model),\n",
    "          ZeroPattern(),\n",
    "          strategy=strategy,\n",
    "          )"
   ],
   "metadata": {
    "collapsed": false,
    "ExecuteTime": {
     "end_time": "2023-06-24T22:11:48.606948551Z",
     "start_time": "2023-06-24T22:11:43.734711548Z"
    }
   }
  },
  {
   "cell_type": "code",
   "execution_count": 12,
   "outputs": [],
   "source": [],
   "metadata": {
    "collapsed": false,
    "ExecuteTime": {
     "end_time": "2023-06-24T22:11:48.607348207Z",
     "start_time": "2023-06-24T22:11:48.605880535Z"
    }
   }
  }
 ],
 "metadata": {
  "kernelspec": {
   "display_name": "Python 3",
   "language": "python",
   "name": "python3"
  },
  "language_info": {
   "codemirror_mode": {
    "name": "ipython",
    "version": 2
   },
   "file_extension": ".py",
   "mimetype": "text/x-python",
   "name": "python",
   "nbconvert_exporter": "python",
   "pygments_lexer": "ipython2",
   "version": "2.7.6"
  }
 },
 "nbformat": 4,
 "nbformat_minor": 0
}
