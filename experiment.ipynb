{
 "cells": [
  {
   "cell_type": "code",
   "execution_count": 1,
   "metadata": {
    "collapsed": true,
    "ExecuteTime": {
     "end_time": "2023-06-28T10:55:22.950799712Z",
     "start_time": "2023-06-28T10:55:20.350905773Z"
    }
   },
   "outputs": [],
   "source": [
    "from functools import partial\n",
    "\n",
    "import IPython\n",
    "import torch.distributions\n",
    "import transformer_lens\n",
    "from transformer_lens import HookedTransformer\n",
    "from IPython.display import SVG\n",
    "\n",
    "import core\n",
    "\n",
    "%load_ext autoreload\n",
    "%autoreload 2"
   ]
  },
  {
   "cell_type": "code",
   "execution_count": 2,
   "outputs": [
    {
     "name": "stderr",
     "output_type": "stream",
     "text": [
      "Using pad_token, but it is not set yet.\n"
     ]
    },
    {
     "name": "stdout",
     "output_type": "stream",
     "text": [
      "Loaded pretrained model gpt2-small into HookedTransformer\n"
     ]
    }
   ],
   "source": [
    "model = HookedTransformer.from_pretrained(\"gpt2-small\")"
   ],
   "metadata": {
    "collapsed": false,
    "ExecuteTime": {
     "end_time": "2023-06-28T10:55:29.125534104Z",
     "start_time": "2023-06-28T10:55:25.186359079Z"
    }
   }
  },
  {
   "cell_type": "code",
   "execution_count": 3,
   "outputs": [
    {
     "name": "stdout",
     "output_type": "stream",
     "text": [
      "Loaded pretrained model attn-only-4l into HookedTransformer\n"
     ]
    }
   ],
   "source": [
    "model = HookedTransformer.from_pretrained(\"attn-only-4l\")"
   ],
   "metadata": {
    "collapsed": false,
    "ExecuteTime": {
     "end_time": "2023-06-28T10:55:30.166244256Z",
     "start_time": "2023-06-28T10:55:29.124261014Z"
    }
   }
  },
  {
   "cell_type": "markdown",
   "source": [
    "# IOI task"
   ],
   "metadata": {
    "collapsed": false
   }
  },
  {
   "cell_type": "code",
   "execution_count": 27,
   "outputs": [
    {
     "name": "stdout",
     "output_type": "stream",
     "text": [
      "Baseline strength: -0.12\n"
     ]
    },
    {
     "data": {
      "text/plain": "Exploring:   0%|          | 0/105 [00:00<?, ? connexions/s]",
      "application/vnd.jupyter.widget-view+json": {
       "version_major": 2,
       "version_minor": 0,
       "model_id": "cdc87e7e1e4747568471a523570181c7"
      }
     },
     "metadata": {},
     "output_type": "display_data"
    },
    {
     "data": {
      "application/vnd.plotly.v1+json": {
       "data": [
        {
         "coloraxis": "coloraxis",
         "name": "0",
         "x": [
          "0: '<|BOS|>'",
          "1: 'When'",
          "2: ' Mary'",
          "3: ' and'",
          "4: ' John'",
          "5: ' went'",
          "6: ' to'",
          "7: ' the'",
          "8: ' store'",
          "9: ','",
          "10: ' John'",
          "11: ' gave'",
          "12: ' a'",
          "13: ' book'",
          "14: ' to'"
         ],
         "y": [
          "0: '<|BOS|>'",
          "1: 'When'",
          "2: ' Mary'",
          "3: ' and'",
          "4: ' John'",
          "5: ' went'",
          "6: ' to'",
          "7: ' the'",
          "8: ' store'",
          "9: ','",
          "10: ' John'",
          "11: ' gave'",
          "12: ' a'",
          "13: ' book'",
          "14: ' to'"
         ],
         "z": [
          [
           0.0,
           null,
           null,
           null,
           null,
           null,
           null,
           null,
           null,
           null,
           null,
           null,
           null,
           null,
           null
          ],
          [
           0.0,
           -2.3997881412506104,
           null,
           null,
           null,
           null,
           null,
           null,
           null,
           null,
           null,
           null,
           null,
           null,
           null
          ],
          [
           0.0,
           1.020433783531189,
           -4.7730512619018555,
           null,
           null,
           null,
           null,
           null,
           null,
           null,
           null,
           null,
           null,
           null,
           null
          ],
          [
           0.0,
           2.2920987606048584,
           2.615696668624878,
           5.862839221954346,
           null,
           null,
           null,
           null,
           null,
           null,
           null,
           null,
           null,
           null,
           null
          ],
          [
           0.0,
           2.359309434890747,
           8.249567985534668,
           6.302601337432861,
           13.21973991394043,
           null,
           null,
           null,
           null,
           null,
           null,
           null,
           null,
           null,
           null
          ],
          [
           0.0,
           0.7840005159378052,
           0.4395964443683624,
           0.5008400082588196,
           0.2801479697227478,
           5.189143180847168,
           null,
           null,
           null,
           null,
           null,
           null,
           null,
           null,
           null
          ],
          [
           0.0,
           -0.4280429482460022,
           -0.2491537630558014,
           -0.5000289678573608,
           -0.5957592725753784,
           0.34916287660598755,
           -5.9993791580200195,
           null,
           null,
           null,
           null,
           null,
           null,
           null,
           null
          ],
          [
           0.0,
           0.4412599503993988,
           0.4113416373729706,
           0.1571808159351349,
           0.12024430930614471,
           -0.17417176067829132,
           0.43627771735191345,
           0.1561545729637146,
           null,
           null,
           null,
           null,
           null,
           null,
           null
          ],
          [
           0.0,
           0.9187033176422119,
           0.06545613706111908,
           -0.3255261480808258,
           -0.5305514335632324,
           -0.9580978155136108,
           -0.37244370579719543,
           -0.9356197714805603,
           6.161906719207764,
           null,
           null,
           null,
           null,
           null,
           null
          ],
          [
           0.0,
           -0.04723203927278519,
           0.25382980704307556,
           0.6574414968490601,
           -0.4258497655391693,
           0.7778430581092834,
           0.022618742659687996,
           -0.022701503708958626,
           0.4502561390399933,
           0.987180233001709,
           null,
           null,
           null,
           null,
           null
          ],
          [
           0.0,
           -1.2855854034423828,
           1.3823999166488647,
           -0.03501642867922783,
           6.693268775939941,
           -0.14945088326931,
           0.206390842795372,
           0.3605508506298065,
           0.706734299659729,
           4.688626289367676,
           13.678197860717773,
           null,
           null,
           null,
           null
          ],
          [
           0.0,
           1.5548419952392578,
           0.3940693140029907,
           0.2657060921192169,
           0.5884017944335938,
           -0.8328050374984741,
           -0.3206680417060852,
           0.47758403420448303,
           -0.1364241987466812,
           0.4477319121360779,
           0.7163181304931641,
           7.051196098327637,
           null,
           null,
           null
          ],
          [
           0.0,
           1.4536328315734863,
           0.025126418098807335,
           0.34197089076042175,
           0.11530344188213348,
           0.27532297372817993,
           0.3557341396808624,
           -0.0019283450674265623,
           0.32215777039527893,
           0.8325319290161133,
           0.2969154715538025,
           1.3530775308609009,
           0.4763425886631012,
           null,
           null
          ],
          [
           0.0,
           -0.5634905695915222,
           0.6101184487342834,
           0.3563714027404785,
           0.18466593325138092,
           0.6793981790542603,
           0.40742701292037964,
           -0.11245644837617874,
           0.6944524645805359,
           0.009947942569851875,
           0.16491074860095978,
           -0.7958768010139465,
           -0.5122280120849609,
           15.660545349121094,
           null
          ],
          [
           0.0,
           -2.9625089168548584,
           17.21065330505371,
           -0.0723915621638298,
           -7.517532825469971,
           -1.0778042078018188,
           -0.04560163617134094,
           -0.3162403106689453,
           3.756258726119995,
           -2.0716135501861572,
           -8.286280632019043,
           -3.785845994949341,
           1.171440601348877,
           -4.6064605712890625,
           -4.03136682510376
          ]
         ],
         "type": "heatmap",
         "xaxis": "x",
         "yaxis": "y",
         "hovertemplate": "Source: %{x}<br>Target: %{y}<br>Strength: %{z}<extra></extra>"
        }
       ],
       "layout": {
        "template": {
         "data": {
          "histogram2dcontour": [
           {
            "type": "histogram2dcontour",
            "colorbar": {
             "outlinewidth": 0,
             "ticks": ""
            },
            "colorscale": [
             [
              0.0,
              "#0d0887"
             ],
             [
              0.1111111111111111,
              "#46039f"
             ],
             [
              0.2222222222222222,
              "#7201a8"
             ],
             [
              0.3333333333333333,
              "#9c179e"
             ],
             [
              0.4444444444444444,
              "#bd3786"
             ],
             [
              0.5555555555555556,
              "#d8576b"
             ],
             [
              0.6666666666666666,
              "#ed7953"
             ],
             [
              0.7777777777777778,
              "#fb9f3a"
             ],
             [
              0.8888888888888888,
              "#fdca26"
             ],
             [
              1.0,
              "#f0f921"
             ]
            ]
           }
          ],
          "choropleth": [
           {
            "type": "choropleth",
            "colorbar": {
             "outlinewidth": 0,
             "ticks": ""
            }
           }
          ],
          "histogram2d": [
           {
            "type": "histogram2d",
            "colorbar": {
             "outlinewidth": 0,
             "ticks": ""
            },
            "colorscale": [
             [
              0.0,
              "#0d0887"
             ],
             [
              0.1111111111111111,
              "#46039f"
             ],
             [
              0.2222222222222222,
              "#7201a8"
             ],
             [
              0.3333333333333333,
              "#9c179e"
             ],
             [
              0.4444444444444444,
              "#bd3786"
             ],
             [
              0.5555555555555556,
              "#d8576b"
             ],
             [
              0.6666666666666666,
              "#ed7953"
             ],
             [
              0.7777777777777778,
              "#fb9f3a"
             ],
             [
              0.8888888888888888,
              "#fdca26"
             ],
             [
              1.0,
              "#f0f921"
             ]
            ]
           }
          ],
          "heatmap": [
           {
            "type": "heatmap",
            "colorbar": {
             "outlinewidth": 0,
             "ticks": ""
            },
            "colorscale": [
             [
              0.0,
              "#0d0887"
             ],
             [
              0.1111111111111111,
              "#46039f"
             ],
             [
              0.2222222222222222,
              "#7201a8"
             ],
             [
              0.3333333333333333,
              "#9c179e"
             ],
             [
              0.4444444444444444,
              "#bd3786"
             ],
             [
              0.5555555555555556,
              "#d8576b"
             ],
             [
              0.6666666666666666,
              "#ed7953"
             ],
             [
              0.7777777777777778,
              "#fb9f3a"
             ],
             [
              0.8888888888888888,
              "#fdca26"
             ],
             [
              1.0,
              "#f0f921"
             ]
            ]
           }
          ],
          "heatmapgl": [
           {
            "type": "heatmapgl",
            "colorbar": {
             "outlinewidth": 0,
             "ticks": ""
            },
            "colorscale": [
             [
              0.0,
              "#0d0887"
             ],
             [
              0.1111111111111111,
              "#46039f"
             ],
             [
              0.2222222222222222,
              "#7201a8"
             ],
             [
              0.3333333333333333,
              "#9c179e"
             ],
             [
              0.4444444444444444,
              "#bd3786"
             ],
             [
              0.5555555555555556,
              "#d8576b"
             ],
             [
              0.6666666666666666,
              "#ed7953"
             ],
             [
              0.7777777777777778,
              "#fb9f3a"
             ],
             [
              0.8888888888888888,
              "#fdca26"
             ],
             [
              1.0,
              "#f0f921"
             ]
            ]
           }
          ],
          "contourcarpet": [
           {
            "type": "contourcarpet",
            "colorbar": {
             "outlinewidth": 0,
             "ticks": ""
            }
           }
          ],
          "contour": [
           {
            "type": "contour",
            "colorbar": {
             "outlinewidth": 0,
             "ticks": ""
            },
            "colorscale": [
             [
              0.0,
              "#0d0887"
             ],
             [
              0.1111111111111111,
              "#46039f"
             ],
             [
              0.2222222222222222,
              "#7201a8"
             ],
             [
              0.3333333333333333,
              "#9c179e"
             ],
             [
              0.4444444444444444,
              "#bd3786"
             ],
             [
              0.5555555555555556,
              "#d8576b"
             ],
             [
              0.6666666666666666,
              "#ed7953"
             ],
             [
              0.7777777777777778,
              "#fb9f3a"
             ],
             [
              0.8888888888888888,
              "#fdca26"
             ],
             [
              1.0,
              "#f0f921"
             ]
            ]
           }
          ],
          "surface": [
           {
            "type": "surface",
            "colorbar": {
             "outlinewidth": 0,
             "ticks": ""
            },
            "colorscale": [
             [
              0.0,
              "#0d0887"
             ],
             [
              0.1111111111111111,
              "#46039f"
             ],
             [
              0.2222222222222222,
              "#7201a8"
             ],
             [
              0.3333333333333333,
              "#9c179e"
             ],
             [
              0.4444444444444444,
              "#bd3786"
             ],
             [
              0.5555555555555556,
              "#d8576b"
             ],
             [
              0.6666666666666666,
              "#ed7953"
             ],
             [
              0.7777777777777778,
              "#fb9f3a"
             ],
             [
              0.8888888888888888,
              "#fdca26"
             ],
             [
              1.0,
              "#f0f921"
             ]
            ]
           }
          ],
          "mesh3d": [
           {
            "type": "mesh3d",
            "colorbar": {
             "outlinewidth": 0,
             "ticks": ""
            }
           }
          ],
          "scatter": [
           {
            "marker": {
             "line": {
              "color": "#283442"
             }
            },
            "type": "scatter"
           }
          ],
          "parcoords": [
           {
            "type": "parcoords",
            "line": {
             "colorbar": {
              "outlinewidth": 0,
              "ticks": ""
             }
            }
           }
          ],
          "scatterpolargl": [
           {
            "type": "scatterpolargl",
            "marker": {
             "colorbar": {
              "outlinewidth": 0,
              "ticks": ""
             }
            }
           }
          ],
          "bar": [
           {
            "error_x": {
             "color": "#f2f5fa"
            },
            "error_y": {
             "color": "#f2f5fa"
            },
            "marker": {
             "line": {
              "color": "rgb(17,17,17)",
              "width": 0.5
             },
             "pattern": {
              "fillmode": "overlay",
              "size": 10,
              "solidity": 0.2
             }
            },
            "type": "bar"
           }
          ],
          "scattergeo": [
           {
            "type": "scattergeo",
            "marker": {
             "colorbar": {
              "outlinewidth": 0,
              "ticks": ""
             }
            }
           }
          ],
          "scatterpolar": [
           {
            "type": "scatterpolar",
            "marker": {
             "colorbar": {
              "outlinewidth": 0,
              "ticks": ""
             }
            }
           }
          ],
          "histogram": [
           {
            "marker": {
             "pattern": {
              "fillmode": "overlay",
              "size": 10,
              "solidity": 0.2
             }
            },
            "type": "histogram"
           }
          ],
          "scattergl": [
           {
            "marker": {
             "line": {
              "color": "#283442"
             }
            },
            "type": "scattergl"
           }
          ],
          "scatter3d": [
           {
            "type": "scatter3d",
            "line": {
             "colorbar": {
              "outlinewidth": 0,
              "ticks": ""
             }
            },
            "marker": {
             "colorbar": {
              "outlinewidth": 0,
              "ticks": ""
             }
            }
           }
          ],
          "scattermapbox": [
           {
            "type": "scattermapbox",
            "marker": {
             "colorbar": {
              "outlinewidth": 0,
              "ticks": ""
             }
            }
           }
          ],
          "scatterternary": [
           {
            "type": "scatterternary",
            "marker": {
             "colorbar": {
              "outlinewidth": 0,
              "ticks": ""
             }
            }
           }
          ],
          "scattercarpet": [
           {
            "type": "scattercarpet",
            "marker": {
             "colorbar": {
              "outlinewidth": 0,
              "ticks": ""
             }
            }
           }
          ],
          "carpet": [
           {
            "aaxis": {
             "endlinecolor": "#A2B1C6",
             "gridcolor": "#506784",
             "linecolor": "#506784",
             "minorgridcolor": "#506784",
             "startlinecolor": "#A2B1C6"
            },
            "baxis": {
             "endlinecolor": "#A2B1C6",
             "gridcolor": "#506784",
             "linecolor": "#506784",
             "minorgridcolor": "#506784",
             "startlinecolor": "#A2B1C6"
            },
            "type": "carpet"
           }
          ],
          "table": [
           {
            "cells": {
             "fill": {
              "color": "#506784"
             },
             "line": {
              "color": "rgb(17,17,17)"
             }
            },
            "header": {
             "fill": {
              "color": "#2a3f5f"
             },
             "line": {
              "color": "rgb(17,17,17)"
             }
            },
            "type": "table"
           }
          ],
          "barpolar": [
           {
            "marker": {
             "line": {
              "color": "rgb(17,17,17)",
              "width": 0.5
             },
             "pattern": {
              "fillmode": "overlay",
              "size": 10,
              "solidity": 0.2
             }
            },
            "type": "barpolar"
           }
          ],
          "pie": [
           {
            "automargin": true,
            "type": "pie"
           }
          ]
         },
         "layout": {
          "autotypenumbers": "strict",
          "colorway": [
           "#636efa",
           "#EF553B",
           "#00cc96",
           "#ab63fa",
           "#FFA15A",
           "#19d3f3",
           "#FF6692",
           "#B6E880",
           "#FF97FF",
           "#FECB52"
          ],
          "font": {
           "color": "#f2f5fa"
          },
          "hovermode": "closest",
          "hoverlabel": {
           "align": "left"
          },
          "paper_bgcolor": "rgb(17,17,17)",
          "plot_bgcolor": "rgb(17,17,17)",
          "polar": {
           "bgcolor": "rgb(17,17,17)",
           "angularaxis": {
            "gridcolor": "#506784",
            "linecolor": "#506784",
            "ticks": ""
           },
           "radialaxis": {
            "gridcolor": "#506784",
            "linecolor": "#506784",
            "ticks": ""
           }
          },
          "ternary": {
           "bgcolor": "rgb(17,17,17)",
           "aaxis": {
            "gridcolor": "#506784",
            "linecolor": "#506784",
            "ticks": ""
           },
           "baxis": {
            "gridcolor": "#506784",
            "linecolor": "#506784",
            "ticks": ""
           },
           "caxis": {
            "gridcolor": "#506784",
            "linecolor": "#506784",
            "ticks": ""
           }
          },
          "coloraxis": {
           "colorbar": {
            "outlinewidth": 0,
            "ticks": ""
           }
          },
          "colorscale": {
           "sequential": [
            [
             0.0,
             "#0d0887"
            ],
            [
             0.1111111111111111,
             "#46039f"
            ],
            [
             0.2222222222222222,
             "#7201a8"
            ],
            [
             0.3333333333333333,
             "#9c179e"
            ],
            [
             0.4444444444444444,
             "#bd3786"
            ],
            [
             0.5555555555555556,
             "#d8576b"
            ],
            [
             0.6666666666666666,
             "#ed7953"
            ],
            [
             0.7777777777777778,
             "#fb9f3a"
            ],
            [
             0.8888888888888888,
             "#fdca26"
            ],
            [
             1.0,
             "#f0f921"
            ]
           ],
           "sequentialminus": [
            [
             0.0,
             "#0d0887"
            ],
            [
             0.1111111111111111,
             "#46039f"
            ],
            [
             0.2222222222222222,
             "#7201a8"
            ],
            [
             0.3333333333333333,
             "#9c179e"
            ],
            [
             0.4444444444444444,
             "#bd3786"
            ],
            [
             0.5555555555555556,
             "#d8576b"
            ],
            [
             0.6666666666666666,
             "#ed7953"
            ],
            [
             0.7777777777777778,
             "#fb9f3a"
            ],
            [
             0.8888888888888888,
             "#fdca26"
            ],
            [
             1.0,
             "#f0f921"
            ]
           ],
           "diverging": [
            [
             0,
             "#8e0152"
            ],
            [
             0.1,
             "#c51b7d"
            ],
            [
             0.2,
             "#de77ae"
            ],
            [
             0.3,
             "#f1b6da"
            ],
            [
             0.4,
             "#fde0ef"
            ],
            [
             0.5,
             "#f7f7f7"
            ],
            [
             0.6,
             "#e6f5d0"
            ],
            [
             0.7,
             "#b8e186"
            ],
            [
             0.8,
             "#7fbc41"
            ],
            [
             0.9,
             "#4d9221"
            ],
            [
             1,
             "#276419"
            ]
           ]
          },
          "xaxis": {
           "gridcolor": "#283442",
           "linecolor": "#506784",
           "ticks": "",
           "title": {
            "standoff": 15
           },
           "zerolinecolor": "#283442",
           "automargin": true,
           "zerolinewidth": 2
          },
          "yaxis": {
           "gridcolor": "#283442",
           "linecolor": "#506784",
           "ticks": "",
           "title": {
            "standoff": 15
           },
           "zerolinecolor": "#283442",
           "automargin": true,
           "zerolinewidth": 2
          },
          "scene": {
           "xaxis": {
            "backgroundcolor": "rgb(17,17,17)",
            "gridcolor": "#506784",
            "linecolor": "#506784",
            "showbackground": true,
            "ticks": "",
            "zerolinecolor": "#C8D4E3",
            "gridwidth": 2
           },
           "yaxis": {
            "backgroundcolor": "rgb(17,17,17)",
            "gridcolor": "#506784",
            "linecolor": "#506784",
            "showbackground": true,
            "ticks": "",
            "zerolinecolor": "#C8D4E3",
            "gridwidth": 2
           },
           "zaxis": {
            "backgroundcolor": "rgb(17,17,17)",
            "gridcolor": "#506784",
            "linecolor": "#506784",
            "showbackground": true,
            "ticks": "",
            "zerolinecolor": "#C8D4E3",
            "gridwidth": 2
           }
          },
          "shapedefaults": {
           "line": {
            "color": "#f2f5fa"
           }
          },
          "annotationdefaults": {
           "arrowcolor": "#f2f5fa",
           "arrowhead": 0,
           "arrowwidth": 1
          },
          "geo": {
           "bgcolor": "rgb(17,17,17)",
           "landcolor": "rgb(17,17,17)",
           "subunitcolor": "#506784",
           "showland": true,
           "showlakes": true,
           "lakecolor": "rgb(17,17,17)"
          },
          "title": {
           "x": 0.05
          },
          "updatemenudefaults": {
           "bgcolor": "#506784",
           "borderwidth": 0
          },
          "sliderdefaults": {
           "bgcolor": "#C8D4E3",
           "borderwidth": 1,
           "bordercolor": "rgb(17,17,17)",
           "tickwidth": 0
          },
          "mapbox": {
           "style": "dark"
          }
         }
        },
        "xaxis": {
         "anchor": "y",
         "domain": [
          0.0,
          1.0
         ],
         "scaleanchor": "y",
         "constrain": "domain",
         "title": {
          "text": "Source"
         }
        },
        "yaxis": {
         "anchor": "x",
         "domain": [
          0.0,
          1.0
         ],
         "autorange": "reversed",
         "constrain": "domain",
         "title": {
          "text": "Target"
         }
        },
        "coloraxis": {
         "colorbar": {
          "title": {
           "text": "Strength"
          }
         },
         "colorscale": [
          [
           0.0,
           "rgb(103,0,31)"
          ],
          [
           0.1,
           "rgb(178,24,43)"
          ],
          [
           0.2,
           "rgb(214,96,77)"
          ],
          [
           0.3,
           "rgb(244,165,130)"
          ],
          [
           0.4,
           "rgb(253,219,199)"
          ],
          [
           0.5,
           "rgb(247,247,247)"
          ],
          [
           0.6,
           "rgb(209,229,240)"
          ],
          [
           0.7,
           "rgb(146,197,222)"
          ],
          [
           0.8,
           "rgb(67,147,195)"
          ],
          [
           0.9,
           "rgb(33,102,172)"
          ],
          [
           1.0,
           "rgb(5,48,97)"
          ]
         ],
         "cmid": 0
        },
        "title": {
         "text": "Attention connectome"
        }
       },
       "config": {
        "plotlyServerURL": "https://plot.ly"
       }
      },
      "text/html": "<div>                            <div id=\"0d85edfc-29c6-4cf6-a6db-bc60ca2dabbe\" class=\"plotly-graph-div\" style=\"height:525px; width:100%;\"></div>            <script type=\"text/javascript\">                require([\"plotly\"], function(Plotly) {                    window.PLOTLYENV=window.PLOTLYENV || {};                                    if (document.getElementById(\"0d85edfc-29c6-4cf6-a6db-bc60ca2dabbe\")) {                    Plotly.newPlot(                        \"0d85edfc-29c6-4cf6-a6db-bc60ca2dabbe\",                        [{\"coloraxis\":\"coloraxis\",\"name\":\"0\",\"x\":[\"0: '\\u003c|BOS|\\u003e'\",\"1: 'When'\",\"2: ' Mary'\",\"3: ' and'\",\"4: ' John'\",\"5: ' went'\",\"6: ' to'\",\"7: ' the'\",\"8: ' store'\",\"9: ','\",\"10: ' John'\",\"11: ' gave'\",\"12: ' a'\",\"13: ' book'\",\"14: ' to'\"],\"y\":[\"0: '\\u003c|BOS|\\u003e'\",\"1: 'When'\",\"2: ' Mary'\",\"3: ' and'\",\"4: ' John'\",\"5: ' went'\",\"6: ' to'\",\"7: ' the'\",\"8: ' store'\",\"9: ','\",\"10: ' John'\",\"11: ' gave'\",\"12: ' a'\",\"13: ' book'\",\"14: ' to'\"],\"z\":[[0.0,null,null,null,null,null,null,null,null,null,null,null,null,null,null],[0.0,-2.3997881412506104,null,null,null,null,null,null,null,null,null,null,null,null,null],[0.0,1.020433783531189,-4.7730512619018555,null,null,null,null,null,null,null,null,null,null,null,null],[0.0,2.2920987606048584,2.615696668624878,5.862839221954346,null,null,null,null,null,null,null,null,null,null,null],[0.0,2.359309434890747,8.249567985534668,6.302601337432861,13.21973991394043,null,null,null,null,null,null,null,null,null,null],[0.0,0.7840005159378052,0.4395964443683624,0.5008400082588196,0.2801479697227478,5.189143180847168,null,null,null,null,null,null,null,null,null],[0.0,-0.4280429482460022,-0.2491537630558014,-0.5000289678573608,-0.5957592725753784,0.34916287660598755,-5.9993791580200195,null,null,null,null,null,null,null,null],[0.0,0.4412599503993988,0.4113416373729706,0.1571808159351349,0.12024430930614471,-0.17417176067829132,0.43627771735191345,0.1561545729637146,null,null,null,null,null,null,null],[0.0,0.9187033176422119,0.06545613706111908,-0.3255261480808258,-0.5305514335632324,-0.9580978155136108,-0.37244370579719543,-0.9356197714805603,6.161906719207764,null,null,null,null,null,null],[0.0,-0.04723203927278519,0.25382980704307556,0.6574414968490601,-0.4258497655391693,0.7778430581092834,0.022618742659687996,-0.022701503708958626,0.4502561390399933,0.987180233001709,null,null,null,null,null],[0.0,-1.2855854034423828,1.3823999166488647,-0.03501642867922783,6.693268775939941,-0.14945088326931,0.206390842795372,0.3605508506298065,0.706734299659729,4.688626289367676,13.678197860717773,null,null,null,null],[0.0,1.5548419952392578,0.3940693140029907,0.2657060921192169,0.5884017944335938,-0.8328050374984741,-0.3206680417060852,0.47758403420448303,-0.1364241987466812,0.4477319121360779,0.7163181304931641,7.051196098327637,null,null,null],[0.0,1.4536328315734863,0.025126418098807335,0.34197089076042175,0.11530344188213348,0.27532297372817993,0.3557341396808624,-0.0019283450674265623,0.32215777039527893,0.8325319290161133,0.2969154715538025,1.3530775308609009,0.4763425886631012,null,null],[0.0,-0.5634905695915222,0.6101184487342834,0.3563714027404785,0.18466593325138092,0.6793981790542603,0.40742701292037964,-0.11245644837617874,0.6944524645805359,0.009947942569851875,0.16491074860095978,-0.7958768010139465,-0.5122280120849609,15.660545349121094,null],[0.0,-2.9625089168548584,17.21065330505371,-0.0723915621638298,-7.517532825469971,-1.0778042078018188,-0.04560163617134094,-0.3162403106689453,3.756258726119995,-2.0716135501861572,-8.286280632019043,-3.785845994949341,1.171440601348877,-4.6064605712890625,-4.03136682510376]],\"type\":\"heatmap\",\"xaxis\":\"x\",\"yaxis\":\"y\",\"hovertemplate\":\"Source: %{x}\\u003cbr\\u003eTarget: %{y}\\u003cbr\\u003eStrength: %{z}\\u003cextra\\u003e\\u003c\\u002fextra\\u003e\"}],                        {\"template\":{\"data\":{\"histogram2dcontour\":[{\"type\":\"histogram2dcontour\",\"colorbar\":{\"outlinewidth\":0,\"ticks\":\"\"},\"colorscale\":[[0.0,\"#0d0887\"],[0.1111111111111111,\"#46039f\"],[0.2222222222222222,\"#7201a8\"],[0.3333333333333333,\"#9c179e\"],[0.4444444444444444,\"#bd3786\"],[0.5555555555555556,\"#d8576b\"],[0.6666666666666666,\"#ed7953\"],[0.7777777777777778,\"#fb9f3a\"],[0.8888888888888888,\"#fdca26\"],[1.0,\"#f0f921\"]]}],\"choropleth\":[{\"type\":\"choropleth\",\"colorbar\":{\"outlinewidth\":0,\"ticks\":\"\"}}],\"histogram2d\":[{\"type\":\"histogram2d\",\"colorbar\":{\"outlinewidth\":0,\"ticks\":\"\"},\"colorscale\":[[0.0,\"#0d0887\"],[0.1111111111111111,\"#46039f\"],[0.2222222222222222,\"#7201a8\"],[0.3333333333333333,\"#9c179e\"],[0.4444444444444444,\"#bd3786\"],[0.5555555555555556,\"#d8576b\"],[0.6666666666666666,\"#ed7953\"],[0.7777777777777778,\"#fb9f3a\"],[0.8888888888888888,\"#fdca26\"],[1.0,\"#f0f921\"]]}],\"heatmap\":[{\"type\":\"heatmap\",\"colorbar\":{\"outlinewidth\":0,\"ticks\":\"\"},\"colorscale\":[[0.0,\"#0d0887\"],[0.1111111111111111,\"#46039f\"],[0.2222222222222222,\"#7201a8\"],[0.3333333333333333,\"#9c179e\"],[0.4444444444444444,\"#bd3786\"],[0.5555555555555556,\"#d8576b\"],[0.6666666666666666,\"#ed7953\"],[0.7777777777777778,\"#fb9f3a\"],[0.8888888888888888,\"#fdca26\"],[1.0,\"#f0f921\"]]}],\"heatmapgl\":[{\"type\":\"heatmapgl\",\"colorbar\":{\"outlinewidth\":0,\"ticks\":\"\"},\"colorscale\":[[0.0,\"#0d0887\"],[0.1111111111111111,\"#46039f\"],[0.2222222222222222,\"#7201a8\"],[0.3333333333333333,\"#9c179e\"],[0.4444444444444444,\"#bd3786\"],[0.5555555555555556,\"#d8576b\"],[0.6666666666666666,\"#ed7953\"],[0.7777777777777778,\"#fb9f3a\"],[0.8888888888888888,\"#fdca26\"],[1.0,\"#f0f921\"]]}],\"contourcarpet\":[{\"type\":\"contourcarpet\",\"colorbar\":{\"outlinewidth\":0,\"ticks\":\"\"}}],\"contour\":[{\"type\":\"contour\",\"colorbar\":{\"outlinewidth\":0,\"ticks\":\"\"},\"colorscale\":[[0.0,\"#0d0887\"],[0.1111111111111111,\"#46039f\"],[0.2222222222222222,\"#7201a8\"],[0.3333333333333333,\"#9c179e\"],[0.4444444444444444,\"#bd3786\"],[0.5555555555555556,\"#d8576b\"],[0.6666666666666666,\"#ed7953\"],[0.7777777777777778,\"#fb9f3a\"],[0.8888888888888888,\"#fdca26\"],[1.0,\"#f0f921\"]]}],\"surface\":[{\"type\":\"surface\",\"colorbar\":{\"outlinewidth\":0,\"ticks\":\"\"},\"colorscale\":[[0.0,\"#0d0887\"],[0.1111111111111111,\"#46039f\"],[0.2222222222222222,\"#7201a8\"],[0.3333333333333333,\"#9c179e\"],[0.4444444444444444,\"#bd3786\"],[0.5555555555555556,\"#d8576b\"],[0.6666666666666666,\"#ed7953\"],[0.7777777777777778,\"#fb9f3a\"],[0.8888888888888888,\"#fdca26\"],[1.0,\"#f0f921\"]]}],\"mesh3d\":[{\"type\":\"mesh3d\",\"colorbar\":{\"outlinewidth\":0,\"ticks\":\"\"}}],\"scatter\":[{\"marker\":{\"line\":{\"color\":\"#283442\"}},\"type\":\"scatter\"}],\"parcoords\":[{\"type\":\"parcoords\",\"line\":{\"colorbar\":{\"outlinewidth\":0,\"ticks\":\"\"}}}],\"scatterpolargl\":[{\"type\":\"scatterpolargl\",\"marker\":{\"colorbar\":{\"outlinewidth\":0,\"ticks\":\"\"}}}],\"bar\":[{\"error_x\":{\"color\":\"#f2f5fa\"},\"error_y\":{\"color\":\"#f2f5fa\"},\"marker\":{\"line\":{\"color\":\"rgb(17,17,17)\",\"width\":0.5},\"pattern\":{\"fillmode\":\"overlay\",\"size\":10,\"solidity\":0.2}},\"type\":\"bar\"}],\"scattergeo\":[{\"type\":\"scattergeo\",\"marker\":{\"colorbar\":{\"outlinewidth\":0,\"ticks\":\"\"}}}],\"scatterpolar\":[{\"type\":\"scatterpolar\",\"marker\":{\"colorbar\":{\"outlinewidth\":0,\"ticks\":\"\"}}}],\"histogram\":[{\"marker\":{\"pattern\":{\"fillmode\":\"overlay\",\"size\":10,\"solidity\":0.2}},\"type\":\"histogram\"}],\"scattergl\":[{\"marker\":{\"line\":{\"color\":\"#283442\"}},\"type\":\"scattergl\"}],\"scatter3d\":[{\"type\":\"scatter3d\",\"line\":{\"colorbar\":{\"outlinewidth\":0,\"ticks\":\"\"}},\"marker\":{\"colorbar\":{\"outlinewidth\":0,\"ticks\":\"\"}}}],\"scattermapbox\":[{\"type\":\"scattermapbox\",\"marker\":{\"colorbar\":{\"outlinewidth\":0,\"ticks\":\"\"}}}],\"scatterternary\":[{\"type\":\"scatterternary\",\"marker\":{\"colorbar\":{\"outlinewidth\":0,\"ticks\":\"\"}}}],\"scattercarpet\":[{\"type\":\"scattercarpet\",\"marker\":{\"colorbar\":{\"outlinewidth\":0,\"ticks\":\"\"}}}],\"carpet\":[{\"aaxis\":{\"endlinecolor\":\"#A2B1C6\",\"gridcolor\":\"#506784\",\"linecolor\":\"#506784\",\"minorgridcolor\":\"#506784\",\"startlinecolor\":\"#A2B1C6\"},\"baxis\":{\"endlinecolor\":\"#A2B1C6\",\"gridcolor\":\"#506784\",\"linecolor\":\"#506784\",\"minorgridcolor\":\"#506784\",\"startlinecolor\":\"#A2B1C6\"},\"type\":\"carpet\"}],\"table\":[{\"cells\":{\"fill\":{\"color\":\"#506784\"},\"line\":{\"color\":\"rgb(17,17,17)\"}},\"header\":{\"fill\":{\"color\":\"#2a3f5f\"},\"line\":{\"color\":\"rgb(17,17,17)\"}},\"type\":\"table\"}],\"barpolar\":[{\"marker\":{\"line\":{\"color\":\"rgb(17,17,17)\",\"width\":0.5},\"pattern\":{\"fillmode\":\"overlay\",\"size\":10,\"solidity\":0.2}},\"type\":\"barpolar\"}],\"pie\":[{\"automargin\":true,\"type\":\"pie\"}]},\"layout\":{\"autotypenumbers\":\"strict\",\"colorway\":[\"#636efa\",\"#EF553B\",\"#00cc96\",\"#ab63fa\",\"#FFA15A\",\"#19d3f3\",\"#FF6692\",\"#B6E880\",\"#FF97FF\",\"#FECB52\"],\"font\":{\"color\":\"#f2f5fa\"},\"hovermode\":\"closest\",\"hoverlabel\":{\"align\":\"left\"},\"paper_bgcolor\":\"rgb(17,17,17)\",\"plot_bgcolor\":\"rgb(17,17,17)\",\"polar\":{\"bgcolor\":\"rgb(17,17,17)\",\"angularaxis\":{\"gridcolor\":\"#506784\",\"linecolor\":\"#506784\",\"ticks\":\"\"},\"radialaxis\":{\"gridcolor\":\"#506784\",\"linecolor\":\"#506784\",\"ticks\":\"\"}},\"ternary\":{\"bgcolor\":\"rgb(17,17,17)\",\"aaxis\":{\"gridcolor\":\"#506784\",\"linecolor\":\"#506784\",\"ticks\":\"\"},\"baxis\":{\"gridcolor\":\"#506784\",\"linecolor\":\"#506784\",\"ticks\":\"\"},\"caxis\":{\"gridcolor\":\"#506784\",\"linecolor\":\"#506784\",\"ticks\":\"\"}},\"coloraxis\":{\"colorbar\":{\"outlinewidth\":0,\"ticks\":\"\"}},\"colorscale\":{\"sequential\":[[0.0,\"#0d0887\"],[0.1111111111111111,\"#46039f\"],[0.2222222222222222,\"#7201a8\"],[0.3333333333333333,\"#9c179e\"],[0.4444444444444444,\"#bd3786\"],[0.5555555555555556,\"#d8576b\"],[0.6666666666666666,\"#ed7953\"],[0.7777777777777778,\"#fb9f3a\"],[0.8888888888888888,\"#fdca26\"],[1.0,\"#f0f921\"]],\"sequentialminus\":[[0.0,\"#0d0887\"],[0.1111111111111111,\"#46039f\"],[0.2222222222222222,\"#7201a8\"],[0.3333333333333333,\"#9c179e\"],[0.4444444444444444,\"#bd3786\"],[0.5555555555555556,\"#d8576b\"],[0.6666666666666666,\"#ed7953\"],[0.7777777777777778,\"#fb9f3a\"],[0.8888888888888888,\"#fdca26\"],[1.0,\"#f0f921\"]],\"diverging\":[[0,\"#8e0152\"],[0.1,\"#c51b7d\"],[0.2,\"#de77ae\"],[0.3,\"#f1b6da\"],[0.4,\"#fde0ef\"],[0.5,\"#f7f7f7\"],[0.6,\"#e6f5d0\"],[0.7,\"#b8e186\"],[0.8,\"#7fbc41\"],[0.9,\"#4d9221\"],[1,\"#276419\"]]},\"xaxis\":{\"gridcolor\":\"#283442\",\"linecolor\":\"#506784\",\"ticks\":\"\",\"title\":{\"standoff\":15},\"zerolinecolor\":\"#283442\",\"automargin\":true,\"zerolinewidth\":2},\"yaxis\":{\"gridcolor\":\"#283442\",\"linecolor\":\"#506784\",\"ticks\":\"\",\"title\":{\"standoff\":15},\"zerolinecolor\":\"#283442\",\"automargin\":true,\"zerolinewidth\":2},\"scene\":{\"xaxis\":{\"backgroundcolor\":\"rgb(17,17,17)\",\"gridcolor\":\"#506784\",\"linecolor\":\"#506784\",\"showbackground\":true,\"ticks\":\"\",\"zerolinecolor\":\"#C8D4E3\",\"gridwidth\":2},\"yaxis\":{\"backgroundcolor\":\"rgb(17,17,17)\",\"gridcolor\":\"#506784\",\"linecolor\":\"#506784\",\"showbackground\":true,\"ticks\":\"\",\"zerolinecolor\":\"#C8D4E3\",\"gridwidth\":2},\"zaxis\":{\"backgroundcolor\":\"rgb(17,17,17)\",\"gridcolor\":\"#506784\",\"linecolor\":\"#506784\",\"showbackground\":true,\"ticks\":\"\",\"zerolinecolor\":\"#C8D4E3\",\"gridwidth\":2}},\"shapedefaults\":{\"line\":{\"color\":\"#f2f5fa\"}},\"annotationdefaults\":{\"arrowcolor\":\"#f2f5fa\",\"arrowhead\":0,\"arrowwidth\":1},\"geo\":{\"bgcolor\":\"rgb(17,17,17)\",\"landcolor\":\"rgb(17,17,17)\",\"subunitcolor\":\"#506784\",\"showland\":true,\"showlakes\":true,\"lakecolor\":\"rgb(17,17,17)\"},\"title\":{\"x\":0.05},\"updatemenudefaults\":{\"bgcolor\":\"#506784\",\"borderwidth\":0},\"sliderdefaults\":{\"bgcolor\":\"#C8D4E3\",\"borderwidth\":1,\"bordercolor\":\"rgb(17,17,17)\",\"tickwidth\":0},\"mapbox\":{\"style\":\"dark\"}}},\"xaxis\":{\"anchor\":\"y\",\"domain\":[0.0,1.0],\"scaleanchor\":\"y\",\"constrain\":\"domain\",\"title\":{\"text\":\"Source\"}},\"yaxis\":{\"anchor\":\"x\",\"domain\":[0.0,1.0],\"autorange\":\"reversed\",\"constrain\":\"domain\",\"title\":{\"text\":\"Target\"}},\"coloraxis\":{\"colorbar\":{\"title\":{\"text\":\"Strength\"}},\"colorscale\":[[0.0,\"rgb(103,0,31)\"],[0.1,\"rgb(178,24,43)\"],[0.2,\"rgb(214,96,77)\"],[0.3,\"rgb(244,165,130)\"],[0.4,\"rgb(253,219,199)\"],[0.5,\"rgb(247,247,247)\"],[0.6,\"rgb(209,229,240)\"],[0.7,\"rgb(146,197,222)\"],[0.8,\"rgb(67,147,195)\"],[0.9,\"rgb(33,102,172)\"],[1.0,\"rgb(5,48,97)\"]],\"cmid\":0},\"title\":{\"text\":\"Attention connectome\"}},                        {\"responsive\": true}                    ).then(function(){\n                            \nvar gd = document.getElementById('0d85edfc-29c6-4cf6-a6db-bc60ca2dabbe');\nvar x = new MutationObserver(function (mutations, observer) {{\n        var display = window.getComputedStyle(gd).display;\n        if (!display || display === 'none') {{\n            console.log([gd, 'removed!']);\n            Plotly.purge(gd);\n            observer.disconnect();\n        }}\n}});\n\n// Listen for the removal of the full notebook cells\nvar notebookContainer = gd.closest('#notebook-container');\nif (notebookContainer) {{\n    x.observe(notebookContainer, {childList: true});\n}}\n\n// Listen for the clearing of the current output cell\nvar outputEl = gd.closest('.output');\nif (outputEl) {{\n    x.observe(outputEl, {childList: true});\n}}\n\n                        })                };                });            </script>        </div>"
     },
     "metadata": {},
     "output_type": "display_data"
    }
   ],
   "source": [
    "threshold = 0.3\n",
    "prompt = \"When Mary and John went to the store, John gave a book to\"\n",
    "corrupt_prompt = \"When Tom and Sarah went to the store, Felix gave a book to\"\n",
    "c = core.connectom(model, prompt,\n",
    "                   core.logit_diff_metric(model, ' Mary', ' John'),\n",
    "                   core.ZeroPattern(),\n",
    "                   # core.CorruptIntervention(model, prompt, corrupt_prompt),\n",
    "                   # core.CropIntervention(model, prompt),\n",
    "\n",
    "                   core.BasicStrategy(),\n",
    "                   # d.BacktrackBisectStrategy(threshold),\n",
    "                   # d.BacktrackingStrategy(threshold),\n",
    "                   # core.BisectStrategy(threshold),\n",
    "                   # core.SplitStrategy(model, prompt, threshold),\n",
    "                   )\n",
    "core.plot_attn_connectome(model, prompt, c).show()\n",
    "# graph = core.plot_graphviz_connectome(model, prompt, c, threshold=threshold).pipe('svg').decode('utf-8')\n",
    "# SVG(graph)\n"
   ],
   "metadata": {
    "collapsed": false,
    "ExecuteTime": {
     "end_time": "2023-06-28T13:35:39.150387088Z",
     "start_time": "2023-06-28T13:35:37.273014632Z"
    }
   }
  },
  {
   "cell_type": "code",
   "execution_count": null,
   "outputs": [],
   "source": [
    "graph = core.plot_graphviz_connectome(model, prompt, c, threshold=0.2).pipe('svg').decode('utf-8')\n",
    "SVG(graph)"
   ],
   "metadata": {
    "collapsed": false
   }
  },
  {
   "cell_type": "markdown",
   "source": [
    "# Docstring task"
   ],
   "metadata": {
    "collapsed": false
   }
  },
  {
   "cell_type": "code",
   "execution_count": 28,
   "outputs": [
    {
     "name": "stdout",
     "output_type": "stream",
     "text": [
      "Loaded pretrained model attn-only-4l into HookedTransformer\n",
      "Baseline strength: 5.41\n"
     ]
    },
    {
     "data": {
      "text/plain": "Exploring: 0 connexions [00:00, ? connexions/s]",
      "application/vnd.jupyter.widget-view+json": {
       "version_major": 2,
       "version_minor": 0,
       "model_id": "0c98cd9b469646e2bb76b5abd927a964"
      }
     },
     "metadata": {},
     "output_type": "display_data"
    }
   ],
   "source": [
    "model = HookedTransformer.from_pretrained(\"attn-only-4l\")\n",
    "threshold = 0.3\n",
    "prompt = '''def port(self, load, size, file, last):\n",
    "    \"\"\"oil column piece\n",
    "\n",
    "    :param load: crime population\n",
    "    :param size: unit dark\n",
    "    :param'''\n",
    "corrupt_prompt = prompt.replace(\"load\", \"banana\").replace(\"size\", \"apple\").replace(\"file\", \"pear\").replace(\"last\", \"orange\")\n",
    "\n",
    "c = core.connectom(model, prompt,\n",
    "                   core.logit_diff_metric(model, ' file', ' self', ' load', ' size', ' last'),\n",
    "                   core.ZeroPattern(),\n",
    "                   # core.CorruptIntervention(model, prompt, corrupt_prompt),\n",
    "\n",
    "                   # core.BasicStrategy(),\n",
    "                   core.SplitStrategy(model, prompt, threshold),\n",
    "                   # core.BacktrackBisectStrategy(threshold),\n",
    "                   # d.BacktrackingStrategy(threshold),\n",
    "                   # core.BisectStrategy(threshold),\n",
    "                   )"
   ],
   "metadata": {
    "collapsed": false,
    "ExecuteTime": {
     "end_time": "2023-06-28T13:35:55.908854418Z",
     "start_time": "2023-06-28T13:35:50.750078358Z"
    }
   }
  },
  {
   "cell_type": "code",
   "execution_count": 40,
   "outputs": [
    {
     "data": {
      "application/vnd.plotly.v1+json": {
       "data": [
        {
         "coloraxis": "coloraxis",
         "name": "0",
         "x": [
          "0: '<|BOS|>'",
          "1: 'def'",
          "2: ' port'",
          "3: '('",
          "4: 'self'",
          "5: ','",
          "6: ' load'",
          "7: ','",
          "8: ' size'",
          "9: ','",
          "10: ' file'",
          "11: ','",
          "12: ' last'",
          "13: '):'",
          "14: '\\n   '",
          "15: ' \"\"\"'",
          "16: 'oil'",
          "17: ' column'",
          "18: ' piece'",
          "19: '\\n\\n   '",
          "20: ' :'",
          "21: 'param'",
          "22: ' load'",
          "23: ':'",
          "24: ' crime'",
          "25: ' population'",
          "26: '\\n   '",
          "27: ' :'",
          "28: 'param'",
          "29: ' size'",
          "30: ':'",
          "31: ' unit'",
          "32: ' dark'",
          "33: '\\n   '",
          "34: ' :'",
          "35: 'param'"
         ],
         "y": [
          "0: '<|BOS|>'",
          "1: 'def'",
          "2: ' port'",
          "3: '('",
          "4: 'self'",
          "5: ','",
          "6: ' load'",
          "7: ','",
          "8: ' size'",
          "9: ','",
          "10: ' file'",
          "11: ','",
          "12: ' last'",
          "13: '):'",
          "14: '\\n   '",
          "15: ' \"\"\"'",
          "16: 'oil'",
          "17: ' column'",
          "18: ' piece'",
          "19: '\\n\\n   '",
          "20: ' :'",
          "21: 'param'",
          "22: ' load'",
          "23: ':'",
          "24: ' crime'",
          "25: ' population'",
          "26: '\\n   '",
          "27: ' :'",
          "28: 'param'",
          "29: ' size'",
          "30: ':'",
          "31: ' unit'",
          "32: ' dark'",
          "33: '\\n   '",
          "34: ' :'",
          "35: 'param'"
         ],
         "z": [
          [
           0.0,
           null,
           null,
           null,
           null,
           null,
           null,
           null,
           null,
           null,
           null,
           null,
           null,
           null,
           null,
           null,
           null,
           null,
           null,
           null,
           null,
           null,
           null,
           null,
           null,
           null,
           null,
           null,
           null,
           null,
           null,
           null,
           null,
           null,
           null,
           null
          ],
          [
           0.0,
           -0.16152796149253845,
           null,
           null,
           null,
           null,
           null,
           null,
           null,
           null,
           null,
           null,
           null,
           null,
           null,
           null,
           null,
           null,
           null,
           null,
           null,
           null,
           null,
           null,
           null,
           null,
           null,
           null,
           null,
           null,
           null,
           null,
           null,
           null,
           null,
           null
          ],
          [
           0.0,
           -0.05985018238425255,
           -0.4696859121322632,
           null,
           null,
           null,
           null,
           null,
           null,
           null,
           null,
           null,
           null,
           null,
           null,
           null,
           null,
           null,
           null,
           null,
           null,
           null,
           null,
           null,
           null,
           null,
           null,
           null,
           null,
           null,
           null,
           null,
           null,
           null,
           null,
           null
          ],
          [
           0.0,
           0.03605716675519943,
           0.010607291013002396,
           0.19802898168563843,
           null,
           null,
           null,
           null,
           null,
           null,
           null,
           null,
           null,
           null,
           null,
           null,
           null,
           null,
           null,
           null,
           null,
           null,
           null,
           null,
           null,
           null,
           null,
           null,
           null,
           null,
           null,
           null,
           null,
           null,
           null,
           null
          ],
          [
           0.0,
           0.037474460899829865,
           -0.010871555656194687,
           -0.036766696721315384,
           -0.0706123635172844,
           null,
           null,
           null,
           null,
           null,
           null,
           null,
           null,
           null,
           null,
           null,
           null,
           null,
           null,
           null,
           null,
           null,
           null,
           null,
           null,
           null,
           null,
           null,
           null,
           null,
           null,
           null,
           null,
           null,
           null,
           null
          ],
          [
           0.0,
           -0.040199317038059235,
           -0.07599680870771408,
           0.06786704063415527,
           -0.06133662909269333,
           0.07066458463668823,
           null,
           null,
           null,
           null,
           null,
           null,
           null,
           null,
           null,
           null,
           null,
           null,
           null,
           null,
           null,
           null,
           null,
           null,
           null,
           null,
           null,
           null,
           null,
           null,
           null,
           null,
           null,
           null,
           null,
           null
          ],
          [
           0.0,
           -0.1898842304944992,
           -0.1898842304944992,
           -0.1898842304944992,
           -0.1898842304944992,
           -0.1898842304944992,
           -0.6575394868850708,
           null,
           null,
           null,
           null,
           null,
           null,
           null,
           null,
           null,
           null,
           null,
           null,
           null,
           null,
           null,
           null,
           null,
           null,
           null,
           null,
           null,
           null,
           null,
           null,
           null,
           null,
           null,
           null,
           null
          ],
          [
           0.0,
           -0.1898842304944992,
           -0.1898842304944992,
           -0.1898842304944992,
           -0.1898842304944992,
           -0.1898842304944992,
           0.054575469344854355,
           0.10739228874444962,
           null,
           null,
           null,
           null,
           null,
           null,
           null,
           null,
           null,
           null,
           null,
           null,
           null,
           null,
           null,
           null,
           null,
           null,
           null,
           null,
           null,
           null,
           null,
           null,
           null,
           null,
           null,
           null
          ],
          [
           0.0,
           -0.5763325095176697,
           -0.01949562504887581,
           -0.323070764541626,
           -0.1571751832962036,
           -0.23762497305870056,
           -0.09521863609552383,
           -0.11002523452043533,
           -0.5412724018096924,
           null,
           null,
           null,
           null,
           null,
           null,
           null,
           null,
           null,
           null,
           null,
           null,
           null,
           null,
           null,
           null,
           null,
           null,
           null,
           null,
           null,
           null,
           null,
           null,
           null,
           null,
           null
          ],
          [
           0.0,
           -0.35739627480506897,
           0.03869875892996788,
           -0.43537768721580505,
           -0.1076778993010521,
           -0.22363656759262085,
           -0.030655084177851677,
           -0.29063427448272705,
           -0.37791189551353455,
           -0.46367064118385315,
           null,
           null,
           null,
           null,
           null,
           null,
           null,
           null,
           null,
           null,
           null,
           null,
           null,
           null,
           null,
           null,
           null,
           null,
           null,
           null,
           null,
           null,
           null,
           null,
           null,
           null
          ],
          [
           0.0,
           -0.5438671112060547,
           -0.04997923597693443,
           0.07281045615673065,
           -0.007229709532111883,
           0.0736335963010788,
           0.17734593152999878,
           0.17734593152999878,
           -0.20043736696243286,
           -1.2512224912643433,
           0.20779813826084137,
           null,
           null,
           null,
           null,
           null,
           null,
           null,
           null,
           null,
           null,
           null,
           null,
           null,
           null,
           null,
           null,
           null,
           null,
           null,
           null,
           null,
           null,
           null,
           null,
           null
          ],
          [
           0.0,
           -0.05515903979539871,
           0.001898544142022729,
           0.028709614649415016,
           0.005117001477628946,
           -9.730876772664487E-4,
           0.17734593152999878,
           0.17734593152999878,
           0.0316680409014225,
           0.02869938313961029,
           0.20779813826084137,
           0.20779813826084137,
           null,
           null,
           null,
           null,
           null,
           null,
           null,
           null,
           null,
           null,
           null,
           null,
           null,
           null,
           null,
           null,
           null,
           null,
           null,
           null,
           null,
           null,
           null,
           null
          ],
          [
           0.0,
           0.07460597902536392,
           0.07460597902536392,
           0.07460597902536392,
           0.07460597902536392,
           0.07460597902536392,
           -0.022952944040298462,
           -0.022952944040298462,
           0.062379222363233566,
           0.062379222363233566,
           0.042401641607284546,
           0.042401641607284546,
           -0.5058233737945557,
           null,
           null,
           null,
           null,
           null,
           null,
           null,
           null,
           null,
           null,
           null,
           null,
           null,
           null,
           null,
           null,
           null,
           null,
           null,
           null,
           null,
           null,
           null
          ],
          [
           0.0,
           0.07460597902536392,
           0.07460597902536392,
           0.07460597902536392,
           0.07460597902536392,
           0.07460597902536392,
           -0.022952944040298462,
           -0.022952944040298462,
           0.062379222363233566,
           0.062379222363233566,
           0.042401641607284546,
           0.042401641607284546,
           -0.00353635149076581,
           -0.04047945886850357,
           null,
           null,
           null,
           null,
           null,
           null,
           null,
           null,
           null,
           null,
           null,
           null,
           null,
           null,
           null,
           null,
           null,
           null,
           null,
           null,
           null,
           null
          ],
          [
           0.0,
           -0.10601186752319336,
           -0.10601186752319336,
           -0.10601186752319336,
           -0.10601186752319336,
           -0.10601186752319336,
           -0.017502523958683014,
           -0.017502523958683014,
           -0.012465612962841988,
           -0.012465612962841988,
           -0.026751795783638954,
           -0.026751795783638954,
           -0.04945811629295349,
           -0.04945811629295349,
           -0.015977973118424416,
           null,
           null,
           null,
           null,
           null,
           null,
           null,
           null,
           null,
           null,
           null,
           null,
           null,
           null,
           null,
           null,
           null,
           null,
           null,
           null,
           null
          ],
          [
           0.0,
           -0.10601186752319336,
           -0.10601186752319336,
           -0.10601186752319336,
           -0.10601186752319336,
           -0.10601186752319336,
           -0.017502523958683014,
           -0.017502523958683014,
           -0.012465612962841988,
           -0.012465612962841988,
           -0.026751795783638954,
           -0.026751795783638954,
           -0.04945811629295349,
           -0.04945811629295349,
           -0.008602899499237537,
           -0.1594403088092804,
           null,
           null,
           null,
           null,
           null,
           null,
           null,
           null,
           null,
           null,
           null,
           null,
           null,
           null,
           null,
           null,
           null,
           null,
           null,
           null
          ],
          [
           0.0,
           -0.10601186752319336,
           -0.10601186752319336,
           -0.10601186752319336,
           -0.10601186752319336,
           -0.10601186752319336,
           -0.017502523958683014,
           -0.017502523958683014,
           -0.012465612962841988,
           -0.012465612962841988,
           -0.026751795783638954,
           -0.026751795783638954,
           -0.04945811629295349,
           -0.04945811629295349,
           -0.004840740468353033,
           -0.004497090354561806,
           -0.2495087832212448,
           null,
           null,
           null,
           null,
           null,
           null,
           null,
           null,
           null,
           null,
           null,
           null,
           null,
           null,
           null,
           null,
           null,
           null,
           null
          ],
          [
           0.0,
           -0.10601186752319336,
           -0.10601186752319336,
           -0.10601186752319336,
           -0.10601186752319336,
           -0.10601186752319336,
           -0.017502523958683014,
           -0.017502523958683014,
           -0.012465612962841988,
           -0.012465612962841988,
           -0.026751795783638954,
           -0.026751795783638954,
           -0.04945811629295349,
           -0.04945811629295349,
           0.007684146519750357,
           0.01152851339429617,
           0.012998024001717567,
           -0.06322459131479263,
           null,
           null,
           null,
           null,
           null,
           null,
           null,
           null,
           null,
           null,
           null,
           null,
           null,
           null,
           null,
           null,
           null,
           null
          ],
          [
           0.0,
           -0.10601186752319336,
           -0.10601186752319336,
           -0.10601186752319336,
           -0.10601186752319336,
           -0.10601186752319336,
           -0.017502523958683014,
           -0.017502523958683014,
           -0.012465612962841988,
           -0.012465612962841988,
           -0.026751795783638954,
           -0.026751795783638954,
           -0.04945811629295349,
           -0.04945811629295349,
           0.0010958702769130468,
           0.0075895898044109344,
           0.0010062530636787415,
           0.00222702301107347,
           -0.13565240800380707,
           null,
           null,
           null,
           null,
           null,
           null,
           null,
           null,
           null,
           null,
           null,
           null,
           null,
           null,
           null,
           null,
           null
          ],
          [
           0.0,
           -0.10601186752319336,
           -0.10601186752319336,
           -0.10601186752319336,
           -0.10601186752319336,
           -0.10601186752319336,
           -0.017502523958683014,
           -0.017502523958683014,
           -0.012465612962841988,
           -0.012465612962841988,
           -0.026751795783638954,
           -0.026751795783638954,
           -0.04945811629295349,
           -0.04945811629295349,
           -0.04924007132649422,
           -0.01998887211084366,
           -0.012194644659757614,
           -0.014676053076982498,
           -0.013563953340053558,
           -0.14969779551029205,
           null,
           null,
           null,
           null,
           null,
           null,
           null,
           null,
           null,
           null,
           null,
           null,
           null,
           null,
           null,
           null
          ],
          [
           0.0,
           0.0399152934551239,
           0.0399152934551239,
           0.0399152934551239,
           0.0399152934551239,
           0.0399152934551239,
           0.016988106071949005,
           0.016988106071949005,
           0.014513754285871983,
           0.014513754285871983,
           0.009309252724051476,
           0.009309252724051476,
           0.007732130587100983,
           0.007732130587100983,
           -0.02598017081618309,
           -0.02598017081618309,
           -0.02598017081618309,
           -0.02598017081618309,
           -0.02598017081618309,
           -0.02598017081618309,
           -0.26405057311058044,
           null,
           null,
           null,
           null,
           null,
           null,
           null,
           null,
           null,
           null,
           null,
           null,
           null,
           null,
           null
          ],
          [
           0.0,
           -0.12476056814193726,
           -0.03129616379737854,
           -0.03656240925192833,
           -0.023699166253209114,
           -0.00999937579035759,
           -0.012780332006514072,
           -0.005925673525780439,
           -0.016148386523127556,
           -0.016148386523127556,
           -0.029388800263404846,
           -0.029388800263404846,
           -0.012989556416869164,
           -0.012989556416869164,
           -0.19068531692028046,
           -0.19068531692028046,
           -0.19068531692028046,
           -0.19068531692028046,
           -0.19068531692028046,
           -0.19068531692028046,
           -0.08509860187768936,
           -0.22382621467113495,
           null,
           null,
           null,
           null,
           null,
           null,
           null,
           null,
           null,
           null,
           null,
           null,
           null,
           null
          ],
          [
           0.0,
           0.011041264049708843,
           0.014034266583621502,
           0.002957720775157213,
           0.012579575181007385,
           0.0038934091571718454,
           -0.43251946568489075,
           0.003678186796605587,
           -0.016148386523127556,
           -0.016148386523127556,
           -0.029388800263404846,
           -0.029388800263404846,
           -0.012989556416869164,
           -0.012989556416869164,
           -0.19068531692028046,
           -0.19068531692028046,
           -0.19068531692028046,
           -0.19068531692028046,
           -0.19068531692028046,
           -0.19068531692028046,
           -0.08509860187768936,
           -0.014812596142292023,
           -0.5177782773971558,
           null,
           null,
           null,
           null,
           null,
           null,
           null,
           null,
           null,
           null,
           null,
           null,
           null
          ],
          [
           0.0,
           -0.041938383132219315,
           -0.010889549739658833,
           -0.03507878631353378,
           -0.005500521045178175,
           -0.0031503625214099884,
           -0.004047593101859093,
           -0.0017055495409294963,
           -0.016148386523127556,
           -0.016148386523127556,
           -0.029388800263404846,
           -0.029388800263404846,
           -0.012989556416869164,
           -0.012989556416869164,
           -0.19068531692028046,
           -0.19068531692028046,
           -0.19068531692028046,
           -0.19068531692028046,
           -0.19068531692028046,
           -0.19068531692028046,
           -0.08509860187768936,
           0.02282804436981678,
           -0.0019285341259092093,
           0.002620068611577153,
           null,
           null,
           null,
           null,
           null,
           null,
           null,
           null,
           null,
           null,
           null,
           null
          ],
          [
           0.0,
           -0.2176593840122223,
           -0.2176593840122223,
           -0.2176593840122223,
           -0.2176593840122223,
           -0.2176593840122223,
           0.01512837316840887,
           0.01512837316840887,
           0.0172731876373291,
           0.0172731876373291,
           0.014254428446292877,
           0.014254428446292877,
           0.005239431280642748,
           0.005239431280642748,
           -0.18325062096118927,
           -0.18325062096118927,
           -0.18325062096118927,
           -0.18325062096118927,
           -0.18325062096118927,
           -0.18325062096118927,
           0.06346874684095383,
           -0.055756017565727234,
           -0.055756017565727234,
           -0.055756017565727234,
           -0.07678695768117905,
           null,
           null,
           null,
           null,
           null,
           null,
           null,
           null,
           null,
           null,
           null
          ],
          [
           0.0,
           -0.2176593840122223,
           -0.2176593840122223,
           -0.2176593840122223,
           -0.2176593840122223,
           -0.2176593840122223,
           0.01512837316840887,
           0.01512837316840887,
           0.0172731876373291,
           0.0172731876373291,
           0.014254428446292877,
           0.014254428446292877,
           0.005239431280642748,
           0.005239431280642748,
           -0.18325062096118927,
           -0.18325062096118927,
           -0.18325062096118927,
           -0.18325062096118927,
           -0.18325062096118927,
           -0.18325062096118927,
           0.06346874684095383,
           -0.055756017565727234,
           -0.055756017565727234,
           -0.055756017565727234,
           0.01674465835094452,
           0.014976129867136478,
           null,
           null,
           null,
           null,
           null,
           null,
           null,
           null,
           null,
           null
          ],
          [
           0.0,
           -0.2176593840122223,
           -0.2176593840122223,
           -0.2176593840122223,
           -0.2176593840122223,
           -0.2176593840122223,
           0.01512837316840887,
           0.01512837316840887,
           0.0172731876373291,
           0.0172731876373291,
           0.014254428446292877,
           0.014254428446292877,
           0.005239431280642748,
           0.005239431280642748,
           -0.18325062096118927,
           -0.18325062096118927,
           -0.18325062096118927,
           -0.18325062096118927,
           -0.18325062096118927,
           -0.18325062096118927,
           0.06346874684095383,
           -0.055756017565727234,
           -0.055756017565727234,
           -0.055756017565727234,
           0.011786074377596378,
           0.01082568895071745,
           -0.018272385001182556,
           null,
           null,
           null,
           null,
           null,
           null,
           null,
           null,
           null
          ],
          [
           0.0,
           -0.2176593840122223,
           -0.2176593840122223,
           -0.2176593840122223,
           -0.2176593840122223,
           -0.2176593840122223,
           0.01512837316840887,
           0.01512837316840887,
           0.0172731876373291,
           0.0172731876373291,
           0.014254428446292877,
           0.014254428446292877,
           0.005239431280642748,
           0.005239431280642748,
           -0.18325062096118927,
           -0.18325062096118927,
           -0.18325062096118927,
           -0.18325062096118927,
           -0.18325062096118927,
           -0.18325062096118927,
           0.06346874684095383,
           -0.055756017565727234,
           -0.055756017565727234,
           -0.055756017565727234,
           -0.008264541625976562,
           -0.011079016141593456,
           -0.08427511155605316,
           -0.02308066561818123,
           null,
           null,
           null,
           null,
           null,
           null,
           null,
           null
          ],
          [
           0.0,
           -0.1351681649684906,
           -0.018182415515184402,
           -0.024272151291370392,
           -0.0023886163253337145,
           -0.004817807115614414,
           0.005028795916587114,
           0.005028795916587114,
           -1.189015747513622E-4,
           -0.0014412846649065614,
           0.0095008360221982,
           0.0095008360221982,
           0.006825373973697424,
           0.006825373973697424,
           0.0015153776621446013,
           0.0015153776621446013,
           0.0015153776621446013,
           0.0015153776621446013,
           0.0015153776621446013,
           0.0015153776621446013,
           0.008492466062307358,
           0.007923007942736149,
           0.007923007942736149,
           0.007923007942736149,
           -0.019066590815782547,
           -0.025540905073285103,
           -0.07410214096307755,
           -0.04033162444829941,
           -0.01882702298462391,
           null,
           null,
           null,
           null,
           null,
           null,
           null
          ],
          [
           0.0,
           0.03795818239450455,
           0.012389049865305424,
           0.01761401630938053,
           0.016590828076004982,
           0.013715666718780994,
           0.005028795916587114,
           0.005028795916587114,
           -0.5173887610435486,
           0.007983340881764889,
           0.0095008360221982,
           0.0095008360221982,
           0.006825373973697424,
           0.006825373973697424,
           0.0015153776621446013,
           0.0015153776621446013,
           0.0015153776621446013,
           0.0015153776621446013,
           0.0015153776621446013,
           0.0015153776621446013,
           0.008492466062307358,
           0.007923007942736149,
           0.007923007942736149,
           0.007923007942736149,
           -0.010361019521951675,
           -0.029366925358772278,
           -0.31367895007133484,
           -0.23966605961322784,
           -0.8402717709541321,
           -0.9459551572799683,
           null,
           null,
           null,
           null,
           null,
           null
          ],
          [
           0.0,
           -0.10777633637189865,
           -0.030895709991455078,
           -0.1106380894780159,
           -0.014593139290809631,
           -0.008765551261603832,
           0.005028795916587114,
           0.005028795916587114,
           -0.006109847221523523,
           -0.00465621380135417,
           0.0095008360221982,
           0.0095008360221982,
           0.006825373973697424,
           0.006825373973697424,
           0.0015153776621446013,
           0.0015153776621446013,
           0.0015153776621446013,
           0.0015153776621446013,
           0.0015153776621446013,
           0.0015153776621446013,
           0.008492466062307358,
           0.007923007942736149,
           0.007923007942736149,
           0.007923007942736149,
           -0.007761415094137192,
           -0.010129214264452457,
           0.03533105552196503,
           -0.009717822074890137,
           0.03433962166309357,
           0.015608918853104115,
           -0.021527182310819626,
           null,
           null,
           null,
           null,
           null
          ],
          [
           0.0,
           0.03512394800782204,
           0.01687696762382984,
           0.010800285264849663,
           0.00866182055324316,
           0.007419881876558065,
           -0.0832999050617218,
           -0.0832999050617218,
           -0.0667560026049614,
           -0.0667560026049614,
           -0.0660955160856247,
           -0.0660955160856247,
           -0.042918529361486435,
           -0.042918529361486435,
           0.0013227359158918262,
           -0.001967697637155652,
           -0.001491032773628831,
           -0.0027255627792328596,
           -0.004930004943162203,
           -0.00381755200214684,
           -0.12444231659173965,
           0.023153699934482574,
           0.023153699934482574,
           0.023153699934482574,
           -0.04970191791653633,
           -0.04970191791653633,
           -0.04970191791653633,
           -0.04970191791653633,
           0.07868179678916931,
           0.07868179678916931,
           0.07868179678916931,
           -0.2108839452266693,
           null,
           null,
           null,
           null
          ],
          [
           0.0,
           -0.08313901722431183,
           -0.015226811170578003,
           -0.01829708181321621,
           -0.00533681083470583,
           -0.0054811155423521996,
           -0.0832999050617218,
           -0.0832999050617218,
           -0.0667560026049614,
           -0.0667560026049614,
           -0.0660955160856247,
           -0.0660955160856247,
           -0.042918529361486435,
           -0.042918529361486435,
           0.0018417395185679197,
           -0.005861459765583277,
           -5.641650641337037E-4,
           -8.41837259940803E-4,
           -0.00132696982473135,
           0.005348453763872385,
           -0.12444231659173965,
           0.023153699934482574,
           0.023153699934482574,
           0.023153699934482574,
           -0.04970191791653633,
           -0.04970191791653633,
           -0.04970191791653633,
           -0.04970191791653633,
           0.07868179678916931,
           0.07868179678916931,
           0.07868179678916931,
           0.006494778208434582,
           -0.15222382545471191,
           null,
           null,
           null
          ],
          [
           0.0,
           -0.2491704225540161,
           -0.029446309432387352,
           -0.03828207403421402,
           0.01206551119685173,
           0.003258326556533575,
           -0.0832999050617218,
           -0.0832999050617218,
           -0.0667560026049614,
           -0.0667560026049614,
           -0.0660955160856247,
           -0.0660955160856247,
           -0.042918529361486435,
           -0.042918529361486435,
           -0.06469304114580154,
           0.0020622543524950743,
           5.683989147655666E-4,
           -0.0021740994416177273,
           7.740951259620488E-4,
           -0.05310242995619774,
           -0.12444231659173965,
           0.023153699934482574,
           0.023153699934482574,
           0.023153699934482574,
           -0.04970191791653633,
           -0.04970191791653633,
           -0.04970191791653633,
           -0.04970191791653633,
           0.07868179678916931,
           0.07868179678916931,
           0.07868179678916931,
           -0.028012434020638466,
           -0.013662390410900116,
           -0.08271986246109009,
           null,
           null
          ],
          [
           0.0,
           -0.31749188899993896,
           -0.147013857960701,
           -0.07033645361661911,
           -0.07119275629520416,
           -0.07025071978569031,
           -0.0832999050617218,
           -0.0832999050617218,
           -0.0667560026049614,
           -0.0667560026049614,
           -0.0660955160856247,
           -0.0660955160856247,
           -0.042918529361486435,
           -0.042918529361486435,
           -0.049551259726285934,
           -0.11901694536209106,
           -0.010857089422643185,
           -0.013207954354584217,
           -0.0051399352960288525,
           -0.026736976578831673,
           -0.12444231659173965,
           0.023153699934482574,
           0.023153699934482574,
           0.023153699934482574,
           -0.04970191791653633,
           -0.04970191791653633,
           -0.04970191791653633,
           -0.04970191791653633,
           0.07868179678916931,
           0.07868179678916931,
           0.07868179678916931,
           0.08134737610816956,
           0.06917496025562286,
           -0.09998246282339096,
           0.023859700188040733,
           null
          ],
          [
           0.0,
           0.1991783082485199,
           0.1991783082485199,
           0.1991783082485199,
           0.1991783082485199,
           0.1991783082485199,
           0.12655997276306152,
           0.12655997276306152,
           0.2546056807041168,
           0.2546056807041168,
           -1.4314454793930054,
           0.044072262942790985,
           0.05585833638906479,
           0.05585833638906479,
           0.005161810200661421,
           0.005161810200661421,
           0.005161810200661421,
           0.005161810200661421,
           0.005161810200661421,
           0.005161810200661421,
           -0.02334246039390564,
           -0.7324650883674622,
           -0.029004927724599838,
           -0.01155991479754448,
           -0.21800445020198822,
           -0.21800445020198822,
           -0.21800445020198822,
           -0.21800445020198822,
           -0.4286758005619049,
           -0.8226651549339294,
           -0.056374870240688324,
           -0.047348231077194214,
           -0.12730689346790314,
           -0.6237996220588684,
           -0.34993985295295715,
           -0.06382104009389877
          ]
         ],
         "type": "heatmap",
         "xaxis": "x",
         "yaxis": "y",
         "hovertemplate": "Source: %{x}<br>Target: %{y}<br>Strength: %{z}<extra></extra>"
        }
       ],
       "layout": {
        "template": {
         "data": {
          "histogram2dcontour": [
           {
            "type": "histogram2dcontour",
            "colorbar": {
             "outlinewidth": 0,
             "ticks": ""
            },
            "colorscale": [
             [
              0.0,
              "#0d0887"
             ],
             [
              0.1111111111111111,
              "#46039f"
             ],
             [
              0.2222222222222222,
              "#7201a8"
             ],
             [
              0.3333333333333333,
              "#9c179e"
             ],
             [
              0.4444444444444444,
              "#bd3786"
             ],
             [
              0.5555555555555556,
              "#d8576b"
             ],
             [
              0.6666666666666666,
              "#ed7953"
             ],
             [
              0.7777777777777778,
              "#fb9f3a"
             ],
             [
              0.8888888888888888,
              "#fdca26"
             ],
             [
              1.0,
              "#f0f921"
             ]
            ]
           }
          ],
          "choropleth": [
           {
            "type": "choropleth",
            "colorbar": {
             "outlinewidth": 0,
             "ticks": ""
            }
           }
          ],
          "histogram2d": [
           {
            "type": "histogram2d",
            "colorbar": {
             "outlinewidth": 0,
             "ticks": ""
            },
            "colorscale": [
             [
              0.0,
              "#0d0887"
             ],
             [
              0.1111111111111111,
              "#46039f"
             ],
             [
              0.2222222222222222,
              "#7201a8"
             ],
             [
              0.3333333333333333,
              "#9c179e"
             ],
             [
              0.4444444444444444,
              "#bd3786"
             ],
             [
              0.5555555555555556,
              "#d8576b"
             ],
             [
              0.6666666666666666,
              "#ed7953"
             ],
             [
              0.7777777777777778,
              "#fb9f3a"
             ],
             [
              0.8888888888888888,
              "#fdca26"
             ],
             [
              1.0,
              "#f0f921"
             ]
            ]
           }
          ],
          "heatmap": [
           {
            "type": "heatmap",
            "colorbar": {
             "outlinewidth": 0,
             "ticks": ""
            },
            "colorscale": [
             [
              0.0,
              "#0d0887"
             ],
             [
              0.1111111111111111,
              "#46039f"
             ],
             [
              0.2222222222222222,
              "#7201a8"
             ],
             [
              0.3333333333333333,
              "#9c179e"
             ],
             [
              0.4444444444444444,
              "#bd3786"
             ],
             [
              0.5555555555555556,
              "#d8576b"
             ],
             [
              0.6666666666666666,
              "#ed7953"
             ],
             [
              0.7777777777777778,
              "#fb9f3a"
             ],
             [
              0.8888888888888888,
              "#fdca26"
             ],
             [
              1.0,
              "#f0f921"
             ]
            ]
           }
          ],
          "heatmapgl": [
           {
            "type": "heatmapgl",
            "colorbar": {
             "outlinewidth": 0,
             "ticks": ""
            },
            "colorscale": [
             [
              0.0,
              "#0d0887"
             ],
             [
              0.1111111111111111,
              "#46039f"
             ],
             [
              0.2222222222222222,
              "#7201a8"
             ],
             [
              0.3333333333333333,
              "#9c179e"
             ],
             [
              0.4444444444444444,
              "#bd3786"
             ],
             [
              0.5555555555555556,
              "#d8576b"
             ],
             [
              0.6666666666666666,
              "#ed7953"
             ],
             [
              0.7777777777777778,
              "#fb9f3a"
             ],
             [
              0.8888888888888888,
              "#fdca26"
             ],
             [
              1.0,
              "#f0f921"
             ]
            ]
           }
          ],
          "contourcarpet": [
           {
            "type": "contourcarpet",
            "colorbar": {
             "outlinewidth": 0,
             "ticks": ""
            }
           }
          ],
          "contour": [
           {
            "type": "contour",
            "colorbar": {
             "outlinewidth": 0,
             "ticks": ""
            },
            "colorscale": [
             [
              0.0,
              "#0d0887"
             ],
             [
              0.1111111111111111,
              "#46039f"
             ],
             [
              0.2222222222222222,
              "#7201a8"
             ],
             [
              0.3333333333333333,
              "#9c179e"
             ],
             [
              0.4444444444444444,
              "#bd3786"
             ],
             [
              0.5555555555555556,
              "#d8576b"
             ],
             [
              0.6666666666666666,
              "#ed7953"
             ],
             [
              0.7777777777777778,
              "#fb9f3a"
             ],
             [
              0.8888888888888888,
              "#fdca26"
             ],
             [
              1.0,
              "#f0f921"
             ]
            ]
           }
          ],
          "surface": [
           {
            "type": "surface",
            "colorbar": {
             "outlinewidth": 0,
             "ticks": ""
            },
            "colorscale": [
             [
              0.0,
              "#0d0887"
             ],
             [
              0.1111111111111111,
              "#46039f"
             ],
             [
              0.2222222222222222,
              "#7201a8"
             ],
             [
              0.3333333333333333,
              "#9c179e"
             ],
             [
              0.4444444444444444,
              "#bd3786"
             ],
             [
              0.5555555555555556,
              "#d8576b"
             ],
             [
              0.6666666666666666,
              "#ed7953"
             ],
             [
              0.7777777777777778,
              "#fb9f3a"
             ],
             [
              0.8888888888888888,
              "#fdca26"
             ],
             [
              1.0,
              "#f0f921"
             ]
            ]
           }
          ],
          "mesh3d": [
           {
            "type": "mesh3d",
            "colorbar": {
             "outlinewidth": 0,
             "ticks": ""
            }
           }
          ],
          "scatter": [
           {
            "marker": {
             "line": {
              "color": "#283442"
             }
            },
            "type": "scatter"
           }
          ],
          "parcoords": [
           {
            "type": "parcoords",
            "line": {
             "colorbar": {
              "outlinewidth": 0,
              "ticks": ""
             }
            }
           }
          ],
          "scatterpolargl": [
           {
            "type": "scatterpolargl",
            "marker": {
             "colorbar": {
              "outlinewidth": 0,
              "ticks": ""
             }
            }
           }
          ],
          "bar": [
           {
            "error_x": {
             "color": "#f2f5fa"
            },
            "error_y": {
             "color": "#f2f5fa"
            },
            "marker": {
             "line": {
              "color": "rgb(17,17,17)",
              "width": 0.5
             },
             "pattern": {
              "fillmode": "overlay",
              "size": 10,
              "solidity": 0.2
             }
            },
            "type": "bar"
           }
          ],
          "scattergeo": [
           {
            "type": "scattergeo",
            "marker": {
             "colorbar": {
              "outlinewidth": 0,
              "ticks": ""
             }
            }
           }
          ],
          "scatterpolar": [
           {
            "type": "scatterpolar",
            "marker": {
             "colorbar": {
              "outlinewidth": 0,
              "ticks": ""
             }
            }
           }
          ],
          "histogram": [
           {
            "marker": {
             "pattern": {
              "fillmode": "overlay",
              "size": 10,
              "solidity": 0.2
             }
            },
            "type": "histogram"
           }
          ],
          "scattergl": [
           {
            "marker": {
             "line": {
              "color": "#283442"
             }
            },
            "type": "scattergl"
           }
          ],
          "scatter3d": [
           {
            "type": "scatter3d",
            "line": {
             "colorbar": {
              "outlinewidth": 0,
              "ticks": ""
             }
            },
            "marker": {
             "colorbar": {
              "outlinewidth": 0,
              "ticks": ""
             }
            }
           }
          ],
          "scattermapbox": [
           {
            "type": "scattermapbox",
            "marker": {
             "colorbar": {
              "outlinewidth": 0,
              "ticks": ""
             }
            }
           }
          ],
          "scatterternary": [
           {
            "type": "scatterternary",
            "marker": {
             "colorbar": {
              "outlinewidth": 0,
              "ticks": ""
             }
            }
           }
          ],
          "scattercarpet": [
           {
            "type": "scattercarpet",
            "marker": {
             "colorbar": {
              "outlinewidth": 0,
              "ticks": ""
             }
            }
           }
          ],
          "carpet": [
           {
            "aaxis": {
             "endlinecolor": "#A2B1C6",
             "gridcolor": "#506784",
             "linecolor": "#506784",
             "minorgridcolor": "#506784",
             "startlinecolor": "#A2B1C6"
            },
            "baxis": {
             "endlinecolor": "#A2B1C6",
             "gridcolor": "#506784",
             "linecolor": "#506784",
             "minorgridcolor": "#506784",
             "startlinecolor": "#A2B1C6"
            },
            "type": "carpet"
           }
          ],
          "table": [
           {
            "cells": {
             "fill": {
              "color": "#506784"
             },
             "line": {
              "color": "rgb(17,17,17)"
             }
            },
            "header": {
             "fill": {
              "color": "#2a3f5f"
             },
             "line": {
              "color": "rgb(17,17,17)"
             }
            },
            "type": "table"
           }
          ],
          "barpolar": [
           {
            "marker": {
             "line": {
              "color": "rgb(17,17,17)",
              "width": 0.5
             },
             "pattern": {
              "fillmode": "overlay",
              "size": 10,
              "solidity": 0.2
             }
            },
            "type": "barpolar"
           }
          ],
          "pie": [
           {
            "automargin": true,
            "type": "pie"
           }
          ]
         },
         "layout": {
          "autotypenumbers": "strict",
          "colorway": [
           "#636efa",
           "#EF553B",
           "#00cc96",
           "#ab63fa",
           "#FFA15A",
           "#19d3f3",
           "#FF6692",
           "#B6E880",
           "#FF97FF",
           "#FECB52"
          ],
          "font": {
           "color": "#f2f5fa"
          },
          "hovermode": "closest",
          "hoverlabel": {
           "align": "left"
          },
          "paper_bgcolor": "rgb(17,17,17)",
          "plot_bgcolor": "rgb(17,17,17)",
          "polar": {
           "bgcolor": "rgb(17,17,17)",
           "angularaxis": {
            "gridcolor": "#506784",
            "linecolor": "#506784",
            "ticks": ""
           },
           "radialaxis": {
            "gridcolor": "#506784",
            "linecolor": "#506784",
            "ticks": ""
           }
          },
          "ternary": {
           "bgcolor": "rgb(17,17,17)",
           "aaxis": {
            "gridcolor": "#506784",
            "linecolor": "#506784",
            "ticks": ""
           },
           "baxis": {
            "gridcolor": "#506784",
            "linecolor": "#506784",
            "ticks": ""
           },
           "caxis": {
            "gridcolor": "#506784",
            "linecolor": "#506784",
            "ticks": ""
           }
          },
          "coloraxis": {
           "colorbar": {
            "outlinewidth": 0,
            "ticks": ""
           }
          },
          "colorscale": {
           "sequential": [
            [
             0.0,
             "#0d0887"
            ],
            [
             0.1111111111111111,
             "#46039f"
            ],
            [
             0.2222222222222222,
             "#7201a8"
            ],
            [
             0.3333333333333333,
             "#9c179e"
            ],
            [
             0.4444444444444444,
             "#bd3786"
            ],
            [
             0.5555555555555556,
             "#d8576b"
            ],
            [
             0.6666666666666666,
             "#ed7953"
            ],
            [
             0.7777777777777778,
             "#fb9f3a"
            ],
            [
             0.8888888888888888,
             "#fdca26"
            ],
            [
             1.0,
             "#f0f921"
            ]
           ],
           "sequentialminus": [
            [
             0.0,
             "#0d0887"
            ],
            [
             0.1111111111111111,
             "#46039f"
            ],
            [
             0.2222222222222222,
             "#7201a8"
            ],
            [
             0.3333333333333333,
             "#9c179e"
            ],
            [
             0.4444444444444444,
             "#bd3786"
            ],
            [
             0.5555555555555556,
             "#d8576b"
            ],
            [
             0.6666666666666666,
             "#ed7953"
            ],
            [
             0.7777777777777778,
             "#fb9f3a"
            ],
            [
             0.8888888888888888,
             "#fdca26"
            ],
            [
             1.0,
             "#f0f921"
            ]
           ],
           "diverging": [
            [
             0,
             "#8e0152"
            ],
            [
             0.1,
             "#c51b7d"
            ],
            [
             0.2,
             "#de77ae"
            ],
            [
             0.3,
             "#f1b6da"
            ],
            [
             0.4,
             "#fde0ef"
            ],
            [
             0.5,
             "#f7f7f7"
            ],
            [
             0.6,
             "#e6f5d0"
            ],
            [
             0.7,
             "#b8e186"
            ],
            [
             0.8,
             "#7fbc41"
            ],
            [
             0.9,
             "#4d9221"
            ],
            [
             1,
             "#276419"
            ]
           ]
          },
          "xaxis": {
           "gridcolor": "#283442",
           "linecolor": "#506784",
           "ticks": "",
           "title": {
            "standoff": 15
           },
           "zerolinecolor": "#283442",
           "automargin": true,
           "zerolinewidth": 2
          },
          "yaxis": {
           "gridcolor": "#283442",
           "linecolor": "#506784",
           "ticks": "",
           "title": {
            "standoff": 15
           },
           "zerolinecolor": "#283442",
           "automargin": true,
           "zerolinewidth": 2
          },
          "scene": {
           "xaxis": {
            "backgroundcolor": "rgb(17,17,17)",
            "gridcolor": "#506784",
            "linecolor": "#506784",
            "showbackground": true,
            "ticks": "",
            "zerolinecolor": "#C8D4E3",
            "gridwidth": 2
           },
           "yaxis": {
            "backgroundcolor": "rgb(17,17,17)",
            "gridcolor": "#506784",
            "linecolor": "#506784",
            "showbackground": true,
            "ticks": "",
            "zerolinecolor": "#C8D4E3",
            "gridwidth": 2
           },
           "zaxis": {
            "backgroundcolor": "rgb(17,17,17)",
            "gridcolor": "#506784",
            "linecolor": "#506784",
            "showbackground": true,
            "ticks": "",
            "zerolinecolor": "#C8D4E3",
            "gridwidth": 2
           }
          },
          "shapedefaults": {
           "line": {
            "color": "#f2f5fa"
           }
          },
          "annotationdefaults": {
           "arrowcolor": "#f2f5fa",
           "arrowhead": 0,
           "arrowwidth": 1
          },
          "geo": {
           "bgcolor": "rgb(17,17,17)",
           "landcolor": "rgb(17,17,17)",
           "subunitcolor": "#506784",
           "showland": true,
           "showlakes": true,
           "lakecolor": "rgb(17,17,17)"
          },
          "title": {
           "x": 0.05
          },
          "updatemenudefaults": {
           "bgcolor": "#506784",
           "borderwidth": 0
          },
          "sliderdefaults": {
           "bgcolor": "#C8D4E3",
           "borderwidth": 1,
           "bordercolor": "rgb(17,17,17)",
           "tickwidth": 0
          },
          "mapbox": {
           "style": "dark"
          }
         }
        },
        "xaxis": {
         "anchor": "y",
         "domain": [
          0.0,
          1.0
         ],
         "scaleanchor": "y",
         "constrain": "domain",
         "title": {
          "text": "Source"
         }
        },
        "yaxis": {
         "anchor": "x",
         "domain": [
          0.0,
          1.0
         ],
         "autorange": "reversed",
         "constrain": "domain",
         "title": {
          "text": "Target"
         }
        },
        "coloraxis": {
         "colorbar": {
          "title": {
           "text": "Strength"
          }
         },
         "colorscale": [
          [
           0.0,
           "rgb(103,0,31)"
          ],
          [
           0.1,
           "rgb(178,24,43)"
          ],
          [
           0.2,
           "rgb(214,96,77)"
          ],
          [
           0.3,
           "rgb(244,165,130)"
          ],
          [
           0.4,
           "rgb(253,219,199)"
          ],
          [
           0.5,
           "rgb(247,247,247)"
          ],
          [
           0.6,
           "rgb(209,229,240)"
          ],
          [
           0.7,
           "rgb(146,197,222)"
          ],
          [
           0.8,
           "rgb(67,147,195)"
          ],
          [
           0.9,
           "rgb(33,102,172)"
          ],
          [
           1.0,
           "rgb(5,48,97)"
          ]
         ],
         "cmid": 0
        },
        "title": {
         "text": "Attention connectome"
        }
       },
       "config": {
        "plotlyServerURL": "https://plot.ly"
       }
      },
      "text/html": "<div>                            <div id=\"e2506e42-b13e-44a6-8c69-40094776fce4\" class=\"plotly-graph-div\" style=\"height:525px; width:100%;\"></div>            <script type=\"text/javascript\">                require([\"plotly\"], function(Plotly) {                    window.PLOTLYENV=window.PLOTLYENV || {};                                    if (document.getElementById(\"e2506e42-b13e-44a6-8c69-40094776fce4\")) {                    Plotly.newPlot(                        \"e2506e42-b13e-44a6-8c69-40094776fce4\",                        [{\"coloraxis\":\"coloraxis\",\"name\":\"0\",\"x\":[\"0: '\\u003c|BOS|\\u003e'\",\"1: 'def'\",\"2: ' port'\",\"3: '('\",\"4: 'self'\",\"5: ','\",\"6: ' load'\",\"7: ','\",\"8: ' size'\",\"9: ','\",\"10: ' file'\",\"11: ','\",\"12: ' last'\",\"13: '):'\",\"14: '\\\\n   '\",\"15: ' \\\"\\\"\\\"'\",\"16: 'oil'\",\"17: ' column'\",\"18: ' piece'\",\"19: '\\\\n\\\\n   '\",\"20: ' :'\",\"21: 'param'\",\"22: ' load'\",\"23: ':'\",\"24: ' crime'\",\"25: ' population'\",\"26: '\\\\n   '\",\"27: ' :'\",\"28: 'param'\",\"29: ' size'\",\"30: ':'\",\"31: ' unit'\",\"32: ' dark'\",\"33: '\\\\n   '\",\"34: ' :'\",\"35: 'param'\"],\"y\":[\"0: '\\u003c|BOS|\\u003e'\",\"1: 'def'\",\"2: ' port'\",\"3: '('\",\"4: 'self'\",\"5: ','\",\"6: ' load'\",\"7: ','\",\"8: ' size'\",\"9: ','\",\"10: ' file'\",\"11: ','\",\"12: ' last'\",\"13: '):'\",\"14: '\\\\n   '\",\"15: ' \\\"\\\"\\\"'\",\"16: 'oil'\",\"17: ' column'\",\"18: ' piece'\",\"19: '\\\\n\\\\n   '\",\"20: ' :'\",\"21: 'param'\",\"22: ' load'\",\"23: ':'\",\"24: ' crime'\",\"25: ' population'\",\"26: '\\\\n   '\",\"27: ' :'\",\"28: 'param'\",\"29: ' size'\",\"30: ':'\",\"31: ' unit'\",\"32: ' dark'\",\"33: '\\\\n   '\",\"34: ' :'\",\"35: 'param'\"],\"z\":[[0.0,null,null,null,null,null,null,null,null,null,null,null,null,null,null,null,null,null,null,null,null,null,null,null,null,null,null,null,null,null,null,null,null,null,null,null],[0.0,-0.16152796149253845,null,null,null,null,null,null,null,null,null,null,null,null,null,null,null,null,null,null,null,null,null,null,null,null,null,null,null,null,null,null,null,null,null,null],[0.0,-0.05985018238425255,-0.4696859121322632,null,null,null,null,null,null,null,null,null,null,null,null,null,null,null,null,null,null,null,null,null,null,null,null,null,null,null,null,null,null,null,null,null],[0.0,0.03605716675519943,0.010607291013002396,0.19802898168563843,null,null,null,null,null,null,null,null,null,null,null,null,null,null,null,null,null,null,null,null,null,null,null,null,null,null,null,null,null,null,null,null],[0.0,0.037474460899829865,-0.010871555656194687,-0.036766696721315384,-0.0706123635172844,null,null,null,null,null,null,null,null,null,null,null,null,null,null,null,null,null,null,null,null,null,null,null,null,null,null,null,null,null,null,null],[0.0,-0.040199317038059235,-0.07599680870771408,0.06786704063415527,-0.06133662909269333,0.07066458463668823,null,null,null,null,null,null,null,null,null,null,null,null,null,null,null,null,null,null,null,null,null,null,null,null,null,null,null,null,null,null],[0.0,-0.1898842304944992,-0.1898842304944992,-0.1898842304944992,-0.1898842304944992,-0.1898842304944992,-0.6575394868850708,null,null,null,null,null,null,null,null,null,null,null,null,null,null,null,null,null,null,null,null,null,null,null,null,null,null,null,null,null],[0.0,-0.1898842304944992,-0.1898842304944992,-0.1898842304944992,-0.1898842304944992,-0.1898842304944992,0.054575469344854355,0.10739228874444962,null,null,null,null,null,null,null,null,null,null,null,null,null,null,null,null,null,null,null,null,null,null,null,null,null,null,null,null],[0.0,-0.5763325095176697,-0.01949562504887581,-0.323070764541626,-0.1571751832962036,-0.23762497305870056,-0.09521863609552383,-0.11002523452043533,-0.5412724018096924,null,null,null,null,null,null,null,null,null,null,null,null,null,null,null,null,null,null,null,null,null,null,null,null,null,null,null],[0.0,-0.35739627480506897,0.03869875892996788,-0.43537768721580505,-0.1076778993010521,-0.22363656759262085,-0.030655084177851677,-0.29063427448272705,-0.37791189551353455,-0.46367064118385315,null,null,null,null,null,null,null,null,null,null,null,null,null,null,null,null,null,null,null,null,null,null,null,null,null,null],[0.0,-0.5438671112060547,-0.04997923597693443,0.07281045615673065,-0.007229709532111883,0.0736335963010788,0.17734593152999878,0.17734593152999878,-0.20043736696243286,-1.2512224912643433,0.20779813826084137,null,null,null,null,null,null,null,null,null,null,null,null,null,null,null,null,null,null,null,null,null,null,null,null,null],[0.0,-0.05515903979539871,0.001898544142022729,0.028709614649415016,0.005117001477628946,-0.0009730876772664487,0.17734593152999878,0.17734593152999878,0.0316680409014225,0.02869938313961029,0.20779813826084137,0.20779813826084137,null,null,null,null,null,null,null,null,null,null,null,null,null,null,null,null,null,null,null,null,null,null,null,null],[0.0,0.07460597902536392,0.07460597902536392,0.07460597902536392,0.07460597902536392,0.07460597902536392,-0.022952944040298462,-0.022952944040298462,0.062379222363233566,0.062379222363233566,0.042401641607284546,0.042401641607284546,-0.5058233737945557,null,null,null,null,null,null,null,null,null,null,null,null,null,null,null,null,null,null,null,null,null,null,null],[0.0,0.07460597902536392,0.07460597902536392,0.07460597902536392,0.07460597902536392,0.07460597902536392,-0.022952944040298462,-0.022952944040298462,0.062379222363233566,0.062379222363233566,0.042401641607284546,0.042401641607284546,-0.00353635149076581,-0.04047945886850357,null,null,null,null,null,null,null,null,null,null,null,null,null,null,null,null,null,null,null,null,null,null],[0.0,-0.10601186752319336,-0.10601186752319336,-0.10601186752319336,-0.10601186752319336,-0.10601186752319336,-0.017502523958683014,-0.017502523958683014,-0.012465612962841988,-0.012465612962841988,-0.026751795783638954,-0.026751795783638954,-0.04945811629295349,-0.04945811629295349,-0.015977973118424416,null,null,null,null,null,null,null,null,null,null,null,null,null,null,null,null,null,null,null,null,null],[0.0,-0.10601186752319336,-0.10601186752319336,-0.10601186752319336,-0.10601186752319336,-0.10601186752319336,-0.017502523958683014,-0.017502523958683014,-0.012465612962841988,-0.012465612962841988,-0.026751795783638954,-0.026751795783638954,-0.04945811629295349,-0.04945811629295349,-0.008602899499237537,-0.1594403088092804,null,null,null,null,null,null,null,null,null,null,null,null,null,null,null,null,null,null,null,null],[0.0,-0.10601186752319336,-0.10601186752319336,-0.10601186752319336,-0.10601186752319336,-0.10601186752319336,-0.017502523958683014,-0.017502523958683014,-0.012465612962841988,-0.012465612962841988,-0.026751795783638954,-0.026751795783638954,-0.04945811629295349,-0.04945811629295349,-0.004840740468353033,-0.004497090354561806,-0.2495087832212448,null,null,null,null,null,null,null,null,null,null,null,null,null,null,null,null,null,null,null],[0.0,-0.10601186752319336,-0.10601186752319336,-0.10601186752319336,-0.10601186752319336,-0.10601186752319336,-0.017502523958683014,-0.017502523958683014,-0.012465612962841988,-0.012465612962841988,-0.026751795783638954,-0.026751795783638954,-0.04945811629295349,-0.04945811629295349,0.007684146519750357,0.01152851339429617,0.012998024001717567,-0.06322459131479263,null,null,null,null,null,null,null,null,null,null,null,null,null,null,null,null,null,null],[0.0,-0.10601186752319336,-0.10601186752319336,-0.10601186752319336,-0.10601186752319336,-0.10601186752319336,-0.017502523958683014,-0.017502523958683014,-0.012465612962841988,-0.012465612962841988,-0.026751795783638954,-0.026751795783638954,-0.04945811629295349,-0.04945811629295349,0.0010958702769130468,0.0075895898044109344,0.0010062530636787415,0.00222702301107347,-0.13565240800380707,null,null,null,null,null,null,null,null,null,null,null,null,null,null,null,null,null],[0.0,-0.10601186752319336,-0.10601186752319336,-0.10601186752319336,-0.10601186752319336,-0.10601186752319336,-0.017502523958683014,-0.017502523958683014,-0.012465612962841988,-0.012465612962841988,-0.026751795783638954,-0.026751795783638954,-0.04945811629295349,-0.04945811629295349,-0.04924007132649422,-0.01998887211084366,-0.012194644659757614,-0.014676053076982498,-0.013563953340053558,-0.14969779551029205,null,null,null,null,null,null,null,null,null,null,null,null,null,null,null,null],[0.0,0.0399152934551239,0.0399152934551239,0.0399152934551239,0.0399152934551239,0.0399152934551239,0.016988106071949005,0.016988106071949005,0.014513754285871983,0.014513754285871983,0.009309252724051476,0.009309252724051476,0.007732130587100983,0.007732130587100983,-0.02598017081618309,-0.02598017081618309,-0.02598017081618309,-0.02598017081618309,-0.02598017081618309,-0.02598017081618309,-0.26405057311058044,null,null,null,null,null,null,null,null,null,null,null,null,null,null,null],[0.0,-0.12476056814193726,-0.03129616379737854,-0.03656240925192833,-0.023699166253209114,-0.00999937579035759,-0.012780332006514072,-0.005925673525780439,-0.016148386523127556,-0.016148386523127556,-0.029388800263404846,-0.029388800263404846,-0.012989556416869164,-0.012989556416869164,-0.19068531692028046,-0.19068531692028046,-0.19068531692028046,-0.19068531692028046,-0.19068531692028046,-0.19068531692028046,-0.08509860187768936,-0.22382621467113495,null,null,null,null,null,null,null,null,null,null,null,null,null,null],[0.0,0.011041264049708843,0.014034266583621502,0.002957720775157213,0.012579575181007385,0.0038934091571718454,-0.43251946568489075,0.003678186796605587,-0.016148386523127556,-0.016148386523127556,-0.029388800263404846,-0.029388800263404846,-0.012989556416869164,-0.012989556416869164,-0.19068531692028046,-0.19068531692028046,-0.19068531692028046,-0.19068531692028046,-0.19068531692028046,-0.19068531692028046,-0.08509860187768936,-0.014812596142292023,-0.5177782773971558,null,null,null,null,null,null,null,null,null,null,null,null,null],[0.0,-0.041938383132219315,-0.010889549739658833,-0.03507878631353378,-0.005500521045178175,-0.0031503625214099884,-0.004047593101859093,-0.0017055495409294963,-0.016148386523127556,-0.016148386523127556,-0.029388800263404846,-0.029388800263404846,-0.012989556416869164,-0.012989556416869164,-0.19068531692028046,-0.19068531692028046,-0.19068531692028046,-0.19068531692028046,-0.19068531692028046,-0.19068531692028046,-0.08509860187768936,0.02282804436981678,-0.0019285341259092093,0.002620068611577153,null,null,null,null,null,null,null,null,null,null,null,null],[0.0,-0.2176593840122223,-0.2176593840122223,-0.2176593840122223,-0.2176593840122223,-0.2176593840122223,0.01512837316840887,0.01512837316840887,0.0172731876373291,0.0172731876373291,0.014254428446292877,0.014254428446292877,0.005239431280642748,0.005239431280642748,-0.18325062096118927,-0.18325062096118927,-0.18325062096118927,-0.18325062096118927,-0.18325062096118927,-0.18325062096118927,0.06346874684095383,-0.055756017565727234,-0.055756017565727234,-0.055756017565727234,-0.07678695768117905,null,null,null,null,null,null,null,null,null,null,null],[0.0,-0.2176593840122223,-0.2176593840122223,-0.2176593840122223,-0.2176593840122223,-0.2176593840122223,0.01512837316840887,0.01512837316840887,0.0172731876373291,0.0172731876373291,0.014254428446292877,0.014254428446292877,0.005239431280642748,0.005239431280642748,-0.18325062096118927,-0.18325062096118927,-0.18325062096118927,-0.18325062096118927,-0.18325062096118927,-0.18325062096118927,0.06346874684095383,-0.055756017565727234,-0.055756017565727234,-0.055756017565727234,0.01674465835094452,0.014976129867136478,null,null,null,null,null,null,null,null,null,null],[0.0,-0.2176593840122223,-0.2176593840122223,-0.2176593840122223,-0.2176593840122223,-0.2176593840122223,0.01512837316840887,0.01512837316840887,0.0172731876373291,0.0172731876373291,0.014254428446292877,0.014254428446292877,0.005239431280642748,0.005239431280642748,-0.18325062096118927,-0.18325062096118927,-0.18325062096118927,-0.18325062096118927,-0.18325062096118927,-0.18325062096118927,0.06346874684095383,-0.055756017565727234,-0.055756017565727234,-0.055756017565727234,0.011786074377596378,0.01082568895071745,-0.018272385001182556,null,null,null,null,null,null,null,null,null],[0.0,-0.2176593840122223,-0.2176593840122223,-0.2176593840122223,-0.2176593840122223,-0.2176593840122223,0.01512837316840887,0.01512837316840887,0.0172731876373291,0.0172731876373291,0.014254428446292877,0.014254428446292877,0.005239431280642748,0.005239431280642748,-0.18325062096118927,-0.18325062096118927,-0.18325062096118927,-0.18325062096118927,-0.18325062096118927,-0.18325062096118927,0.06346874684095383,-0.055756017565727234,-0.055756017565727234,-0.055756017565727234,-0.008264541625976562,-0.011079016141593456,-0.08427511155605316,-0.02308066561818123,null,null,null,null,null,null,null,null],[0.0,-0.1351681649684906,-0.018182415515184402,-0.024272151291370392,-0.0023886163253337145,-0.004817807115614414,0.005028795916587114,0.005028795916587114,-0.0001189015747513622,-0.0014412846649065614,0.0095008360221982,0.0095008360221982,0.006825373973697424,0.006825373973697424,0.0015153776621446013,0.0015153776621446013,0.0015153776621446013,0.0015153776621446013,0.0015153776621446013,0.0015153776621446013,0.008492466062307358,0.007923007942736149,0.007923007942736149,0.007923007942736149,-0.019066590815782547,-0.025540905073285103,-0.07410214096307755,-0.04033162444829941,-0.01882702298462391,null,null,null,null,null,null,null],[0.0,0.03795818239450455,0.012389049865305424,0.01761401630938053,0.016590828076004982,0.013715666718780994,0.005028795916587114,0.005028795916587114,-0.5173887610435486,0.007983340881764889,0.0095008360221982,0.0095008360221982,0.006825373973697424,0.006825373973697424,0.0015153776621446013,0.0015153776621446013,0.0015153776621446013,0.0015153776621446013,0.0015153776621446013,0.0015153776621446013,0.008492466062307358,0.007923007942736149,0.007923007942736149,0.007923007942736149,-0.010361019521951675,-0.029366925358772278,-0.31367895007133484,-0.23966605961322784,-0.8402717709541321,-0.9459551572799683,null,null,null,null,null,null],[0.0,-0.10777633637189865,-0.030895709991455078,-0.1106380894780159,-0.014593139290809631,-0.008765551261603832,0.005028795916587114,0.005028795916587114,-0.006109847221523523,-0.00465621380135417,0.0095008360221982,0.0095008360221982,0.006825373973697424,0.006825373973697424,0.0015153776621446013,0.0015153776621446013,0.0015153776621446013,0.0015153776621446013,0.0015153776621446013,0.0015153776621446013,0.008492466062307358,0.007923007942736149,0.007923007942736149,0.007923007942736149,-0.007761415094137192,-0.010129214264452457,0.03533105552196503,-0.009717822074890137,0.03433962166309357,0.015608918853104115,-0.021527182310819626,null,null,null,null,null],[0.0,0.03512394800782204,0.01687696762382984,0.010800285264849663,0.00866182055324316,0.007419881876558065,-0.0832999050617218,-0.0832999050617218,-0.0667560026049614,-0.0667560026049614,-0.0660955160856247,-0.0660955160856247,-0.042918529361486435,-0.042918529361486435,0.0013227359158918262,-0.001967697637155652,-0.001491032773628831,-0.0027255627792328596,-0.004930004943162203,-0.00381755200214684,-0.12444231659173965,0.023153699934482574,0.023153699934482574,0.023153699934482574,-0.04970191791653633,-0.04970191791653633,-0.04970191791653633,-0.04970191791653633,0.07868179678916931,0.07868179678916931,0.07868179678916931,-0.2108839452266693,null,null,null,null],[0.0,-0.08313901722431183,-0.015226811170578003,-0.01829708181321621,-0.00533681083470583,-0.0054811155423521996,-0.0832999050617218,-0.0832999050617218,-0.0667560026049614,-0.0667560026049614,-0.0660955160856247,-0.0660955160856247,-0.042918529361486435,-0.042918529361486435,0.0018417395185679197,-0.005861459765583277,-0.0005641650641337037,-0.000841837259940803,-0.00132696982473135,0.005348453763872385,-0.12444231659173965,0.023153699934482574,0.023153699934482574,0.023153699934482574,-0.04970191791653633,-0.04970191791653633,-0.04970191791653633,-0.04970191791653633,0.07868179678916931,0.07868179678916931,0.07868179678916931,0.006494778208434582,-0.15222382545471191,null,null,null],[0.0,-0.2491704225540161,-0.029446309432387352,-0.03828207403421402,0.01206551119685173,0.003258326556533575,-0.0832999050617218,-0.0832999050617218,-0.0667560026049614,-0.0667560026049614,-0.0660955160856247,-0.0660955160856247,-0.042918529361486435,-0.042918529361486435,-0.06469304114580154,0.0020622543524950743,0.0005683989147655666,-0.0021740994416177273,0.0007740951259620488,-0.05310242995619774,-0.12444231659173965,0.023153699934482574,0.023153699934482574,0.023153699934482574,-0.04970191791653633,-0.04970191791653633,-0.04970191791653633,-0.04970191791653633,0.07868179678916931,0.07868179678916931,0.07868179678916931,-0.028012434020638466,-0.013662390410900116,-0.08271986246109009,null,null],[0.0,-0.31749188899993896,-0.147013857960701,-0.07033645361661911,-0.07119275629520416,-0.07025071978569031,-0.0832999050617218,-0.0832999050617218,-0.0667560026049614,-0.0667560026049614,-0.0660955160856247,-0.0660955160856247,-0.042918529361486435,-0.042918529361486435,-0.049551259726285934,-0.11901694536209106,-0.010857089422643185,-0.013207954354584217,-0.0051399352960288525,-0.026736976578831673,-0.12444231659173965,0.023153699934482574,0.023153699934482574,0.023153699934482574,-0.04970191791653633,-0.04970191791653633,-0.04970191791653633,-0.04970191791653633,0.07868179678916931,0.07868179678916931,0.07868179678916931,0.08134737610816956,0.06917496025562286,-0.09998246282339096,0.023859700188040733,null],[0.0,0.1991783082485199,0.1991783082485199,0.1991783082485199,0.1991783082485199,0.1991783082485199,0.12655997276306152,0.12655997276306152,0.2546056807041168,0.2546056807041168,-1.4314454793930054,0.044072262942790985,0.05585833638906479,0.05585833638906479,0.005161810200661421,0.005161810200661421,0.005161810200661421,0.005161810200661421,0.005161810200661421,0.005161810200661421,-0.02334246039390564,-0.7324650883674622,-0.029004927724599838,-0.01155991479754448,-0.21800445020198822,-0.21800445020198822,-0.21800445020198822,-0.21800445020198822,-0.4286758005619049,-0.8226651549339294,-0.056374870240688324,-0.047348231077194214,-0.12730689346790314,-0.6237996220588684,-0.34993985295295715,-0.06382104009389877]],\"type\":\"heatmap\",\"xaxis\":\"x\",\"yaxis\":\"y\",\"hovertemplate\":\"Source: %{x}\\u003cbr\\u003eTarget: %{y}\\u003cbr\\u003eStrength: %{z}\\u003cextra\\u003e\\u003c\\u002fextra\\u003e\"}],                        {\"template\":{\"data\":{\"histogram2dcontour\":[{\"type\":\"histogram2dcontour\",\"colorbar\":{\"outlinewidth\":0,\"ticks\":\"\"},\"colorscale\":[[0.0,\"#0d0887\"],[0.1111111111111111,\"#46039f\"],[0.2222222222222222,\"#7201a8\"],[0.3333333333333333,\"#9c179e\"],[0.4444444444444444,\"#bd3786\"],[0.5555555555555556,\"#d8576b\"],[0.6666666666666666,\"#ed7953\"],[0.7777777777777778,\"#fb9f3a\"],[0.8888888888888888,\"#fdca26\"],[1.0,\"#f0f921\"]]}],\"choropleth\":[{\"type\":\"choropleth\",\"colorbar\":{\"outlinewidth\":0,\"ticks\":\"\"}}],\"histogram2d\":[{\"type\":\"histogram2d\",\"colorbar\":{\"outlinewidth\":0,\"ticks\":\"\"},\"colorscale\":[[0.0,\"#0d0887\"],[0.1111111111111111,\"#46039f\"],[0.2222222222222222,\"#7201a8\"],[0.3333333333333333,\"#9c179e\"],[0.4444444444444444,\"#bd3786\"],[0.5555555555555556,\"#d8576b\"],[0.6666666666666666,\"#ed7953\"],[0.7777777777777778,\"#fb9f3a\"],[0.8888888888888888,\"#fdca26\"],[1.0,\"#f0f921\"]]}],\"heatmap\":[{\"type\":\"heatmap\",\"colorbar\":{\"outlinewidth\":0,\"ticks\":\"\"},\"colorscale\":[[0.0,\"#0d0887\"],[0.1111111111111111,\"#46039f\"],[0.2222222222222222,\"#7201a8\"],[0.3333333333333333,\"#9c179e\"],[0.4444444444444444,\"#bd3786\"],[0.5555555555555556,\"#d8576b\"],[0.6666666666666666,\"#ed7953\"],[0.7777777777777778,\"#fb9f3a\"],[0.8888888888888888,\"#fdca26\"],[1.0,\"#f0f921\"]]}],\"heatmapgl\":[{\"type\":\"heatmapgl\",\"colorbar\":{\"outlinewidth\":0,\"ticks\":\"\"},\"colorscale\":[[0.0,\"#0d0887\"],[0.1111111111111111,\"#46039f\"],[0.2222222222222222,\"#7201a8\"],[0.3333333333333333,\"#9c179e\"],[0.4444444444444444,\"#bd3786\"],[0.5555555555555556,\"#d8576b\"],[0.6666666666666666,\"#ed7953\"],[0.7777777777777778,\"#fb9f3a\"],[0.8888888888888888,\"#fdca26\"],[1.0,\"#f0f921\"]]}],\"contourcarpet\":[{\"type\":\"contourcarpet\",\"colorbar\":{\"outlinewidth\":0,\"ticks\":\"\"}}],\"contour\":[{\"type\":\"contour\",\"colorbar\":{\"outlinewidth\":0,\"ticks\":\"\"},\"colorscale\":[[0.0,\"#0d0887\"],[0.1111111111111111,\"#46039f\"],[0.2222222222222222,\"#7201a8\"],[0.3333333333333333,\"#9c179e\"],[0.4444444444444444,\"#bd3786\"],[0.5555555555555556,\"#d8576b\"],[0.6666666666666666,\"#ed7953\"],[0.7777777777777778,\"#fb9f3a\"],[0.8888888888888888,\"#fdca26\"],[1.0,\"#f0f921\"]]}],\"surface\":[{\"type\":\"surface\",\"colorbar\":{\"outlinewidth\":0,\"ticks\":\"\"},\"colorscale\":[[0.0,\"#0d0887\"],[0.1111111111111111,\"#46039f\"],[0.2222222222222222,\"#7201a8\"],[0.3333333333333333,\"#9c179e\"],[0.4444444444444444,\"#bd3786\"],[0.5555555555555556,\"#d8576b\"],[0.6666666666666666,\"#ed7953\"],[0.7777777777777778,\"#fb9f3a\"],[0.8888888888888888,\"#fdca26\"],[1.0,\"#f0f921\"]]}],\"mesh3d\":[{\"type\":\"mesh3d\",\"colorbar\":{\"outlinewidth\":0,\"ticks\":\"\"}}],\"scatter\":[{\"marker\":{\"line\":{\"color\":\"#283442\"}},\"type\":\"scatter\"}],\"parcoords\":[{\"type\":\"parcoords\",\"line\":{\"colorbar\":{\"outlinewidth\":0,\"ticks\":\"\"}}}],\"scatterpolargl\":[{\"type\":\"scatterpolargl\",\"marker\":{\"colorbar\":{\"outlinewidth\":0,\"ticks\":\"\"}}}],\"bar\":[{\"error_x\":{\"color\":\"#f2f5fa\"},\"error_y\":{\"color\":\"#f2f5fa\"},\"marker\":{\"line\":{\"color\":\"rgb(17,17,17)\",\"width\":0.5},\"pattern\":{\"fillmode\":\"overlay\",\"size\":10,\"solidity\":0.2}},\"type\":\"bar\"}],\"scattergeo\":[{\"type\":\"scattergeo\",\"marker\":{\"colorbar\":{\"outlinewidth\":0,\"ticks\":\"\"}}}],\"scatterpolar\":[{\"type\":\"scatterpolar\",\"marker\":{\"colorbar\":{\"outlinewidth\":0,\"ticks\":\"\"}}}],\"histogram\":[{\"marker\":{\"pattern\":{\"fillmode\":\"overlay\",\"size\":10,\"solidity\":0.2}},\"type\":\"histogram\"}],\"scattergl\":[{\"marker\":{\"line\":{\"color\":\"#283442\"}},\"type\":\"scattergl\"}],\"scatter3d\":[{\"type\":\"scatter3d\",\"line\":{\"colorbar\":{\"outlinewidth\":0,\"ticks\":\"\"}},\"marker\":{\"colorbar\":{\"outlinewidth\":0,\"ticks\":\"\"}}}],\"scattermapbox\":[{\"type\":\"scattermapbox\",\"marker\":{\"colorbar\":{\"outlinewidth\":0,\"ticks\":\"\"}}}],\"scatterternary\":[{\"type\":\"scatterternary\",\"marker\":{\"colorbar\":{\"outlinewidth\":0,\"ticks\":\"\"}}}],\"scattercarpet\":[{\"type\":\"scattercarpet\",\"marker\":{\"colorbar\":{\"outlinewidth\":0,\"ticks\":\"\"}}}],\"carpet\":[{\"aaxis\":{\"endlinecolor\":\"#A2B1C6\",\"gridcolor\":\"#506784\",\"linecolor\":\"#506784\",\"minorgridcolor\":\"#506784\",\"startlinecolor\":\"#A2B1C6\"},\"baxis\":{\"endlinecolor\":\"#A2B1C6\",\"gridcolor\":\"#506784\",\"linecolor\":\"#506784\",\"minorgridcolor\":\"#506784\",\"startlinecolor\":\"#A2B1C6\"},\"type\":\"carpet\"}],\"table\":[{\"cells\":{\"fill\":{\"color\":\"#506784\"},\"line\":{\"color\":\"rgb(17,17,17)\"}},\"header\":{\"fill\":{\"color\":\"#2a3f5f\"},\"line\":{\"color\":\"rgb(17,17,17)\"}},\"type\":\"table\"}],\"barpolar\":[{\"marker\":{\"line\":{\"color\":\"rgb(17,17,17)\",\"width\":0.5},\"pattern\":{\"fillmode\":\"overlay\",\"size\":10,\"solidity\":0.2}},\"type\":\"barpolar\"}],\"pie\":[{\"automargin\":true,\"type\":\"pie\"}]},\"layout\":{\"autotypenumbers\":\"strict\",\"colorway\":[\"#636efa\",\"#EF553B\",\"#00cc96\",\"#ab63fa\",\"#FFA15A\",\"#19d3f3\",\"#FF6692\",\"#B6E880\",\"#FF97FF\",\"#FECB52\"],\"font\":{\"color\":\"#f2f5fa\"},\"hovermode\":\"closest\",\"hoverlabel\":{\"align\":\"left\"},\"paper_bgcolor\":\"rgb(17,17,17)\",\"plot_bgcolor\":\"rgb(17,17,17)\",\"polar\":{\"bgcolor\":\"rgb(17,17,17)\",\"angularaxis\":{\"gridcolor\":\"#506784\",\"linecolor\":\"#506784\",\"ticks\":\"\"},\"radialaxis\":{\"gridcolor\":\"#506784\",\"linecolor\":\"#506784\",\"ticks\":\"\"}},\"ternary\":{\"bgcolor\":\"rgb(17,17,17)\",\"aaxis\":{\"gridcolor\":\"#506784\",\"linecolor\":\"#506784\",\"ticks\":\"\"},\"baxis\":{\"gridcolor\":\"#506784\",\"linecolor\":\"#506784\",\"ticks\":\"\"},\"caxis\":{\"gridcolor\":\"#506784\",\"linecolor\":\"#506784\",\"ticks\":\"\"}},\"coloraxis\":{\"colorbar\":{\"outlinewidth\":0,\"ticks\":\"\"}},\"colorscale\":{\"sequential\":[[0.0,\"#0d0887\"],[0.1111111111111111,\"#46039f\"],[0.2222222222222222,\"#7201a8\"],[0.3333333333333333,\"#9c179e\"],[0.4444444444444444,\"#bd3786\"],[0.5555555555555556,\"#d8576b\"],[0.6666666666666666,\"#ed7953\"],[0.7777777777777778,\"#fb9f3a\"],[0.8888888888888888,\"#fdca26\"],[1.0,\"#f0f921\"]],\"sequentialminus\":[[0.0,\"#0d0887\"],[0.1111111111111111,\"#46039f\"],[0.2222222222222222,\"#7201a8\"],[0.3333333333333333,\"#9c179e\"],[0.4444444444444444,\"#bd3786\"],[0.5555555555555556,\"#d8576b\"],[0.6666666666666666,\"#ed7953\"],[0.7777777777777778,\"#fb9f3a\"],[0.8888888888888888,\"#fdca26\"],[1.0,\"#f0f921\"]],\"diverging\":[[0,\"#8e0152\"],[0.1,\"#c51b7d\"],[0.2,\"#de77ae\"],[0.3,\"#f1b6da\"],[0.4,\"#fde0ef\"],[0.5,\"#f7f7f7\"],[0.6,\"#e6f5d0\"],[0.7,\"#b8e186\"],[0.8,\"#7fbc41\"],[0.9,\"#4d9221\"],[1,\"#276419\"]]},\"xaxis\":{\"gridcolor\":\"#283442\",\"linecolor\":\"#506784\",\"ticks\":\"\",\"title\":{\"standoff\":15},\"zerolinecolor\":\"#283442\",\"automargin\":true,\"zerolinewidth\":2},\"yaxis\":{\"gridcolor\":\"#283442\",\"linecolor\":\"#506784\",\"ticks\":\"\",\"title\":{\"standoff\":15},\"zerolinecolor\":\"#283442\",\"automargin\":true,\"zerolinewidth\":2},\"scene\":{\"xaxis\":{\"backgroundcolor\":\"rgb(17,17,17)\",\"gridcolor\":\"#506784\",\"linecolor\":\"#506784\",\"showbackground\":true,\"ticks\":\"\",\"zerolinecolor\":\"#C8D4E3\",\"gridwidth\":2},\"yaxis\":{\"backgroundcolor\":\"rgb(17,17,17)\",\"gridcolor\":\"#506784\",\"linecolor\":\"#506784\",\"showbackground\":true,\"ticks\":\"\",\"zerolinecolor\":\"#C8D4E3\",\"gridwidth\":2},\"zaxis\":{\"backgroundcolor\":\"rgb(17,17,17)\",\"gridcolor\":\"#506784\",\"linecolor\":\"#506784\",\"showbackground\":true,\"ticks\":\"\",\"zerolinecolor\":\"#C8D4E3\",\"gridwidth\":2}},\"shapedefaults\":{\"line\":{\"color\":\"#f2f5fa\"}},\"annotationdefaults\":{\"arrowcolor\":\"#f2f5fa\",\"arrowhead\":0,\"arrowwidth\":1},\"geo\":{\"bgcolor\":\"rgb(17,17,17)\",\"landcolor\":\"rgb(17,17,17)\",\"subunitcolor\":\"#506784\",\"showland\":true,\"showlakes\":true,\"lakecolor\":\"rgb(17,17,17)\"},\"title\":{\"x\":0.05},\"updatemenudefaults\":{\"bgcolor\":\"#506784\",\"borderwidth\":0},\"sliderdefaults\":{\"bgcolor\":\"#C8D4E3\",\"borderwidth\":1,\"bordercolor\":\"rgb(17,17,17)\",\"tickwidth\":0},\"mapbox\":{\"style\":\"dark\"}}},\"xaxis\":{\"anchor\":\"y\",\"domain\":[0.0,1.0],\"scaleanchor\":\"y\",\"constrain\":\"domain\",\"title\":{\"text\":\"Source\"}},\"yaxis\":{\"anchor\":\"x\",\"domain\":[0.0,1.0],\"autorange\":\"reversed\",\"constrain\":\"domain\",\"title\":{\"text\":\"Target\"}},\"coloraxis\":{\"colorbar\":{\"title\":{\"text\":\"Strength\"}},\"colorscale\":[[0.0,\"rgb(103,0,31)\"],[0.1,\"rgb(178,24,43)\"],[0.2,\"rgb(214,96,77)\"],[0.3,\"rgb(244,165,130)\"],[0.4,\"rgb(253,219,199)\"],[0.5,\"rgb(247,247,247)\"],[0.6,\"rgb(209,229,240)\"],[0.7,\"rgb(146,197,222)\"],[0.8,\"rgb(67,147,195)\"],[0.9,\"rgb(33,102,172)\"],[1.0,\"rgb(5,48,97)\"]],\"cmid\":0},\"title\":{\"text\":\"Attention connectome\"}},                        {\"responsive\": true}                    ).then(function(){\n                            \nvar gd = document.getElementById('e2506e42-b13e-44a6-8c69-40094776fce4');\nvar x = new MutationObserver(function (mutations, observer) {{\n        var display = window.getComputedStyle(gd).display;\n        if (!display || display === 'none') {{\n            console.log([gd, 'removed!']);\n            Plotly.purge(gd);\n            observer.disconnect();\n        }}\n}});\n\n// Listen for the removal of the full notebook cells\nvar notebookContainer = gd.closest('#notebook-container');\nif (notebookContainer) {{\n    x.observe(notebookContainer, {childList: true});\n}}\n\n// Listen for the clearing of the current output cell\nvar outputEl = gd.closest('.output');\nif (outputEl) {{\n    x.observe(outputEl, {childList: true});\n}}\n\n                        })                };                });            </script>        </div>"
     },
     "metadata": {},
     "output_type": "display_data"
    },
    {
     "data": {
      "image/png": "[encoded data removed]",
      "text/plain": "<IPython.core.display.Image object>"
     },
     "execution_count": 40,
     "metadata": {},
     "output_type": "execute_result"
    }
   ],
   "source": [
    "graph_threshold = 0.6\n",
    "core.plot_attn_connectome(model, prompt, c).show()\n",
    "# graph = core.plot_graphviz_connectome(model, prompt, c, graph_threshold, depth=2).pipe('svg').decode('utf-8')\n",
    "graph = core.plot_graphviz_connectome(model, prompt, c, graph_threshold, depth=2).pipe('png')\n",
    "import IPython\n",
    "IPython.display.Image(graph)\n",
    "# SVG(graph)\n"
   ],
   "metadata": {
    "collapsed": false,
    "ExecuteTime": {
     "end_time": "2023-06-28T13:43:35.082129171Z",
     "start_time": "2023-06-28T13:43:34.972360701Z"
    }
   }
  },
  {
   "cell_type": "code",
   "execution_count": null,
   "outputs": [],
   "source": [
    "print(prompt)\n",
    "transformer_lens.utils.test_prompt(prompt, ' file', model)"
   ],
   "metadata": {
    "collapsed": false
   }
  },
  {
   "cell_type": "markdown",
   "source": [
    "# Code task on Pythia"
   ],
   "metadata": {
    "collapsed": false
   }
  },
  {
   "cell_type": "code",
   "execution_count": 46,
   "outputs": [
    {
     "data": {
      "text/plain": "Downloading (…)lve/main/config.json:   0%|          | 0.00/718 [00:00<?, ?B/s]",
      "application/vnd.jupyter.widget-view+json": {
       "version_major": 2,
       "version_minor": 0,
       "model_id": "dc5c7ef2de1f4083b7a3c00506e92d53"
      }
     },
     "metadata": {},
     "output_type": "display_data"
    },
    {
     "data": {
      "text/plain": "Downloading model.safetensors:   0%|          | 0.00/1.52G [00:00<?, ?B/s]",
      "application/vnd.jupyter.widget-view+json": {
       "version_major": 2,
       "version_minor": 0,
       "model_id": "5788391e2f364325a1066b880582e223"
      }
     },
     "metadata": {},
     "output_type": "display_data"
    },
    {
     "data": {
      "text/plain": "Downloading (…)neration_config.json:   0%|          | 0.00/124 [00:00<?, ?B/s]",
      "application/vnd.jupyter.widget-view+json": {
       "version_major": 2,
       "version_minor": 0,
       "model_id": "319b2046fe7248979cb4a409a87f7daa"
      }
     },
     "metadata": {},
     "output_type": "display_data"
    },
    {
     "data": {
      "text/plain": "Downloading (…)olve/main/vocab.json:   0%|          | 0.00/1.04M [00:00<?, ?B/s]",
      "application/vnd.jupyter.widget-view+json": {
       "version_major": 2,
       "version_minor": 0,
       "model_id": "0371ed2eda5e4010b833c03d504f7301"
      }
     },
     "metadata": {},
     "output_type": "display_data"
    },
    {
     "data": {
      "text/plain": "Downloading (…)olve/main/merges.txt:   0%|          | 0.00/456k [00:00<?, ?B/s]",
      "application/vnd.jupyter.widget-view+json": {
       "version_major": 2,
       "version_minor": 0,
       "model_id": "aea984ae8f2d4498a5da389bec664220"
      }
     },
     "metadata": {},
     "output_type": "display_data"
    },
    {
     "data": {
      "text/plain": "Downloading (…)/main/tokenizer.json:   0%|          | 0.00/1.36M [00:00<?, ?B/s]",
      "application/vnd.jupyter.widget-view+json": {
       "version_major": 2,
       "version_minor": 0,
       "model_id": "bbd730579f3b4668ae838d4bb0591ce8"
      }
     },
     "metadata": {},
     "output_type": "display_data"
    },
    {
     "name": "stderr",
     "output_type": "stream",
     "text": [
      "Using pad_token, but it is not set yet.\n"
     ]
    },
    {
     "name": "stdout",
     "output_type": "stream",
     "text": [
      "Loaded pretrained model gpt2-medium into HookedTransformer\n"
     ]
    }
   ],
   "source": [
    "model = HookedTransformer.from_pretrained('gpt2-medium')"
   ],
   "metadata": {
    "collapsed": false,
    "ExecuteTime": {
     "end_time": "2023-06-27T22:48:27.740956093Z",
     "start_time": "2023-06-27T22:43:19.591141207Z"
    }
   }
  },
  {
   "cell_type": "code",
   "execution_count": 45,
   "outputs": [
    {
     "name": "stdout",
     "output_type": "stream",
     "text": [
      "Tokenized prompt: ['<|endoftext|>', 'from', ' typing', ' import', ' List', ',', ' D', 'ict', '\\n', 'def', ' f', '(', 'x', ':', ' List', '):', '\\n', ' ', ' ', ' ', ' return', ' sum', '(', 'x', '[', '::', '2', '])', '\\n', '\\n', 'def', ' g', '(', 'x', ':', ' float', '):', '\\n', ' ', ' ', ' ', ' return', ' x', ' **', ' 2', '\\n', '\\n', 'def', ' h', '(', 'x', ':', ' D', 'ict', '):', '\\n', ' ', ' ', ' ', ' return', ' sum', '(', 'x', '.', 'values', '())', '\\n', '\\n', 'def', ' i', '(', 'x', ':', ' str', '):', '\\n', ' ', ' ', ' ', ' return', ' len', '(', 'x', ')', '\\n', '\\n', 'var', '1', ':', ' str', ' =', \" '\", 'abc', \"'\", '\\n', 'var', '2', ':', ' D', 'ict', ' =', ' {', \"'\", 'a', \"':\", ' 1', ',', \" '\", 'b', \"':\", ' 2', '}', '\\n', 'var', '3', ':', ' List', ' =', ' [', '1', ',', ' 2', ',', ' 3', ']', '\\n', 'var', '4', ':', ' int', ' =', ' 4', '\\n', '\\n', 'h', '(', 'var']\n",
      "Tokenized answer: [' 1']\n"
     ]
    },
    {
     "data": {
      "text/plain": "Performance on answer token:\n\u001B[1mRank: \u001B[0m\u001B[1;36m20\u001B[0m\u001B[1m       Logit: \u001B[0m\u001B[1;36m11.51\u001B[0m\u001B[1m Prob:  \u001B[0m\u001B[1;36m0.03\u001B[0m\u001B[1m% Token: | \u001B[0m\u001B[1;36m1\u001B[0m\u001B[1m|\u001B[0m\n",
      "text/html": "<pre style=\"white-space:pre;overflow-x:auto;line-height:normal;font-family:Menlo,'DejaVu Sans Mono',consolas,'Courier New',monospace\">Performance on answer token:\n<span style=\"font-weight: bold\">Rank: </span><span style=\"color: #008080; text-decoration-color: #008080; font-weight: bold\">20</span><span style=\"font-weight: bold\">       Logit: </span><span style=\"color: #008080; text-decoration-color: #008080; font-weight: bold\">11.51</span><span style=\"font-weight: bold\"> Prob:  </span><span style=\"color: #008080; text-decoration-color: #008080; font-weight: bold\">0.03</span><span style=\"font-weight: bold\">% Token: | </span><span style=\"color: #008080; text-decoration-color: #008080; font-weight: bold\">1</span><span style=\"font-weight: bold\">|</span>\n</pre>\n"
     },
     "metadata": {},
     "output_type": "display_data"
    },
    {
     "name": "stdout",
     "output_type": "stream",
     "text": [
      "Top 0th token. Logit: 19.21 Prob: 70.42% Token: |1|\n",
      "Top 1th token. Logit: 17.25 Prob:  9.88% Token: |3|\n",
      "Top 2th token. Logit: 17.06 Prob:  8.19% Token: |4|\n",
      "Top 3th token. Logit: 16.55 Prob:  4.91% Token: |2|\n",
      "Top 4th token. Logit: 16.18 Prob:  3.39% Token: |5|\n",
      "Top 5th token. Logit: 14.41 Prob:  0.58% Token: |0|\n",
      "Top 6th token. Logit: 14.15 Prob:  0.45% Token: |,|\n",
      "Top 7th token. Logit: 13.39 Prob:  0.21% Token: |:|\n",
      "Top 8th token. Logit: 13.23 Prob:  0.18% Token: |)|\n",
      "Top 9th token. Logit: 13.06 Prob:  0.15% Token: |.|\n"
     ]
    },
    {
     "data": {
      "text/plain": "\u001B[1mRanks of the answer tokens:\u001B[0m \u001B[1m[\u001B[0m\u001B[1m(\u001B[0m\u001B[32m' 1'\u001B[0m, \u001B[1;36m20\u001B[0m\u001B[1m)\u001B[0m\u001B[1m]\u001B[0m\n",
      "text/html": "<pre style=\"white-space:pre;overflow-x:auto;line-height:normal;font-family:Menlo,'DejaVu Sans Mono',consolas,'Courier New',monospace\"><span style=\"font-weight: bold\">Ranks of the answer tokens:</span> <span style=\"font-weight: bold\">[(</span><span style=\"color: #008000; text-decoration-color: #008000\">' 1'</span>, <span style=\"color: #008080; text-decoration-color: #008080; font-weight: bold\">20</span><span style=\"font-weight: bold\">)]</span>\n</pre>\n"
     },
     "metadata": {},
     "output_type": "display_data"
    }
   ],
   "source": [
    "prompt = \"\"\"from typing import List, Dict\n",
    "def f(x: List):\n",
    "    return sum(x[::2])\n",
    "\n",
    "def g(x: float):\n",
    "    return x ** 2\n",
    "\n",
    "def h(x: Dict):\n",
    "    return sum(x.values())\n",
    "\n",
    "def i(x: str):\n",
    "    return len(x)\n",
    "\n",
    "var1: str = 'abc'\n",
    "var2: Dict = {'a': 1, 'b': 2}\n",
    "var3: List = [1, 2, 3]\n",
    "var4: int = 4\n",
    "\n",
    "h(var\"\"\"\n",
    "\n",
    "transformer_lens.utils.test_prompt(prompt, '1', model)\n"
   ],
   "metadata": {
    "collapsed": false,
    "ExecuteTime": {
     "end_time": "2023-06-27T22:42:53.723206939Z",
     "start_time": "2023-06-27T22:42:53.341737228Z"
    }
   }
  },
  {
   "cell_type": "markdown",
   "source": [
    "# Exploration of grouping techniques"
   ],
   "metadata": {
    "collapsed": false
   }
  },
  {
   "cell_type": "code",
   "execution_count": null,
   "outputs": [],
   "source": [
    "# Finding the log-probs on the prompt tokens\n",
    "prompt = \"When Mary and John went to the store, John gave a book to Mary.\"\n",
    "log_probs = model(prompt)[0].log_softmax(-1)  # (seq_len, vocab_size)\n",
    "tokens = model.to_tokens(prompt)[0]\n",
    "tokens_str = model.to_str_tokens(tokens)\n",
    "print(tokens.shape)\n",
    "print(log_probs.shape)\n",
    "correct_logprobs = log_probs[torch.arange(len(tokens) - 1), tokens[1:]]\n",
    "print(correct_logprobs.shape)\n",
    "for i, (t, n, l) in enumerate(zip(tokens_str, tokens_str[1:], correct_logprobs)):\n",
    "    print(f\"{i:2d} {t!r} {l.item():.2f} -> {n!r}\")\n",
    "\n",
    "import plotly.express as px\n",
    "px.line(x=[f'{i} {t!r} -> {n!r}' for i, (t, n) in enumerate(zip(tokens_str, tokens_str[1:]))],\n",
    "        y=correct_logprobs.detach() * 0)"
   ],
   "metadata": {
    "collapsed": false
   }
  },
  {
   "cell_type": "code",
   "execution_count": null,
   "outputs": [],
   "source": [
    "prompt = '''def port(self, load, size, file, last):\n",
    "    \"\"\"oil column piece\n",
    "\n",
    "    :param load: crime population\n",
    "    :param size: unit dark\n",
    "    :param'''\n",
    "\n",
    "print(prompt)\n",
    "s = core.SplitStrategy(model, prompt, 0.1,\n",
    "                       (\n",
    "                           '\\n\\n',\n",
    "                           tuple('.!?'),\n",
    "                           tuple(',:;'),\n",
    "                       )\n",
    "                       )\n",
    "s.show_tree()"
   ],
   "metadata": {
    "collapsed": false
   }
  },
  {
   "cell_type": "code",
   "execution_count": 24,
   "outputs": [
    {
     "name": "stdout",
     "output_type": "stream",
     "text": [
      "[<Connexion(1:36 -> 1:36: -1.73)>, <Connexion(1:20 -> 1:20: -0.89)>, <Connexion(1:20 -> 20:36: -0.83)>, <Connexion(20:36 -> 20:36: -1.42)>, <Connexion(14:20 -> 14:20: -0.90)>, <Connexion(1:6 -> 14:20: -0.11)>, <Connexion(1:6 -> 1:6: -0.86)>, <Connexion(14:20 -> 24:28: -0.18)>, <Connexion(14:20 -> 31:35: -0.67)>, <Connexion(1:6 -> 24:28: -0.22)>]\n",
      "<Connexion(1:36 -> 1:36: -1.73)> to None\n",
      "<Connexion(1:20 -> 1:20: -0.89)> to <Connexion(1:36 -> 1:36: -1.73)>\n",
      "<Connexion(1:20 -> 20:36: -0.83)> to <Connexion(1:36 -> 1:36: -1.73)>\n",
      "<Connexion(20:36 -> 20:36: -1.42)> to <Connexion(1:36 -> 1:36: -1.73)>\n",
      "<Connexion(14:20 -> 14:20: -0.90)> to <Connexion(1:20 -> 1:20: -0.89)>\n",
      "<Connexion(1:6 -> 14:20: -0.11)> to <Connexion(1:20 -> 1:20: -0.89)>\n",
      "<Connexion(1:6 -> 1:6: -0.86)> to <Connexion(1:20 -> 1:20: -0.89)>\n",
      "<Connexion(14:20 -> 24:28: -0.18)> to <Connexion(1:20 -> 20:36: -0.83)>\n",
      "<Connexion(14:20 -> 31:35: -0.67)> to <Connexion(1:20 -> 20:36: -0.83)>\n",
      "<Connexion(1:6 -> 24:28: -0.22)> to <Connexion(1:20 -> 20:36: -0.83)>\n",
      "<Connexion(1:6 -> 31:35: -0.33)> to <Connexion(1:20 -> 20:36: -0.83)>\n",
      "<Connexion(14:20 -> 21:24: -0.19)> to <Connexion(1:20 -> 20:36: -0.83)>\n",
      "<Connexion(14:20 -> 28:31: 0.00)> to <Connexion(1:20 -> 20:36: -0.83)>\n",
      "<Connexion(24:28 -> 24:28: -0.55)> to <Connexion(20:36 -> 20:36: -1.42)>\n",
      "<Connexion(24:28 -> 31:35: -0.05)> to <Connexion(20:36 -> 20:36: -1.42)>\n",
      "<Connexion(31:35 -> 31:35: -0.38)> to <Connexion(20:36 -> 20:36: -1.42)>\n",
      "<Connexion(1:6 -> 21:24: -0.41)> to <Connexion(1:20 -> 20:36: -0.83)>\n",
      "<Connexion(1:6 -> 28:31: -0.46)> to <Connexion(1:20 -> 20:36: -0.83)>\n",
      "<Connexion(6:8 -> 14:20: -0.02)> to <Connexion(1:20 -> 1:20: -0.89)>\n",
      "<Connexion(8:10 -> 14:20: -0.01)> to <Connexion(1:20 -> 1:20: -0.89)>\n",
      "<Connexion(10:12 -> 14:20: -0.03)> to <Connexion(1:20 -> 1:20: -0.89)>\n",
      "<Connexion(12:14 -> 14:20: -0.05)> to <Connexion(1:20 -> 1:20: -0.89)>\n",
      "<Connexion(21:24 -> 24:28: -0.06)> to <Connexion(20:36 -> 20:36: -1.42)>\n",
      "<Connexion(21:24 -> 31:35: 0.02)> to <Connexion(20:36 -> 20:36: -1.42)>\n",
      "<Connexion(24:28 -> 28:31: -0.53)> to <Connexion(20:36 -> 20:36: -1.42)>\n",
      "<Connexion(28:31 -> 31:35: 0.08)> to <Connexion(20:36 -> 20:36: -1.42)>\n",
      "<Connexion(1:6 -> 6:8: -0.19)> to <Connexion(1:20 -> 1:20: -0.89)>\n",
      "<Connexion(1:6 -> 8:10: -0.86)> to <Connexion(1:20 -> 1:20: -0.89)>\n",
      "<Connexion(1:6 -> 10:12: -1.27)> to <Connexion(1:20 -> 1:20: -0.89)>\n",
      "<Connexion(1:6 -> 12:14: 0.07)> to <Connexion(1:20 -> 1:20: -0.89)>\n",
      "<Connexion(21:24 -> 21:24: -0.44)> to <Connexion(20:36 -> 20:36: -1.42)>\n",
      "<Connexion(21:24 -> 28:31: 0.01)> to <Connexion(20:36 -> 20:36: -1.42)>\n",
      "<Connexion(28:31 -> 28:31: -0.76)> to <Connexion(20:36 -> 20:36: -1.42)>\n",
      "<Connexion(6:8 -> 24:28: 0.02)> to <Connexion(1:20 -> 20:36: -0.83)>\n",
      "<Connexion(6:8 -> 31:35: -0.08)> to <Connexion(1:20 -> 20:36: -0.83)>\n",
      "<Connexion(8:10 -> 24:28: 0.02)> to <Connexion(1:20 -> 20:36: -0.83)>\n",
      "<Connexion(8:10 -> 31:35: -0.07)> to <Connexion(1:20 -> 20:36: -0.83)>\n",
      "<Connexion(10:12 -> 24:28: 0.01)> to <Connexion(1:20 -> 20:36: -0.83)>\n",
      "<Connexion(10:12 -> 31:35: -0.07)> to <Connexion(1:20 -> 20:36: -0.83)>\n",
      "<Connexion(12:14 -> 24:28: 0.01)> to <Connexion(1:20 -> 20:36: -0.83)>\n",
      "<Connexion(12:14 -> 31:35: -0.04)> to <Connexion(1:20 -> 20:36: -0.83)>\n",
      "<Connexion(6:8 -> 21:24: -0.54)> to <Connexion(1:20 -> 20:36: -0.83)>\n",
      "<Connexion(6:8 -> 28:31: 0.01)> to <Connexion(1:20 -> 20:36: -0.83)>\n",
      "<Connexion(8:10 -> 21:24: -0.02)> to <Connexion(1:20 -> 20:36: -0.83)>\n",
      "<Connexion(8:10 -> 28:31: -0.54)> to <Connexion(1:20 -> 20:36: -0.83)>\n",
      "<Connexion(10:12 -> 21:24: -0.03)> to <Connexion(1:20 -> 20:36: -0.83)>\n",
      "<Connexion(10:12 -> 28:31: 0.01)> to <Connexion(1:20 -> 20:36: -0.83)>\n",
      "<Connexion(12:14 -> 21:24: -0.01)> to <Connexion(1:20 -> 20:36: -0.83)>\n",
      "<Connexion(12:14 -> 28:31: 0.01)> to <Connexion(1:20 -> 20:36: -0.83)>\n",
      "<Connexion(14:20 -> 20:21: -0.03)> to <Connexion(1:20 -> 20:36: -0.83)>\n",
      "<Connexion(14:20 -> 35:36: 0.01)> to <Connexion(1:20 -> 20:36: -0.83)>\n",
      "<Connexion(1:6 -> 20:21: 0.04)> to <Connexion(1:20 -> 20:36: -0.83)>\n",
      "<Connexion(1:6 -> 35:36: 0.20)> to <Connexion(1:20 -> 20:36: -0.83)>\n",
      "<Connexion(6:8 -> 6:8: -0.56)> to <Connexion(1:20 -> 1:20: -0.89)>\n",
      "<Connexion(6:8 -> 8:10: -0.37)> to <Connexion(1:20 -> 1:20: -0.89)>\n",
      "<Connexion(6:8 -> 10:12: 0.18)> to <Connexion(1:20 -> 1:20: -0.89)>\n",
      "<Connexion(6:8 -> 12:14: -0.02)> to <Connexion(1:20 -> 1:20: -0.89)>\n",
      "<Connexion(8:10 -> 8:10: -0.87)> to <Connexion(1:20 -> 1:20: -0.89)>\n",
      "<Connexion(8:10 -> 10:12: -1.11)> to <Connexion(1:20 -> 1:20: -0.89)>\n",
      "<Connexion(8:10 -> 12:14: 0.06)> to <Connexion(1:20 -> 1:20: -0.89)>\n",
      "<Connexion(10:12 -> 10:12: 0.21)> to <Connexion(1:20 -> 1:20: -0.89)>\n",
      "<Connexion(10:12 -> 12:14: 0.04)> to <Connexion(1:20 -> 1:20: -0.89)>\n",
      "<Connexion(12:14 -> 12:14: -0.46)> to <Connexion(1:20 -> 1:20: -0.89)>\n",
      "<Connexion(20:21 -> 24:28: 0.06)> to <Connexion(20:36 -> 20:36: -1.42)>\n",
      "<Connexion(20:21 -> 31:35: -0.12)> to <Connexion(20:36 -> 20:36: -1.42)>\n",
      "<Connexion(24:28 -> 35:36: -0.22)> to <Connexion(20:36 -> 20:36: -1.42)>\n",
      "<Connexion(31:35 -> 35:36: -0.56)> to <Connexion(20:36 -> 20:36: -1.42)>\n",
      "<Connexion(20:21 -> 21:24: -0.09)> to <Connexion(20:36 -> 20:36: -1.42)>\n",
      "<Connexion(20:21 -> 28:31: 0.01)> to <Connexion(20:36 -> 20:36: -1.42)>\n",
      "<Connexion(21:24 -> 35:36: -0.57)> to <Connexion(20:36 -> 20:36: -1.42)>\n",
      "<Connexion(28:31 -> 35:36: -1.00)> to <Connexion(20:36 -> 20:36: -1.42)>\n",
      "<Connexion(6:8 -> 20:21: 0.02)> to <Connexion(1:20 -> 20:36: -0.83)>\n",
      "<Connexion(6:8 -> 35:36: 0.13)> to <Connexion(1:20 -> 20:36: -0.83)>\n",
      "<Connexion(8:10 -> 20:21: 0.01)> to <Connexion(1:20 -> 20:36: -0.83)>\n",
      "<Connexion(8:10 -> 35:36: 0.25)> to <Connexion(1:20 -> 20:36: -0.83)>\n",
      "<Connexion(10:12 -> 20:21: 0.01)> to <Connexion(1:20 -> 20:36: -0.83)>\n",
      "<Connexion(10:12 -> 35:36: -1.51)> to <Connexion(1:20 -> 20:36: -0.83)>\n",
      "<Connexion(12:14 -> 20:21: 0.01)> to <Connexion(1:20 -> 20:36: -0.83)>\n",
      "<Connexion(12:14 -> 35:36: 0.06)> to <Connexion(1:20 -> 20:36: -0.83)>\n",
      "<Connexion(20:21 -> 20:21: -0.26)> to <Connexion(20:36 -> 20:36: -1.42)>\n",
      "<Connexion(20:21 -> 35:36: -0.02)> to <Connexion(20:36 -> 20:36: -1.42)>\n",
      "<Connexion(35:36 -> 35:36: -0.06)> to <Connexion(20:36 -> 20:36: -1.42)>\n",
      "<Connexion(1:2 -> 1:2: -0.16)> to <Connexion(1:6 -> 1:6: -0.86)>\n",
      "<Connexion(1:2 -> 2:3: -0.06)> to <Connexion(1:6 -> 1:6: -0.86)>\n",
      "<Connexion(1:2 -> 3:4: 0.04)> to <Connexion(1:6 -> 1:6: -0.86)>\n",
      "<Connexion(1:2 -> 4:5: 0.04)> to <Connexion(1:6 -> 1:6: -0.86)>\n",
      "<Connexion(1:2 -> 5:6: -0.04)> to <Connexion(1:6 -> 1:6: -0.86)>\n",
      "<Connexion(2:3 -> 2:3: -0.47)> to <Connexion(1:6 -> 1:6: -0.86)>\n",
      "<Connexion(2:3 -> 3:4: 0.01)> to <Connexion(1:6 -> 1:6: -0.86)>\n",
      "<Connexion(2:3 -> 4:5: -0.01)> to <Connexion(1:6 -> 1:6: -0.86)>\n",
      "<Connexion(2:3 -> 5:6: -0.08)> to <Connexion(1:6 -> 1:6: -0.86)>\n",
      "<Connexion(3:4 -> 3:4: 0.20)> to <Connexion(1:6 -> 1:6: -0.86)>\n",
      "<Connexion(3:4 -> 4:5: -0.04)> to <Connexion(1:6 -> 1:6: -0.86)>\n",
      "<Connexion(3:4 -> 5:6: 0.07)> to <Connexion(1:6 -> 1:6: -0.86)>\n",
      "<Connexion(4:5 -> 4:5: -0.07)> to <Connexion(1:6 -> 1:6: -0.86)>\n",
      "<Connexion(4:5 -> 5:6: -0.06)> to <Connexion(1:6 -> 1:6: -0.86)>\n",
      "<Connexion(5:6 -> 5:6: 0.07)> to <Connexion(1:6 -> 1:6: -0.86)>\n",
      "<Connexion(1:2 -> 8:9: -0.58)> to <Connexion(1:6 -> 8:10: -0.86)>\n",
      "<Connexion(1:2 -> 9:10: -0.36)> to <Connexion(1:6 -> 8:10: -0.86)>\n",
      "<Connexion(2:3 -> 8:9: -0.02)> to <Connexion(1:6 -> 8:10: -0.86)>\n",
      "<Connexion(2:3 -> 9:10: 0.04)> to <Connexion(1:6 -> 8:10: -0.86)>\n",
      "<Connexion(3:4 -> 8:9: -0.32)> to <Connexion(1:6 -> 8:10: -0.86)>\n",
      "<Connexion(3:4 -> 9:10: -0.44)> to <Connexion(1:6 -> 8:10: -0.86)>\n",
      "<Connexion(4:5 -> 8:9: -0.16)> to <Connexion(1:6 -> 8:10: -0.86)>\n",
      "<Connexion(4:5 -> 9:10: -0.11)> to <Connexion(1:6 -> 8:10: -0.86)>\n",
      "<Connexion(5:6 -> 8:9: -0.24)> to <Connexion(1:6 -> 8:10: -0.86)>\n",
      "<Connexion(5:6 -> 9:10: -0.22)> to <Connexion(1:6 -> 8:10: -0.86)>\n",
      "<Connexion(1:2 -> 10:11: -0.54)> to <Connexion(1:6 -> 10:12: -1.27)>\n",
      "<Connexion(1:2 -> 11:12: -0.06)> to <Connexion(1:6 -> 10:12: -1.27)>\n",
      "<Connexion(2:3 -> 10:11: -0.05)> to <Connexion(1:6 -> 10:12: -1.27)>\n",
      "<Connexion(2:3 -> 11:12: 0.00)> to <Connexion(1:6 -> 10:12: -1.27)>\n",
      "<Connexion(3:4 -> 10:11: 0.07)> to <Connexion(1:6 -> 10:12: -1.27)>\n",
      "<Connexion(3:4 -> 11:12: 0.03)> to <Connexion(1:6 -> 10:12: -1.27)>\n",
      "<Connexion(4:5 -> 10:11: -0.01)> to <Connexion(1:6 -> 10:12: -1.27)>\n",
      "<Connexion(4:5 -> 11:12: 0.01)> to <Connexion(1:6 -> 10:12: -1.27)>\n",
      "<Connexion(5:6 -> 10:11: 0.07)> to <Connexion(1:6 -> 10:12: -1.27)>\n",
      "<Connexion(5:6 -> 11:12: -0.00)> to <Connexion(1:6 -> 10:12: -1.27)>\n",
      "<Connexion(6:7 -> 6:7: -0.66)> to <Connexion(6:8 -> 6:8: -0.56)>\n",
      "<Connexion(6:7 -> 7:8: 0.05)> to <Connexion(6:8 -> 6:8: -0.56)>\n",
      "<Connexion(7:8 -> 7:8: 0.11)> to <Connexion(6:8 -> 6:8: -0.56)>\n",
      "<Connexion(6:7 -> 8:9: -0.10)> to <Connexion(6:8 -> 8:10: -0.37)>\n",
      "<Connexion(6:7 -> 9:10: -0.03)> to <Connexion(6:8 -> 8:10: -0.37)>\n",
      "<Connexion(7:8 -> 8:9: -0.11)> to <Connexion(6:8 -> 8:10: -0.37)>\n",
      "<Connexion(7:8 -> 9:10: -0.29)> to <Connexion(6:8 -> 8:10: -0.37)>\n",
      "<Connexion(8:9 -> 8:9: -0.54)> to <Connexion(8:10 -> 8:10: -0.87)>\n",
      "<Connexion(8:9 -> 9:10: -0.38)> to <Connexion(8:10 -> 8:10: -0.87)>\n",
      "<Connexion(9:10 -> 9:10: -0.46)> to <Connexion(8:10 -> 8:10: -0.87)>\n",
      "<Connexion(8:9 -> 10:11: -0.20)> to <Connexion(8:10 -> 10:12: -1.11)>\n",
      "<Connexion(8:9 -> 11:12: 0.03)> to <Connexion(8:10 -> 10:12: -1.11)>\n",
      "<Connexion(9:10 -> 10:11: -1.25)> to <Connexion(8:10 -> 10:12: -1.11)>\n",
      "<Connexion(9:10 -> 11:12: 0.03)> to <Connexion(8:10 -> 10:12: -1.11)>\n",
      "<Connexion(12:13 -> 12:13: -0.51)> to <Connexion(12:14 -> 12:14: -0.46)>\n",
      "<Connexion(12:13 -> 13:14: -0.00)> to <Connexion(12:14 -> 12:14: -0.46)>\n",
      "<Connexion(13:14 -> 13:14: -0.04)> to <Connexion(12:14 -> 12:14: -0.46)>\n",
      "<Connexion(14:15 -> 14:15: -0.02)> to <Connexion(14:20 -> 14:20: -0.90)>\n",
      "<Connexion(14:15 -> 15:16: -0.01)> to <Connexion(14:20 -> 14:20: -0.90)>\n",
      "<Connexion(14:15 -> 16:17: -0.00)> to <Connexion(14:20 -> 14:20: -0.90)>\n",
      "<Connexion(14:15 -> 17:18: 0.01)> to <Connexion(14:20 -> 14:20: -0.90)>\n",
      "<Connexion(14:15 -> 18:19: 0.00)> to <Connexion(14:20 -> 14:20: -0.90)>\n",
      "<Connexion(14:15 -> 19:20: -0.05)> to <Connexion(14:20 -> 14:20: -0.90)>\n",
      "<Connexion(15:16 -> 15:16: -0.16)> to <Connexion(14:20 -> 14:20: -0.90)>\n",
      "<Connexion(15:16 -> 16:17: -0.00)> to <Connexion(14:20 -> 14:20: -0.90)>\n",
      "<Connexion(15:16 -> 17:18: 0.01)> to <Connexion(14:20 -> 14:20: -0.90)>\n",
      "<Connexion(15:16 -> 18:19: 0.01)> to <Connexion(14:20 -> 14:20: -0.90)>\n",
      "<Connexion(15:16 -> 19:20: -0.02)> to <Connexion(14:20 -> 14:20: -0.90)>\n",
      "<Connexion(16:17 -> 16:17: -0.25)> to <Connexion(14:20 -> 14:20: -0.90)>\n",
      "<Connexion(16:17 -> 17:18: 0.01)> to <Connexion(14:20 -> 14:20: -0.90)>\n",
      "<Connexion(16:17 -> 18:19: 0.00)> to <Connexion(14:20 -> 14:20: -0.90)>\n",
      "<Connexion(16:17 -> 19:20: -0.01)> to <Connexion(14:20 -> 14:20: -0.90)>\n",
      "<Connexion(17:18 -> 17:18: -0.06)> to <Connexion(14:20 -> 14:20: -0.90)>\n",
      "<Connexion(17:18 -> 18:19: 0.00)> to <Connexion(14:20 -> 14:20: -0.90)>\n",
      "<Connexion(17:18 -> 19:20: -0.01)> to <Connexion(14:20 -> 14:20: -0.90)>\n",
      "<Connexion(18:19 -> 18:19: -0.14)> to <Connexion(14:20 -> 14:20: -0.90)>\n",
      "<Connexion(18:19 -> 19:20: -0.01)> to <Connexion(14:20 -> 14:20: -0.90)>\n",
      "<Connexion(19:20 -> 19:20: -0.15)> to <Connexion(14:20 -> 14:20: -0.90)>\n",
      "<Connexion(1:2 -> 21:22: -0.12)> to <Connexion(1:6 -> 21:24: -0.41)>\n",
      "<Connexion(1:2 -> 22:23: 0.01)> to <Connexion(1:6 -> 21:24: -0.41)>\n",
      "<Connexion(1:2 -> 23:24: -0.04)> to <Connexion(1:6 -> 21:24: -0.41)>\n",
      "<Connexion(2:3 -> 21:22: -0.03)> to <Connexion(1:6 -> 21:24: -0.41)>\n",
      "<Connexion(2:3 -> 22:23: 0.01)> to <Connexion(1:6 -> 21:24: -0.41)>\n",
      "<Connexion(2:3 -> 23:24: -0.01)> to <Connexion(1:6 -> 21:24: -0.41)>\n",
      "<Connexion(3:4 -> 21:22: -0.04)> to <Connexion(1:6 -> 21:24: -0.41)>\n",
      "<Connexion(3:4 -> 22:23: 0.00)> to <Connexion(1:6 -> 21:24: -0.41)>\n",
      "<Connexion(3:4 -> 23:24: -0.04)> to <Connexion(1:6 -> 21:24: -0.41)>\n",
      "<Connexion(4:5 -> 21:22: -0.02)> to <Connexion(1:6 -> 21:24: -0.41)>\n",
      "<Connexion(4:5 -> 22:23: 0.01)> to <Connexion(1:6 -> 21:24: -0.41)>\n",
      "<Connexion(4:5 -> 23:24: -0.01)> to <Connexion(1:6 -> 21:24: -0.41)>\n",
      "<Connexion(5:6 -> 21:22: -0.01)> to <Connexion(1:6 -> 21:24: -0.41)>\n",
      "<Connexion(5:6 -> 22:23: 0.00)> to <Connexion(1:6 -> 21:24: -0.41)>\n",
      "<Connexion(5:6 -> 23:24: -0.00)> to <Connexion(1:6 -> 21:24: -0.41)>\n",
      "<Connexion(1:2 -> 28:29: -0.14)> to <Connexion(1:6 -> 28:31: -0.46)>\n",
      "<Connexion(1:2 -> 29:30: 0.04)> to <Connexion(1:6 -> 28:31: -0.46)>\n",
      "<Connexion(1:2 -> 30:31: -0.11)> to <Connexion(1:6 -> 28:31: -0.46)>\n",
      "<Connexion(2:3 -> 28:29: -0.02)> to <Connexion(1:6 -> 28:31: -0.46)>\n",
      "<Connexion(2:3 -> 29:30: 0.01)> to <Connexion(1:6 -> 28:31: -0.46)>\n",
      "<Connexion(2:3 -> 30:31: -0.03)> to <Connexion(1:6 -> 28:31: -0.46)>\n",
      "<Connexion(3:4 -> 28:29: -0.02)> to <Connexion(1:6 -> 28:31: -0.46)>\n",
      "<Connexion(3:4 -> 29:30: 0.02)> to <Connexion(1:6 -> 28:31: -0.46)>\n",
      "<Connexion(3:4 -> 30:31: -0.11)> to <Connexion(1:6 -> 28:31: -0.46)>\n",
      "<Connexion(4:5 -> 28:29: -0.00)> to <Connexion(1:6 -> 28:31: -0.46)>\n",
      "<Connexion(4:5 -> 29:30: 0.02)> to <Connexion(1:6 -> 28:31: -0.46)>\n",
      "<Connexion(4:5 -> 30:31: -0.01)> to <Connexion(1:6 -> 28:31: -0.46)>\n",
      "<Connexion(5:6 -> 28:29: -0.00)> to <Connexion(1:6 -> 28:31: -0.46)>\n",
      "<Connexion(5:6 -> 29:30: 0.01)> to <Connexion(1:6 -> 28:31: -0.46)>\n",
      "<Connexion(5:6 -> 30:31: -0.01)> to <Connexion(1:6 -> 28:31: -0.46)>\n",
      "<Connexion(1:2 -> 31:32: 0.04)> to <Connexion(1:6 -> 31:35: -0.33)>\n",
      "<Connexion(1:2 -> 32:33: -0.08)> to <Connexion(1:6 -> 31:35: -0.33)>\n",
      "<Connexion(1:2 -> 33:34: -0.25)> to <Connexion(1:6 -> 31:35: -0.33)>\n",
      "<Connexion(1:2 -> 34:35: -0.32)> to <Connexion(1:6 -> 31:35: -0.33)>\n",
      "<Connexion(2:3 -> 31:32: 0.02)> to <Connexion(1:6 -> 31:35: -0.33)>\n",
      "<Connexion(2:3 -> 32:33: -0.02)> to <Connexion(1:6 -> 31:35: -0.33)>\n",
      "<Connexion(2:3 -> 33:34: -0.03)> to <Connexion(1:6 -> 31:35: -0.33)>\n",
      "<Connexion(2:3 -> 34:35: -0.15)> to <Connexion(1:6 -> 31:35: -0.33)>\n",
      "<Connexion(3:4 -> 31:32: 0.01)> to <Connexion(1:6 -> 31:35: -0.33)>\n",
      "<Connexion(3:4 -> 32:33: -0.02)> to <Connexion(1:6 -> 31:35: -0.33)>\n",
      "<Connexion(3:4 -> 33:34: -0.04)> to <Connexion(1:6 -> 31:35: -0.33)>\n",
      "<Connexion(3:4 -> 34:35: -0.07)> to <Connexion(1:6 -> 31:35: -0.33)>\n",
      "<Connexion(4:5 -> 31:32: 0.01)> to <Connexion(1:6 -> 31:35: -0.33)>\n",
      "<Connexion(4:5 -> 32:33: -0.01)> to <Connexion(1:6 -> 31:35: -0.33)>\n",
      "<Connexion(4:5 -> 33:34: 0.01)> to <Connexion(1:6 -> 31:35: -0.33)>\n",
      "<Connexion(4:5 -> 34:35: -0.07)> to <Connexion(1:6 -> 31:35: -0.33)>\n",
      "<Connexion(5:6 -> 31:32: 0.01)> to <Connexion(1:6 -> 31:35: -0.33)>\n",
      "<Connexion(5:6 -> 32:33: -0.01)> to <Connexion(1:6 -> 31:35: -0.33)>\n",
      "<Connexion(5:6 -> 33:34: 0.00)> to <Connexion(1:6 -> 31:35: -0.33)>\n",
      "<Connexion(5:6 -> 34:35: -0.07)> to <Connexion(1:6 -> 31:35: -0.33)>\n",
      "<Connexion(6:7 -> 21:22: -0.01)> to <Connexion(6:8 -> 21:24: -0.54)>\n",
      "<Connexion(6:7 -> 22:23: -0.43)> to <Connexion(6:8 -> 21:24: -0.54)>\n",
      "<Connexion(6:7 -> 23:24: -0.00)> to <Connexion(6:8 -> 21:24: -0.54)>\n",
      "<Connexion(7:8 -> 21:22: -0.01)> to <Connexion(6:8 -> 21:24: -0.54)>\n",
      "<Connexion(7:8 -> 22:23: 0.00)> to <Connexion(6:8 -> 21:24: -0.54)>\n",
      "<Connexion(7:8 -> 23:24: -0.00)> to <Connexion(6:8 -> 21:24: -0.54)>\n",
      "<Connexion(8:9 -> 28:29: -0.00)> to <Connexion(8:10 -> 28:31: -0.54)>\n",
      "<Connexion(8:9 -> 29:30: -0.52)> to <Connexion(8:10 -> 28:31: -0.54)>\n",
      "<Connexion(8:9 -> 30:31: -0.01)> to <Connexion(8:10 -> 28:31: -0.54)>\n",
      "<Connexion(9:10 -> 28:29: -0.00)> to <Connexion(8:10 -> 28:31: -0.54)>\n",
      "<Connexion(9:10 -> 29:30: 0.01)> to <Connexion(8:10 -> 28:31: -0.54)>\n",
      "<Connexion(9:10 -> 30:31: -0.00)> to <Connexion(8:10 -> 28:31: -0.54)>\n",
      "<Connexion(10:11 -> 35:36: -1.43)> to <Connexion(10:12 -> 35:36: -1.51)>\n",
      "<Connexion(11:12 -> 35:36: 0.04)> to <Connexion(10:12 -> 35:36: -1.51)>\n",
      "<Connexion(14:15 -> 31:32: 0.00)> to <Connexion(14:20 -> 31:35: -0.67)>\n",
      "<Connexion(14:15 -> 32:33: 0.00)> to <Connexion(14:20 -> 31:35: -0.67)>\n",
      "<Connexion(14:15 -> 33:34: -0.06)> to <Connexion(14:20 -> 31:35: -0.67)>\n",
      "<Connexion(14:15 -> 34:35: -0.05)> to <Connexion(14:20 -> 31:35: -0.67)>\n",
      "<Connexion(15:16 -> 31:32: -0.00)> to <Connexion(14:20 -> 31:35: -0.67)>\n",
      "<Connexion(15:16 -> 32:33: -0.01)> to <Connexion(14:20 -> 31:35: -0.67)>\n",
      "<Connexion(15:16 -> 33:34: 0.00)> to <Connexion(14:20 -> 31:35: -0.67)>\n",
      "<Connexion(15:16 -> 34:35: -0.12)> to <Connexion(14:20 -> 31:35: -0.67)>\n",
      "<Connexion(16:17 -> 31:32: -0.00)> to <Connexion(14:20 -> 31:35: -0.67)>\n",
      "<Connexion(16:17 -> 32:33: -0.00)> to <Connexion(14:20 -> 31:35: -0.67)>\n",
      "<Connexion(16:17 -> 33:34: 0.00)> to <Connexion(14:20 -> 31:35: -0.67)>\n",
      "<Connexion(16:17 -> 34:35: -0.01)> to <Connexion(14:20 -> 31:35: -0.67)>\n",
      "<Connexion(17:18 -> 31:32: -0.00)> to <Connexion(14:20 -> 31:35: -0.67)>\n",
      "<Connexion(17:18 -> 32:33: -0.00)> to <Connexion(14:20 -> 31:35: -0.67)>\n",
      "<Connexion(17:18 -> 33:34: -0.00)> to <Connexion(14:20 -> 31:35: -0.67)>\n",
      "<Connexion(17:18 -> 34:35: -0.01)> to <Connexion(14:20 -> 31:35: -0.67)>\n",
      "<Connexion(18:19 -> 31:32: -0.00)> to <Connexion(14:20 -> 31:35: -0.67)>\n",
      "<Connexion(18:19 -> 32:33: -0.00)> to <Connexion(14:20 -> 31:35: -0.67)>\n",
      "<Connexion(18:19 -> 33:34: 0.00)> to <Connexion(14:20 -> 31:35: -0.67)>\n",
      "<Connexion(18:19 -> 34:35: -0.01)> to <Connexion(14:20 -> 31:35: -0.67)>\n",
      "<Connexion(19:20 -> 31:32: -0.00)> to <Connexion(14:20 -> 31:35: -0.67)>\n",
      "<Connexion(19:20 -> 32:33: 0.01)> to <Connexion(14:20 -> 31:35: -0.67)>\n",
      "<Connexion(19:20 -> 33:34: -0.05)> to <Connexion(14:20 -> 31:35: -0.67)>\n",
      "<Connexion(19:20 -> 34:35: -0.03)> to <Connexion(14:20 -> 31:35: -0.67)>\n",
      "<Connexion(21:22 -> 21:22: -0.22)> to <Connexion(21:24 -> 21:24: -0.44)>\n",
      "<Connexion(21:22 -> 22:23: -0.01)> to <Connexion(21:24 -> 21:24: -0.44)>\n",
      "<Connexion(21:22 -> 23:24: 0.02)> to <Connexion(21:24 -> 21:24: -0.44)>\n",
      "<Connexion(22:23 -> 22:23: -0.52)> to <Connexion(21:24 -> 21:24: -0.44)>\n",
      "<Connexion(22:23 -> 23:24: -0.00)> to <Connexion(21:24 -> 21:24: -0.44)>\n",
      "<Connexion(23:24 -> 23:24: 0.00)> to <Connexion(21:24 -> 21:24: -0.44)>\n",
      "<Connexion(21:22 -> 35:36: -0.73)> to <Connexion(21:24 -> 35:36: -0.57)>\n",
      "<Connexion(22:23 -> 35:36: -0.03)> to <Connexion(21:24 -> 35:36: -0.57)>\n",
      "<Connexion(23:24 -> 35:36: -0.01)> to <Connexion(21:24 -> 35:36: -0.57)>\n",
      "<Connexion(24:25 -> 24:25: -0.08)> to <Connexion(24:28 -> 24:28: -0.55)>\n",
      "<Connexion(24:25 -> 25:26: 0.02)> to <Connexion(24:28 -> 24:28: -0.55)>\n",
      "<Connexion(24:25 -> 26:27: 0.01)> to <Connexion(24:28 -> 24:28: -0.55)>\n",
      "<Connexion(24:25 -> 27:28: -0.01)> to <Connexion(24:28 -> 24:28: -0.55)>\n",
      "<Connexion(25:26 -> 25:26: 0.01)> to <Connexion(24:28 -> 24:28: -0.55)>\n",
      "<Connexion(25:26 -> 26:27: 0.01)> to <Connexion(24:28 -> 24:28: -0.55)>\n",
      "<Connexion(25:26 -> 27:28: -0.01)> to <Connexion(24:28 -> 24:28: -0.55)>\n",
      "<Connexion(26:27 -> 26:27: -0.02)> to <Connexion(24:28 -> 24:28: -0.55)>\n",
      "<Connexion(26:27 -> 27:28: -0.08)> to <Connexion(24:28 -> 24:28: -0.55)>\n",
      "<Connexion(27:28 -> 27:28: -0.02)> to <Connexion(24:28 -> 24:28: -0.55)>\n",
      "<Connexion(24:25 -> 28:29: -0.02)> to <Connexion(24:28 -> 28:31: -0.53)>\n",
      "<Connexion(24:25 -> 29:30: -0.01)> to <Connexion(24:28 -> 28:31: -0.53)>\n",
      "<Connexion(24:25 -> 30:31: -0.01)> to <Connexion(24:28 -> 28:31: -0.53)>\n",
      "<Connexion(25:26 -> 28:29: -0.03)> to <Connexion(24:28 -> 28:31: -0.53)>\n",
      "<Connexion(25:26 -> 29:30: -0.03)> to <Connexion(24:28 -> 28:31: -0.53)>\n",
      "<Connexion(25:26 -> 30:31: -0.01)> to <Connexion(24:28 -> 28:31: -0.53)>\n",
      "<Connexion(26:27 -> 28:29: -0.07)> to <Connexion(24:28 -> 28:31: -0.53)>\n",
      "<Connexion(26:27 -> 29:30: -0.31)> to <Connexion(24:28 -> 28:31: -0.53)>\n",
      "<Connexion(26:27 -> 30:31: 0.04)> to <Connexion(24:28 -> 28:31: -0.53)>\n",
      "<Connexion(27:28 -> 28:29: -0.04)> to <Connexion(24:28 -> 28:31: -0.53)>\n",
      "<Connexion(27:28 -> 29:30: -0.24)> to <Connexion(24:28 -> 28:31: -0.53)>\n",
      "<Connexion(27:28 -> 30:31: -0.01)> to <Connexion(24:28 -> 28:31: -0.53)>\n",
      "<Connexion(28:29 -> 28:29: -0.02)> to <Connexion(28:31 -> 28:31: -0.76)>\n",
      "<Connexion(28:29 -> 29:30: -0.84)> to <Connexion(28:31 -> 28:31: -0.76)>\n",
      "<Connexion(28:29 -> 30:31: 0.03)> to <Connexion(28:31 -> 28:31: -0.76)>\n",
      "<Connexion(29:30 -> 29:30: -0.95)> to <Connexion(28:31 -> 28:31: -0.76)>\n",
      "<Connexion(29:30 -> 30:31: 0.02)> to <Connexion(28:31 -> 28:31: -0.76)>\n",
      "<Connexion(30:31 -> 30:31: -0.02)> to <Connexion(28:31 -> 28:31: -0.76)>\n",
      "<Connexion(28:29 -> 35:36: -0.43)> to <Connexion(28:31 -> 35:36: -1.00)>\n",
      "<Connexion(29:30 -> 35:36: -0.82)> to <Connexion(28:31 -> 35:36: -1.00)>\n",
      "<Connexion(30:31 -> 35:36: -0.06)> to <Connexion(28:31 -> 35:36: -1.00)>\n",
      "<Connexion(31:32 -> 31:32: -0.21)> to <Connexion(31:35 -> 31:35: -0.38)>\n",
      "<Connexion(31:32 -> 32:33: 0.01)> to <Connexion(31:35 -> 31:35: -0.38)>\n",
      "<Connexion(31:32 -> 33:34: -0.03)> to <Connexion(31:35 -> 31:35: -0.38)>\n",
      "<Connexion(31:32 -> 34:35: 0.08)> to <Connexion(31:35 -> 31:35: -0.38)>\n",
      "<Connexion(32:33 -> 32:33: -0.15)> to <Connexion(31:35 -> 31:35: -0.38)>\n",
      "<Connexion(32:33 -> 33:34: -0.01)> to <Connexion(31:35 -> 31:35: -0.38)>\n",
      "<Connexion(32:33 -> 34:35: 0.07)> to <Connexion(31:35 -> 31:35: -0.38)>\n",
      "<Connexion(33:34 -> 33:34: -0.08)> to <Connexion(31:35 -> 31:35: -0.38)>\n",
      "<Connexion(33:34 -> 34:35: -0.10)> to <Connexion(31:35 -> 31:35: -0.38)>\n",
      "<Connexion(34:35 -> 34:35: 0.02)> to <Connexion(31:35 -> 31:35: -0.38)>\n",
      "<Connexion(31:32 -> 35:36: -0.05)> to <Connexion(31:35 -> 35:36: -0.56)>\n",
      "<Connexion(32:33 -> 35:36: -0.13)> to <Connexion(31:35 -> 35:36: -0.56)>\n",
      "<Connexion(33:34 -> 35:36: -0.62)> to <Connexion(31:35 -> 35:36: -0.56)>\n",
      "<Connexion(34:35 -> 35:36: -0.35)> to <Connexion(31:35 -> 35:36: -0.56)>\n"
     ]
    },
    {
     "data": {
      "text/plain": "3"
     },
     "execution_count": 24,
     "metadata": {},
     "output_type": "execute_result"
    }
   ],
   "source": [
    "len(core.filter_connectome(c, 1))"
   ],
   "metadata": {
    "collapsed": false,
    "ExecuteTime": {
     "end_time": "2023-06-28T11:00:28.142417130Z",
     "start_time": "2023-06-28T11:00:28.061577266Z"
    }
   }
  },
  {
   "cell_type": "code",
   "execution_count": 21,
   "outputs": [
    {
     "data": {
      "text/plain": "297"
     },
     "execution_count": 21,
     "metadata": {},
     "output_type": "execute_result"
    }
   ],
   "source": [
    "len(c)"
   ],
   "metadata": {
    "collapsed": false,
    "ExecuteTime": {
     "end_time": "2023-06-28T11:00:15.284424709Z",
     "start_time": "2023-06-28T11:00:15.251089834Z"
    }
   }
  }
 ],
 "metadata": {
  "kernelspec": {
   "display_name": "Python 3",
   "language": "python",
   "name": "python3"
  },
  "language_info": {
   "codemirror_mode": {
    "name": "ipython",
    "version": 2
   },
   "file_extension": ".py",
   "mimetype": "text/x-python",
   "name": "python",
   "nbconvert_exporter": "python",
   "pygments_lexer": "ipython2",
   "version": "2.7.6"
  }
 },
 "nbformat": 4,
 "nbformat_minor": 0
}
