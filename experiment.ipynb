{
 "cells": [
  {
   "cell_type": "code",
   "execution_count": 2,
   "metadata": {
    "collapsed": true,
    "ExecuteTime": {
     "end_time": "2023-06-27T13:30:25.423819875Z",
     "start_time": "2023-06-27T13:30:23.378303364Z"
    }
   },
   "outputs": [
    {
     "name": "stdout",
     "output_type": "stream",
     "text": [
      "The autoreload extension is already loaded. To reload it, use:\n",
      "  %reload_ext autoreload\n"
     ]
    }
   ],
   "source": [
    "from functools import partial\n",
    "\n",
    "import torch.distributions\n",
    "from transformer_lens import HookedTransformer\n",
    "from IPython.display import SVG\n",
    "\n",
    "import core\n",
    "from utils import sankey_diagram_of_connectome\n",
    "\n",
    "%load_ext autoreload\n",
    "%autoreload 2"
   ]
  },
  {
   "cell_type": "code",
   "execution_count": 3,
   "outputs": [
    {
     "name": "stderr",
     "output_type": "stream",
     "text": [
      "Using pad_token, but it is not set yet.\n"
     ]
    },
    {
     "name": "stdout",
     "output_type": "stream",
     "text": [
      "Loaded pretrained model gpt2-small into HookedTransformer\n"
     ]
    }
   ],
   "source": [
    "model = HookedTransformer.from_pretrained(\"gpt2-small\")"
   ],
   "metadata": {
    "collapsed": false,
    "ExecuteTime": {
     "end_time": "2023-06-27T13:31:35.051536050Z",
     "start_time": "2023-06-27T13:31:32.159248558Z"
    }
   }
  },
  {
   "cell_type": "code",
   "execution_count": 56,
   "outputs": [
    {
     "name": "stdout",
     "output_type": "stream",
     "text": [
      "Loaded pretrained model attn-only-4l into HookedTransformer\n"
     ]
    }
   ],
   "source": [
    "model = HookedTransformer.from_pretrained(\"attn-only-4l\")"
   ],
   "metadata": {
    "collapsed": false,
    "ExecuteTime": {
     "end_time": "2023-06-27T10:51:48.868621812Z",
     "start_time": "2023-06-27T10:51:48.127974933Z"
    }
   }
  },
  {
   "cell_type": "code",
   "execution_count": 17,
   "outputs": [
    {
     "data": {
      "text/plain": "Exploring: 0 connexions [00:00, ? connexions/s]",
      "application/vnd.jupyter.widget-view+json": {
       "version_major": 2,
       "version_minor": 0,
       "model_id": "28574bd381984085906ecedfafd3a06f"
      }
     },
     "metadata": {},
     "output_type": "display_data"
    },
    {
     "data": {
      "application/vnd.plotly.v1+json": {
       "data": [
        {
         "coloraxis": "coloraxis",
         "name": "0",
         "x": [
          "0: '<|endoftext|>'",
          "1: 'When'",
          "2: ' Mary'",
          "3: ' and'",
          "4: ' John'",
          "5: ' went'",
          "6: ' to'",
          "7: ' the'",
          "8: ' store'",
          "9: ','",
          "10: ' John'",
          "11: ' gave'",
          "12: ' a'",
          "13: ' book'",
          "14: ' to'"
         ],
         "y": [
          "0: '<|endoftext|>'",
          "1: 'When'",
          "2: ' Mary'",
          "3: ' and'",
          "4: ' John'",
          "5: ' went'",
          "6: ' to'",
          "7: ' the'",
          "8: ' store'",
          "9: ','",
          "10: ' John'",
          "11: ' gave'",
          "12: ' a'",
          "13: ' book'",
          "14: ' to'"
         ],
         "z": [
          [
           0.01122095063328743,
           null,
           null,
           null,
           null,
           null,
           null,
           null,
           null,
           null,
           null,
           null,
           null,
           null,
           null
          ],
          [
           -0.06797321885824203,
           0.02813657745718956,
           null,
           null,
           null,
           null,
           null,
           null,
           null,
           null,
           null,
           null,
           null,
           null,
           null
          ],
          [
           -0.397640585899353,
           -0.014448672533035278,
           0.06384636461734772,
           null,
           null,
           null,
           null,
           null,
           null,
           null,
           null,
           null,
           null,
           null,
           null
          ],
          [
           -0.18283580243587494,
           -0.1352560818195343,
           -0.3101345896720886,
           -0.08770639449357986,
           null,
           null,
           null,
           null,
           null,
           null,
           null,
           null,
           null,
           null,
           null
          ],
          [
           -0.2470470368862152,
           -0.2470470368862152,
           -0.2470470368862152,
           -0.2470470368862152,
           -0.2488827258348465,
           null,
           null,
           null,
           null,
           null,
           null,
           null,
           null,
           null,
           null
          ],
          [
           -0.2470470368862152,
           -0.2470470368862152,
           -0.2470470368862152,
           -0.2470470368862152,
           -0.2488827258348465,
           -0.2488827258348465,
           null,
           null,
           null,
           null,
           null,
           null,
           null,
           null,
           null
          ],
          [
           -0.2470470368862152,
           -0.2470470368862152,
           -0.2470470368862152,
           -0.2470470368862152,
           -0.026789354160428047,
           -0.026789354160428047,
           -0.05281941965222359,
           null,
           null,
           null,
           null,
           null,
           null,
           null,
           null
          ],
          [
           -0.2470470368862152,
           -0.2470470368862152,
           -0.2470470368862152,
           -0.2470470368862152,
           -0.026789354160428047,
           -0.026789354160428047,
           -0.05281941965222359,
           -0.05281941965222359,
           null,
           null,
           null,
           null,
           null,
           null,
           null
          ],
          [
           -0.08499225229024887,
           -0.08499225229024887,
           -0.07484326511621475,
           -0.07484326511621475,
           3.890008374582976E-4,
           3.890008374582976E-4,
           -0.10768035054206848,
           -0.10768035054206848,
           -0.0793822631239891,
           null,
           null,
           null,
           null,
           null,
           null
          ],
          [
           -0.08499225229024887,
           -0.08499225229024887,
           -0.07484326511621475,
           -0.07484326511621475,
           3.890008374582976E-4,
           3.890008374582976E-4,
           -0.10768035054206848,
           -0.10768035054206848,
           -0.0793822631239891,
           -0.0793822631239891,
           null,
           null,
           null,
           null,
           null
          ],
          [
           -0.1407262235879898,
           -0.1407262235879898,
           -0.11217208206653595,
           -0.29805833101272583,
           -0.09749394655227661,
           -0.27275851368904114,
           -0.06528320163488388,
           -0.06528320163488388,
           -0.24860501289367676,
           -0.24860501289367676,
           -0.17851592600345612,
           null,
           null,
           null,
           null
          ],
          [
           -0.1407262235879898,
           -0.1407262235879898,
           -0.010897931642830372,
           -0.015652112662792206,
           0.017277052626013756,
           -0.014376289211213589,
           -0.06528320163488388,
           -0.06528320163488388,
           -0.24860501289367676,
           -0.24860501289367676,
           -0.17851592600345612,
           -0.17851592600345612,
           null,
           null,
           null
          ],
          [
           -0.013649005442857742,
           -0.013649005442857742,
           0.0064820339903235435,
           0.0064820339903235435,
           0.26975828409194946,
           0.26975828409194946,
           0.26975828409194946,
           0.26975828409194946,
           -0.017803436145186424,
           -0.017803436145186424,
           0.023997904732823372,
           0.023997904732823372,
           -0.01855238527059555,
           null,
           null
          ],
          [
           -0.013649005442857742,
           -0.013649005442857742,
           0.0064820339903235435,
           0.0064820339903235435,
           0.26975828409194946,
           0.26975828409194946,
           0.26975828409194946,
           0.26975828409194946,
           -0.017803436145186424,
           -0.017803436145186424,
           0.023997904732823372,
           0.023997904732823372,
           -0.01855238527059555,
           -0.01855238527059555,
           null
          ],
          [
           -0.03625832498073578,
           -0.03625832498073578,
           -0.894238293170929,
           -0.1127609983086586,
           0.26975828409194946,
           0.26975828409194946,
           0.26975828409194946,
           0.26975828409194946,
           -0.07281652092933655,
           -0.07281652092933655,
           -0.6261352300643921,
           -0.19477862119674683,
           -0.01855238527059555,
           -0.01855238527059555,
           -0.01855238527059555
          ]
         ],
         "type": "heatmap",
         "xaxis": "x",
         "yaxis": "y",
         "hovertemplate": "Source: %{x}<br>Target: %{y}<br>Strength: %{z}<extra></extra>"
        }
       ],
       "layout": {
        "template": {
         "data": {
          "histogram2dcontour": [
           {
            "type": "histogram2dcontour",
            "colorbar": {
             "outlinewidth": 0,
             "ticks": ""
            },
            "colorscale": [
             [
              0.0,
              "#0d0887"
             ],
             [
              0.1111111111111111,
              "#46039f"
             ],
             [
              0.2222222222222222,
              "#7201a8"
             ],
             [
              0.3333333333333333,
              "#9c179e"
             ],
             [
              0.4444444444444444,
              "#bd3786"
             ],
             [
              0.5555555555555556,
              "#d8576b"
             ],
             [
              0.6666666666666666,
              "#ed7953"
             ],
             [
              0.7777777777777778,
              "#fb9f3a"
             ],
             [
              0.8888888888888888,
              "#fdca26"
             ],
             [
              1.0,
              "#f0f921"
             ]
            ]
           }
          ],
          "choropleth": [
           {
            "type": "choropleth",
            "colorbar": {
             "outlinewidth": 0,
             "ticks": ""
            }
           }
          ],
          "histogram2d": [
           {
            "type": "histogram2d",
            "colorbar": {
             "outlinewidth": 0,
             "ticks": ""
            },
            "colorscale": [
             [
              0.0,
              "#0d0887"
             ],
             [
              0.1111111111111111,
              "#46039f"
             ],
             [
              0.2222222222222222,
              "#7201a8"
             ],
             [
              0.3333333333333333,
              "#9c179e"
             ],
             [
              0.4444444444444444,
              "#bd3786"
             ],
             [
              0.5555555555555556,
              "#d8576b"
             ],
             [
              0.6666666666666666,
              "#ed7953"
             ],
             [
              0.7777777777777778,
              "#fb9f3a"
             ],
             [
              0.8888888888888888,
              "#fdca26"
             ],
             [
              1.0,
              "#f0f921"
             ]
            ]
           }
          ],
          "heatmap": [
           {
            "type": "heatmap",
            "colorbar": {
             "outlinewidth": 0,
             "ticks": ""
            },
            "colorscale": [
             [
              0.0,
              "#0d0887"
             ],
             [
              0.1111111111111111,
              "#46039f"
             ],
             [
              0.2222222222222222,
              "#7201a8"
             ],
             [
              0.3333333333333333,
              "#9c179e"
             ],
             [
              0.4444444444444444,
              "#bd3786"
             ],
             [
              0.5555555555555556,
              "#d8576b"
             ],
             [
              0.6666666666666666,
              "#ed7953"
             ],
             [
              0.7777777777777778,
              "#fb9f3a"
             ],
             [
              0.8888888888888888,
              "#fdca26"
             ],
             [
              1.0,
              "#f0f921"
             ]
            ]
           }
          ],
          "heatmapgl": [
           {
            "type": "heatmapgl",
            "colorbar": {
             "outlinewidth": 0,
             "ticks": ""
            },
            "colorscale": [
             [
              0.0,
              "#0d0887"
             ],
             [
              0.1111111111111111,
              "#46039f"
             ],
             [
              0.2222222222222222,
              "#7201a8"
             ],
             [
              0.3333333333333333,
              "#9c179e"
             ],
             [
              0.4444444444444444,
              "#bd3786"
             ],
             [
              0.5555555555555556,
              "#d8576b"
             ],
             [
              0.6666666666666666,
              "#ed7953"
             ],
             [
              0.7777777777777778,
              "#fb9f3a"
             ],
             [
              0.8888888888888888,
              "#fdca26"
             ],
             [
              1.0,
              "#f0f921"
             ]
            ]
           }
          ],
          "contourcarpet": [
           {
            "type": "contourcarpet",
            "colorbar": {
             "outlinewidth": 0,
             "ticks": ""
            }
           }
          ],
          "contour": [
           {
            "type": "contour",
            "colorbar": {
             "outlinewidth": 0,
             "ticks": ""
            },
            "colorscale": [
             [
              0.0,
              "#0d0887"
             ],
             [
              0.1111111111111111,
              "#46039f"
             ],
             [
              0.2222222222222222,
              "#7201a8"
             ],
             [
              0.3333333333333333,
              "#9c179e"
             ],
             [
              0.4444444444444444,
              "#bd3786"
             ],
             [
              0.5555555555555556,
              "#d8576b"
             ],
             [
              0.6666666666666666,
              "#ed7953"
             ],
             [
              0.7777777777777778,
              "#fb9f3a"
             ],
             [
              0.8888888888888888,
              "#fdca26"
             ],
             [
              1.0,
              "#f0f921"
             ]
            ]
           }
          ],
          "surface": [
           {
            "type": "surface",
            "colorbar": {
             "outlinewidth": 0,
             "ticks": ""
            },
            "colorscale": [
             [
              0.0,
              "#0d0887"
             ],
             [
              0.1111111111111111,
              "#46039f"
             ],
             [
              0.2222222222222222,
              "#7201a8"
             ],
             [
              0.3333333333333333,
              "#9c179e"
             ],
             [
              0.4444444444444444,
              "#bd3786"
             ],
             [
              0.5555555555555556,
              "#d8576b"
             ],
             [
              0.6666666666666666,
              "#ed7953"
             ],
             [
              0.7777777777777778,
              "#fb9f3a"
             ],
             [
              0.8888888888888888,
              "#fdca26"
             ],
             [
              1.0,
              "#f0f921"
             ]
            ]
           }
          ],
          "mesh3d": [
           {
            "type": "mesh3d",
            "colorbar": {
             "outlinewidth": 0,
             "ticks": ""
            }
           }
          ],
          "scatter": [
           {
            "fillpattern": {
             "fillmode": "overlay",
             "size": 10,
             "solidity": 0.2
            },
            "type": "scatter"
           }
          ],
          "parcoords": [
           {
            "type": "parcoords",
            "line": {
             "colorbar": {
              "outlinewidth": 0,
              "ticks": ""
             }
            }
           }
          ],
          "scatterpolargl": [
           {
            "type": "scatterpolargl",
            "marker": {
             "colorbar": {
              "outlinewidth": 0,
              "ticks": ""
             }
            }
           }
          ],
          "bar": [
           {
            "error_x": {
             "color": "#2a3f5f"
            },
            "error_y": {
             "color": "#2a3f5f"
            },
            "marker": {
             "line": {
              "color": "#E5ECF6",
              "width": 0.5
             },
             "pattern": {
              "fillmode": "overlay",
              "size": 10,
              "solidity": 0.2
             }
            },
            "type": "bar"
           }
          ],
          "scattergeo": [
           {
            "type": "scattergeo",
            "marker": {
             "colorbar": {
              "outlinewidth": 0,
              "ticks": ""
             }
            }
           }
          ],
          "scatterpolar": [
           {
            "type": "scatterpolar",
            "marker": {
             "colorbar": {
              "outlinewidth": 0,
              "ticks": ""
             }
            }
           }
          ],
          "histogram": [
           {
            "marker": {
             "pattern": {
              "fillmode": "overlay",
              "size": 10,
              "solidity": 0.2
             }
            },
            "type": "histogram"
           }
          ],
          "scattergl": [
           {
            "type": "scattergl",
            "marker": {
             "colorbar": {
              "outlinewidth": 0,
              "ticks": ""
             }
            }
           }
          ],
          "scatter3d": [
           {
            "type": "scatter3d",
            "line": {
             "colorbar": {
              "outlinewidth": 0,
              "ticks": ""
             }
            },
            "marker": {
             "colorbar": {
              "outlinewidth": 0,
              "ticks": ""
             }
            }
           }
          ],
          "scattermapbox": [
           {
            "type": "scattermapbox",
            "marker": {
             "colorbar": {
              "outlinewidth": 0,
              "ticks": ""
             }
            }
           }
          ],
          "scatterternary": [
           {
            "type": "scatterternary",
            "marker": {
             "colorbar": {
              "outlinewidth": 0,
              "ticks": ""
             }
            }
           }
          ],
          "scattercarpet": [
           {
            "type": "scattercarpet",
            "marker": {
             "colorbar": {
              "outlinewidth": 0,
              "ticks": ""
             }
            }
           }
          ],
          "carpet": [
           {
            "aaxis": {
             "endlinecolor": "#2a3f5f",
             "gridcolor": "white",
             "linecolor": "white",
             "minorgridcolor": "white",
             "startlinecolor": "#2a3f5f"
            },
            "baxis": {
             "endlinecolor": "#2a3f5f",
             "gridcolor": "white",
             "linecolor": "white",
             "minorgridcolor": "white",
             "startlinecolor": "#2a3f5f"
            },
            "type": "carpet"
           }
          ],
          "table": [
           {
            "cells": {
             "fill": {
              "color": "#EBF0F8"
             },
             "line": {
              "color": "white"
             }
            },
            "header": {
             "fill": {
              "color": "#C8D4E3"
             },
             "line": {
              "color": "white"
             }
            },
            "type": "table"
           }
          ],
          "barpolar": [
           {
            "marker": {
             "line": {
              "color": "#E5ECF6",
              "width": 0.5
             },
             "pattern": {
              "fillmode": "overlay",
              "size": 10,
              "solidity": 0.2
             }
            },
            "type": "barpolar"
           }
          ],
          "pie": [
           {
            "automargin": true,
            "type": "pie"
           }
          ]
         },
         "layout": {
          "autotypenumbers": "strict",
          "colorway": [
           "#636efa",
           "#EF553B",
           "#00cc96",
           "#ab63fa",
           "#FFA15A",
           "#19d3f3",
           "#FF6692",
           "#B6E880",
           "#FF97FF",
           "#FECB52"
          ],
          "font": {
           "color": "#2a3f5f"
          },
          "hovermode": "closest",
          "hoverlabel": {
           "align": "left"
          },
          "paper_bgcolor": "white",
          "plot_bgcolor": "#E5ECF6",
          "polar": {
           "bgcolor": "#E5ECF6",
           "angularaxis": {
            "gridcolor": "white",
            "linecolor": "white",
            "ticks": ""
           },
           "radialaxis": {
            "gridcolor": "white",
            "linecolor": "white",
            "ticks": ""
           }
          },
          "ternary": {
           "bgcolor": "#E5ECF6",
           "aaxis": {
            "gridcolor": "white",
            "linecolor": "white",
            "ticks": ""
           },
           "baxis": {
            "gridcolor": "white",
            "linecolor": "white",
            "ticks": ""
           },
           "caxis": {
            "gridcolor": "white",
            "linecolor": "white",
            "ticks": ""
           }
          },
          "coloraxis": {
           "colorbar": {
            "outlinewidth": 0,
            "ticks": ""
           }
          },
          "colorscale": {
           "sequential": [
            [
             0.0,
             "#0d0887"
            ],
            [
             0.1111111111111111,
             "#46039f"
            ],
            [
             0.2222222222222222,
             "#7201a8"
            ],
            [
             0.3333333333333333,
             "#9c179e"
            ],
            [
             0.4444444444444444,
             "#bd3786"
            ],
            [
             0.5555555555555556,
             "#d8576b"
            ],
            [
             0.6666666666666666,
             "#ed7953"
            ],
            [
             0.7777777777777778,
             "#fb9f3a"
            ],
            [
             0.8888888888888888,
             "#fdca26"
            ],
            [
             1.0,
             "#f0f921"
            ]
           ],
           "sequentialminus": [
            [
             0.0,
             "#0d0887"
            ],
            [
             0.1111111111111111,
             "#46039f"
            ],
            [
             0.2222222222222222,
             "#7201a8"
            ],
            [
             0.3333333333333333,
             "#9c179e"
            ],
            [
             0.4444444444444444,
             "#bd3786"
            ],
            [
             0.5555555555555556,
             "#d8576b"
            ],
            [
             0.6666666666666666,
             "#ed7953"
            ],
            [
             0.7777777777777778,
             "#fb9f3a"
            ],
            [
             0.8888888888888888,
             "#fdca26"
            ],
            [
             1.0,
             "#f0f921"
            ]
           ],
           "diverging": [
            [
             0,
             "#8e0152"
            ],
            [
             0.1,
             "#c51b7d"
            ],
            [
             0.2,
             "#de77ae"
            ],
            [
             0.3,
             "#f1b6da"
            ],
            [
             0.4,
             "#fde0ef"
            ],
            [
             0.5,
             "#f7f7f7"
            ],
            [
             0.6,
             "#e6f5d0"
            ],
            [
             0.7,
             "#b8e186"
            ],
            [
             0.8,
             "#7fbc41"
            ],
            [
             0.9,
             "#4d9221"
            ],
            [
             1,
             "#276419"
            ]
           ]
          },
          "xaxis": {
           "gridcolor": "white",
           "linecolor": "white",
           "ticks": "",
           "title": {
            "standoff": 15
           },
           "zerolinecolor": "white",
           "automargin": true,
           "zerolinewidth": 2
          },
          "yaxis": {
           "gridcolor": "white",
           "linecolor": "white",
           "ticks": "",
           "title": {
            "standoff": 15
           },
           "zerolinecolor": "white",
           "automargin": true,
           "zerolinewidth": 2
          },
          "scene": {
           "xaxis": {
            "backgroundcolor": "#E5ECF6",
            "gridcolor": "white",
            "linecolor": "white",
            "showbackground": true,
            "ticks": "",
            "zerolinecolor": "white",
            "gridwidth": 2
           },
           "yaxis": {
            "backgroundcolor": "#E5ECF6",
            "gridcolor": "white",
            "linecolor": "white",
            "showbackground": true,
            "ticks": "",
            "zerolinecolor": "white",
            "gridwidth": 2
           },
           "zaxis": {
            "backgroundcolor": "#E5ECF6",
            "gridcolor": "white",
            "linecolor": "white",
            "showbackground": true,
            "ticks": "",
            "zerolinecolor": "white",
            "gridwidth": 2
           }
          },
          "shapedefaults": {
           "line": {
            "color": "#2a3f5f"
           }
          },
          "annotationdefaults": {
           "arrowcolor": "#2a3f5f",
           "arrowhead": 0,
           "arrowwidth": 1
          },
          "geo": {
           "bgcolor": "white",
           "landcolor": "#E5ECF6",
           "subunitcolor": "white",
           "showland": true,
           "showlakes": true,
           "lakecolor": "white"
          },
          "title": {
           "x": 0.05
          },
          "mapbox": {
           "style": "light"
          }
         }
        },
        "xaxis": {
         "anchor": "y",
         "domain": [
          0.0,
          1.0
         ],
         "scaleanchor": "y",
         "constrain": "domain",
         "title": {
          "text": "Source"
         }
        },
        "yaxis": {
         "anchor": "x",
         "domain": [
          0.0,
          1.0
         ],
         "autorange": "reversed",
         "constrain": "domain",
         "title": {
          "text": "Target"
         }
        },
        "coloraxis": {
         "colorbar": {
          "title": {
           "text": "Strength"
          }
         },
         "colorscale": [
          [
           0.0,
           "rgb(103,0,31)"
          ],
          [
           0.1,
           "rgb(178,24,43)"
          ],
          [
           0.2,
           "rgb(214,96,77)"
          ],
          [
           0.3,
           "rgb(244,165,130)"
          ],
          [
           0.4,
           "rgb(253,219,199)"
          ],
          [
           0.5,
           "rgb(247,247,247)"
          ],
          [
           0.6,
           "rgb(209,229,240)"
          ],
          [
           0.7,
           "rgb(146,197,222)"
          ],
          [
           0.8,
           "rgb(67,147,195)"
          ],
          [
           0.9,
           "rgb(33,102,172)"
          ],
          [
           1.0,
           "rgb(5,48,97)"
          ]
         ],
         "cmid": 0
        },
        "title": {
         "text": "Attention connectome"
        }
       },
       "config": {
        "plotlyServerURL": "https://plot.ly"
       }
      },
      "text/html": "<div>                            <div id=\"c9175f74-9c91-4a54-b833-39ffc486878c\" class=\"plotly-graph-div\" style=\"height:525px; width:100%;\"></div>            <script type=\"text/javascript\">                require([\"plotly\"], function(Plotly) {                    window.PLOTLYENV=window.PLOTLYENV || {};                                    if (document.getElementById(\"c9175f74-9c91-4a54-b833-39ffc486878c\")) {                    Plotly.newPlot(                        \"c9175f74-9c91-4a54-b833-39ffc486878c\",                        [{\"coloraxis\":\"coloraxis\",\"name\":\"0\",\"x\":[\"0: '\\u003c|endoftext|\\u003e'\",\"1: 'When'\",\"2: ' Mary'\",\"3: ' and'\",\"4: ' John'\",\"5: ' went'\",\"6: ' to'\",\"7: ' the'\",\"8: ' store'\",\"9: ','\",\"10: ' John'\",\"11: ' gave'\",\"12: ' a'\",\"13: ' book'\",\"14: ' to'\"],\"y\":[\"0: '\\u003c|endoftext|\\u003e'\",\"1: 'When'\",\"2: ' Mary'\",\"3: ' and'\",\"4: ' John'\",\"5: ' went'\",\"6: ' to'\",\"7: ' the'\",\"8: ' store'\",\"9: ','\",\"10: ' John'\",\"11: ' gave'\",\"12: ' a'\",\"13: ' book'\",\"14: ' to'\"],\"z\":[[0.01122095063328743,null,null,null,null,null,null,null,null,null,null,null,null,null,null],[-0.06797321885824203,0.02813657745718956,null,null,null,null,null,null,null,null,null,null,null,null,null],[-0.397640585899353,-0.014448672533035278,0.06384636461734772,null,null,null,null,null,null,null,null,null,null,null,null],[-0.18283580243587494,-0.1352560818195343,-0.3101345896720886,-0.08770639449357986,null,null,null,null,null,null,null,null,null,null,null],[-0.2470470368862152,-0.2470470368862152,-0.2470470368862152,-0.2470470368862152,-0.2488827258348465,null,null,null,null,null,null,null,null,null,null],[-0.2470470368862152,-0.2470470368862152,-0.2470470368862152,-0.2470470368862152,-0.2488827258348465,-0.2488827258348465,null,null,null,null,null,null,null,null,null],[-0.2470470368862152,-0.2470470368862152,-0.2470470368862152,-0.2470470368862152,-0.026789354160428047,-0.026789354160428047,-0.05281941965222359,null,null,null,null,null,null,null,null],[-0.2470470368862152,-0.2470470368862152,-0.2470470368862152,-0.2470470368862152,-0.026789354160428047,-0.026789354160428047,-0.05281941965222359,-0.05281941965222359,null,null,null,null,null,null,null],[-0.08499225229024887,-0.08499225229024887,-0.07484326511621475,-0.07484326511621475,0.0003890008374582976,0.0003890008374582976,-0.10768035054206848,-0.10768035054206848,-0.0793822631239891,null,null,null,null,null,null],[-0.08499225229024887,-0.08499225229024887,-0.07484326511621475,-0.07484326511621475,0.0003890008374582976,0.0003890008374582976,-0.10768035054206848,-0.10768035054206848,-0.0793822631239891,-0.0793822631239891,null,null,null,null,null],[-0.1407262235879898,-0.1407262235879898,-0.11217208206653595,-0.29805833101272583,-0.09749394655227661,-0.27275851368904114,-0.06528320163488388,-0.06528320163488388,-0.24860501289367676,-0.24860501289367676,-0.17851592600345612,null,null,null,null],[-0.1407262235879898,-0.1407262235879898,-0.010897931642830372,-0.015652112662792206,0.017277052626013756,-0.014376289211213589,-0.06528320163488388,-0.06528320163488388,-0.24860501289367676,-0.24860501289367676,-0.17851592600345612,-0.17851592600345612,null,null,null],[-0.013649005442857742,-0.013649005442857742,0.0064820339903235435,0.0064820339903235435,0.26975828409194946,0.26975828409194946,0.26975828409194946,0.26975828409194946,-0.017803436145186424,-0.017803436145186424,0.023997904732823372,0.023997904732823372,-0.01855238527059555,null,null],[-0.013649005442857742,-0.013649005442857742,0.0064820339903235435,0.0064820339903235435,0.26975828409194946,0.26975828409194946,0.26975828409194946,0.26975828409194946,-0.017803436145186424,-0.017803436145186424,0.023997904732823372,0.023997904732823372,-0.01855238527059555,-0.01855238527059555,null],[-0.03625832498073578,-0.03625832498073578,-0.894238293170929,-0.1127609983086586,0.26975828409194946,0.26975828409194946,0.26975828409194946,0.26975828409194946,-0.07281652092933655,-0.07281652092933655,-0.6261352300643921,-0.19477862119674683,-0.01855238527059555,-0.01855238527059555,-0.01855238527059555]],\"type\":\"heatmap\",\"xaxis\":\"x\",\"yaxis\":\"y\",\"hovertemplate\":\"Source: %{x}\\u003cbr\\u003eTarget: %{y}\\u003cbr\\u003eStrength: %{z}\\u003cextra\\u003e\\u003c\\u002fextra\\u003e\"}],                        {\"template\":{\"data\":{\"histogram2dcontour\":[{\"type\":\"histogram2dcontour\",\"colorbar\":{\"outlinewidth\":0,\"ticks\":\"\"},\"colorscale\":[[0.0,\"#0d0887\"],[0.1111111111111111,\"#46039f\"],[0.2222222222222222,\"#7201a8\"],[0.3333333333333333,\"#9c179e\"],[0.4444444444444444,\"#bd3786\"],[0.5555555555555556,\"#d8576b\"],[0.6666666666666666,\"#ed7953\"],[0.7777777777777778,\"#fb9f3a\"],[0.8888888888888888,\"#fdca26\"],[1.0,\"#f0f921\"]]}],\"choropleth\":[{\"type\":\"choropleth\",\"colorbar\":{\"outlinewidth\":0,\"ticks\":\"\"}}],\"histogram2d\":[{\"type\":\"histogram2d\",\"colorbar\":{\"outlinewidth\":0,\"ticks\":\"\"},\"colorscale\":[[0.0,\"#0d0887\"],[0.1111111111111111,\"#46039f\"],[0.2222222222222222,\"#7201a8\"],[0.3333333333333333,\"#9c179e\"],[0.4444444444444444,\"#bd3786\"],[0.5555555555555556,\"#d8576b\"],[0.6666666666666666,\"#ed7953\"],[0.7777777777777778,\"#fb9f3a\"],[0.8888888888888888,\"#fdca26\"],[1.0,\"#f0f921\"]]}],\"heatmap\":[{\"type\":\"heatmap\",\"colorbar\":{\"outlinewidth\":0,\"ticks\":\"\"},\"colorscale\":[[0.0,\"#0d0887\"],[0.1111111111111111,\"#46039f\"],[0.2222222222222222,\"#7201a8\"],[0.3333333333333333,\"#9c179e\"],[0.4444444444444444,\"#bd3786\"],[0.5555555555555556,\"#d8576b\"],[0.6666666666666666,\"#ed7953\"],[0.7777777777777778,\"#fb9f3a\"],[0.8888888888888888,\"#fdca26\"],[1.0,\"#f0f921\"]]}],\"heatmapgl\":[{\"type\":\"heatmapgl\",\"colorbar\":{\"outlinewidth\":0,\"ticks\":\"\"},\"colorscale\":[[0.0,\"#0d0887\"],[0.1111111111111111,\"#46039f\"],[0.2222222222222222,\"#7201a8\"],[0.3333333333333333,\"#9c179e\"],[0.4444444444444444,\"#bd3786\"],[0.5555555555555556,\"#d8576b\"],[0.6666666666666666,\"#ed7953\"],[0.7777777777777778,\"#fb9f3a\"],[0.8888888888888888,\"#fdca26\"],[1.0,\"#f0f921\"]]}],\"contourcarpet\":[{\"type\":\"contourcarpet\",\"colorbar\":{\"outlinewidth\":0,\"ticks\":\"\"}}],\"contour\":[{\"type\":\"contour\",\"colorbar\":{\"outlinewidth\":0,\"ticks\":\"\"},\"colorscale\":[[0.0,\"#0d0887\"],[0.1111111111111111,\"#46039f\"],[0.2222222222222222,\"#7201a8\"],[0.3333333333333333,\"#9c179e\"],[0.4444444444444444,\"#bd3786\"],[0.5555555555555556,\"#d8576b\"],[0.6666666666666666,\"#ed7953\"],[0.7777777777777778,\"#fb9f3a\"],[0.8888888888888888,\"#fdca26\"],[1.0,\"#f0f921\"]]}],\"surface\":[{\"type\":\"surface\",\"colorbar\":{\"outlinewidth\":0,\"ticks\":\"\"},\"colorscale\":[[0.0,\"#0d0887\"],[0.1111111111111111,\"#46039f\"],[0.2222222222222222,\"#7201a8\"],[0.3333333333333333,\"#9c179e\"],[0.4444444444444444,\"#bd3786\"],[0.5555555555555556,\"#d8576b\"],[0.6666666666666666,\"#ed7953\"],[0.7777777777777778,\"#fb9f3a\"],[0.8888888888888888,\"#fdca26\"],[1.0,\"#f0f921\"]]}],\"mesh3d\":[{\"type\":\"mesh3d\",\"colorbar\":{\"outlinewidth\":0,\"ticks\":\"\"}}],\"scatter\":[{\"fillpattern\":{\"fillmode\":\"overlay\",\"size\":10,\"solidity\":0.2},\"type\":\"scatter\"}],\"parcoords\":[{\"type\":\"parcoords\",\"line\":{\"colorbar\":{\"outlinewidth\":0,\"ticks\":\"\"}}}],\"scatterpolargl\":[{\"type\":\"scatterpolargl\",\"marker\":{\"colorbar\":{\"outlinewidth\":0,\"ticks\":\"\"}}}],\"bar\":[{\"error_x\":{\"color\":\"#2a3f5f\"},\"error_y\":{\"color\":\"#2a3f5f\"},\"marker\":{\"line\":{\"color\":\"#E5ECF6\",\"width\":0.5},\"pattern\":{\"fillmode\":\"overlay\",\"size\":10,\"solidity\":0.2}},\"type\":\"bar\"}],\"scattergeo\":[{\"type\":\"scattergeo\",\"marker\":{\"colorbar\":{\"outlinewidth\":0,\"ticks\":\"\"}}}],\"scatterpolar\":[{\"type\":\"scatterpolar\",\"marker\":{\"colorbar\":{\"outlinewidth\":0,\"ticks\":\"\"}}}],\"histogram\":[{\"marker\":{\"pattern\":{\"fillmode\":\"overlay\",\"size\":10,\"solidity\":0.2}},\"type\":\"histogram\"}],\"scattergl\":[{\"type\":\"scattergl\",\"marker\":{\"colorbar\":{\"outlinewidth\":0,\"ticks\":\"\"}}}],\"scatter3d\":[{\"type\":\"scatter3d\",\"line\":{\"colorbar\":{\"outlinewidth\":0,\"ticks\":\"\"}},\"marker\":{\"colorbar\":{\"outlinewidth\":0,\"ticks\":\"\"}}}],\"scattermapbox\":[{\"type\":\"scattermapbox\",\"marker\":{\"colorbar\":{\"outlinewidth\":0,\"ticks\":\"\"}}}],\"scatterternary\":[{\"type\":\"scatterternary\",\"marker\":{\"colorbar\":{\"outlinewidth\":0,\"ticks\":\"\"}}}],\"scattercarpet\":[{\"type\":\"scattercarpet\",\"marker\":{\"colorbar\":{\"outlinewidth\":0,\"ticks\":\"\"}}}],\"carpet\":[{\"aaxis\":{\"endlinecolor\":\"#2a3f5f\",\"gridcolor\":\"white\",\"linecolor\":\"white\",\"minorgridcolor\":\"white\",\"startlinecolor\":\"#2a3f5f\"},\"baxis\":{\"endlinecolor\":\"#2a3f5f\",\"gridcolor\":\"white\",\"linecolor\":\"white\",\"minorgridcolor\":\"white\",\"startlinecolor\":\"#2a3f5f\"},\"type\":\"carpet\"}],\"table\":[{\"cells\":{\"fill\":{\"color\":\"#EBF0F8\"},\"line\":{\"color\":\"white\"}},\"header\":{\"fill\":{\"color\":\"#C8D4E3\"},\"line\":{\"color\":\"white\"}},\"type\":\"table\"}],\"barpolar\":[{\"marker\":{\"line\":{\"color\":\"#E5ECF6\",\"width\":0.5},\"pattern\":{\"fillmode\":\"overlay\",\"size\":10,\"solidity\":0.2}},\"type\":\"barpolar\"}],\"pie\":[{\"automargin\":true,\"type\":\"pie\"}]},\"layout\":{\"autotypenumbers\":\"strict\",\"colorway\":[\"#636efa\",\"#EF553B\",\"#00cc96\",\"#ab63fa\",\"#FFA15A\",\"#19d3f3\",\"#FF6692\",\"#B6E880\",\"#FF97FF\",\"#FECB52\"],\"font\":{\"color\":\"#2a3f5f\"},\"hovermode\":\"closest\",\"hoverlabel\":{\"align\":\"left\"},\"paper_bgcolor\":\"white\",\"plot_bgcolor\":\"#E5ECF6\",\"polar\":{\"bgcolor\":\"#E5ECF6\",\"angularaxis\":{\"gridcolor\":\"white\",\"linecolor\":\"white\",\"ticks\":\"\"},\"radialaxis\":{\"gridcolor\":\"white\",\"linecolor\":\"white\",\"ticks\":\"\"}},\"ternary\":{\"bgcolor\":\"#E5ECF6\",\"aaxis\":{\"gridcolor\":\"white\",\"linecolor\":\"white\",\"ticks\":\"\"},\"baxis\":{\"gridcolor\":\"white\",\"linecolor\":\"white\",\"ticks\":\"\"},\"caxis\":{\"gridcolor\":\"white\",\"linecolor\":\"white\",\"ticks\":\"\"}},\"coloraxis\":{\"colorbar\":{\"outlinewidth\":0,\"ticks\":\"\"}},\"colorscale\":{\"sequential\":[[0.0,\"#0d0887\"],[0.1111111111111111,\"#46039f\"],[0.2222222222222222,\"#7201a8\"],[0.3333333333333333,\"#9c179e\"],[0.4444444444444444,\"#bd3786\"],[0.5555555555555556,\"#d8576b\"],[0.6666666666666666,\"#ed7953\"],[0.7777777777777778,\"#fb9f3a\"],[0.8888888888888888,\"#fdca26\"],[1.0,\"#f0f921\"]],\"sequentialminus\":[[0.0,\"#0d0887\"],[0.1111111111111111,\"#46039f\"],[0.2222222222222222,\"#7201a8\"],[0.3333333333333333,\"#9c179e\"],[0.4444444444444444,\"#bd3786\"],[0.5555555555555556,\"#d8576b\"],[0.6666666666666666,\"#ed7953\"],[0.7777777777777778,\"#fb9f3a\"],[0.8888888888888888,\"#fdca26\"],[1.0,\"#f0f921\"]],\"diverging\":[[0,\"#8e0152\"],[0.1,\"#c51b7d\"],[0.2,\"#de77ae\"],[0.3,\"#f1b6da\"],[0.4,\"#fde0ef\"],[0.5,\"#f7f7f7\"],[0.6,\"#e6f5d0\"],[0.7,\"#b8e186\"],[0.8,\"#7fbc41\"],[0.9,\"#4d9221\"],[1,\"#276419\"]]},\"xaxis\":{\"gridcolor\":\"white\",\"linecolor\":\"white\",\"ticks\":\"\",\"title\":{\"standoff\":15},\"zerolinecolor\":\"white\",\"automargin\":true,\"zerolinewidth\":2},\"yaxis\":{\"gridcolor\":\"white\",\"linecolor\":\"white\",\"ticks\":\"\",\"title\":{\"standoff\":15},\"zerolinecolor\":\"white\",\"automargin\":true,\"zerolinewidth\":2},\"scene\":{\"xaxis\":{\"backgroundcolor\":\"#E5ECF6\",\"gridcolor\":\"white\",\"linecolor\":\"white\",\"showbackground\":true,\"ticks\":\"\",\"zerolinecolor\":\"white\",\"gridwidth\":2},\"yaxis\":{\"backgroundcolor\":\"#E5ECF6\",\"gridcolor\":\"white\",\"linecolor\":\"white\",\"showbackground\":true,\"ticks\":\"\",\"zerolinecolor\":\"white\",\"gridwidth\":2},\"zaxis\":{\"backgroundcolor\":\"#E5ECF6\",\"gridcolor\":\"white\",\"linecolor\":\"white\",\"showbackground\":true,\"ticks\":\"\",\"zerolinecolor\":\"white\",\"gridwidth\":2}},\"shapedefaults\":{\"line\":{\"color\":\"#2a3f5f\"}},\"annotationdefaults\":{\"arrowcolor\":\"#2a3f5f\",\"arrowhead\":0,\"arrowwidth\":1},\"geo\":{\"bgcolor\":\"white\",\"landcolor\":\"#E5ECF6\",\"subunitcolor\":\"white\",\"showland\":true,\"showlakes\":true,\"lakecolor\":\"white\"},\"title\":{\"x\":0.05},\"mapbox\":{\"style\":\"light\"}}},\"xaxis\":{\"anchor\":\"y\",\"domain\":[0.0,1.0],\"scaleanchor\":\"y\",\"constrain\":\"domain\",\"title\":{\"text\":\"Source\"}},\"yaxis\":{\"anchor\":\"x\",\"domain\":[0.0,1.0],\"autorange\":\"reversed\",\"constrain\":\"domain\",\"title\":{\"text\":\"Target\"}},\"coloraxis\":{\"colorbar\":{\"title\":{\"text\":\"Strength\"}},\"colorscale\":[[0.0,\"rgb(103,0,31)\"],[0.1,\"rgb(178,24,43)\"],[0.2,\"rgb(214,96,77)\"],[0.3,\"rgb(244,165,130)\"],[0.4,\"rgb(253,219,199)\"],[0.5,\"rgb(247,247,247)\"],[0.6,\"rgb(209,229,240)\"],[0.7,\"rgb(146,197,222)\"],[0.8,\"rgb(67,147,195)\"],[0.9,\"rgb(33,102,172)\"],[1.0,\"rgb(5,48,97)\"]],\"cmid\":0},\"title\":{\"text\":\"Attention connectome\"}},                        {\"responsive\": true}                    ).then(function(){\n                            \nvar gd = document.getElementById('c9175f74-9c91-4a54-b833-39ffc486878c');\nvar x = new MutationObserver(function (mutations, observer) {{\n        var display = window.getComputedStyle(gd).display;\n        if (!display || display === 'none') {{\n            console.log([gd, 'removed!']);\n            Plotly.purge(gd);\n            observer.disconnect();\n        }}\n}});\n\n// Listen for the removal of the full notebook cells\nvar notebookContainer = gd.closest('#notebook-container');\nif (notebookContainer) {{\n    x.observe(notebookContainer, {childList: true});\n}}\n\n// Listen for the clearing of the current output cell\nvar outputEl = gd.closest('.output');\nif (outputEl) {{\n    x.observe(outputEl, {childList: true});\n}}\n\n                        })                };                });            </script>        </div>"
     },
     "metadata": {},
     "output_type": "display_data"
    },
    {
     "data": {
      "text/plain": "<IPython.core.display.SVG object>",
      "image/svg+xml": "<svg xmlns=\"http://www.w3.org/2000/svg\" xmlns:xlink=\"http://www.w3.org/1999/xlink\" width=\"243pt\" height=\"221pt\" viewBox=\"0.00 0.00 243.15 221.00\">\n<g id=\"graph0\" class=\"graph\" transform=\"scale(1 1) rotate(0) translate(4 217)\">\n<polygon fill=\"white\" stroke=\"none\" points=\"-4,4 -4,-217 239.15,-217 239.15,4 -4,4\"/>\n<!-- 0 -->\n<g id=\"node1\" class=\"node\">\n<title>0</title>\n<ellipse fill=\"none\" stroke=\"black\" cx=\"73.87\" cy=\"-195\" rx=\"73.87\" ry=\"18\"/>\n<text text-anchor=\"middle\" x=\"73.87\" y=\"-189.95\" font-family=\"Times,serif\" font-size=\"14.00\">0: '&lt;|endoftext|&gt;'</text>\n</g>\n<!-- 2 -->\n<g id=\"node2\" class=\"node\">\n<title>2</title>\n<ellipse fill=\"none\" stroke=\"black\" cx=\"73.87\" cy=\"-106.5\" rx=\"46.75\" ry=\"18\"/>\n<text text-anchor=\"middle\" x=\"73.87\" y=\"-101.45\" font-family=\"Times,serif\" font-size=\"14.00\">2: ' Mary'</text>\n</g>\n<!-- 0&#45;&gt;2 -->\n<g id=\"edge3\" class=\"edge\">\n<title>0-&gt;2</title>\n<path fill=\"none\" stroke=\"#87d37c\" stroke-width=\"2\" d=\"M73.87,-176.91C73.87,-165.73 73.87,-150.81 73.87,-137.67\"/>\n<polygon fill=\"#87d37c\" stroke=\"#87d37c\" stroke-width=\"2\" points=\"77.37,-137.85 73.87,-127.85 70.37,-137.85 77.37,-137.85\"/>\n<text text-anchor=\"middle\" x=\"88.12\" y=\"-145.7\" font-family=\"Times,serif\" font-size=\"14.00\">-0.40</text>\n</g>\n<!-- 3 -->\n<g id=\"node3\" class=\"node\">\n<title>3</title>\n<ellipse fill=\"none\" stroke=\"black\" cx=\"73.87\" cy=\"-18\" rx=\"39.58\" ry=\"18\"/>\n<text text-anchor=\"middle\" x=\"73.87\" y=\"-12.95\" font-family=\"Times,serif\" font-size=\"14.00\">3: ' and'</text>\n</g>\n<!-- 2&#45;&gt;3 -->\n<g id=\"edge4\" class=\"edge\">\n<title>2-&gt;3</title>\n<path fill=\"none\" stroke=\"#87d37c\" stroke-width=\"2\" d=\"M73.87,-88.41C73.87,-77.23 73.87,-62.31 73.87,-49.17\"/>\n<polygon fill=\"#87d37c\" stroke=\"#87d37c\" stroke-width=\"2\" points=\"77.37,-49.35 73.87,-39.35 70.37,-49.35 77.37,-49.35\"/>\n<text text-anchor=\"middle\" x=\"88.12\" y=\"-57.2\" font-family=\"Times,serif\" font-size=\"14.00\">-0.31</text>\n</g>\n<!-- 14 -->\n<g id=\"node5\" class=\"node\">\n<title>14</title>\n<ellipse fill=\"none\" stroke=\"black\" cx=\"177.87\" cy=\"-18\" rx=\"38.04\" ry=\"18\"/>\n<text text-anchor=\"middle\" x=\"177.87\" y=\"-12.95\" font-family=\"Times,serif\" font-size=\"14.00\">14: ' to'</text>\n</g>\n<!-- 2&#45;&gt;14 -->\n<g id=\"edge2\" class=\"edge\">\n<title>2-&gt;14</title>\n<path fill=\"none\" stroke=\"#87d37c\" stroke-width=\"4\" d=\"M92.95,-89.63C108.16,-76.98 129.76,-59.01 147.37,-44.37\"/>\n<polygon fill=\"#87d37c\" stroke=\"#87d37c\" stroke-width=\"4\" points=\"150.16,-46.27 155.61,-37.18 145.69,-40.89 150.16,-46.27\"/>\n<text text-anchor=\"middle\" x=\"150.12\" y=\"-57.2\" font-family=\"Times,serif\" font-size=\"14.00\">-0.89</text>\n</g>\n<!-- 10 -->\n<g id=\"node4\" class=\"node\">\n<title>10</title>\n<ellipse fill=\"none\" stroke=\"black\" cx=\"186.87\" cy=\"-106.5\" rx=\"48.28\" ry=\"18\"/>\n<text text-anchor=\"middle\" x=\"186.87\" y=\"-101.45\" font-family=\"Times,serif\" font-size=\"14.00\">10: ' John'</text>\n</g>\n<!-- 10&#45;&gt;14 -->\n<g id=\"edge1\" class=\"edge\">\n<title>10-&gt;14</title>\n<path fill=\"none\" stroke=\"#87d37c\" stroke-width=\"3\" d=\"M185.09,-88.41C183.95,-77.46 182.44,-62.94 181.1,-50\"/>\n<polygon fill=\"#87d37c\" stroke=\"#87d37c\" stroke-width=\"3\" points=\"184.19,-49.93 179.68,-40.35 177.23,-50.66 184.19,-49.93\"/>\n<text text-anchor=\"middle\" x=\"197.12\" y=\"-57.2\" font-family=\"Times,serif\" font-size=\"14.00\">-0.63</text>\n</g>\n</g>\n</svg>"
     },
     "execution_count": 17,
     "metadata": {},
     "output_type": "execute_result"
    }
   ],
   "source": [
    "threshold = 0.3\n",
    "prompt = \"When Mary and John went to the store, John gave a book to\"\n",
    "corrupt_prompt = \"When Tom and Sarah went to the store, Felix gave a book to\"\n",
    "c = core.connectom(model, prompt,\n",
    "                   core.logit_diff_metric(model, ' Mary', ' John'),\n",
    "                   core.ZeroPattern(),\n",
    "                   # core.CorruptIntervention(model, prompt, corrupt_prompt),\n",
    "                   # core.CropIntervention(model, prompt),\n",
    "                   # core.BasicStrategy(),\n",
    "                   # d.BacktrackBisectStrategy(threshold),\n",
    "                   # d.BacktrackingStrategy(threshold),\n",
    "                   core.BisectStrategy(threshold),\n",
    "                   )\n",
    "core.plot_attn_connectome(model, prompt, c).show()\n",
    "graph = core.plot_graphviz_connectome(model, prompt, c, threshold=threshold).pipe('svg').decode('utf-8')\n",
    "SVG(graph)\n"
   ],
   "metadata": {
    "collapsed": false,
    "ExecuteTime": {
     "end_time": "2023-06-27T14:08:13.742800054Z",
     "start_time": "2023-06-27T14:08:11.456803460Z"
    }
   }
  },
  {
   "cell_type": "code",
   "execution_count": 69,
   "outputs": [
    {
     "data": {
      "text/plain": "<IPython.core.display.SVG object>",
      "image/svg+xml": "<svg xmlns=\"http://www.w3.org/2000/svg\" xmlns:xlink=\"http://www.w3.org/1999/xlink\" width=\"270pt\" height=\"310pt\" viewBox=\"0.00 0.00 269.75 309.50\">\n<g id=\"graph0\" class=\"graph\" transform=\"scale(1 1) rotate(0) translate(4 305.5)\">\n<polygon fill=\"white\" stroke=\"none\" points=\"-4,4 -4,-305.5 265.75,-305.5 265.75,4 -4,4\"/>\n<!-- 2 -->\n<g id=\"node1\" class=\"node\">\n<title>2</title>\n<ellipse fill=\"none\" stroke=\"black\" cx=\"46.75\" cy=\"-106.5\" rx=\"46.75\" ry=\"18\"/>\n<text text-anchor=\"middle\" x=\"46.75\" y=\"-101.45\" font-family=\"Times,serif\" font-size=\"14.00\">2: ' Mary'</text>\n</g>\n<!-- 14 -->\n<g id=\"node5\" class=\"node\">\n<title>14</title>\n<ellipse fill=\"none\" stroke=\"black\" cx=\"159.75\" cy=\"-18\" rx=\"38.04\" ry=\"18\"/>\n<text text-anchor=\"middle\" x=\"159.75\" y=\"-12.95\" font-family=\"Times,serif\" font-size=\"14.00\">14: ' to'</text>\n</g>\n<!-- 2&#45;&gt;14 -->\n<g id=\"edge2\" class=\"edge\">\n<title>2-&gt;14</title>\n<path fill=\"none\" stroke=\"#87d37c\" stroke-width=\"7\" d=\"M67.21,-89.84C84.16,-76.86 108.53,-58.2 128.01,-43.29\"/>\n<polygon fill=\"#87d37c\" stroke=\"#87d37c\" stroke-width=\"7\" points=\"131.35,-48.62 135.56,-37.68 123.9,-38.9 131.35,-48.62\"/>\n<text text-anchor=\"middle\" x=\"128\" y=\"-57.2\" font-family=\"Times,serif\" font-size=\"14.00\">-1.09</text>\n</g>\n<!-- 4 -->\n<g id=\"node2\" class=\"node\">\n<title>4</title>\n<ellipse fill=\"none\" stroke=\"black\" cx=\"199.75\" cy=\"-283.5\" rx=\"43.67\" ry=\"18\"/>\n<text text-anchor=\"middle\" x=\"199.75\" y=\"-278.45\" font-family=\"Times,serif\" font-size=\"14.00\">4: ' John'</text>\n</g>\n<!-- 5 -->\n<g id=\"node3\" class=\"node\">\n<title>5</title>\n<ellipse fill=\"none\" stroke=\"black\" cx=\"162.75\" cy=\"-195\" rx=\"44.19\" ry=\"18\"/>\n<text text-anchor=\"middle\" x=\"162.75\" y=\"-189.95\" font-family=\"Times,serif\" font-size=\"14.00\">5: ' went'</text>\n</g>\n<!-- 4&#45;&gt;5 -->\n<g id=\"edge5\" class=\"edge\">\n<title>4-&gt;5</title>\n<path fill=\"none\" stroke=\"#87d37c\" stroke-width=\"2\" d=\"M192.44,-265.41C187.47,-253.8 180.78,-238.16 175.01,-224.67\"/>\n<polygon fill=\"#87d37c\" stroke=\"#87d37c\" stroke-width=\"2\" points=\"178.19,-222.87 171.04,-215.05 171.75,-225.62 178.19,-222.87\"/>\n<text text-anchor=\"middle\" x=\"199\" y=\"-234.2\" font-family=\"Times,serif\" font-size=\"14.00\">-0.24</text>\n</g>\n<!-- 4&#45;&gt;14 -->\n<g id=\"edge3\" class=\"edge\">\n<title>4-&gt;14</title>\n<path fill=\"none\" stroke=\"#e52b50\" stroke-width=\"2\" d=\"M210.43,-265.69C213.41,-260.12 216.23,-253.74 217.75,-247.5 226.52,-211.26 291.12,-315.19 216.75,-88.5 211.1,-71.3 198.87,-55.42 187.18,-43.19\"/>\n<polygon fill=\"#e52b50\" stroke=\"#e52b50\" stroke-width=\"2\" points=\"189.64,-40.73 180.06,-36.22 184.73,-45.72 189.64,-40.73\"/>\n<text text-anchor=\"middle\" x=\"249.75\" y=\"-145.7\" font-family=\"Times,serif\" font-size=\"14.00\">0.23</text>\n</g>\n<!-- 10 -->\n<g id=\"node4\" class=\"node\">\n<title>10</title>\n<ellipse fill=\"none\" stroke=\"black\" cx=\"159.75\" cy=\"-106.5\" rx=\"48.28\" ry=\"18\"/>\n<text text-anchor=\"middle\" x=\"159.75\" y=\"-101.45\" font-family=\"Times,serif\" font-size=\"14.00\">10: ' John'</text>\n</g>\n<!-- 5&#45;&gt;10 -->\n<g id=\"edge4\" class=\"edge\">\n<title>5-&gt;10</title>\n<path fill=\"none\" stroke=\"#87d37c\" stroke-width=\"2\" d=\"M162.15,-176.91C161.76,-165.73 161.25,-150.81 160.79,-137.67\"/>\n<polygon fill=\"#87d37c\" stroke=\"#87d37c\" stroke-width=\"2\" points=\"164.19,-137.72 160.35,-127.85 157.2,-137.97 164.19,-137.72\"/>\n<text text-anchor=\"middle\" x=\"176\" y=\"-145.7\" font-family=\"Times,serif\" font-size=\"14.00\">-0.20</text>\n</g>\n<!-- 10&#45;&gt;14 -->\n<g id=\"edge1\" class=\"edge\">\n<title>10-&gt;14</title>\n<path fill=\"none\" stroke=\"#87d37c\" stroke-width=\"4\" d=\"M159.75,-88.41C159.75,-78.05 159.75,-64.49 159.75,-52.1\"/>\n<polygon fill=\"#87d37c\" stroke=\"#87d37c\" stroke-width=\"4\" points=\"163.25,-52.35 159.75,-42.35 156.25,-52.35 163.25,-52.35\"/>\n<text text-anchor=\"middle\" x=\"174\" y=\"-57.2\" font-family=\"Times,serif\" font-size=\"14.00\">-0.69</text>\n</g>\n</g>\n</svg>"
     },
     "execution_count": 69,
     "metadata": {},
     "output_type": "execute_result"
    }
   ],
   "source": [
    "graph = core.plot_graphviz_connectome(model, prompt, c, threshold=0.2).pipe('svg').decode('utf-8')\n",
    "SVG(graph)"
   ],
   "metadata": {
    "collapsed": false,
    "ExecuteTime": {
     "end_time": "2023-06-27T10:57:01.368176723Z",
     "start_time": "2023-06-27T10:57:01.326243155Z"
    }
   }
  },
  {
   "cell_type": "code",
   "execution_count": 19,
   "outputs": [
    {
     "data": {
      "text/plain": "Exploring: 0 connexions [00:00, ? connexions/s]",
      "application/vnd.jupyter.widget-view+json": {
       "version_major": 2,
       "version_minor": 0,
       "model_id": "82928b6595d1424c96ca8755af2cc441"
      }
     },
     "metadata": {},
     "output_type": "display_data"
    },
    {
     "data": {
      "application/vnd.plotly.v1+json": {
       "data": [
        {
         "coloraxis": "coloraxis",
         "name": "0",
         "x": [
          "0: '<|endoftext|>'",
          "1: 'def'",
          "2: ' port'",
          "3: '('",
          "4: 'self'",
          "5: ','",
          "6: ' load'",
          "7: ','",
          "8: ' size'",
          "9: ','",
          "10: ' file'",
          "11: ','",
          "12: ' last'",
          "13: '):'",
          "14: '\\n'",
          "15: '\"\"\"'",
          "16: 'oil'",
          "17: ' column'",
          "18: ' piece'",
          "19: '\\n\\n'",
          "20: ' '",
          "21: ' '",
          "22: ' '",
          "23: ' :'",
          "24: 'param'",
          "25: ' load'",
          "26: ':'",
          "27: ' crime'",
          "28: ' population'",
          "29: '\\n'",
          "30: ' '",
          "31: ' '",
          "32: ' '",
          "33: ' :'",
          "34: 'param'",
          "35: ' size'",
          "36: ':'",
          "37: ' unit'",
          "38: ' dark'",
          "39: '\\n'",
          "40: ' '",
          "41: ' '",
          "42: ' '",
          "43: ' :'",
          "44: 'param'"
         ],
         "y": [
          "0: '<|endoftext|>'",
          "1: 'def'",
          "2: ' port'",
          "3: '('",
          "4: 'self'",
          "5: ','",
          "6: ' load'",
          "7: ','",
          "8: ' size'",
          "9: ','",
          "10: ' file'",
          "11: ','",
          "12: ' last'",
          "13: '):'",
          "14: '\\n'",
          "15: '\"\"\"'",
          "16: 'oil'",
          "17: ' column'",
          "18: ' piece'",
          "19: '\\n\\n'",
          "20: ' '",
          "21: ' '",
          "22: ' '",
          "23: ' :'",
          "24: 'param'",
          "25: ' load'",
          "26: ':'",
          "27: ' crime'",
          "28: ' population'",
          "29: '\\n'",
          "30: ' '",
          "31: ' '",
          "32: ' '",
          "33: ' :'",
          "34: 'param'",
          "35: ' size'",
          "36: ':'",
          "37: ' unit'",
          "38: ' dark'",
          "39: '\\n'",
          "40: ' '",
          "41: ' '",
          "42: ' '",
          "43: ' :'",
          "44: 'param'"
         ],
         "z": [
          [
           -0.02697289176285267,
           null,
           null,
           null,
           null,
           null,
           null,
           null,
           null,
           null,
           null,
           null,
           null,
           null,
           null,
           null,
           null,
           null,
           null,
           null,
           null,
           null,
           null,
           null,
           null,
           null,
           null,
           null,
           null,
           null,
           null,
           null,
           null,
           null,
           null,
           null,
           null,
           null,
           null,
           null,
           null,
           null,
           null,
           null,
           null
          ],
          [
           -0.02697289176285267,
           -0.02697289176285267,
           null,
           null,
           null,
           null,
           null,
           null,
           null,
           null,
           null,
           null,
           null,
           null,
           null,
           null,
           null,
           null,
           null,
           null,
           null,
           null,
           null,
           null,
           null,
           null,
           null,
           null,
           null,
           null,
           null,
           null,
           null,
           null,
           null,
           null,
           null,
           null,
           null,
           null,
           null,
           null,
           null,
           null,
           null
          ],
          [
           -0.02697289176285267,
           -0.02697289176285267,
           -0.02697289176285267,
           null,
           null,
           null,
           null,
           null,
           null,
           null,
           null,
           null,
           null,
           null,
           null,
           null,
           null,
           null,
           null,
           null,
           null,
           null,
           null,
           null,
           null,
           null,
           null,
           null,
           null,
           null,
           null,
           null,
           null,
           null,
           null,
           null,
           null,
           null,
           null,
           null,
           null,
           null,
           null,
           null,
           null
          ],
          [
           -0.02697289176285267,
           -0.02697289176285267,
           -0.02697289176285267,
           -0.02697289176285267,
           null,
           null,
           null,
           null,
           null,
           null,
           null,
           null,
           null,
           null,
           null,
           null,
           null,
           null,
           null,
           null,
           null,
           null,
           null,
           null,
           null,
           null,
           null,
           null,
           null,
           null,
           null,
           null,
           null,
           null,
           null,
           null,
           null,
           null,
           null,
           null,
           null,
           null,
           null,
           null,
           null
          ],
          [
           -0.02697289176285267,
           -0.02697289176285267,
           -0.02697289176285267,
           -0.02697289176285267,
           -0.02697289176285267,
           null,
           null,
           null,
           null,
           null,
           null,
           null,
           null,
           null,
           null,
           null,
           null,
           null,
           null,
           null,
           null,
           null,
           null,
           null,
           null,
           null,
           null,
           null,
           null,
           null,
           null,
           null,
           null,
           null,
           null,
           null,
           null,
           null,
           null,
           null,
           null,
           null,
           null,
           null,
           null
          ],
          [
           -0.02697289176285267,
           -0.02697289176285267,
           -0.02697289176285267,
           -0.02697289176285267,
           -0.02697289176285267,
           -0.02697289176285267,
           null,
           null,
           null,
           null,
           null,
           null,
           null,
           null,
           null,
           null,
           null,
           null,
           null,
           null,
           null,
           null,
           null,
           null,
           null,
           null,
           null,
           null,
           null,
           null,
           null,
           null,
           null,
           null,
           null,
           null,
           null,
           null,
           null,
           null,
           null,
           null,
           null,
           null,
           null
          ],
          [
           -0.02697289176285267,
           -0.02697289176285267,
           -0.02697289176285267,
           -0.02697289176285267,
           -0.02697289176285267,
           -0.02697289176285267,
           -0.02697289176285267,
           null,
           null,
           null,
           null,
           null,
           null,
           null,
           null,
           null,
           null,
           null,
           null,
           null,
           null,
           null,
           null,
           null,
           null,
           null,
           null,
           null,
           null,
           null,
           null,
           null,
           null,
           null,
           null,
           null,
           null,
           null,
           null,
           null,
           null,
           null,
           null,
           null,
           null
          ],
          [
           -0.02697289176285267,
           -0.02697289176285267,
           -0.02697289176285267,
           -0.02697289176285267,
           -0.02697289176285267,
           -0.02697289176285267,
           -0.02697289176285267,
           -0.02697289176285267,
           null,
           null,
           null,
           null,
           null,
           null,
           null,
           null,
           null,
           null,
           null,
           null,
           null,
           null,
           null,
           null,
           null,
           null,
           null,
           null,
           null,
           null,
           null,
           null,
           null,
           null,
           null,
           null,
           null,
           null,
           null,
           null,
           null,
           null,
           null,
           null,
           null
          ],
          [
           -0.02697289176285267,
           -0.02697289176285267,
           -0.02697289176285267,
           -0.02697289176285267,
           -0.02697289176285267,
           -0.02697289176285267,
           -0.02697289176285267,
           -0.02697289176285267,
           -0.02697289176285267,
           null,
           null,
           null,
           null,
           null,
           null,
           null,
           null,
           null,
           null,
           null,
           null,
           null,
           null,
           null,
           null,
           null,
           null,
           null,
           null,
           null,
           null,
           null,
           null,
           null,
           null,
           null,
           null,
           null,
           null,
           null,
           null,
           null,
           null,
           null,
           null
          ],
          [
           -0.02697289176285267,
           -0.02697289176285267,
           -0.02697289176285267,
           -0.02697289176285267,
           -0.02697289176285267,
           -0.02697289176285267,
           -0.02697289176285267,
           -0.02697289176285267,
           -0.02697289176285267,
           -0.02697289176285267,
           null,
           null,
           null,
           null,
           null,
           null,
           null,
           null,
           null,
           null,
           null,
           null,
           null,
           null,
           null,
           null,
           null,
           null,
           null,
           null,
           null,
           null,
           null,
           null,
           null,
           null,
           null,
           null,
           null,
           null,
           null,
           null,
           null,
           null,
           null
          ],
          [
           -0.02697289176285267,
           -0.02697289176285267,
           -0.02697289176285267,
           -0.02697289176285267,
           -0.02697289176285267,
           -0.02697289176285267,
           -0.02697289176285267,
           -0.02697289176285267,
           -0.02697289176285267,
           -0.02697289176285267,
           -0.02697289176285267,
           null,
           null,
           null,
           null,
           null,
           null,
           null,
           null,
           null,
           null,
           null,
           null,
           null,
           null,
           null,
           null,
           null,
           null,
           null,
           null,
           null,
           null,
           null,
           null,
           null,
           null,
           null,
           null,
           null,
           null,
           null,
           null,
           null,
           null
          ],
          [
           -0.02697289176285267,
           -0.02697289176285267,
           -0.02697289176285267,
           -0.02697289176285267,
           -0.02697289176285267,
           -0.02697289176285267,
           -0.02697289176285267,
           -0.02697289176285267,
           -0.02697289176285267,
           -0.02697289176285267,
           -0.02697289176285267,
           -0.02697289176285267,
           null,
           null,
           null,
           null,
           null,
           null,
           null,
           null,
           null,
           null,
           null,
           null,
           null,
           null,
           null,
           null,
           null,
           null,
           null,
           null,
           null,
           null,
           null,
           null,
           null,
           null,
           null,
           null,
           null,
           null,
           null,
           null,
           null
          ],
          [
           -0.02697289176285267,
           -0.02697289176285267,
           -0.02697289176285267,
           -0.02697289176285267,
           -0.02697289176285267,
           -0.02697289176285267,
           -0.02697289176285267,
           -0.02697289176285267,
           -0.02697289176285267,
           -0.02697289176285267,
           -0.02697289176285267,
           -0.02697289176285267,
           -0.02697289176285267,
           null,
           null,
           null,
           null,
           null,
           null,
           null,
           null,
           null,
           null,
           null,
           null,
           null,
           null,
           null,
           null,
           null,
           null,
           null,
           null,
           null,
           null,
           null,
           null,
           null,
           null,
           null,
           null,
           null,
           null,
           null,
           null
          ],
          [
           -0.02697289176285267,
           -0.02697289176285267,
           -0.02697289176285267,
           -0.02697289176285267,
           -0.02697289176285267,
           -0.02697289176285267,
           -0.02697289176285267,
           -0.02697289176285267,
           -0.02697289176285267,
           -0.02697289176285267,
           -0.02697289176285267,
           -0.02697289176285267,
           -0.02697289176285267,
           -0.02697289176285267,
           null,
           null,
           null,
           null,
           null,
           null,
           null,
           null,
           null,
           null,
           null,
           null,
           null,
           null,
           null,
           null,
           null,
           null,
           null,
           null,
           null,
           null,
           null,
           null,
           null,
           null,
           null,
           null,
           null,
           null,
           null
          ],
          [
           -0.02697289176285267,
           -0.02697289176285267,
           -0.02697289176285267,
           -0.02697289176285267,
           -0.02697289176285267,
           -0.02697289176285267,
           -0.02697289176285267,
           -0.02697289176285267,
           -0.02697289176285267,
           -0.02697289176285267,
           -0.02697289176285267,
           -0.02697289176285267,
           -0.02697289176285267,
           -0.02697289176285267,
           -0.02697289176285267,
           null,
           null,
           null,
           null,
           null,
           null,
           null,
           null,
           null,
           null,
           null,
           null,
           null,
           null,
           null,
           null,
           null,
           null,
           null,
           null,
           null,
           null,
           null,
           null,
           null,
           null,
           null,
           null,
           null,
           null
          ],
          [
           -0.02697289176285267,
           -0.02697289176285267,
           -0.02697289176285267,
           -0.02697289176285267,
           -0.02697289176285267,
           -0.02697289176285267,
           -0.02697289176285267,
           -0.02697289176285267,
           -0.02697289176285267,
           -0.02697289176285267,
           -0.02697289176285267,
           -0.02697289176285267,
           -0.02697289176285267,
           -0.02697289176285267,
           -0.02697289176285267,
           -0.02697289176285267,
           null,
           null,
           null,
           null,
           null,
           null,
           null,
           null,
           null,
           null,
           null,
           null,
           null,
           null,
           null,
           null,
           null,
           null,
           null,
           null,
           null,
           null,
           null,
           null,
           null,
           null,
           null,
           null,
           null
          ],
          [
           -0.02697289176285267,
           -0.02697289176285267,
           -0.02697289176285267,
           -0.02697289176285267,
           -0.02697289176285267,
           -0.02697289176285267,
           -0.02697289176285267,
           -0.02697289176285267,
           -0.02697289176285267,
           -0.02697289176285267,
           -0.02697289176285267,
           -0.02697289176285267,
           -0.02697289176285267,
           -0.02697289176285267,
           -0.02697289176285267,
           -0.02697289176285267,
           -0.02697289176285267,
           null,
           null,
           null,
           null,
           null,
           null,
           null,
           null,
           null,
           null,
           null,
           null,
           null,
           null,
           null,
           null,
           null,
           null,
           null,
           null,
           null,
           null,
           null,
           null,
           null,
           null,
           null,
           null
          ],
          [
           -0.02697289176285267,
           -0.02697289176285267,
           -0.02697289176285267,
           -0.02697289176285267,
           -0.02697289176285267,
           -0.02697289176285267,
           -0.02697289176285267,
           -0.02697289176285267,
           -0.02697289176285267,
           -0.02697289176285267,
           -0.02697289176285267,
           -0.02697289176285267,
           -0.02697289176285267,
           -0.02697289176285267,
           -0.02697289176285267,
           -0.02697289176285267,
           -0.02697289176285267,
           -0.02697289176285267,
           null,
           null,
           null,
           null,
           null,
           null,
           null,
           null,
           null,
           null,
           null,
           null,
           null,
           null,
           null,
           null,
           null,
           null,
           null,
           null,
           null,
           null,
           null,
           null,
           null,
           null,
           null
          ],
          [
           -0.02697289176285267,
           -0.02697289176285267,
           -0.02697289176285267,
           -0.02697289176285267,
           -0.02697289176285267,
           -0.02697289176285267,
           -0.02697289176285267,
           -0.02697289176285267,
           -0.02697289176285267,
           -0.02697289176285267,
           -0.02697289176285267,
           -0.02697289176285267,
           -0.02697289176285267,
           -0.02697289176285267,
           -0.02697289176285267,
           -0.02697289176285267,
           -0.02697289176285267,
           -0.02697289176285267,
           -0.02697289176285267,
           null,
           null,
           null,
           null,
           null,
           null,
           null,
           null,
           null,
           null,
           null,
           null,
           null,
           null,
           null,
           null,
           null,
           null,
           null,
           null,
           null,
           null,
           null,
           null,
           null,
           null
          ],
          [
           -0.02697289176285267,
           -0.02697289176285267,
           -0.02697289176285267,
           -0.02697289176285267,
           -0.02697289176285267,
           -0.02697289176285267,
           -0.02697289176285267,
           -0.02697289176285267,
           -0.02697289176285267,
           -0.02697289176285267,
           -0.02697289176285267,
           -0.02697289176285267,
           -0.02697289176285267,
           -0.02697289176285267,
           -0.02697289176285267,
           -0.02697289176285267,
           -0.02697289176285267,
           -0.02697289176285267,
           -0.02697289176285267,
           -0.02697289176285267,
           null,
           null,
           null,
           null,
           null,
           null,
           null,
           null,
           null,
           null,
           null,
           null,
           null,
           null,
           null,
           null,
           null,
           null,
           null,
           null,
           null,
           null,
           null,
           null,
           null
          ],
          [
           -0.02697289176285267,
           -0.02697289176285267,
           -0.02697289176285267,
           -0.02697289176285267,
           -0.02697289176285267,
           -0.02697289176285267,
           -0.02697289176285267,
           -0.02697289176285267,
           -0.02697289176285267,
           -0.02697289176285267,
           -0.02697289176285267,
           -0.02697289176285267,
           -0.02697289176285267,
           -0.02697289176285267,
           -0.02697289176285267,
           -0.02697289176285267,
           -0.02697289176285267,
           -0.02697289176285267,
           -0.02697289176285267,
           -0.02697289176285267,
           -0.02697289176285267,
           null,
           null,
           null,
           null,
           null,
           null,
           null,
           null,
           null,
           null,
           null,
           null,
           null,
           null,
           null,
           null,
           null,
           null,
           null,
           null,
           null,
           null,
           null,
           null
          ],
          [
           -0.02697289176285267,
           -0.02697289176285267,
           -0.02697289176285267,
           -0.02697289176285267,
           -0.02697289176285267,
           -0.02697289176285267,
           -0.02697289176285267,
           -0.02697289176285267,
           -0.02697289176285267,
           -0.02697289176285267,
           -0.02697289176285267,
           -0.02697289176285267,
           -0.02697289176285267,
           -0.02697289176285267,
           -0.02697289176285267,
           -0.02697289176285267,
           -0.02697289176285267,
           -0.02697289176285267,
           -0.02697289176285267,
           -0.02697289176285267,
           -0.02697289176285267,
           -0.02697289176285267,
           null,
           null,
           null,
           null,
           null,
           null,
           null,
           null,
           null,
           null,
           null,
           null,
           null,
           null,
           null,
           null,
           null,
           null,
           null,
           null,
           null,
           null,
           null
          ],
          [
           -0.02697289176285267,
           -0.02697289176285267,
           -0.02697289176285267,
           -0.02697289176285267,
           -0.02697289176285267,
           -0.02697289176285267,
           -0.02697289176285267,
           -0.02697289176285267,
           -0.02697289176285267,
           -0.02697289176285267,
           -0.02697289176285267,
           -0.02697289176285267,
           -0.02697289176285267,
           -0.02697289176285267,
           -0.02697289176285267,
           -0.02697289176285267,
           -0.02697289176285267,
           -0.02697289176285267,
           -0.02697289176285267,
           -0.02697289176285267,
           -0.02697289176285267,
           -0.02697289176285267,
           -0.02697289176285267,
           null,
           null,
           null,
           null,
           null,
           null,
           null,
           null,
           null,
           null,
           null,
           null,
           null,
           null,
           null,
           null,
           null,
           null,
           null,
           null,
           null,
           null
          ],
          [
           -0.08120457082986832,
           -0.08120457082986832,
           -0.08120457082986832,
           -0.08120457082986832,
           -0.08120457082986832,
           -0.08120457082986832,
           -0.08120457082986832,
           -0.08120457082986832,
           -0.08120457082986832,
           -0.08120457082986832,
           -0.08120457082986832,
           -0.08120457082986832,
           0.013846499845385551,
           0.013846499845385551,
           0.013846499845385551,
           0.013846499845385551,
           0.013846499845385551,
           0.013846499845385551,
           0.013846499845385551,
           0.013846499845385551,
           0.013846499845385551,
           0.013846499845385551,
           0.013846499845385551,
           -0.06239771470427513,
           null,
           null,
           null,
           null,
           null,
           null,
           null,
           null,
           null,
           null,
           null,
           null,
           null,
           null,
           null,
           null,
           null,
           null,
           null,
           null,
           null
          ],
          [
           -0.08120457082986832,
           -0.08120457082986832,
           -0.08120457082986832,
           -0.08120457082986832,
           -0.08120457082986832,
           -0.08120457082986832,
           -0.08120457082986832,
           -0.08120457082986832,
           -0.08120457082986832,
           -0.08120457082986832,
           -0.08120457082986832,
           -0.08120457082986832,
           0.013846499845385551,
           0.013846499845385551,
           0.013846499845385551,
           0.013846499845385551,
           0.013846499845385551,
           0.013846499845385551,
           0.013846499845385551,
           0.013846499845385551,
           0.013846499845385551,
           0.013846499845385551,
           0.013846499845385551,
           -0.06239771470427513,
           -0.06239771470427513,
           null,
           null,
           null,
           null,
           null,
           null,
           null,
           null,
           null,
           null,
           null,
           null,
           null,
           null,
           null,
           null,
           null,
           null,
           null,
           null
          ],
          [
           -0.08120457082986832,
           -0.08120457082986832,
           -0.08120457082986832,
           -0.08120457082986832,
           -0.08120457082986832,
           -0.08120457082986832,
           -0.08120457082986832,
           -0.08120457082986832,
           -0.08120457082986832,
           -0.08120457082986832,
           -0.08120457082986832,
           -0.08120457082986832,
           0.013846499845385551,
           0.013846499845385551,
           0.013846499845385551,
           0.013846499845385551,
           0.013846499845385551,
           0.013846499845385551,
           0.013846499845385551,
           0.013846499845385551,
           0.013846499845385551,
           0.013846499845385551,
           0.013846499845385551,
           -0.06239771470427513,
           -0.06239771470427513,
           -0.06239771470427513,
           null,
           null,
           null,
           null,
           null,
           null,
           null,
           null,
           null,
           null,
           null,
           null,
           null,
           null,
           null,
           null,
           null,
           null,
           null
          ],
          [
           -0.08120457082986832,
           -0.08120457082986832,
           -0.08120457082986832,
           -0.08120457082986832,
           -0.08120457082986832,
           -0.08120457082986832,
           -0.08120457082986832,
           -0.08120457082986832,
           -0.08120457082986832,
           -0.08120457082986832,
           -0.08120457082986832,
           -0.08120457082986832,
           0.013846499845385551,
           0.013846499845385551,
           0.013846499845385551,
           0.013846499845385551,
           0.013846499845385551,
           0.013846499845385551,
           0.013846499845385551,
           0.013846499845385551,
           0.013846499845385551,
           0.013846499845385551,
           0.013846499845385551,
           -0.06239771470427513,
           -0.06239771470427513,
           -0.06239771470427513,
           -0.06239771470427513,
           null,
           null,
           null,
           null,
           null,
           null,
           null,
           null,
           null,
           null,
           null,
           null,
           null,
           null,
           null,
           null,
           null,
           null
          ],
          [
           -0.08120457082986832,
           -0.08120457082986832,
           -0.08120457082986832,
           -0.08120457082986832,
           -0.08120457082986832,
           -0.08120457082986832,
           -0.08120457082986832,
           -0.08120457082986832,
           -0.08120457082986832,
           -0.08120457082986832,
           -0.08120457082986832,
           -0.08120457082986832,
           0.013846499845385551,
           0.013846499845385551,
           0.013846499845385551,
           0.013846499845385551,
           0.013846499845385551,
           0.013846499845385551,
           0.013846499845385551,
           0.013846499845385551,
           0.013846499845385551,
           0.013846499845385551,
           0.013846499845385551,
           -0.06239771470427513,
           -0.06239771470427513,
           -0.06239771470427513,
           -0.06239771470427513,
           -0.06239771470427513,
           null,
           null,
           null,
           null,
           null,
           null,
           null,
           null,
           null,
           null,
           null,
           null,
           null,
           null,
           null,
           null,
           null
          ],
          [
           -0.08120457082986832,
           -0.08120457082986832,
           -0.08120457082986832,
           -0.08120457082986832,
           -0.08120457082986832,
           -0.08120457082986832,
           -0.08120457082986832,
           -0.08120457082986832,
           -0.08120457082986832,
           -0.08120457082986832,
           -0.08120457082986832,
           -0.08120457082986832,
           0.013846499845385551,
           0.013846499845385551,
           0.013846499845385551,
           0.013846499845385551,
           0.013846499845385551,
           0.013846499845385551,
           0.013846499845385551,
           0.013846499845385551,
           0.013846499845385551,
           0.013846499845385551,
           0.013846499845385551,
           -0.06239771470427513,
           -0.06239771470427513,
           -0.06239771470427513,
           -0.06239771470427513,
           -0.06239771470427513,
           -0.06239771470427513,
           null,
           null,
           null,
           null,
           null,
           null,
           null,
           null,
           null,
           null,
           null,
           null,
           null,
           null,
           null,
           null
          ],
          [
           -0.08120457082986832,
           -0.08120457082986832,
           -0.08120457082986832,
           -0.08120457082986832,
           -0.08120457082986832,
           -0.08120457082986832,
           -0.08120457082986832,
           -0.08120457082986832,
           -0.08120457082986832,
           -0.08120457082986832,
           -0.08120457082986832,
           -0.08120457082986832,
           0.013846499845385551,
           0.013846499845385551,
           0.013846499845385551,
           0.013846499845385551,
           0.013846499845385551,
           0.013846499845385551,
           0.013846499845385551,
           0.013846499845385551,
           0.013846499845385551,
           0.013846499845385551,
           0.013846499845385551,
           -0.06239771470427513,
           -0.06239771470427513,
           -0.06239771470427513,
           -0.06239771470427513,
           -0.06239771470427513,
           -0.06239771470427513,
           -0.06239771470427513,
           null,
           null,
           null,
           null,
           null,
           null,
           null,
           null,
           null,
           null,
           null,
           null,
           null,
           null,
           null
          ],
          [
           -0.08120457082986832,
           -0.08120457082986832,
           -0.08120457082986832,
           -0.08120457082986832,
           -0.08120457082986832,
           -0.08120457082986832,
           -0.08120457082986832,
           -0.08120457082986832,
           -0.08120457082986832,
           -0.08120457082986832,
           -0.08120457082986832,
           -0.08120457082986832,
           0.013846499845385551,
           0.013846499845385551,
           0.013846499845385551,
           0.013846499845385551,
           0.013846499845385551,
           0.013846499845385551,
           0.013846499845385551,
           0.013846499845385551,
           0.013846499845385551,
           0.013846499845385551,
           0.013846499845385551,
           -0.06239771470427513,
           -0.06239771470427513,
           -0.06239771470427513,
           -0.06239771470427513,
           -0.06239771470427513,
           -0.06239771470427513,
           -0.06239771470427513,
           -0.06239771470427513,
           null,
           null,
           null,
           null,
           null,
           null,
           null,
           null,
           null,
           null,
           null,
           null,
           null,
           null
          ],
          [
           -0.08120457082986832,
           -0.08120457082986832,
           -0.08120457082986832,
           -0.08120457082986832,
           -0.08120457082986832,
           -0.08120457082986832,
           -0.08120457082986832,
           -0.08120457082986832,
           -0.08120457082986832,
           -0.08120457082986832,
           -0.08120457082986832,
           -0.08120457082986832,
           0.013846499845385551,
           0.013846499845385551,
           0.013846499845385551,
           0.013846499845385551,
           0.013846499845385551,
           0.013846499845385551,
           0.013846499845385551,
           0.013846499845385551,
           0.013846499845385551,
           0.013846499845385551,
           0.013846499845385551,
           -0.06239771470427513,
           -0.06239771470427513,
           -0.06239771470427513,
           -0.06239771470427513,
           -0.06239771470427513,
           -0.06239771470427513,
           -0.06239771470427513,
           -0.06239771470427513,
           -0.06239771470427513,
           null,
           null,
           null,
           null,
           null,
           null,
           null,
           null,
           null,
           null,
           null,
           null,
           null
          ],
          [
           -0.08120457082986832,
           -0.08120457082986832,
           -0.08120457082986832,
           -0.08120457082986832,
           -0.08120457082986832,
           -0.08120457082986832,
           -0.08120457082986832,
           -0.08120457082986832,
           -0.08120457082986832,
           -0.08120457082986832,
           -0.08120457082986832,
           -0.08120457082986832,
           0.013846499845385551,
           0.013846499845385551,
           0.013846499845385551,
           0.013846499845385551,
           0.013846499845385551,
           0.013846499845385551,
           0.013846499845385551,
           0.013846499845385551,
           0.013846499845385551,
           0.013846499845385551,
           0.013846499845385551,
           -0.06239771470427513,
           -0.06239771470427513,
           -0.06239771470427513,
           -0.06239771470427513,
           -0.06239771470427513,
           -0.06239771470427513,
           -0.06239771470427513,
           -0.06239771470427513,
           -0.06239771470427513,
           -0.06239771470427513,
           null,
           null,
           null,
           null,
           null,
           null,
           null,
           null,
           null,
           null,
           null,
           null
          ],
          [
           -0.08120457082986832,
           -0.08120457082986832,
           -0.08120457082986832,
           -0.08120457082986832,
           -0.08120457082986832,
           -0.08120457082986832,
           -0.08120457082986832,
           -0.08120457082986832,
           -0.08120457082986832,
           -0.08120457082986832,
           -0.08120457082986832,
           -0.08120457082986832,
           0.013846499845385551,
           0.013846499845385551,
           0.013846499845385551,
           0.013846499845385551,
           0.013846499845385551,
           0.013846499845385551,
           0.013846499845385551,
           0.013846499845385551,
           0.013846499845385551,
           0.013846499845385551,
           0.013846499845385551,
           -0.06239771470427513,
           -0.06239771470427513,
           -0.06239771470427513,
           -0.06239771470427513,
           -0.06239771470427513,
           -0.06239771470427513,
           -0.06239771470427513,
           -0.06239771470427513,
           -0.06239771470427513,
           -0.06239771470427513,
           -0.06239771470427513,
           null,
           null,
           null,
           null,
           null,
           null,
           null,
           null,
           null,
           null,
           null
          ],
          [
           -0.017392762005329132,
           -0.017392762005329132,
           -0.017392762005329132,
           -0.017392762005329132,
           -0.017392762005329132,
           -0.017392762005329132,
           -0.017392762005329132,
           -0.017392762005329132,
           -0.017392762005329132,
           -0.017392762005329132,
           -0.017392762005329132,
           -0.017392762005329132,
           0.017039237543940544,
           0.017039237543940544,
           0.017039237543940544,
           0.017039237543940544,
           0.017039237543940544,
           0.017039237543940544,
           -0.0013237673556432128,
           -0.0013237673556432128,
           -0.0013237673556432128,
           -0.0013237673556432128,
           -0.0013237673556432128,
           -0.07870111614465714,
           -0.07870111614465714,
           -0.07870111614465714,
           -0.07870111614465714,
           -0.07870111614465714,
           -0.07870111614465714,
           0.00460125831887126,
           0.00460125831887126,
           0.00460125831887126,
           0.00460125831887126,
           0.00460125831887126,
           0.026776742190122604,
           null,
           null,
           null,
           null,
           null,
           null,
           null,
           null,
           null,
           null
          ],
          [
           -0.017392762005329132,
           -0.017392762005329132,
           -0.017392762005329132,
           -0.017392762005329132,
           -0.017392762005329132,
           -0.017392762005329132,
           -0.017392762005329132,
           -0.017392762005329132,
           -0.017392762005329132,
           -0.017392762005329132,
           -0.017392762005329132,
           -0.017392762005329132,
           0.017039237543940544,
           0.017039237543940544,
           0.017039237543940544,
           0.017039237543940544,
           0.017039237543940544,
           0.017039237543940544,
           -0.0013237673556432128,
           -0.0013237673556432128,
           -0.0013237673556432128,
           -0.0013237673556432128,
           -0.0013237673556432128,
           -0.07870111614465714,
           -0.07870111614465714,
           -0.07870111614465714,
           -0.07870111614465714,
           -0.07870111614465714,
           -0.07870111614465714,
           0.00460125831887126,
           0.00460125831887126,
           0.00460125831887126,
           0.00460125831887126,
           0.00460125831887126,
           0.026776742190122604,
           0.026776742190122604,
           null,
           null,
           null,
           null,
           null,
           null,
           null,
           null,
           null
          ],
          [
           -0.017392762005329132,
           -0.017392762005329132,
           -0.017392762005329132,
           -0.017392762005329132,
           -0.017392762005329132,
           -0.017392762005329132,
           -0.017392762005329132,
           -0.017392762005329132,
           -0.017392762005329132,
           -0.017392762005329132,
           -0.017392762005329132,
           -0.017392762005329132,
           0.017039237543940544,
           0.017039237543940544,
           0.017039237543940544,
           0.017039237543940544,
           0.017039237543940544,
           0.017039237543940544,
           -0.0013237673556432128,
           -0.0013237673556432128,
           -0.0013237673556432128,
           -0.0013237673556432128,
           -0.0013237673556432128,
           -0.07870111614465714,
           -0.07870111614465714,
           -0.07870111614465714,
           -0.07870111614465714,
           -0.07870111614465714,
           -0.07870111614465714,
           0.00460125831887126,
           0.00460125831887126,
           0.00460125831887126,
           0.00460125831887126,
           0.00460125831887126,
           0.026776742190122604,
           0.026776742190122604,
           0.026776742190122604,
           null,
           null,
           null,
           null,
           null,
           null,
           null,
           null
          ],
          [
           -0.017392762005329132,
           -0.017392762005329132,
           -0.017392762005329132,
           -0.017392762005329132,
           -0.017392762005329132,
           -0.017392762005329132,
           -0.017392762005329132,
           -0.017392762005329132,
           -0.017392762005329132,
           -0.017392762005329132,
           -0.017392762005329132,
           -0.017392762005329132,
           0.017039237543940544,
           0.017039237543940544,
           0.017039237543940544,
           0.017039237543940544,
           0.017039237543940544,
           0.017039237543940544,
           -0.0013237673556432128,
           -0.0013237673556432128,
           -0.0013237673556432128,
           -0.0013237673556432128,
           -0.0013237673556432128,
           -0.07870111614465714,
           -0.07870111614465714,
           -0.07870111614465714,
           -0.07870111614465714,
           -0.07870111614465714,
           -0.07870111614465714,
           0.00460125831887126,
           0.00460125831887126,
           0.00460125831887126,
           0.00460125831887126,
           0.00460125831887126,
           0.026776742190122604,
           0.026776742190122604,
           0.026776742190122604,
           0.026776742190122604,
           null,
           null,
           null,
           null,
           null,
           null,
           null
          ],
          [
           -0.017392762005329132,
           -0.017392762005329132,
           -0.017392762005329132,
           -0.017392762005329132,
           -0.017392762005329132,
           -0.017392762005329132,
           -0.017392762005329132,
           -0.017392762005329132,
           -0.017392762005329132,
           -0.017392762005329132,
           -0.017392762005329132,
           -0.017392762005329132,
           0.017039237543940544,
           0.017039237543940544,
           0.017039237543940544,
           0.017039237543940544,
           0.017039237543940544,
           0.017039237543940544,
           -0.0013237673556432128,
           -0.0013237673556432128,
           -0.0013237673556432128,
           -0.0013237673556432128,
           -0.0013237673556432128,
           -0.07870111614465714,
           -0.07870111614465714,
           -0.07870111614465714,
           -0.07870111614465714,
           -0.07870111614465714,
           -0.07870111614465714,
           0.00460125831887126,
           0.00460125831887126,
           0.00460125831887126,
           0.00460125831887126,
           0.00460125831887126,
           0.026776742190122604,
           0.026776742190122604,
           0.026776742190122604,
           0.026776742190122604,
           0.026776742190122604,
           null,
           null,
           null,
           null,
           null,
           null
          ],
          [
           -0.017392762005329132,
           -0.017392762005329132,
           -0.017392762005329132,
           -0.017392762005329132,
           -0.017392762005329132,
           -0.017392762005329132,
           -0.017392762005329132,
           -0.017392762005329132,
           -0.017392762005329132,
           -0.017392762005329132,
           -0.017392762005329132,
           -0.017392762005329132,
           0.017039237543940544,
           0.017039237543940544,
           0.017039237543940544,
           0.017039237543940544,
           0.017039237543940544,
           0.017039237543940544,
           -0.0013237673556432128,
           -0.0013237673556432128,
           -0.0013237673556432128,
           -0.0013237673556432128,
           -0.0013237673556432128,
           -0.07870111614465714,
           -0.07870111614465714,
           -0.07870111614465714,
           -0.07870111614465714,
           -0.07870111614465714,
           -0.07870111614465714,
           0.00460125831887126,
           0.00460125831887126,
           0.00460125831887126,
           0.00460125831887126,
           0.00460125831887126,
           0.026776742190122604,
           0.026776742190122604,
           0.026776742190122604,
           0.026776742190122604,
           0.026776742190122604,
           0.026776742190122604,
           null,
           null,
           null,
           null,
           null
          ],
          [
           -0.017392762005329132,
           -0.017392762005329132,
           -0.017392762005329132,
           -0.017392762005329132,
           -0.017392762005329132,
           -0.017392762005329132,
           -0.017392762005329132,
           -0.017392762005329132,
           -0.017392762005329132,
           -0.017392762005329132,
           -0.017392762005329132,
           -0.017392762005329132,
           -0.0010638204403221607,
           -0.0010638204403221607,
           -0.0010638204403221607,
           -7.4535928433761E-5,
           -7.4535928433761E-5,
           -7.4535928433761E-5,
           -9.148646495305002E-4,
           -9.148646495305002E-4,
           -9.148646495305002E-4,
           -9.148646495305002E-4,
           -9.148646495305002E-4,
           -0.001025971956551075,
           -0.001025971956551075,
           -0.001025971956551075,
           4.945842010783963E-5,
           4.945842010783963E-5,
           4.945842010783963E-5,
           -0.005114650819450617,
           -0.005114650819450617,
           -0.005114650819450617,
           -0.005114650819450617,
           -0.005114650819450617,
           0.005505906417965889,
           0.005505906417965889,
           0.005505906417965889,
           -0.002656822558492422,
           -0.002656822558492422,
           -0.002656822558492422,
           -0.038088902831077576,
           null,
           null,
           null,
           null
          ],
          [
           -0.017392762005329132,
           -0.017392762005329132,
           -0.017392762005329132,
           -0.017392762005329132,
           -0.017392762005329132,
           -0.017392762005329132,
           -0.017392762005329132,
           -0.017392762005329132,
           -0.017392762005329132,
           -0.017392762005329132,
           -0.017392762005329132,
           -0.017392762005329132,
           -0.0010638204403221607,
           -0.0010638204403221607,
           -0.0010638204403221607,
           -7.4535928433761E-5,
           -7.4535928433761E-5,
           -7.4535928433761E-5,
           -9.148646495305002E-4,
           -9.148646495305002E-4,
           -9.148646495305002E-4,
           -9.148646495305002E-4,
           -9.148646495305002E-4,
           -0.001025971956551075,
           -0.001025971956551075,
           -0.001025971956551075,
           4.945842010783963E-5,
           4.945842010783963E-5,
           4.945842010783963E-5,
           -0.005114650819450617,
           -0.005114650819450617,
           -0.005114650819450617,
           -0.005114650819450617,
           -0.005114650819450617,
           0.005505906417965889,
           0.005505906417965889,
           0.005505906417965889,
           -0.002656822558492422,
           -0.002656822558492422,
           -0.002656822558492422,
           -0.038088902831077576,
           -0.038088902831077576,
           null,
           null,
           null
          ],
          [
           -0.017392762005329132,
           -0.017392762005329132,
           -0.017392762005329132,
           -0.017392762005329132,
           -0.017392762005329132,
           -0.017392762005329132,
           -0.017392762005329132,
           -0.017392762005329132,
           -0.017392762005329132,
           -0.017392762005329132,
           -0.017392762005329132,
           -0.017392762005329132,
           -0.0010638204403221607,
           -0.0010638204403221607,
           -0.0010638204403221607,
           -7.4535928433761E-5,
           -7.4535928433761E-5,
           -7.4535928433761E-5,
           -9.148646495305002E-4,
           -9.148646495305002E-4,
           -9.148646495305002E-4,
           -9.148646495305002E-4,
           -9.148646495305002E-4,
           -0.001025971956551075,
           -0.001025971956551075,
           -0.001025971956551075,
           4.945842010783963E-5,
           4.945842010783963E-5,
           4.945842010783963E-5,
           -0.005114650819450617,
           -0.005114650819450617,
           -0.005114650819450617,
           -0.005114650819450617,
           -0.005114650819450617,
           0.005505906417965889,
           0.005505906417965889,
           0.005505906417965889,
           -0.002656822558492422,
           -0.002656822558492422,
           -0.002656822558492422,
           -0.038088902831077576,
           -0.038088902831077576,
           -0.038088902831077576,
           null,
           null
          ],
          [
           -0.017392762005329132,
           -0.017392762005329132,
           -0.017392762005329132,
           -0.017392762005329132,
           -0.017392762005329132,
           -0.017392762005329132,
           -0.017392762005329132,
           -0.017392762005329132,
           -0.017392762005329132,
           -0.017392762005329132,
           -0.017392762005329132,
           -0.017392762005329132,
           2.7434329967945814E-4,
           2.7434329967945814E-4,
           -5.737640894949436E-4,
           0.001575703383423388,
           0.001575703383423388,
           0.001575703383423388,
           -9.148646495305002E-4,
           -9.148646495305002E-4,
           -9.148646495305002E-4,
           -9.148646495305002E-4,
           -9.148646495305002E-4,
           -0.04818480461835861,
           -0.04818480461835861,
           -0.04818480461835861,
           -0.09626216441392899,
           -0.09626216441392899,
           -0.09626216441392899,
           -0.005114650819450617,
           -0.005114650819450617,
           -0.005114650819450617,
           -0.005114650819450617,
           -0.005114650819450617,
           2.5518686743453145E-4,
           2.5518686743453145E-4,
           -0.005486865993589163,
           0.054495979100465775,
           0.054495979100465775,
           0.054495979100465775,
           -0.038088902831077576,
           -0.038088902831077576,
           -0.038088902831077576,
           -0.038088902831077576,
           null
          ],
          [
           -0.017392762005329132,
           -0.017392762005329132,
           -0.017392762005329132,
           -0.017392762005329132,
           -0.017392762005329132,
           -0.017392762005329132,
           -0.017392762005329132,
           -0.017392762005329132,
           -0.017392762005329132,
           -0.017392762005329132,
           -0.017392762005329132,
           -0.017392762005329132,
           -0.13753202557563782,
           -0.005204047542065382,
           -0.008414432406425476,
           0.001575703383423388,
           0.001575703383423388,
           0.001575703383423388,
           -9.148646495305002E-4,
           -9.148646495305002E-4,
           -9.148646495305002E-4,
           -9.148646495305002E-4,
           -9.148646495305002E-4,
           -0.04818480461835861,
           -0.04818480461835861,
           -0.04818480461835861,
           -0.09626216441392899,
           -0.09626216441392899,
           -0.09626216441392899,
           -0.005114650819450617,
           -0.005114650819450617,
           -0.005114650819450617,
           -0.005114650819450617,
           -0.005114650819450617,
           -0.002421953249722719,
           -0.30389726161956787,
           0.04968272149562836,
           0.054495979100465775,
           0.054495979100465775,
           0.054495979100465775,
           -0.038088902831077576,
           -0.038088902831077576,
           -0.038088902831077576,
           -0.038088902831077576,
           -0.038088902831077576
          ]
         ],
         "type": "heatmap",
         "xaxis": "x",
         "yaxis": "y",
         "hovertemplate": "Source: %{x}<br>Target: %{y}<br>Strength: %{z}<extra></extra>"
        }
       ],
       "layout": {
        "template": {
         "data": {
          "histogram2dcontour": [
           {
            "type": "histogram2dcontour",
            "colorbar": {
             "outlinewidth": 0,
             "ticks": ""
            },
            "colorscale": [
             [
              0.0,
              "#0d0887"
             ],
             [
              0.1111111111111111,
              "#46039f"
             ],
             [
              0.2222222222222222,
              "#7201a8"
             ],
             [
              0.3333333333333333,
              "#9c179e"
             ],
             [
              0.4444444444444444,
              "#bd3786"
             ],
             [
              0.5555555555555556,
              "#d8576b"
             ],
             [
              0.6666666666666666,
              "#ed7953"
             ],
             [
              0.7777777777777778,
              "#fb9f3a"
             ],
             [
              0.8888888888888888,
              "#fdca26"
             ],
             [
              1.0,
              "#f0f921"
             ]
            ]
           }
          ],
          "choropleth": [
           {
            "type": "choropleth",
            "colorbar": {
             "outlinewidth": 0,
             "ticks": ""
            }
           }
          ],
          "histogram2d": [
           {
            "type": "histogram2d",
            "colorbar": {
             "outlinewidth": 0,
             "ticks": ""
            },
            "colorscale": [
             [
              0.0,
              "#0d0887"
             ],
             [
              0.1111111111111111,
              "#46039f"
             ],
             [
              0.2222222222222222,
              "#7201a8"
             ],
             [
              0.3333333333333333,
              "#9c179e"
             ],
             [
              0.4444444444444444,
              "#bd3786"
             ],
             [
              0.5555555555555556,
              "#d8576b"
             ],
             [
              0.6666666666666666,
              "#ed7953"
             ],
             [
              0.7777777777777778,
              "#fb9f3a"
             ],
             [
              0.8888888888888888,
              "#fdca26"
             ],
             [
              1.0,
              "#f0f921"
             ]
            ]
           }
          ],
          "heatmap": [
           {
            "type": "heatmap",
            "colorbar": {
             "outlinewidth": 0,
             "ticks": ""
            },
            "colorscale": [
             [
              0.0,
              "#0d0887"
             ],
             [
              0.1111111111111111,
              "#46039f"
             ],
             [
              0.2222222222222222,
              "#7201a8"
             ],
             [
              0.3333333333333333,
              "#9c179e"
             ],
             [
              0.4444444444444444,
              "#bd3786"
             ],
             [
              0.5555555555555556,
              "#d8576b"
             ],
             [
              0.6666666666666666,
              "#ed7953"
             ],
             [
              0.7777777777777778,
              "#fb9f3a"
             ],
             [
              0.8888888888888888,
              "#fdca26"
             ],
             [
              1.0,
              "#f0f921"
             ]
            ]
           }
          ],
          "heatmapgl": [
           {
            "type": "heatmapgl",
            "colorbar": {
             "outlinewidth": 0,
             "ticks": ""
            },
            "colorscale": [
             [
              0.0,
              "#0d0887"
             ],
             [
              0.1111111111111111,
              "#46039f"
             ],
             [
              0.2222222222222222,
              "#7201a8"
             ],
             [
              0.3333333333333333,
              "#9c179e"
             ],
             [
              0.4444444444444444,
              "#bd3786"
             ],
             [
              0.5555555555555556,
              "#d8576b"
             ],
             [
              0.6666666666666666,
              "#ed7953"
             ],
             [
              0.7777777777777778,
              "#fb9f3a"
             ],
             [
              0.8888888888888888,
              "#fdca26"
             ],
             [
              1.0,
              "#f0f921"
             ]
            ]
           }
          ],
          "contourcarpet": [
           {
            "type": "contourcarpet",
            "colorbar": {
             "outlinewidth": 0,
             "ticks": ""
            }
           }
          ],
          "contour": [
           {
            "type": "contour",
            "colorbar": {
             "outlinewidth": 0,
             "ticks": ""
            },
            "colorscale": [
             [
              0.0,
              "#0d0887"
             ],
             [
              0.1111111111111111,
              "#46039f"
             ],
             [
              0.2222222222222222,
              "#7201a8"
             ],
             [
              0.3333333333333333,
              "#9c179e"
             ],
             [
              0.4444444444444444,
              "#bd3786"
             ],
             [
              0.5555555555555556,
              "#d8576b"
             ],
             [
              0.6666666666666666,
              "#ed7953"
             ],
             [
              0.7777777777777778,
              "#fb9f3a"
             ],
             [
              0.8888888888888888,
              "#fdca26"
             ],
             [
              1.0,
              "#f0f921"
             ]
            ]
           }
          ],
          "surface": [
           {
            "type": "surface",
            "colorbar": {
             "outlinewidth": 0,
             "ticks": ""
            },
            "colorscale": [
             [
              0.0,
              "#0d0887"
             ],
             [
              0.1111111111111111,
              "#46039f"
             ],
             [
              0.2222222222222222,
              "#7201a8"
             ],
             [
              0.3333333333333333,
              "#9c179e"
             ],
             [
              0.4444444444444444,
              "#bd3786"
             ],
             [
              0.5555555555555556,
              "#d8576b"
             ],
             [
              0.6666666666666666,
              "#ed7953"
             ],
             [
              0.7777777777777778,
              "#fb9f3a"
             ],
             [
              0.8888888888888888,
              "#fdca26"
             ],
             [
              1.0,
              "#f0f921"
             ]
            ]
           }
          ],
          "mesh3d": [
           {
            "type": "mesh3d",
            "colorbar": {
             "outlinewidth": 0,
             "ticks": ""
            }
           }
          ],
          "scatter": [
           {
            "fillpattern": {
             "fillmode": "overlay",
             "size": 10,
             "solidity": 0.2
            },
            "type": "scatter"
           }
          ],
          "parcoords": [
           {
            "type": "parcoords",
            "line": {
             "colorbar": {
              "outlinewidth": 0,
              "ticks": ""
             }
            }
           }
          ],
          "scatterpolargl": [
           {
            "type": "scatterpolargl",
            "marker": {
             "colorbar": {
              "outlinewidth": 0,
              "ticks": ""
             }
            }
           }
          ],
          "bar": [
           {
            "error_x": {
             "color": "#2a3f5f"
            },
            "error_y": {
             "color": "#2a3f5f"
            },
            "marker": {
             "line": {
              "color": "#E5ECF6",
              "width": 0.5
             },
             "pattern": {
              "fillmode": "overlay",
              "size": 10,
              "solidity": 0.2
             }
            },
            "type": "bar"
           }
          ],
          "scattergeo": [
           {
            "type": "scattergeo",
            "marker": {
             "colorbar": {
              "outlinewidth": 0,
              "ticks": ""
             }
            }
           }
          ],
          "scatterpolar": [
           {
            "type": "scatterpolar",
            "marker": {
             "colorbar": {
              "outlinewidth": 0,
              "ticks": ""
             }
            }
           }
          ],
          "histogram": [
           {
            "marker": {
             "pattern": {
              "fillmode": "overlay",
              "size": 10,
              "solidity": 0.2
             }
            },
            "type": "histogram"
           }
          ],
          "scattergl": [
           {
            "type": "scattergl",
            "marker": {
             "colorbar": {
              "outlinewidth": 0,
              "ticks": ""
             }
            }
           }
          ],
          "scatter3d": [
           {
            "type": "scatter3d",
            "line": {
             "colorbar": {
              "outlinewidth": 0,
              "ticks": ""
             }
            },
            "marker": {
             "colorbar": {
              "outlinewidth": 0,
              "ticks": ""
             }
            }
           }
          ],
          "scattermapbox": [
           {
            "type": "scattermapbox",
            "marker": {
             "colorbar": {
              "outlinewidth": 0,
              "ticks": ""
             }
            }
           }
          ],
          "scatterternary": [
           {
            "type": "scatterternary",
            "marker": {
             "colorbar": {
              "outlinewidth": 0,
              "ticks": ""
             }
            }
           }
          ],
          "scattercarpet": [
           {
            "type": "scattercarpet",
            "marker": {
             "colorbar": {
              "outlinewidth": 0,
              "ticks": ""
             }
            }
           }
          ],
          "carpet": [
           {
            "aaxis": {
             "endlinecolor": "#2a3f5f",
             "gridcolor": "white",
             "linecolor": "white",
             "minorgridcolor": "white",
             "startlinecolor": "#2a3f5f"
            },
            "baxis": {
             "endlinecolor": "#2a3f5f",
             "gridcolor": "white",
             "linecolor": "white",
             "minorgridcolor": "white",
             "startlinecolor": "#2a3f5f"
            },
            "type": "carpet"
           }
          ],
          "table": [
           {
            "cells": {
             "fill": {
              "color": "#EBF0F8"
             },
             "line": {
              "color": "white"
             }
            },
            "header": {
             "fill": {
              "color": "#C8D4E3"
             },
             "line": {
              "color": "white"
             }
            },
            "type": "table"
           }
          ],
          "barpolar": [
           {
            "marker": {
             "line": {
              "color": "#E5ECF6",
              "width": 0.5
             },
             "pattern": {
              "fillmode": "overlay",
              "size": 10,
              "solidity": 0.2
             }
            },
            "type": "barpolar"
           }
          ],
          "pie": [
           {
            "automargin": true,
            "type": "pie"
           }
          ]
         },
         "layout": {
          "autotypenumbers": "strict",
          "colorway": [
           "#636efa",
           "#EF553B",
           "#00cc96",
           "#ab63fa",
           "#FFA15A",
           "#19d3f3",
           "#FF6692",
           "#B6E880",
           "#FF97FF",
           "#FECB52"
          ],
          "font": {
           "color": "#2a3f5f"
          },
          "hovermode": "closest",
          "hoverlabel": {
           "align": "left"
          },
          "paper_bgcolor": "white",
          "plot_bgcolor": "#E5ECF6",
          "polar": {
           "bgcolor": "#E5ECF6",
           "angularaxis": {
            "gridcolor": "white",
            "linecolor": "white",
            "ticks": ""
           },
           "radialaxis": {
            "gridcolor": "white",
            "linecolor": "white",
            "ticks": ""
           }
          },
          "ternary": {
           "bgcolor": "#E5ECF6",
           "aaxis": {
            "gridcolor": "white",
            "linecolor": "white",
            "ticks": ""
           },
           "baxis": {
            "gridcolor": "white",
            "linecolor": "white",
            "ticks": ""
           },
           "caxis": {
            "gridcolor": "white",
            "linecolor": "white",
            "ticks": ""
           }
          },
          "coloraxis": {
           "colorbar": {
            "outlinewidth": 0,
            "ticks": ""
           }
          },
          "colorscale": {
           "sequential": [
            [
             0.0,
             "#0d0887"
            ],
            [
             0.1111111111111111,
             "#46039f"
            ],
            [
             0.2222222222222222,
             "#7201a8"
            ],
            [
             0.3333333333333333,
             "#9c179e"
            ],
            [
             0.4444444444444444,
             "#bd3786"
            ],
            [
             0.5555555555555556,
             "#d8576b"
            ],
            [
             0.6666666666666666,
             "#ed7953"
            ],
            [
             0.7777777777777778,
             "#fb9f3a"
            ],
            [
             0.8888888888888888,
             "#fdca26"
            ],
            [
             1.0,
             "#f0f921"
            ]
           ],
           "sequentialminus": [
            [
             0.0,
             "#0d0887"
            ],
            [
             0.1111111111111111,
             "#46039f"
            ],
            [
             0.2222222222222222,
             "#7201a8"
            ],
            [
             0.3333333333333333,
             "#9c179e"
            ],
            [
             0.4444444444444444,
             "#bd3786"
            ],
            [
             0.5555555555555556,
             "#d8576b"
            ],
            [
             0.6666666666666666,
             "#ed7953"
            ],
            [
             0.7777777777777778,
             "#fb9f3a"
            ],
            [
             0.8888888888888888,
             "#fdca26"
            ],
            [
             1.0,
             "#f0f921"
            ]
           ],
           "diverging": [
            [
             0,
             "#8e0152"
            ],
            [
             0.1,
             "#c51b7d"
            ],
            [
             0.2,
             "#de77ae"
            ],
            [
             0.3,
             "#f1b6da"
            ],
            [
             0.4,
             "#fde0ef"
            ],
            [
             0.5,
             "#f7f7f7"
            ],
            [
             0.6,
             "#e6f5d0"
            ],
            [
             0.7,
             "#b8e186"
            ],
            [
             0.8,
             "#7fbc41"
            ],
            [
             0.9,
             "#4d9221"
            ],
            [
             1,
             "#276419"
            ]
           ]
          },
          "xaxis": {
           "gridcolor": "white",
           "linecolor": "white",
           "ticks": "",
           "title": {
            "standoff": 15
           },
           "zerolinecolor": "white",
           "automargin": true,
           "zerolinewidth": 2
          },
          "yaxis": {
           "gridcolor": "white",
           "linecolor": "white",
           "ticks": "",
           "title": {
            "standoff": 15
           },
           "zerolinecolor": "white",
           "automargin": true,
           "zerolinewidth": 2
          },
          "scene": {
           "xaxis": {
            "backgroundcolor": "#E5ECF6",
            "gridcolor": "white",
            "linecolor": "white",
            "showbackground": true,
            "ticks": "",
            "zerolinecolor": "white",
            "gridwidth": 2
           },
           "yaxis": {
            "backgroundcolor": "#E5ECF6",
            "gridcolor": "white",
            "linecolor": "white",
            "showbackground": true,
            "ticks": "",
            "zerolinecolor": "white",
            "gridwidth": 2
           },
           "zaxis": {
            "backgroundcolor": "#E5ECF6",
            "gridcolor": "white",
            "linecolor": "white",
            "showbackground": true,
            "ticks": "",
            "zerolinecolor": "white",
            "gridwidth": 2
           }
          },
          "shapedefaults": {
           "line": {
            "color": "#2a3f5f"
           }
          },
          "annotationdefaults": {
           "arrowcolor": "#2a3f5f",
           "arrowhead": 0,
           "arrowwidth": 1
          },
          "geo": {
           "bgcolor": "white",
           "landcolor": "#E5ECF6",
           "subunitcolor": "white",
           "showland": true,
           "showlakes": true,
           "lakecolor": "white"
          },
          "title": {
           "x": 0.05
          },
          "mapbox": {
           "style": "light"
          }
         }
        },
        "xaxis": {
         "anchor": "y",
         "domain": [
          0.0,
          1.0
         ],
         "scaleanchor": "y",
         "constrain": "domain",
         "title": {
          "text": "Source"
         }
        },
        "yaxis": {
         "anchor": "x",
         "domain": [
          0.0,
          1.0
         ],
         "autorange": "reversed",
         "constrain": "domain",
         "title": {
          "text": "Target"
         }
        },
        "coloraxis": {
         "colorbar": {
          "title": {
           "text": "Strength"
          }
         },
         "colorscale": [
          [
           0.0,
           "rgb(103,0,31)"
          ],
          [
           0.1,
           "rgb(178,24,43)"
          ],
          [
           0.2,
           "rgb(214,96,77)"
          ],
          [
           0.3,
           "rgb(244,165,130)"
          ],
          [
           0.4,
           "rgb(253,219,199)"
          ],
          [
           0.5,
           "rgb(247,247,247)"
          ],
          [
           0.6,
           "rgb(209,229,240)"
          ],
          [
           0.7,
           "rgb(146,197,222)"
          ],
          [
           0.8,
           "rgb(67,147,195)"
          ],
          [
           0.9,
           "rgb(33,102,172)"
          ],
          [
           1.0,
           "rgb(5,48,97)"
          ]
         ],
         "cmid": 0
        },
        "title": {
         "text": "Attention connectome"
        }
       },
       "config": {
        "plotlyServerURL": "https://plot.ly"
       }
      },
      "text/html": "<div>                            <div id=\"02d9d55e-7c78-45f1-a96f-bb5934ca9a55\" class=\"plotly-graph-div\" style=\"height:525px; width:100%;\"></div>            <script type=\"text/javascript\">                require([\"plotly\"], function(Plotly) {                    window.PLOTLYENV=window.PLOTLYENV || {};                                    if (document.getElementById(\"02d9d55e-7c78-45f1-a96f-bb5934ca9a55\")) {                    Plotly.newPlot(                        \"02d9d55e-7c78-45f1-a96f-bb5934ca9a55\",                        [{\"coloraxis\":\"coloraxis\",\"name\":\"0\",\"x\":[\"0: '\\u003c|endoftext|\\u003e'\",\"1: 'def'\",\"2: ' port'\",\"3: '('\",\"4: 'self'\",\"5: ','\",\"6: ' load'\",\"7: ','\",\"8: ' size'\",\"9: ','\",\"10: ' file'\",\"11: ','\",\"12: ' last'\",\"13: '):'\",\"14: '\\\\n'\",\"15: '\\\"\\\"\\\"'\",\"16: 'oil'\",\"17: ' column'\",\"18: ' piece'\",\"19: '\\\\n\\\\n'\",\"20: ' '\",\"21: ' '\",\"22: ' '\",\"23: ' :'\",\"24: 'param'\",\"25: ' load'\",\"26: ':'\",\"27: ' crime'\",\"28: ' population'\",\"29: '\\\\n'\",\"30: ' '\",\"31: ' '\",\"32: ' '\",\"33: ' :'\",\"34: 'param'\",\"35: ' size'\",\"36: ':'\",\"37: ' unit'\",\"38: ' dark'\",\"39: '\\\\n'\",\"40: ' '\",\"41: ' '\",\"42: ' '\",\"43: ' :'\",\"44: 'param'\"],\"y\":[\"0: '\\u003c|endoftext|\\u003e'\",\"1: 'def'\",\"2: ' port'\",\"3: '('\",\"4: 'self'\",\"5: ','\",\"6: ' load'\",\"7: ','\",\"8: ' size'\",\"9: ','\",\"10: ' file'\",\"11: ','\",\"12: ' last'\",\"13: '):'\",\"14: '\\\\n'\",\"15: '\\\"\\\"\\\"'\",\"16: 'oil'\",\"17: ' column'\",\"18: ' piece'\",\"19: '\\\\n\\\\n'\",\"20: ' '\",\"21: ' '\",\"22: ' '\",\"23: ' :'\",\"24: 'param'\",\"25: ' load'\",\"26: ':'\",\"27: ' crime'\",\"28: ' population'\",\"29: '\\\\n'\",\"30: ' '\",\"31: ' '\",\"32: ' '\",\"33: ' :'\",\"34: 'param'\",\"35: ' size'\",\"36: ':'\",\"37: ' unit'\",\"38: ' dark'\",\"39: '\\\\n'\",\"40: ' '\",\"41: ' '\",\"42: ' '\",\"43: ' :'\",\"44: 'param'\"],\"z\":[[-0.02697289176285267,null,null,null,null,null,null,null,null,null,null,null,null,null,null,null,null,null,null,null,null,null,null,null,null,null,null,null,null,null,null,null,null,null,null,null,null,null,null,null,null,null,null,null,null],[-0.02697289176285267,-0.02697289176285267,null,null,null,null,null,null,null,null,null,null,null,null,null,null,null,null,null,null,null,null,null,null,null,null,null,null,null,null,null,null,null,null,null,null,null,null,null,null,null,null,null,null,null],[-0.02697289176285267,-0.02697289176285267,-0.02697289176285267,null,null,null,null,null,null,null,null,null,null,null,null,null,null,null,null,null,null,null,null,null,null,null,null,null,null,null,null,null,null,null,null,null,null,null,null,null,null,null,null,null,null],[-0.02697289176285267,-0.02697289176285267,-0.02697289176285267,-0.02697289176285267,null,null,null,null,null,null,null,null,null,null,null,null,null,null,null,null,null,null,null,null,null,null,null,null,null,null,null,null,null,null,null,null,null,null,null,null,null,null,null,null,null],[-0.02697289176285267,-0.02697289176285267,-0.02697289176285267,-0.02697289176285267,-0.02697289176285267,null,null,null,null,null,null,null,null,null,null,null,null,null,null,null,null,null,null,null,null,null,null,null,null,null,null,null,null,null,null,null,null,null,null,null,null,null,null,null,null],[-0.02697289176285267,-0.02697289176285267,-0.02697289176285267,-0.02697289176285267,-0.02697289176285267,-0.02697289176285267,null,null,null,null,null,null,null,null,null,null,null,null,null,null,null,null,null,null,null,null,null,null,null,null,null,null,null,null,null,null,null,null,null,null,null,null,null,null,null],[-0.02697289176285267,-0.02697289176285267,-0.02697289176285267,-0.02697289176285267,-0.02697289176285267,-0.02697289176285267,-0.02697289176285267,null,null,null,null,null,null,null,null,null,null,null,null,null,null,null,null,null,null,null,null,null,null,null,null,null,null,null,null,null,null,null,null,null,null,null,null,null,null],[-0.02697289176285267,-0.02697289176285267,-0.02697289176285267,-0.02697289176285267,-0.02697289176285267,-0.02697289176285267,-0.02697289176285267,-0.02697289176285267,null,null,null,null,null,null,null,null,null,null,null,null,null,null,null,null,null,null,null,null,null,null,null,null,null,null,null,null,null,null,null,null,null,null,null,null,null],[-0.02697289176285267,-0.02697289176285267,-0.02697289176285267,-0.02697289176285267,-0.02697289176285267,-0.02697289176285267,-0.02697289176285267,-0.02697289176285267,-0.02697289176285267,null,null,null,null,null,null,null,null,null,null,null,null,null,null,null,null,null,null,null,null,null,null,null,null,null,null,null,null,null,null,null,null,null,null,null,null],[-0.02697289176285267,-0.02697289176285267,-0.02697289176285267,-0.02697289176285267,-0.02697289176285267,-0.02697289176285267,-0.02697289176285267,-0.02697289176285267,-0.02697289176285267,-0.02697289176285267,null,null,null,null,null,null,null,null,null,null,null,null,null,null,null,null,null,null,null,null,null,null,null,null,null,null,null,null,null,null,null,null,null,null,null],[-0.02697289176285267,-0.02697289176285267,-0.02697289176285267,-0.02697289176285267,-0.02697289176285267,-0.02697289176285267,-0.02697289176285267,-0.02697289176285267,-0.02697289176285267,-0.02697289176285267,-0.02697289176285267,null,null,null,null,null,null,null,null,null,null,null,null,null,null,null,null,null,null,null,null,null,null,null,null,null,null,null,null,null,null,null,null,null,null],[-0.02697289176285267,-0.02697289176285267,-0.02697289176285267,-0.02697289176285267,-0.02697289176285267,-0.02697289176285267,-0.02697289176285267,-0.02697289176285267,-0.02697289176285267,-0.02697289176285267,-0.02697289176285267,-0.02697289176285267,null,null,null,null,null,null,null,null,null,null,null,null,null,null,null,null,null,null,null,null,null,null,null,null,null,null,null,null,null,null,null,null,null],[-0.02697289176285267,-0.02697289176285267,-0.02697289176285267,-0.02697289176285267,-0.02697289176285267,-0.02697289176285267,-0.02697289176285267,-0.02697289176285267,-0.02697289176285267,-0.02697289176285267,-0.02697289176285267,-0.02697289176285267,-0.02697289176285267,null,null,null,null,null,null,null,null,null,null,null,null,null,null,null,null,null,null,null,null,null,null,null,null,null,null,null,null,null,null,null,null],[-0.02697289176285267,-0.02697289176285267,-0.02697289176285267,-0.02697289176285267,-0.02697289176285267,-0.02697289176285267,-0.02697289176285267,-0.02697289176285267,-0.02697289176285267,-0.02697289176285267,-0.02697289176285267,-0.02697289176285267,-0.02697289176285267,-0.02697289176285267,null,null,null,null,null,null,null,null,null,null,null,null,null,null,null,null,null,null,null,null,null,null,null,null,null,null,null,null,null,null,null],[-0.02697289176285267,-0.02697289176285267,-0.02697289176285267,-0.02697289176285267,-0.02697289176285267,-0.02697289176285267,-0.02697289176285267,-0.02697289176285267,-0.02697289176285267,-0.02697289176285267,-0.02697289176285267,-0.02697289176285267,-0.02697289176285267,-0.02697289176285267,-0.02697289176285267,null,null,null,null,null,null,null,null,null,null,null,null,null,null,null,null,null,null,null,null,null,null,null,null,null,null,null,null,null,null],[-0.02697289176285267,-0.02697289176285267,-0.02697289176285267,-0.02697289176285267,-0.02697289176285267,-0.02697289176285267,-0.02697289176285267,-0.02697289176285267,-0.02697289176285267,-0.02697289176285267,-0.02697289176285267,-0.02697289176285267,-0.02697289176285267,-0.02697289176285267,-0.02697289176285267,-0.02697289176285267,null,null,null,null,null,null,null,null,null,null,null,null,null,null,null,null,null,null,null,null,null,null,null,null,null,null,null,null,null],[-0.02697289176285267,-0.02697289176285267,-0.02697289176285267,-0.02697289176285267,-0.02697289176285267,-0.02697289176285267,-0.02697289176285267,-0.02697289176285267,-0.02697289176285267,-0.02697289176285267,-0.02697289176285267,-0.02697289176285267,-0.02697289176285267,-0.02697289176285267,-0.02697289176285267,-0.02697289176285267,-0.02697289176285267,null,null,null,null,null,null,null,null,null,null,null,null,null,null,null,null,null,null,null,null,null,null,null,null,null,null,null,null],[-0.02697289176285267,-0.02697289176285267,-0.02697289176285267,-0.02697289176285267,-0.02697289176285267,-0.02697289176285267,-0.02697289176285267,-0.02697289176285267,-0.02697289176285267,-0.02697289176285267,-0.02697289176285267,-0.02697289176285267,-0.02697289176285267,-0.02697289176285267,-0.02697289176285267,-0.02697289176285267,-0.02697289176285267,-0.02697289176285267,null,null,null,null,null,null,null,null,null,null,null,null,null,null,null,null,null,null,null,null,null,null,null,null,null,null,null],[-0.02697289176285267,-0.02697289176285267,-0.02697289176285267,-0.02697289176285267,-0.02697289176285267,-0.02697289176285267,-0.02697289176285267,-0.02697289176285267,-0.02697289176285267,-0.02697289176285267,-0.02697289176285267,-0.02697289176285267,-0.02697289176285267,-0.02697289176285267,-0.02697289176285267,-0.02697289176285267,-0.02697289176285267,-0.02697289176285267,-0.02697289176285267,null,null,null,null,null,null,null,null,null,null,null,null,null,null,null,null,null,null,null,null,null,null,null,null,null,null],[-0.02697289176285267,-0.02697289176285267,-0.02697289176285267,-0.02697289176285267,-0.02697289176285267,-0.02697289176285267,-0.02697289176285267,-0.02697289176285267,-0.02697289176285267,-0.02697289176285267,-0.02697289176285267,-0.02697289176285267,-0.02697289176285267,-0.02697289176285267,-0.02697289176285267,-0.02697289176285267,-0.02697289176285267,-0.02697289176285267,-0.02697289176285267,-0.02697289176285267,null,null,null,null,null,null,null,null,null,null,null,null,null,null,null,null,null,null,null,null,null,null,null,null,null],[-0.02697289176285267,-0.02697289176285267,-0.02697289176285267,-0.02697289176285267,-0.02697289176285267,-0.02697289176285267,-0.02697289176285267,-0.02697289176285267,-0.02697289176285267,-0.02697289176285267,-0.02697289176285267,-0.02697289176285267,-0.02697289176285267,-0.02697289176285267,-0.02697289176285267,-0.02697289176285267,-0.02697289176285267,-0.02697289176285267,-0.02697289176285267,-0.02697289176285267,-0.02697289176285267,null,null,null,null,null,null,null,null,null,null,null,null,null,null,null,null,null,null,null,null,null,null,null,null],[-0.02697289176285267,-0.02697289176285267,-0.02697289176285267,-0.02697289176285267,-0.02697289176285267,-0.02697289176285267,-0.02697289176285267,-0.02697289176285267,-0.02697289176285267,-0.02697289176285267,-0.02697289176285267,-0.02697289176285267,-0.02697289176285267,-0.02697289176285267,-0.02697289176285267,-0.02697289176285267,-0.02697289176285267,-0.02697289176285267,-0.02697289176285267,-0.02697289176285267,-0.02697289176285267,-0.02697289176285267,null,null,null,null,null,null,null,null,null,null,null,null,null,null,null,null,null,null,null,null,null,null,null],[-0.02697289176285267,-0.02697289176285267,-0.02697289176285267,-0.02697289176285267,-0.02697289176285267,-0.02697289176285267,-0.02697289176285267,-0.02697289176285267,-0.02697289176285267,-0.02697289176285267,-0.02697289176285267,-0.02697289176285267,-0.02697289176285267,-0.02697289176285267,-0.02697289176285267,-0.02697289176285267,-0.02697289176285267,-0.02697289176285267,-0.02697289176285267,-0.02697289176285267,-0.02697289176285267,-0.02697289176285267,-0.02697289176285267,null,null,null,null,null,null,null,null,null,null,null,null,null,null,null,null,null,null,null,null,null,null],[-0.08120457082986832,-0.08120457082986832,-0.08120457082986832,-0.08120457082986832,-0.08120457082986832,-0.08120457082986832,-0.08120457082986832,-0.08120457082986832,-0.08120457082986832,-0.08120457082986832,-0.08120457082986832,-0.08120457082986832,0.013846499845385551,0.013846499845385551,0.013846499845385551,0.013846499845385551,0.013846499845385551,0.013846499845385551,0.013846499845385551,0.013846499845385551,0.013846499845385551,0.013846499845385551,0.013846499845385551,-0.06239771470427513,null,null,null,null,null,null,null,null,null,null,null,null,null,null,null,null,null,null,null,null,null],[-0.08120457082986832,-0.08120457082986832,-0.08120457082986832,-0.08120457082986832,-0.08120457082986832,-0.08120457082986832,-0.08120457082986832,-0.08120457082986832,-0.08120457082986832,-0.08120457082986832,-0.08120457082986832,-0.08120457082986832,0.013846499845385551,0.013846499845385551,0.013846499845385551,0.013846499845385551,0.013846499845385551,0.013846499845385551,0.013846499845385551,0.013846499845385551,0.013846499845385551,0.013846499845385551,0.013846499845385551,-0.06239771470427513,-0.06239771470427513,null,null,null,null,null,null,null,null,null,null,null,null,null,null,null,null,null,null,null,null],[-0.08120457082986832,-0.08120457082986832,-0.08120457082986832,-0.08120457082986832,-0.08120457082986832,-0.08120457082986832,-0.08120457082986832,-0.08120457082986832,-0.08120457082986832,-0.08120457082986832,-0.08120457082986832,-0.08120457082986832,0.013846499845385551,0.013846499845385551,0.013846499845385551,0.013846499845385551,0.013846499845385551,0.013846499845385551,0.013846499845385551,0.013846499845385551,0.013846499845385551,0.013846499845385551,0.013846499845385551,-0.06239771470427513,-0.06239771470427513,-0.06239771470427513,null,null,null,null,null,null,null,null,null,null,null,null,null,null,null,null,null,null,null],[-0.08120457082986832,-0.08120457082986832,-0.08120457082986832,-0.08120457082986832,-0.08120457082986832,-0.08120457082986832,-0.08120457082986832,-0.08120457082986832,-0.08120457082986832,-0.08120457082986832,-0.08120457082986832,-0.08120457082986832,0.013846499845385551,0.013846499845385551,0.013846499845385551,0.013846499845385551,0.013846499845385551,0.013846499845385551,0.013846499845385551,0.013846499845385551,0.013846499845385551,0.013846499845385551,0.013846499845385551,-0.06239771470427513,-0.06239771470427513,-0.06239771470427513,-0.06239771470427513,null,null,null,null,null,null,null,null,null,null,null,null,null,null,null,null,null,null],[-0.08120457082986832,-0.08120457082986832,-0.08120457082986832,-0.08120457082986832,-0.08120457082986832,-0.08120457082986832,-0.08120457082986832,-0.08120457082986832,-0.08120457082986832,-0.08120457082986832,-0.08120457082986832,-0.08120457082986832,0.013846499845385551,0.013846499845385551,0.013846499845385551,0.013846499845385551,0.013846499845385551,0.013846499845385551,0.013846499845385551,0.013846499845385551,0.013846499845385551,0.013846499845385551,0.013846499845385551,-0.06239771470427513,-0.06239771470427513,-0.06239771470427513,-0.06239771470427513,-0.06239771470427513,null,null,null,null,null,null,null,null,null,null,null,null,null,null,null,null,null],[-0.08120457082986832,-0.08120457082986832,-0.08120457082986832,-0.08120457082986832,-0.08120457082986832,-0.08120457082986832,-0.08120457082986832,-0.08120457082986832,-0.08120457082986832,-0.08120457082986832,-0.08120457082986832,-0.08120457082986832,0.013846499845385551,0.013846499845385551,0.013846499845385551,0.013846499845385551,0.013846499845385551,0.013846499845385551,0.013846499845385551,0.013846499845385551,0.013846499845385551,0.013846499845385551,0.013846499845385551,-0.06239771470427513,-0.06239771470427513,-0.06239771470427513,-0.06239771470427513,-0.06239771470427513,-0.06239771470427513,null,null,null,null,null,null,null,null,null,null,null,null,null,null,null,null],[-0.08120457082986832,-0.08120457082986832,-0.08120457082986832,-0.08120457082986832,-0.08120457082986832,-0.08120457082986832,-0.08120457082986832,-0.08120457082986832,-0.08120457082986832,-0.08120457082986832,-0.08120457082986832,-0.08120457082986832,0.013846499845385551,0.013846499845385551,0.013846499845385551,0.013846499845385551,0.013846499845385551,0.013846499845385551,0.013846499845385551,0.013846499845385551,0.013846499845385551,0.013846499845385551,0.013846499845385551,-0.06239771470427513,-0.06239771470427513,-0.06239771470427513,-0.06239771470427513,-0.06239771470427513,-0.06239771470427513,-0.06239771470427513,null,null,null,null,null,null,null,null,null,null,null,null,null,null,null],[-0.08120457082986832,-0.08120457082986832,-0.08120457082986832,-0.08120457082986832,-0.08120457082986832,-0.08120457082986832,-0.08120457082986832,-0.08120457082986832,-0.08120457082986832,-0.08120457082986832,-0.08120457082986832,-0.08120457082986832,0.013846499845385551,0.013846499845385551,0.013846499845385551,0.013846499845385551,0.013846499845385551,0.013846499845385551,0.013846499845385551,0.013846499845385551,0.013846499845385551,0.013846499845385551,0.013846499845385551,-0.06239771470427513,-0.06239771470427513,-0.06239771470427513,-0.06239771470427513,-0.06239771470427513,-0.06239771470427513,-0.06239771470427513,-0.06239771470427513,null,null,null,null,null,null,null,null,null,null,null,null,null,null],[-0.08120457082986832,-0.08120457082986832,-0.08120457082986832,-0.08120457082986832,-0.08120457082986832,-0.08120457082986832,-0.08120457082986832,-0.08120457082986832,-0.08120457082986832,-0.08120457082986832,-0.08120457082986832,-0.08120457082986832,0.013846499845385551,0.013846499845385551,0.013846499845385551,0.013846499845385551,0.013846499845385551,0.013846499845385551,0.013846499845385551,0.013846499845385551,0.013846499845385551,0.013846499845385551,0.013846499845385551,-0.06239771470427513,-0.06239771470427513,-0.06239771470427513,-0.06239771470427513,-0.06239771470427513,-0.06239771470427513,-0.06239771470427513,-0.06239771470427513,-0.06239771470427513,null,null,null,null,null,null,null,null,null,null,null,null,null],[-0.08120457082986832,-0.08120457082986832,-0.08120457082986832,-0.08120457082986832,-0.08120457082986832,-0.08120457082986832,-0.08120457082986832,-0.08120457082986832,-0.08120457082986832,-0.08120457082986832,-0.08120457082986832,-0.08120457082986832,0.013846499845385551,0.013846499845385551,0.013846499845385551,0.013846499845385551,0.013846499845385551,0.013846499845385551,0.013846499845385551,0.013846499845385551,0.013846499845385551,0.013846499845385551,0.013846499845385551,-0.06239771470427513,-0.06239771470427513,-0.06239771470427513,-0.06239771470427513,-0.06239771470427513,-0.06239771470427513,-0.06239771470427513,-0.06239771470427513,-0.06239771470427513,-0.06239771470427513,null,null,null,null,null,null,null,null,null,null,null,null],[-0.08120457082986832,-0.08120457082986832,-0.08120457082986832,-0.08120457082986832,-0.08120457082986832,-0.08120457082986832,-0.08120457082986832,-0.08120457082986832,-0.08120457082986832,-0.08120457082986832,-0.08120457082986832,-0.08120457082986832,0.013846499845385551,0.013846499845385551,0.013846499845385551,0.013846499845385551,0.013846499845385551,0.013846499845385551,0.013846499845385551,0.013846499845385551,0.013846499845385551,0.013846499845385551,0.013846499845385551,-0.06239771470427513,-0.06239771470427513,-0.06239771470427513,-0.06239771470427513,-0.06239771470427513,-0.06239771470427513,-0.06239771470427513,-0.06239771470427513,-0.06239771470427513,-0.06239771470427513,-0.06239771470427513,null,null,null,null,null,null,null,null,null,null,null],[-0.017392762005329132,-0.017392762005329132,-0.017392762005329132,-0.017392762005329132,-0.017392762005329132,-0.017392762005329132,-0.017392762005329132,-0.017392762005329132,-0.017392762005329132,-0.017392762005329132,-0.017392762005329132,-0.017392762005329132,0.017039237543940544,0.017039237543940544,0.017039237543940544,0.017039237543940544,0.017039237543940544,0.017039237543940544,-0.0013237673556432128,-0.0013237673556432128,-0.0013237673556432128,-0.0013237673556432128,-0.0013237673556432128,-0.07870111614465714,-0.07870111614465714,-0.07870111614465714,-0.07870111614465714,-0.07870111614465714,-0.07870111614465714,0.00460125831887126,0.00460125831887126,0.00460125831887126,0.00460125831887126,0.00460125831887126,0.026776742190122604,null,null,null,null,null,null,null,null,null,null],[-0.017392762005329132,-0.017392762005329132,-0.017392762005329132,-0.017392762005329132,-0.017392762005329132,-0.017392762005329132,-0.017392762005329132,-0.017392762005329132,-0.017392762005329132,-0.017392762005329132,-0.017392762005329132,-0.017392762005329132,0.017039237543940544,0.017039237543940544,0.017039237543940544,0.017039237543940544,0.017039237543940544,0.017039237543940544,-0.0013237673556432128,-0.0013237673556432128,-0.0013237673556432128,-0.0013237673556432128,-0.0013237673556432128,-0.07870111614465714,-0.07870111614465714,-0.07870111614465714,-0.07870111614465714,-0.07870111614465714,-0.07870111614465714,0.00460125831887126,0.00460125831887126,0.00460125831887126,0.00460125831887126,0.00460125831887126,0.026776742190122604,0.026776742190122604,null,null,null,null,null,null,null,null,null],[-0.017392762005329132,-0.017392762005329132,-0.017392762005329132,-0.017392762005329132,-0.017392762005329132,-0.017392762005329132,-0.017392762005329132,-0.017392762005329132,-0.017392762005329132,-0.017392762005329132,-0.017392762005329132,-0.017392762005329132,0.017039237543940544,0.017039237543940544,0.017039237543940544,0.017039237543940544,0.017039237543940544,0.017039237543940544,-0.0013237673556432128,-0.0013237673556432128,-0.0013237673556432128,-0.0013237673556432128,-0.0013237673556432128,-0.07870111614465714,-0.07870111614465714,-0.07870111614465714,-0.07870111614465714,-0.07870111614465714,-0.07870111614465714,0.00460125831887126,0.00460125831887126,0.00460125831887126,0.00460125831887126,0.00460125831887126,0.026776742190122604,0.026776742190122604,0.026776742190122604,null,null,null,null,null,null,null,null],[-0.017392762005329132,-0.017392762005329132,-0.017392762005329132,-0.017392762005329132,-0.017392762005329132,-0.017392762005329132,-0.017392762005329132,-0.017392762005329132,-0.017392762005329132,-0.017392762005329132,-0.017392762005329132,-0.017392762005329132,0.017039237543940544,0.017039237543940544,0.017039237543940544,0.017039237543940544,0.017039237543940544,0.017039237543940544,-0.0013237673556432128,-0.0013237673556432128,-0.0013237673556432128,-0.0013237673556432128,-0.0013237673556432128,-0.07870111614465714,-0.07870111614465714,-0.07870111614465714,-0.07870111614465714,-0.07870111614465714,-0.07870111614465714,0.00460125831887126,0.00460125831887126,0.00460125831887126,0.00460125831887126,0.00460125831887126,0.026776742190122604,0.026776742190122604,0.026776742190122604,0.026776742190122604,null,null,null,null,null,null,null],[-0.017392762005329132,-0.017392762005329132,-0.017392762005329132,-0.017392762005329132,-0.017392762005329132,-0.017392762005329132,-0.017392762005329132,-0.017392762005329132,-0.017392762005329132,-0.017392762005329132,-0.017392762005329132,-0.017392762005329132,0.017039237543940544,0.017039237543940544,0.017039237543940544,0.017039237543940544,0.017039237543940544,0.017039237543940544,-0.0013237673556432128,-0.0013237673556432128,-0.0013237673556432128,-0.0013237673556432128,-0.0013237673556432128,-0.07870111614465714,-0.07870111614465714,-0.07870111614465714,-0.07870111614465714,-0.07870111614465714,-0.07870111614465714,0.00460125831887126,0.00460125831887126,0.00460125831887126,0.00460125831887126,0.00460125831887126,0.026776742190122604,0.026776742190122604,0.026776742190122604,0.026776742190122604,0.026776742190122604,null,null,null,null,null,null],[-0.017392762005329132,-0.017392762005329132,-0.017392762005329132,-0.017392762005329132,-0.017392762005329132,-0.017392762005329132,-0.017392762005329132,-0.017392762005329132,-0.017392762005329132,-0.017392762005329132,-0.017392762005329132,-0.017392762005329132,0.017039237543940544,0.017039237543940544,0.017039237543940544,0.017039237543940544,0.017039237543940544,0.017039237543940544,-0.0013237673556432128,-0.0013237673556432128,-0.0013237673556432128,-0.0013237673556432128,-0.0013237673556432128,-0.07870111614465714,-0.07870111614465714,-0.07870111614465714,-0.07870111614465714,-0.07870111614465714,-0.07870111614465714,0.00460125831887126,0.00460125831887126,0.00460125831887126,0.00460125831887126,0.00460125831887126,0.026776742190122604,0.026776742190122604,0.026776742190122604,0.026776742190122604,0.026776742190122604,0.026776742190122604,null,null,null,null,null],[-0.017392762005329132,-0.017392762005329132,-0.017392762005329132,-0.017392762005329132,-0.017392762005329132,-0.017392762005329132,-0.017392762005329132,-0.017392762005329132,-0.017392762005329132,-0.017392762005329132,-0.017392762005329132,-0.017392762005329132,-0.0010638204403221607,-0.0010638204403221607,-0.0010638204403221607,-7.4535928433761e-05,-7.4535928433761e-05,-7.4535928433761e-05,-0.0009148646495305002,-0.0009148646495305002,-0.0009148646495305002,-0.0009148646495305002,-0.0009148646495305002,-0.001025971956551075,-0.001025971956551075,-0.001025971956551075,4.945842010783963e-05,4.945842010783963e-05,4.945842010783963e-05,-0.005114650819450617,-0.005114650819450617,-0.005114650819450617,-0.005114650819450617,-0.005114650819450617,0.005505906417965889,0.005505906417965889,0.005505906417965889,-0.002656822558492422,-0.002656822558492422,-0.002656822558492422,-0.038088902831077576,null,null,null,null],[-0.017392762005329132,-0.017392762005329132,-0.017392762005329132,-0.017392762005329132,-0.017392762005329132,-0.017392762005329132,-0.017392762005329132,-0.017392762005329132,-0.017392762005329132,-0.017392762005329132,-0.017392762005329132,-0.017392762005329132,-0.0010638204403221607,-0.0010638204403221607,-0.0010638204403221607,-7.4535928433761e-05,-7.4535928433761e-05,-7.4535928433761e-05,-0.0009148646495305002,-0.0009148646495305002,-0.0009148646495305002,-0.0009148646495305002,-0.0009148646495305002,-0.001025971956551075,-0.001025971956551075,-0.001025971956551075,4.945842010783963e-05,4.945842010783963e-05,4.945842010783963e-05,-0.005114650819450617,-0.005114650819450617,-0.005114650819450617,-0.005114650819450617,-0.005114650819450617,0.005505906417965889,0.005505906417965889,0.005505906417965889,-0.002656822558492422,-0.002656822558492422,-0.002656822558492422,-0.038088902831077576,-0.038088902831077576,null,null,null],[-0.017392762005329132,-0.017392762005329132,-0.017392762005329132,-0.017392762005329132,-0.017392762005329132,-0.017392762005329132,-0.017392762005329132,-0.017392762005329132,-0.017392762005329132,-0.017392762005329132,-0.017392762005329132,-0.017392762005329132,-0.0010638204403221607,-0.0010638204403221607,-0.0010638204403221607,-7.4535928433761e-05,-7.4535928433761e-05,-7.4535928433761e-05,-0.0009148646495305002,-0.0009148646495305002,-0.0009148646495305002,-0.0009148646495305002,-0.0009148646495305002,-0.001025971956551075,-0.001025971956551075,-0.001025971956551075,4.945842010783963e-05,4.945842010783963e-05,4.945842010783963e-05,-0.005114650819450617,-0.005114650819450617,-0.005114650819450617,-0.005114650819450617,-0.005114650819450617,0.005505906417965889,0.005505906417965889,0.005505906417965889,-0.002656822558492422,-0.002656822558492422,-0.002656822558492422,-0.038088902831077576,-0.038088902831077576,-0.038088902831077576,null,null],[-0.017392762005329132,-0.017392762005329132,-0.017392762005329132,-0.017392762005329132,-0.017392762005329132,-0.017392762005329132,-0.017392762005329132,-0.017392762005329132,-0.017392762005329132,-0.017392762005329132,-0.017392762005329132,-0.017392762005329132,0.00027434329967945814,0.00027434329967945814,-0.0005737640894949436,0.001575703383423388,0.001575703383423388,0.001575703383423388,-0.0009148646495305002,-0.0009148646495305002,-0.0009148646495305002,-0.0009148646495305002,-0.0009148646495305002,-0.04818480461835861,-0.04818480461835861,-0.04818480461835861,-0.09626216441392899,-0.09626216441392899,-0.09626216441392899,-0.005114650819450617,-0.005114650819450617,-0.005114650819450617,-0.005114650819450617,-0.005114650819450617,0.00025518686743453145,0.00025518686743453145,-0.005486865993589163,0.054495979100465775,0.054495979100465775,0.054495979100465775,-0.038088902831077576,-0.038088902831077576,-0.038088902831077576,-0.038088902831077576,null],[-0.017392762005329132,-0.017392762005329132,-0.017392762005329132,-0.017392762005329132,-0.017392762005329132,-0.017392762005329132,-0.017392762005329132,-0.017392762005329132,-0.017392762005329132,-0.017392762005329132,-0.017392762005329132,-0.017392762005329132,-0.13753202557563782,-0.005204047542065382,-0.008414432406425476,0.001575703383423388,0.001575703383423388,0.001575703383423388,-0.0009148646495305002,-0.0009148646495305002,-0.0009148646495305002,-0.0009148646495305002,-0.0009148646495305002,-0.04818480461835861,-0.04818480461835861,-0.04818480461835861,-0.09626216441392899,-0.09626216441392899,-0.09626216441392899,-0.005114650819450617,-0.005114650819450617,-0.005114650819450617,-0.005114650819450617,-0.005114650819450617,-0.002421953249722719,-0.30389726161956787,0.04968272149562836,0.054495979100465775,0.054495979100465775,0.054495979100465775,-0.038088902831077576,-0.038088902831077576,-0.038088902831077576,-0.038088902831077576,-0.038088902831077576]],\"type\":\"heatmap\",\"xaxis\":\"x\",\"yaxis\":\"y\",\"hovertemplate\":\"Source: %{x}\\u003cbr\\u003eTarget: %{y}\\u003cbr\\u003eStrength: %{z}\\u003cextra\\u003e\\u003c\\u002fextra\\u003e\"}],                        {\"template\":{\"data\":{\"histogram2dcontour\":[{\"type\":\"histogram2dcontour\",\"colorbar\":{\"outlinewidth\":0,\"ticks\":\"\"},\"colorscale\":[[0.0,\"#0d0887\"],[0.1111111111111111,\"#46039f\"],[0.2222222222222222,\"#7201a8\"],[0.3333333333333333,\"#9c179e\"],[0.4444444444444444,\"#bd3786\"],[0.5555555555555556,\"#d8576b\"],[0.6666666666666666,\"#ed7953\"],[0.7777777777777778,\"#fb9f3a\"],[0.8888888888888888,\"#fdca26\"],[1.0,\"#f0f921\"]]}],\"choropleth\":[{\"type\":\"choropleth\",\"colorbar\":{\"outlinewidth\":0,\"ticks\":\"\"}}],\"histogram2d\":[{\"type\":\"histogram2d\",\"colorbar\":{\"outlinewidth\":0,\"ticks\":\"\"},\"colorscale\":[[0.0,\"#0d0887\"],[0.1111111111111111,\"#46039f\"],[0.2222222222222222,\"#7201a8\"],[0.3333333333333333,\"#9c179e\"],[0.4444444444444444,\"#bd3786\"],[0.5555555555555556,\"#d8576b\"],[0.6666666666666666,\"#ed7953\"],[0.7777777777777778,\"#fb9f3a\"],[0.8888888888888888,\"#fdca26\"],[1.0,\"#f0f921\"]]}],\"heatmap\":[{\"type\":\"heatmap\",\"colorbar\":{\"outlinewidth\":0,\"ticks\":\"\"},\"colorscale\":[[0.0,\"#0d0887\"],[0.1111111111111111,\"#46039f\"],[0.2222222222222222,\"#7201a8\"],[0.3333333333333333,\"#9c179e\"],[0.4444444444444444,\"#bd3786\"],[0.5555555555555556,\"#d8576b\"],[0.6666666666666666,\"#ed7953\"],[0.7777777777777778,\"#fb9f3a\"],[0.8888888888888888,\"#fdca26\"],[1.0,\"#f0f921\"]]}],\"heatmapgl\":[{\"type\":\"heatmapgl\",\"colorbar\":{\"outlinewidth\":0,\"ticks\":\"\"},\"colorscale\":[[0.0,\"#0d0887\"],[0.1111111111111111,\"#46039f\"],[0.2222222222222222,\"#7201a8\"],[0.3333333333333333,\"#9c179e\"],[0.4444444444444444,\"#bd3786\"],[0.5555555555555556,\"#d8576b\"],[0.6666666666666666,\"#ed7953\"],[0.7777777777777778,\"#fb9f3a\"],[0.8888888888888888,\"#fdca26\"],[1.0,\"#f0f921\"]]}],\"contourcarpet\":[{\"type\":\"contourcarpet\",\"colorbar\":{\"outlinewidth\":0,\"ticks\":\"\"}}],\"contour\":[{\"type\":\"contour\",\"colorbar\":{\"outlinewidth\":0,\"ticks\":\"\"},\"colorscale\":[[0.0,\"#0d0887\"],[0.1111111111111111,\"#46039f\"],[0.2222222222222222,\"#7201a8\"],[0.3333333333333333,\"#9c179e\"],[0.4444444444444444,\"#bd3786\"],[0.5555555555555556,\"#d8576b\"],[0.6666666666666666,\"#ed7953\"],[0.7777777777777778,\"#fb9f3a\"],[0.8888888888888888,\"#fdca26\"],[1.0,\"#f0f921\"]]}],\"surface\":[{\"type\":\"surface\",\"colorbar\":{\"outlinewidth\":0,\"ticks\":\"\"},\"colorscale\":[[0.0,\"#0d0887\"],[0.1111111111111111,\"#46039f\"],[0.2222222222222222,\"#7201a8\"],[0.3333333333333333,\"#9c179e\"],[0.4444444444444444,\"#bd3786\"],[0.5555555555555556,\"#d8576b\"],[0.6666666666666666,\"#ed7953\"],[0.7777777777777778,\"#fb9f3a\"],[0.8888888888888888,\"#fdca26\"],[1.0,\"#f0f921\"]]}],\"mesh3d\":[{\"type\":\"mesh3d\",\"colorbar\":{\"outlinewidth\":0,\"ticks\":\"\"}}],\"scatter\":[{\"fillpattern\":{\"fillmode\":\"overlay\",\"size\":10,\"solidity\":0.2},\"type\":\"scatter\"}],\"parcoords\":[{\"type\":\"parcoords\",\"line\":{\"colorbar\":{\"outlinewidth\":0,\"ticks\":\"\"}}}],\"scatterpolargl\":[{\"type\":\"scatterpolargl\",\"marker\":{\"colorbar\":{\"outlinewidth\":0,\"ticks\":\"\"}}}],\"bar\":[{\"error_x\":{\"color\":\"#2a3f5f\"},\"error_y\":{\"color\":\"#2a3f5f\"},\"marker\":{\"line\":{\"color\":\"#E5ECF6\",\"width\":0.5},\"pattern\":{\"fillmode\":\"overlay\",\"size\":10,\"solidity\":0.2}},\"type\":\"bar\"}],\"scattergeo\":[{\"type\":\"scattergeo\",\"marker\":{\"colorbar\":{\"outlinewidth\":0,\"ticks\":\"\"}}}],\"scatterpolar\":[{\"type\":\"scatterpolar\",\"marker\":{\"colorbar\":{\"outlinewidth\":0,\"ticks\":\"\"}}}],\"histogram\":[{\"marker\":{\"pattern\":{\"fillmode\":\"overlay\",\"size\":10,\"solidity\":0.2}},\"type\":\"histogram\"}],\"scattergl\":[{\"type\":\"scattergl\",\"marker\":{\"colorbar\":{\"outlinewidth\":0,\"ticks\":\"\"}}}],\"scatter3d\":[{\"type\":\"scatter3d\",\"line\":{\"colorbar\":{\"outlinewidth\":0,\"ticks\":\"\"}},\"marker\":{\"colorbar\":{\"outlinewidth\":0,\"ticks\":\"\"}}}],\"scattermapbox\":[{\"type\":\"scattermapbox\",\"marker\":{\"colorbar\":{\"outlinewidth\":0,\"ticks\":\"\"}}}],\"scatterternary\":[{\"type\":\"scatterternary\",\"marker\":{\"colorbar\":{\"outlinewidth\":0,\"ticks\":\"\"}}}],\"scattercarpet\":[{\"type\":\"scattercarpet\",\"marker\":{\"colorbar\":{\"outlinewidth\":0,\"ticks\":\"\"}}}],\"carpet\":[{\"aaxis\":{\"endlinecolor\":\"#2a3f5f\",\"gridcolor\":\"white\",\"linecolor\":\"white\",\"minorgridcolor\":\"white\",\"startlinecolor\":\"#2a3f5f\"},\"baxis\":{\"endlinecolor\":\"#2a3f5f\",\"gridcolor\":\"white\",\"linecolor\":\"white\",\"minorgridcolor\":\"white\",\"startlinecolor\":\"#2a3f5f\"},\"type\":\"carpet\"}],\"table\":[{\"cells\":{\"fill\":{\"color\":\"#EBF0F8\"},\"line\":{\"color\":\"white\"}},\"header\":{\"fill\":{\"color\":\"#C8D4E3\"},\"line\":{\"color\":\"white\"}},\"type\":\"table\"}],\"barpolar\":[{\"marker\":{\"line\":{\"color\":\"#E5ECF6\",\"width\":0.5},\"pattern\":{\"fillmode\":\"overlay\",\"size\":10,\"solidity\":0.2}},\"type\":\"barpolar\"}],\"pie\":[{\"automargin\":true,\"type\":\"pie\"}]},\"layout\":{\"autotypenumbers\":\"strict\",\"colorway\":[\"#636efa\",\"#EF553B\",\"#00cc96\",\"#ab63fa\",\"#FFA15A\",\"#19d3f3\",\"#FF6692\",\"#B6E880\",\"#FF97FF\",\"#FECB52\"],\"font\":{\"color\":\"#2a3f5f\"},\"hovermode\":\"closest\",\"hoverlabel\":{\"align\":\"left\"},\"paper_bgcolor\":\"white\",\"plot_bgcolor\":\"#E5ECF6\",\"polar\":{\"bgcolor\":\"#E5ECF6\",\"angularaxis\":{\"gridcolor\":\"white\",\"linecolor\":\"white\",\"ticks\":\"\"},\"radialaxis\":{\"gridcolor\":\"white\",\"linecolor\":\"white\",\"ticks\":\"\"}},\"ternary\":{\"bgcolor\":\"#E5ECF6\",\"aaxis\":{\"gridcolor\":\"white\",\"linecolor\":\"white\",\"ticks\":\"\"},\"baxis\":{\"gridcolor\":\"white\",\"linecolor\":\"white\",\"ticks\":\"\"},\"caxis\":{\"gridcolor\":\"white\",\"linecolor\":\"white\",\"ticks\":\"\"}},\"coloraxis\":{\"colorbar\":{\"outlinewidth\":0,\"ticks\":\"\"}},\"colorscale\":{\"sequential\":[[0.0,\"#0d0887\"],[0.1111111111111111,\"#46039f\"],[0.2222222222222222,\"#7201a8\"],[0.3333333333333333,\"#9c179e\"],[0.4444444444444444,\"#bd3786\"],[0.5555555555555556,\"#d8576b\"],[0.6666666666666666,\"#ed7953\"],[0.7777777777777778,\"#fb9f3a\"],[0.8888888888888888,\"#fdca26\"],[1.0,\"#f0f921\"]],\"sequentialminus\":[[0.0,\"#0d0887\"],[0.1111111111111111,\"#46039f\"],[0.2222222222222222,\"#7201a8\"],[0.3333333333333333,\"#9c179e\"],[0.4444444444444444,\"#bd3786\"],[0.5555555555555556,\"#d8576b\"],[0.6666666666666666,\"#ed7953\"],[0.7777777777777778,\"#fb9f3a\"],[0.8888888888888888,\"#fdca26\"],[1.0,\"#f0f921\"]],\"diverging\":[[0,\"#8e0152\"],[0.1,\"#c51b7d\"],[0.2,\"#de77ae\"],[0.3,\"#f1b6da\"],[0.4,\"#fde0ef\"],[0.5,\"#f7f7f7\"],[0.6,\"#e6f5d0\"],[0.7,\"#b8e186\"],[0.8,\"#7fbc41\"],[0.9,\"#4d9221\"],[1,\"#276419\"]]},\"xaxis\":{\"gridcolor\":\"white\",\"linecolor\":\"white\",\"ticks\":\"\",\"title\":{\"standoff\":15},\"zerolinecolor\":\"white\",\"automargin\":true,\"zerolinewidth\":2},\"yaxis\":{\"gridcolor\":\"white\",\"linecolor\":\"white\",\"ticks\":\"\",\"title\":{\"standoff\":15},\"zerolinecolor\":\"white\",\"automargin\":true,\"zerolinewidth\":2},\"scene\":{\"xaxis\":{\"backgroundcolor\":\"#E5ECF6\",\"gridcolor\":\"white\",\"linecolor\":\"white\",\"showbackground\":true,\"ticks\":\"\",\"zerolinecolor\":\"white\",\"gridwidth\":2},\"yaxis\":{\"backgroundcolor\":\"#E5ECF6\",\"gridcolor\":\"white\",\"linecolor\":\"white\",\"showbackground\":true,\"ticks\":\"\",\"zerolinecolor\":\"white\",\"gridwidth\":2},\"zaxis\":{\"backgroundcolor\":\"#E5ECF6\",\"gridcolor\":\"white\",\"linecolor\":\"white\",\"showbackground\":true,\"ticks\":\"\",\"zerolinecolor\":\"white\",\"gridwidth\":2}},\"shapedefaults\":{\"line\":{\"color\":\"#2a3f5f\"}},\"annotationdefaults\":{\"arrowcolor\":\"#2a3f5f\",\"arrowhead\":0,\"arrowwidth\":1},\"geo\":{\"bgcolor\":\"white\",\"landcolor\":\"#E5ECF6\",\"subunitcolor\":\"white\",\"showland\":true,\"showlakes\":true,\"lakecolor\":\"white\"},\"title\":{\"x\":0.05},\"mapbox\":{\"style\":\"light\"}}},\"xaxis\":{\"anchor\":\"y\",\"domain\":[0.0,1.0],\"scaleanchor\":\"y\",\"constrain\":\"domain\",\"title\":{\"text\":\"Source\"}},\"yaxis\":{\"anchor\":\"x\",\"domain\":[0.0,1.0],\"autorange\":\"reversed\",\"constrain\":\"domain\",\"title\":{\"text\":\"Target\"}},\"coloraxis\":{\"colorbar\":{\"title\":{\"text\":\"Strength\"}},\"colorscale\":[[0.0,\"rgb(103,0,31)\"],[0.1,\"rgb(178,24,43)\"],[0.2,\"rgb(214,96,77)\"],[0.3,\"rgb(244,165,130)\"],[0.4,\"rgb(253,219,199)\"],[0.5,\"rgb(247,247,247)\"],[0.6,\"rgb(209,229,240)\"],[0.7,\"rgb(146,197,222)\"],[0.8,\"rgb(67,147,195)\"],[0.9,\"rgb(33,102,172)\"],[1.0,\"rgb(5,48,97)\"]],\"cmid\":0},\"title\":{\"text\":\"Attention connectome\"}},                        {\"responsive\": true}                    ).then(function(){\n                            \nvar gd = document.getElementById('02d9d55e-7c78-45f1-a96f-bb5934ca9a55');\nvar x = new MutationObserver(function (mutations, observer) {{\n        var display = window.getComputedStyle(gd).display;\n        if (!display || display === 'none') {{\n            console.log([gd, 'removed!']);\n            Plotly.purge(gd);\n            observer.disconnect();\n        }}\n}});\n\n// Listen for the removal of the full notebook cells\nvar notebookContainer = gd.closest('#notebook-container');\nif (notebookContainer) {{\n    x.observe(notebookContainer, {childList: true});\n}}\n\n// Listen for the clearing of the current output cell\nvar outputEl = gd.closest('.output');\nif (outputEl) {{\n    x.observe(outputEl, {childList: true});\n}}\n\n                        })                };                });            </script>        </div>"
     },
     "metadata": {},
     "output_type": "display_data"
    },
    {
     "data": {
      "text/plain": "<IPython.core.display.SVG object>",
      "image/svg+xml": "<svg xmlns=\"http://www.w3.org/2000/svg\" xmlns:xlink=\"http://www.w3.org/1999/xlink\" width=\"204pt\" height=\"133pt\" viewBox=\"0.00 0.00 203.88 132.50\">\n<g id=\"graph0\" class=\"graph\" transform=\"scale(1 1) rotate(0) translate(4 128.5)\">\n<polygon fill=\"white\" stroke=\"none\" points=\"-4,4 -4,-128.5 199.88,-128.5 199.88,4 -4,4\"/>\n<!-- 12 -->\n<g id=\"node1\" class=\"node\">\n<title>12</title>\n<ellipse fill=\"none\" stroke=\"black\" cx=\"43.67\" cy=\"-106.5\" rx=\"43.67\" ry=\"18\"/>\n<text text-anchor=\"middle\" x=\"43.67\" y=\"-101.45\" font-family=\"Times,serif\" font-size=\"14.00\">12: ' last'</text>\n</g>\n<!-- 44 -->\n<g id=\"node3\" class=\"node\">\n<title>44</title>\n<ellipse fill=\"none\" stroke=\"black\" cx=\"96.67\" cy=\"-18\" rx=\"51.86\" ry=\"18\"/>\n<text text-anchor=\"middle\" x=\"96.67\" y=\"-12.95\" font-family=\"Times,serif\" font-size=\"14.00\">44: 'param'</text>\n</g>\n<!-- 12&#45;&gt;44 -->\n<g id=\"edge2\" class=\"edge\">\n<title>12-&gt;44</title>\n<path fill=\"none\" stroke=\"#87d37c\" stroke-width=\"2\" d=\"M53.89,-88.82C61.18,-76.93 71.14,-60.67 79.62,-46.83\"/>\n<polygon fill=\"#87d37c\" stroke=\"#87d37c\" stroke-width=\"2\" points=\"83.07,-48.28 85.31,-37.92 77.1,-44.62 83.07,-48.28\"/>\n<text text-anchor=\"middle\" x=\"89.92\" y=\"-57.2\" font-family=\"Times,serif\" font-size=\"14.00\">-0.14</text>\n</g>\n<!-- 35 -->\n<g id=\"node2\" class=\"node\">\n<title>35</title>\n<ellipse fill=\"none\" stroke=\"black\" cx=\"150.67\" cy=\"-106.5\" rx=\"45.21\" ry=\"18\"/>\n<text text-anchor=\"middle\" x=\"150.67\" y=\"-101.45\" font-family=\"Times,serif\" font-size=\"14.00\">35: ' size'</text>\n</g>\n<!-- 35&#45;&gt;44 -->\n<g id=\"edge1\" class=\"edge\">\n<title>35-&gt;44</title>\n<path fill=\"none\" stroke=\"#87d37c\" stroke-width=\"3\" d=\"M140.26,-88.82C132.99,-77.17 123.09,-61.32 114.57,-47.66\"/>\n<polygon fill=\"#87d37c\" stroke=\"#87d37c\" stroke-width=\"3\" points=\"117.5,-45.55 109.24,-38.92 111.56,-49.26 117.5,-45.55\"/>\n<text text-anchor=\"middle\" x=\"141.92\" y=\"-57.2\" font-family=\"Times,serif\" font-size=\"14.00\">-0.30</text>\n</g>\n</g>\n</svg>"
     },
     "execution_count": 19,
     "metadata": {},
     "output_type": "execute_result"
    }
   ],
   "source": [
    "threshold = 0.1\n",
    "prompt = '''def port(self, load, size, file, last):\n",
    "\"\"\"oil column piece\n",
    "\n",
    "    :param load: crime population\n",
    "    :param size: unit dark\n",
    "    :param'''\n",
    "corrupt_prompt = prompt.replace(\"load\", \"banana\").replace(\"size\", \"apple\").replace(\"file\", \"pear\").replace(\"last\", \"orange\")\n",
    "\n",
    "c = core.connectom(model, prompt,\n",
    "                   core.logit_diff_metric(model, ' Mary', ' John'),\n",
    "                   # d.logit_diffs_metric(model, ' file', [' self', ' load', ' size', ' last']),\n",
    "                   # d.ZeroPattern(),\n",
    "                   core.CorruptIntervention(model, prompt, corrupt_prompt),\n",
    "\n",
    "                   # core.BasicStrategy(),\n",
    "                   # d.BacktrackBisectStrategy(threshold),\n",
    "                   # d.BacktrackingStrategy(threshold),\n",
    "                   core.BisectStrategy(threshold),\n",
    "                   )\n",
    "# sankey_diagram_of_connectome(model, prompt, c, threshold=threshold);\n",
    "core.plot_attn_connectome(model, prompt, c).show()\n",
    "graph = core.plot_graphviz_connectome(model, prompt, c, threshold=threshold).pipe('svg').decode('utf-8')\n",
    "SVG(graph)"
   ],
   "metadata": {
    "collapsed": false,
    "ExecuteTime": {
     "end_time": "2023-06-27T14:09:27.524574958Z",
     "start_time": "2023-06-27T14:09:19.087623184Z"
    }
   }
  },
  {
   "cell_type": "code",
   "execution_count": 42,
   "outputs": [
    {
     "data": {
      "text/plain": "<IPython.core.display.SVG object>",
      "image/svg+xml": "<svg xmlns=\"http://www.w3.org/2000/svg\" xmlns:xlink=\"http://www.w3.org/1999/xlink\" width=\"782pt\" height=\"331pt\" viewBox=\"0.00 0.00 782.17 331.48\">\n<g id=\"graph0\" class=\"graph\" transform=\"scale(1 1) rotate(0) translate(4 327.48)\">\n<polygon fill=\"white\" stroke=\"none\" points=\"-4,4 -4,-327.48 778.17,-327.48 778.17,4 -4,4\"/>\n<!-- 1 -->\n<g id=\"node1\" class=\"node\">\n<title>1</title>\n<ellipse fill=\"none\" stroke=\"black\" cx=\"167\" cy=\"-305.48\" rx=\"35.49\" ry=\"18\"/>\n<text text-anchor=\"middle\" x=\"167\" y=\"-300.43\" font-family=\"Times,serif\" font-size=\"14.00\">1: 'def'</text>\n</g>\n<!-- 8 -->\n<g id=\"node5\" class=\"node\">\n<title>8</title>\n<ellipse fill=\"none\" stroke=\"black\" cx=\"224\" cy=\"-216.98\" rx=\"40.6\" ry=\"18\"/>\n<text text-anchor=\"middle\" x=\"224\" y=\"-211.93\" font-family=\"Times,serif\" font-size=\"14.00\">8: ' size'</text>\n</g>\n<!-- 1&#45;&gt;8 -->\n<g id=\"edge18\" class=\"edge\">\n<title>1-&gt;8</title>\n<path fill=\"none\" stroke=\"#87d37c\" stroke-width=\"3\" d=\"M177.72,-288.21C185.5,-276.4 196.23,-260.12 205.4,-246.21\"/>\n<polygon fill=\"#87d37c\" stroke=\"#87d37c\" stroke-width=\"3\" points=\"208.36,-248.05 210.94,-237.77 202.51,-244.19 208.36,-248.05\"/>\n<text text-anchor=\"middle\" x=\"215.25\" y=\"-256.18\" font-family=\"Times,serif\" font-size=\"14.00\">-0.58</text>\n</g>\n<!-- 10 -->\n<g id=\"node7\" class=\"node\">\n<title>10</title>\n<ellipse fill=\"none\" stroke=\"black\" cx=\"118\" cy=\"-117.49\" rx=\"43.16\" ry=\"18\"/>\n<text text-anchor=\"middle\" x=\"118\" y=\"-112.44\" font-family=\"Times,serif\" font-size=\"14.00\">10: ' file'</text>\n</g>\n<!-- 1&#45;&gt;10 -->\n<g id=\"edge14\" class=\"edge\">\n<title>1-&gt;10</title>\n<path fill=\"none\" stroke=\"#87d37c\" stroke-width=\"3\" d=\"M161.37,-287.44C156.83,-273.43 150.41,-253.02 145.5,-234.98 137.62,-206.06 129.89,-172.75 124.64,-149.18\"/>\n<polygon fill=\"#87d37c\" stroke=\"#87d37c\" stroke-width=\"3\" points=\"127.21,-148.57 121.65,-139.56 120.38,-150.08 127.21,-148.57\"/>\n<text text-anchor=\"middle\" x=\"160.25\" y=\"-211.93\" font-family=\"Times,serif\" font-size=\"14.00\">-0.54</text>\n</g>\n<!-- 2 -->\n<g id=\"node2\" class=\"node\">\n<title>2</title>\n<ellipse fill=\"none\" stroke=\"black\" cx=\"292\" cy=\"-305.48\" rx=\"41.12\" ry=\"18\"/>\n<text text-anchor=\"middle\" x=\"292\" y=\"-300.43\" font-family=\"Times,serif\" font-size=\"14.00\">2: ' port'</text>\n</g>\n<!-- 2&#45;&gt;2 -->\n<g id=\"edge19\" class=\"edge\">\n<title>2-&gt;2</title>\n<path fill=\"none\" stroke=\"#87d37c\" stroke-width=\"2\" d=\"M328.95,-313.78C341.26,-313.78 351.12,-311.01 351.12,-305.48 351.12,-302.11 347.46,-299.77 341.81,-298.45\"/>\n<polygon fill=\"#87d37c\" stroke=\"#87d37c\" stroke-width=\"2\" points=\"342.24,-294.68 331.95,-297.19 341.56,-301.65 342.24,-294.68\"/>\n<text text-anchor=\"middle\" x=\"365.37\" y=\"-300.43\" font-family=\"Times,serif\" font-size=\"14.00\">-0.47</text>\n</g>\n<!-- 3 -->\n<g id=\"node3\" class=\"node\">\n<title>3</title>\n<ellipse fill=\"none\" stroke=\"black\" cx=\"27\" cy=\"-305.48\" rx=\"27\" ry=\"18\"/>\n<text text-anchor=\"middle\" x=\"27\" y=\"-300.43\" font-family=\"Times,serif\" font-size=\"14.00\">3: '('</text>\n</g>\n<!-- 9 -->\n<g id=\"node6\" class=\"node\">\n<title>9</title>\n<ellipse fill=\"none\" stroke=\"black\" cx=\"27\" cy=\"-216.98\" rx=\"27\" ry=\"18\"/>\n<text text-anchor=\"middle\" x=\"27\" y=\"-211.93\" font-family=\"Times,serif\" font-size=\"14.00\">9: ','</text>\n</g>\n<!-- 3&#45;&gt;9 -->\n<g id=\"edge16\" class=\"edge\">\n<title>3-&gt;9</title>\n<path fill=\"none\" stroke=\"#87d37c\" stroke-width=\"2\" d=\"M27,-287.39C27,-276.21 27,-261.29 27,-248.15\"/>\n<polygon fill=\"#87d37c\" stroke=\"#87d37c\" stroke-width=\"2\" points=\"30.5,-248.33 27,-238.33 23.5,-248.33 30.5,-248.33\"/>\n<text text-anchor=\"middle\" x=\"41.25\" y=\"-256.18\" font-family=\"Times,serif\" font-size=\"14.00\">-0.44</text>\n</g>\n<!-- 6 -->\n<g id=\"node4\" class=\"node\">\n<title>6</title>\n<ellipse fill=\"none\" stroke=\"black\" cx=\"534\" cy=\"-305.48\" rx=\"42.14\" ry=\"18\"/>\n<text text-anchor=\"middle\" x=\"534\" y=\"-300.43\" font-family=\"Times,serif\" font-size=\"14.00\">6: ' load'</text>\n</g>\n<!-- 6&#45;&gt;6 -->\n<g id=\"edge17\" class=\"edge\">\n<title>6-&gt;6</title>\n<path fill=\"none\" stroke=\"#87d37c\" stroke-width=\"3\" d=\"M571.88,-313.78C584.27,-313.74 594.14,-310.97 594.14,-305.48 594.14,-302.31 590.84,-300.05 585.66,-298.69\"/>\n<polygon fill=\"#87d37c\" stroke=\"#87d37c\" stroke-width=\"3\" points=\"586.2,-294.79 575.88,-297.19 585.44,-301.75 586.2,-294.79\"/>\n<text text-anchor=\"middle\" x=\"608.39\" y=\"-300.43\" font-family=\"Times,serif\" font-size=\"14.00\">-0.66</text>\n</g>\n<!-- 22 -->\n<g id=\"node10\" class=\"node\">\n<title>22</title>\n<ellipse fill=\"none\" stroke=\"black\" cx=\"534\" cy=\"-216.98\" rx=\"46.75\" ry=\"18\"/>\n<text text-anchor=\"middle\" x=\"534\" y=\"-211.93\" font-family=\"Times,serif\" font-size=\"14.00\">22: ' load'</text>\n</g>\n<!-- 6&#45;&gt;22 -->\n<g id=\"edge10\" class=\"edge\">\n<title>6-&gt;22</title>\n<path fill=\"none\" stroke=\"#87d37c\" stroke-width=\"2\" d=\"M534,-287.39C534,-276.21 534,-261.29 534,-248.15\"/>\n<polygon fill=\"#87d37c\" stroke=\"#87d37c\" stroke-width=\"2\" points=\"537.5,-248.33 534,-238.33 530.5,-248.33 537.5,-248.33\"/>\n<text text-anchor=\"middle\" x=\"548.25\" y=\"-256.18\" font-family=\"Times,serif\" font-size=\"14.00\">-0.43</text>\n</g>\n<!-- 8&#45;&gt;8 -->\n<g id=\"edge15\" class=\"edge\">\n<title>8-&gt;8</title>\n<path fill=\"none\" stroke=\"#87d37c\" stroke-width=\"3\" d=\"M260.63,-225.28C272.84,-225.28 282.6,-222.51 282.6,-216.98 282.6,-213.79 279.34,-211.51 274.23,-210.16\"/>\n<polygon fill=\"#87d37c\" stroke=\"#87d37c\" stroke-width=\"3\" points=\"274.95,-206.29 264.63,-208.69 274.19,-213.25 274.95,-206.29\"/>\n<text text-anchor=\"middle\" x=\"296.85\" y=\"-211.93\" font-family=\"Times,serif\" font-size=\"14.00\">-0.54</text>\n</g>\n<!-- 29 -->\n<g id=\"node12\" class=\"node\">\n<title>29</title>\n<ellipse fill=\"none\" stroke=\"black\" cx=\"224\" cy=\"-117.49\" rx=\"45.21\" ry=\"18\"/>\n<text text-anchor=\"middle\" x=\"224\" y=\"-112.44\" font-family=\"Times,serif\" font-size=\"14.00\">29: ' size'</text>\n</g>\n<!-- 8&#45;&gt;29 -->\n<g id=\"edge8\" class=\"edge\">\n<title>8-&gt;29</title>\n<path fill=\"none\" stroke=\"#87d37c\" stroke-width=\"3\" d=\"M224,-198.55C224,-184.97 224,-165.75 224,-149.55\"/>\n<polygon fill=\"#87d37c\" stroke=\"#87d37c\" stroke-width=\"3\" points=\"227.5,-149.77 224,-139.77 220.5,-149.77 227.5,-149.77\"/>\n<text text-anchor=\"middle\" x=\"238.25\" y=\"-167.68\" font-family=\"Times,serif\" font-size=\"14.00\">-0.52</text>\n</g>\n<!-- 9&#45;&gt;9 -->\n<g id=\"edge13\" class=\"edge\">\n<title>9-&gt;9</title>\n<path fill=\"none\" stroke=\"#87d37c\" stroke-width=\"2\" d=\"M51.53,-225.15C62.51,-225.93 72,-223.21 72,-216.98 72,-213.48 69,-211.09 64.42,-209.8\"/>\n<polygon fill=\"#87d37c\" stroke=\"#87d37c\" stroke-width=\"2\" points=\"64.77,-206.09 54.53,-208.82 64.24,-213.07 64.77,-206.09\"/>\n<text text-anchor=\"middle\" x=\"86.25\" y=\"-211.93\" font-family=\"Times,serif\" font-size=\"14.00\">-0.46</text>\n</g>\n<!-- 9&#45;&gt;10 -->\n<g id=\"edge12\" class=\"edge\">\n<title>9-&gt;10</title>\n<path fill=\"none\" stroke=\"#87d37c\" stroke-width=\"6\" d=\"M40.82,-201.18C54.39,-186.63 75.44,-164.09 92.12,-146.22\"/>\n<polygon fill=\"#87d37c\" stroke=\"#87d37c\" stroke-width=\"6\" points=\"95.85,-149.63 98.83,-138.74 88.17,-142.47 95.85,-149.63\"/>\n<text text-anchor=\"middle\" x=\"87.25\" y=\"-167.68\" font-family=\"Times,serif\" font-size=\"14.00\">-1.25</text>\n</g>\n<!-- 35 -->\n<g id=\"node14\" class=\"node\">\n<title>35</title>\n<ellipse fill=\"none\" stroke=\"black\" cx=\"386\" cy=\"-18\" rx=\"51.86\" ry=\"18\"/>\n<text text-anchor=\"middle\" x=\"386\" y=\"-12.95\" font-family=\"Times,serif\" font-size=\"14.00\">35: 'param'</text>\n</g>\n<!-- 10&#45;&gt;35 -->\n<g id=\"edge5\" class=\"edge\">\n<title>10-&gt;35</title>\n<path fill=\"none\" stroke=\"#87d37c\" stroke-width=\"7\" d=\"M142.44,-102.23C151,-97.54 160.78,-92.5 170,-88.5 222.79,-65.6 285.65,-46.21 329.91,-33.78\"/>\n<polygon fill=\"#87d37c\" stroke=\"#87d37c\" stroke-width=\"7\" points=\"331.32,-39.08 339.33,-30.52 328.06,-27.28 331.32,-39.08\"/>\n<text text-anchor=\"middle\" x=\"272.25\" y=\"-57.2\" font-family=\"Times,serif\" font-size=\"14.00\">-1.43</text>\n</g>\n<!-- 12 -->\n<g id=\"node8\" class=\"node\">\n<title>12</title>\n<ellipse fill=\"none\" stroke=\"black\" cx=\"684\" cy=\"-305.48\" rx=\"43.67\" ry=\"18\"/>\n<text text-anchor=\"middle\" x=\"684\" y=\"-300.43\" font-family=\"Times,serif\" font-size=\"14.00\">12: ' last'</text>\n</g>\n<!-- 12&#45;&gt;12 -->\n<g id=\"edge11\" class=\"edge\">\n<title>12-&gt;12</title>\n<path fill=\"none\" stroke=\"#87d37c\" stroke-width=\"3\" d=\"M723.45,-313.78C735.87,-313.65 745.67,-310.88 745.67,-305.48 745.67,-302.36 742.4,-300.12 737.23,-298.76\"/>\n<polygon fill=\"#87d37c\" stroke=\"#87d37c\" stroke-width=\"3\" points=\"737.78,-294.84 727.45,-297.19 736.99,-301.8 737.78,-294.84\"/>\n<text text-anchor=\"middle\" x=\"759.92\" y=\"-300.43\" font-family=\"Times,serif\" font-size=\"14.00\">-0.51</text>\n</g>\n<!-- 21 -->\n<g id=\"node9\" class=\"node\">\n<title>21</title>\n<ellipse fill=\"none\" stroke=\"black\" cx=\"386\" cy=\"-117.49\" rx=\"51.86\" ry=\"18\"/>\n<text text-anchor=\"middle\" x=\"386\" y=\"-112.44\" font-family=\"Times,serif\" font-size=\"14.00\">21: 'param'</text>\n</g>\n<!-- 21&#45;&gt;35 -->\n<g id=\"edge4\" class=\"edge\">\n<title>21-&gt;35</title>\n<path fill=\"none\" stroke=\"#87d37c\" stroke-width=\"4\" d=\"M386,-99.06C386,-86.03 386,-67.82 386,-52.06\"/>\n<polygon fill=\"#87d37c\" stroke=\"#87d37c\" stroke-width=\"4\" points=\"389.5,-52.28 386,-42.28 382.5,-52.28 389.5,-52.28\"/>\n<text text-anchor=\"middle\" x=\"400.25\" y=\"-57.2\" font-family=\"Times,serif\" font-size=\"14.00\">-0.73</text>\n</g>\n<!-- 22&#45;&gt;22 -->\n<g id=\"edge9\" class=\"edge\">\n<title>22-&gt;22</title>\n<path fill=\"none\" stroke=\"#87d37c\" stroke-width=\"3\" d=\"M576.03,-225.27C588.78,-225.06 598.75,-222.3 598.75,-216.98 598.75,-213.83 595.23,-211.57 589.71,-210.22\"/>\n<polygon fill=\"#87d37c\" stroke=\"#87d37c\" stroke-width=\"3\" points=\"590.36,-206.32 580.03,-208.7 589.59,-213.28 590.36,-206.32\"/>\n<text text-anchor=\"middle\" x=\"613\" y=\"-211.93\" font-family=\"Times,serif\" font-size=\"14.00\">-0.52</text>\n</g>\n<!-- 28 -->\n<g id=\"node11\" class=\"node\">\n<title>28</title>\n<ellipse fill=\"none\" stroke=\"black\" cx=\"417\" cy=\"-216.98\" rx=\"51.86\" ry=\"18\"/>\n<text text-anchor=\"middle\" x=\"417\" y=\"-211.93\" font-family=\"Times,serif\" font-size=\"14.00\">28: 'param'</text>\n</g>\n<!-- 28&#45;&gt;29 -->\n<g id=\"edge6\" class=\"edge\">\n<title>28-&gt;29</title>\n<path fill=\"none\" stroke=\"#87d37c\" stroke-width=\"4\" d=\"M388.52,-201.6C355.94,-185.14 302.3,-158.04 265.17,-139.29\"/>\n<polygon fill=\"#87d37c\" stroke=\"#87d37c\" stroke-width=\"4\" points=\"266.85,-135.69 256.34,-134.3 263.69,-141.94 266.85,-135.69\"/>\n<text text-anchor=\"middle\" x=\"358.25\" y=\"-167.68\" font-family=\"Times,serif\" font-size=\"14.00\">-0.84</text>\n</g>\n<!-- 28&#45;&gt;35 -->\n<g id=\"edge1\" class=\"edge\">\n<title>28-&gt;35</title>\n<path fill=\"none\" stroke=\"#87d37c\" stroke-width=\"2\" d=\"M427.07,-199.11C440.49,-174.36 461.01,-126.95 447,-88.5 440.69,-71.19 427.78,-55.44 415.46,-43.32\"/>\n<polygon fill=\"#87d37c\" stroke=\"#87d37c\" stroke-width=\"2\" points=\"417.98,-41.03 408.27,-36.8 413.22,-46.16 417.98,-41.03\"/>\n<text text-anchor=\"middle\" x=\"466.25\" y=\"-112.44\" font-family=\"Times,serif\" font-size=\"14.00\">-0.43</text>\n</g>\n<!-- 29&#45;&gt;29 -->\n<g id=\"edge7\" class=\"edge\">\n<title>29-&gt;29</title>\n<path fill=\"none\" stroke=\"#87d37c\" stroke-width=\"4\" d=\"M261.64,-127.83C275.66,-128.17 287.21,-124.72 287.21,-117.49 287.21,-113.31 283.35,-110.4 277.38,-108.75\"/>\n<polygon fill=\"#87d37c\" stroke=\"#87d37c\" stroke-width=\"4\" points=\"277.94,-104.68 267.64,-107.16 277.24,-111.64 277.94,-104.68\"/>\n<text text-anchor=\"middle\" x=\"301.46\" y=\"-112.44\" font-family=\"Times,serif\" font-size=\"14.00\">-0.95</text>\n</g>\n<!-- 29&#45;&gt;35 -->\n<g id=\"edge2\" class=\"edge\">\n<title>29-&gt;35</title>\n<path fill=\"none\" stroke=\"#87d37c\" stroke-width=\"4\" d=\"M248.25,-101.9C274.39,-86.17 316.37,-60.91 347.12,-42.4\"/>\n<polygon fill=\"#87d37c\" stroke=\"#87d37c\" stroke-width=\"4\" points=\"349.02,-45.33 355.78,-37.18 345.41,-39.33 349.02,-45.33\"/>\n<text text-anchor=\"middle\" x=\"339.25\" y=\"-57.2\" font-family=\"Times,serif\" font-size=\"14.00\">-0.82</text>\n</g>\n<!-- 33 -->\n<g id=\"node13\" class=\"node\">\n<title>33</title>\n<ellipse fill=\"none\" stroke=\"black\" cx=\"548\" cy=\"-117.49\" rx=\"27.75\" ry=\"28.99\"/>\n<text text-anchor=\"middle\" x=\"548\" y=\"-120.69\" font-family=\"Times,serif\" font-size=\"14.00\">33: '</text>\n<text text-anchor=\"middle\" x=\"548\" y=\"-104.19\" font-family=\"Times,serif\" font-size=\"14.00\">   '</text>\n</g>\n<!-- 33&#45;&gt;35 -->\n<g id=\"edge3\" class=\"edge\">\n<title>33-&gt;35</title>\n<path fill=\"none\" stroke=\"#87d37c\" stroke-width=\"3\" d=\"M531.18,-94.23C520.16,-80.96 504.73,-64.68 488,-54 473.88,-44.99 457.18,-38 441.42,-32.72\"/>\n<polygon fill=\"#87d37c\" stroke=\"#87d37c\" stroke-width=\"3\" points=\"443.07,-29.32 432.48,-29.69 440.98,-36.01 443.07,-29.32\"/>\n<text text-anchor=\"middle\" x=\"523.25\" y=\"-57.2\" font-family=\"Times,serif\" font-size=\"14.00\">-0.62</text>\n</g>\n</g>\n</svg>"
     },
     "execution_count": 42,
     "metadata": {},
     "output_type": "execute_result"
    }
   ],
   "source": [
    "graph = core.plot_graphviz_connectome(model, prompt, c, threshold=0.4).pipe('svg').decode('utf-8')\n",
    "SVG(graph)\n"
   ],
   "metadata": {
    "collapsed": false,
    "ExecuteTime": {
     "end_time": "2023-06-27T10:10:01.438000533Z",
     "start_time": "2023-06-27T10:10:01.385626647Z"
    }
   }
  },
  {
   "cell_type": "code",
   "execution_count": 42,
   "outputs": [
    {
     "data": {
      "text/plain": "  0%|          | 0/105 [00:00<?, ?it/s]",
      "application/vnd.jupyter.widget-view+json": {
       "version_major": 2,
       "version_minor": 0,
       "model_id": "76feb4a3a7a04d82b35cba0a9229807f"
      }
     },
     "metadata": {},
     "output_type": "display_data"
    },
    {
     "data": {
      "application/vnd.plotly.v1+json": {
       "data": [
        {
         "coloraxis": "coloraxis",
         "name": "0",
         "x": [
          "0: '<|endoftext|>'",
          "1: 'When'",
          "2: ' Mary'",
          "3: ' and'",
          "4: ' John'",
          "5: ' went'",
          "6: ' to'",
          "7: ' the'",
          "8: ' store'",
          "9: ','",
          "10: ' John'",
          "11: ' gave'",
          "12: ' a'",
          "13: ' book'",
          "14: ' to'"
         ],
         "y": [
          "0: '<|endoftext|>'",
          "1: 'When'",
          "2: ' Mary'",
          "3: ' and'",
          "4: ' John'",
          "5: ' went'",
          "6: ' to'",
          "7: ' the'",
          "8: ' store'",
          "9: ','",
          "10: ' John'",
          "11: ' gave'",
          "12: ' a'",
          "13: ' book'",
          "14: ' to'"
         ],
         "z": [
          [
           0.0,
           null,
           null,
           null,
           null,
           null,
           null,
           null,
           null,
           null,
           null,
           null,
           null,
           null,
           null
          ],
          [
           0.0,
           0.01921270228922367,
           null,
           null,
           null,
           null,
           null,
           null,
           null,
           null,
           null,
           null,
           null,
           null,
           null
          ],
          [
           0.0,
           -0.002351239090785384,
           0.038402751088142395,
           null,
           null,
           null,
           null,
           null,
           null,
           null,
           null,
           null,
           null,
           null,
           null
          ],
          [
           0.0,
           -0.0701245367527008,
           -0.07439911365509033,
           -0.04888805001974106,
           null,
           null,
           null,
           null,
           null,
           null,
           null,
           null,
           null,
           null,
           null
          ],
          [
           0.0,
           0.04686819761991501,
           -0.027714094147086143,
           -0.273615300655365,
           0.011894562281668186,
           null,
           null,
           null,
           null,
           null,
           null,
           null,
           null,
           null,
           null
          ],
          [
           0.0,
           0.01277941558510065,
           0.016642341390252113,
           -0.08469434082508087,
           -0.1261618286371231,
           -0.029013553634285927,
           null,
           null,
           null,
           null,
           null,
           null,
           null,
           null,
           null
          ],
          [
           0.0,
           4.387338412925601E-4,
           -0.004145074635744095,
           -0.009203069843351841,
           -0.009376397356390953,
           -0.011587793007493019,
           -0.013762750662863255,
           null,
           null,
           null,
           null,
           null,
           null,
           null,
           null
          ],
          [
           0.0,
           0.0021414742805063725,
           0.005106743890792131,
           -0.003157308092340827,
           0.0044882819056510925,
           -0.00445135124027729,
           -0.003937279339879751,
           -0.016131224110722542,
           null,
           null,
           null,
           null,
           null,
           null,
           null
          ],
          [
           0.0,
           -0.008377797901630402,
           -0.0030036773532629013,
           -0.007145305164158344,
           -0.005773461889475584,
           -0.01047544740140438,
           -0.028211915865540504,
           -0.008853954263031483,
           -0.009717142209410667,
           null,
           null,
           null,
           null,
           null,
           null
          ],
          [
           0.0,
           -0.00534851523116231,
           -0.029905300587415695,
           -0.016664499416947365,
           0.02866739220917225,
           -0.001417637220583856,
           -0.008427037857472897,
           -0.007749979849904776,
           -0.032699212431907654,
           -0.012763658538460732,
           null,
           null,
           null,
           null,
           null
          ],
          [
           0.0,
           -0.016425682231783867,
           -0.07849199324846268,
           -0.21698811650276184,
           -0.050364281982183456,
           -0.1869114488363266,
           -0.013246709480881691,
           -0.009804298169910908,
           -0.05031208693981171,
           -0.042342495173215866,
           -0.04492221027612686,
           null,
           null,
           null,
           null
          ],
          [
           0.0,
           -0.01214371994137764,
           -0.001718989689834416,
           -0.011543968692421913,
           0.01293452363461256,
           -0.009875204414129257,
           -0.01368150394409895,
           -0.006042807828634977,
           -0.027828332036733627,
           0.005955651868134737,
           -0.05925319716334343,
           -0.012320000678300858,
           null,
           null,
           null
          ],
          [
           0.0,
           9.966299403458834E-4,
           0.0027776628267019987,
           -6.745963473804295E-4,
           0.002183328615501523,
           0.0020277283620089293,
           -0.0016805820632725954,
           -0.00382304098457098,
           -2.983981103170663E-4,
           -0.010253372602164745,
           0.002156738890334964,
           0.016604427248239517,
           -0.0026757349260151386,
           null,
           null
          ],
          [
           0.0,
           -0.0037304686848074198,
           0.0033931704238057137,
           -4.362718027550727E-4,
           0.0013639649841934443,
           -0.00117340381257236,
           -3.4665389102883637E-4,
           -5.224428605288267E-4,
           -0.008977055549621582,
           0.0027323614340275526,
           0.008749071508646011,
           0.01237564254552126,
           0.00348131125792861,
           -4.3036293936893344E-4,
           null
          ],
          [
           0.0,
           0.014784986153244972,
           -0.12744258344173431,
           -0.08079054951667786,
           0.26127660274505615,
           -0.024637538939714432,
           0.0068183476105332375,
           -0.005151060409843922,
           -0.0019883359782397747,
           -0.02827346697449684,
           -0.43813902139663696,
           -0.06908506900072098,
           -0.017609920352697372,
           0.05932656675577164,
           0.009900317527353764
          ]
         ],
         "type": "heatmap",
         "xaxis": "x",
         "yaxis": "y",
         "hovertemplate": "Source: %{x}<br>Target: %{y}<br>Strength: %{z}<extra></extra>"
        }
       ],
       "layout": {
        "template": {
         "data": {
          "histogram2dcontour": [
           {
            "type": "histogram2dcontour",
            "colorbar": {
             "outlinewidth": 0,
             "ticks": ""
            },
            "colorscale": [
             [
              0.0,
              "#0d0887"
             ],
             [
              0.1111111111111111,
              "#46039f"
             ],
             [
              0.2222222222222222,
              "#7201a8"
             ],
             [
              0.3333333333333333,
              "#9c179e"
             ],
             [
              0.4444444444444444,
              "#bd3786"
             ],
             [
              0.5555555555555556,
              "#d8576b"
             ],
             [
              0.6666666666666666,
              "#ed7953"
             ],
             [
              0.7777777777777778,
              "#fb9f3a"
             ],
             [
              0.8888888888888888,
              "#fdca26"
             ],
             [
              1.0,
              "#f0f921"
             ]
            ]
           }
          ],
          "choropleth": [
           {
            "type": "choropleth",
            "colorbar": {
             "outlinewidth": 0,
             "ticks": ""
            }
           }
          ],
          "histogram2d": [
           {
            "type": "histogram2d",
            "colorbar": {
             "outlinewidth": 0,
             "ticks": ""
            },
            "colorscale": [
             [
              0.0,
              "#0d0887"
             ],
             [
              0.1111111111111111,
              "#46039f"
             ],
             [
              0.2222222222222222,
              "#7201a8"
             ],
             [
              0.3333333333333333,
              "#9c179e"
             ],
             [
              0.4444444444444444,
              "#bd3786"
             ],
             [
              0.5555555555555556,
              "#d8576b"
             ],
             [
              0.6666666666666666,
              "#ed7953"
             ],
             [
              0.7777777777777778,
              "#fb9f3a"
             ],
             [
              0.8888888888888888,
              "#fdca26"
             ],
             [
              1.0,
              "#f0f921"
             ]
            ]
           }
          ],
          "heatmap": [
           {
            "type": "heatmap",
            "colorbar": {
             "outlinewidth": 0,
             "ticks": ""
            },
            "colorscale": [
             [
              0.0,
              "#0d0887"
             ],
             [
              0.1111111111111111,
              "#46039f"
             ],
             [
              0.2222222222222222,
              "#7201a8"
             ],
             [
              0.3333333333333333,
              "#9c179e"
             ],
             [
              0.4444444444444444,
              "#bd3786"
             ],
             [
              0.5555555555555556,
              "#d8576b"
             ],
             [
              0.6666666666666666,
              "#ed7953"
             ],
             [
              0.7777777777777778,
              "#fb9f3a"
             ],
             [
              0.8888888888888888,
              "#fdca26"
             ],
             [
              1.0,
              "#f0f921"
             ]
            ]
           }
          ],
          "heatmapgl": [
           {
            "type": "heatmapgl",
            "colorbar": {
             "outlinewidth": 0,
             "ticks": ""
            },
            "colorscale": [
             [
              0.0,
              "#0d0887"
             ],
             [
              0.1111111111111111,
              "#46039f"
             ],
             [
              0.2222222222222222,
              "#7201a8"
             ],
             [
              0.3333333333333333,
              "#9c179e"
             ],
             [
              0.4444444444444444,
              "#bd3786"
             ],
             [
              0.5555555555555556,
              "#d8576b"
             ],
             [
              0.6666666666666666,
              "#ed7953"
             ],
             [
              0.7777777777777778,
              "#fb9f3a"
             ],
             [
              0.8888888888888888,
              "#fdca26"
             ],
             [
              1.0,
              "#f0f921"
             ]
            ]
           }
          ],
          "contourcarpet": [
           {
            "type": "contourcarpet",
            "colorbar": {
             "outlinewidth": 0,
             "ticks": ""
            }
           }
          ],
          "contour": [
           {
            "type": "contour",
            "colorbar": {
             "outlinewidth": 0,
             "ticks": ""
            },
            "colorscale": [
             [
              0.0,
              "#0d0887"
             ],
             [
              0.1111111111111111,
              "#46039f"
             ],
             [
              0.2222222222222222,
              "#7201a8"
             ],
             [
              0.3333333333333333,
              "#9c179e"
             ],
             [
              0.4444444444444444,
              "#bd3786"
             ],
             [
              0.5555555555555556,
              "#d8576b"
             ],
             [
              0.6666666666666666,
              "#ed7953"
             ],
             [
              0.7777777777777778,
              "#fb9f3a"
             ],
             [
              0.8888888888888888,
              "#fdca26"
             ],
             [
              1.0,
              "#f0f921"
             ]
            ]
           }
          ],
          "surface": [
           {
            "type": "surface",
            "colorbar": {
             "outlinewidth": 0,
             "ticks": ""
            },
            "colorscale": [
             [
              0.0,
              "#0d0887"
             ],
             [
              0.1111111111111111,
              "#46039f"
             ],
             [
              0.2222222222222222,
              "#7201a8"
             ],
             [
              0.3333333333333333,
              "#9c179e"
             ],
             [
              0.4444444444444444,
              "#bd3786"
             ],
             [
              0.5555555555555556,
              "#d8576b"
             ],
             [
              0.6666666666666666,
              "#ed7953"
             ],
             [
              0.7777777777777778,
              "#fb9f3a"
             ],
             [
              0.8888888888888888,
              "#fdca26"
             ],
             [
              1.0,
              "#f0f921"
             ]
            ]
           }
          ],
          "mesh3d": [
           {
            "type": "mesh3d",
            "colorbar": {
             "outlinewidth": 0,
             "ticks": ""
            }
           }
          ],
          "scatter": [
           {
            "fillpattern": {
             "fillmode": "overlay",
             "size": 10,
             "solidity": 0.2
            },
            "type": "scatter"
           }
          ],
          "parcoords": [
           {
            "type": "parcoords",
            "line": {
             "colorbar": {
              "outlinewidth": 0,
              "ticks": ""
             }
            }
           }
          ],
          "scatterpolargl": [
           {
            "type": "scatterpolargl",
            "marker": {
             "colorbar": {
              "outlinewidth": 0,
              "ticks": ""
             }
            }
           }
          ],
          "bar": [
           {
            "error_x": {
             "color": "#2a3f5f"
            },
            "error_y": {
             "color": "#2a3f5f"
            },
            "marker": {
             "line": {
              "color": "#E5ECF6",
              "width": 0.5
             },
             "pattern": {
              "fillmode": "overlay",
              "size": 10,
              "solidity": 0.2
             }
            },
            "type": "bar"
           }
          ],
          "scattergeo": [
           {
            "type": "scattergeo",
            "marker": {
             "colorbar": {
              "outlinewidth": 0,
              "ticks": ""
             }
            }
           }
          ],
          "scatterpolar": [
           {
            "type": "scatterpolar",
            "marker": {
             "colorbar": {
              "outlinewidth": 0,
              "ticks": ""
             }
            }
           }
          ],
          "histogram": [
           {
            "marker": {
             "pattern": {
              "fillmode": "overlay",
              "size": 10,
              "solidity": 0.2
             }
            },
            "type": "histogram"
           }
          ],
          "scattergl": [
           {
            "type": "scattergl",
            "marker": {
             "colorbar": {
              "outlinewidth": 0,
              "ticks": ""
             }
            }
           }
          ],
          "scatter3d": [
           {
            "type": "scatter3d",
            "line": {
             "colorbar": {
              "outlinewidth": 0,
              "ticks": ""
             }
            },
            "marker": {
             "colorbar": {
              "outlinewidth": 0,
              "ticks": ""
             }
            }
           }
          ],
          "scattermapbox": [
           {
            "type": "scattermapbox",
            "marker": {
             "colorbar": {
              "outlinewidth": 0,
              "ticks": ""
             }
            }
           }
          ],
          "scatterternary": [
           {
            "type": "scatterternary",
            "marker": {
             "colorbar": {
              "outlinewidth": 0,
              "ticks": ""
             }
            }
           }
          ],
          "scattercarpet": [
           {
            "type": "scattercarpet",
            "marker": {
             "colorbar": {
              "outlinewidth": 0,
              "ticks": ""
             }
            }
           }
          ],
          "carpet": [
           {
            "aaxis": {
             "endlinecolor": "#2a3f5f",
             "gridcolor": "white",
             "linecolor": "white",
             "minorgridcolor": "white",
             "startlinecolor": "#2a3f5f"
            },
            "baxis": {
             "endlinecolor": "#2a3f5f",
             "gridcolor": "white",
             "linecolor": "white",
             "minorgridcolor": "white",
             "startlinecolor": "#2a3f5f"
            },
            "type": "carpet"
           }
          ],
          "table": [
           {
            "cells": {
             "fill": {
              "color": "#EBF0F8"
             },
             "line": {
              "color": "white"
             }
            },
            "header": {
             "fill": {
              "color": "#C8D4E3"
             },
             "line": {
              "color": "white"
             }
            },
            "type": "table"
           }
          ],
          "barpolar": [
           {
            "marker": {
             "line": {
              "color": "#E5ECF6",
              "width": 0.5
             },
             "pattern": {
              "fillmode": "overlay",
              "size": 10,
              "solidity": 0.2
             }
            },
            "type": "barpolar"
           }
          ],
          "pie": [
           {
            "automargin": true,
            "type": "pie"
           }
          ]
         },
         "layout": {
          "autotypenumbers": "strict",
          "colorway": [
           "#636efa",
           "#EF553B",
           "#00cc96",
           "#ab63fa",
           "#FFA15A",
           "#19d3f3",
           "#FF6692",
           "#B6E880",
           "#FF97FF",
           "#FECB52"
          ],
          "font": {
           "color": "#2a3f5f"
          },
          "hovermode": "closest",
          "hoverlabel": {
           "align": "left"
          },
          "paper_bgcolor": "white",
          "plot_bgcolor": "#E5ECF6",
          "polar": {
           "bgcolor": "#E5ECF6",
           "angularaxis": {
            "gridcolor": "white",
            "linecolor": "white",
            "ticks": ""
           },
           "radialaxis": {
            "gridcolor": "white",
            "linecolor": "white",
            "ticks": ""
           }
          },
          "ternary": {
           "bgcolor": "#E5ECF6",
           "aaxis": {
            "gridcolor": "white",
            "linecolor": "white",
            "ticks": ""
           },
           "baxis": {
            "gridcolor": "white",
            "linecolor": "white",
            "ticks": ""
           },
           "caxis": {
            "gridcolor": "white",
            "linecolor": "white",
            "ticks": ""
           }
          },
          "coloraxis": {
           "colorbar": {
            "outlinewidth": 0,
            "ticks": ""
           }
          },
          "colorscale": {
           "sequential": [
            [
             0.0,
             "#0d0887"
            ],
            [
             0.1111111111111111,
             "#46039f"
            ],
            [
             0.2222222222222222,
             "#7201a8"
            ],
            [
             0.3333333333333333,
             "#9c179e"
            ],
            [
             0.4444444444444444,
             "#bd3786"
            ],
            [
             0.5555555555555556,
             "#d8576b"
            ],
            [
             0.6666666666666666,
             "#ed7953"
            ],
            [
             0.7777777777777778,
             "#fb9f3a"
            ],
            [
             0.8888888888888888,
             "#fdca26"
            ],
            [
             1.0,
             "#f0f921"
            ]
           ],
           "sequentialminus": [
            [
             0.0,
             "#0d0887"
            ],
            [
             0.1111111111111111,
             "#46039f"
            ],
            [
             0.2222222222222222,
             "#7201a8"
            ],
            [
             0.3333333333333333,
             "#9c179e"
            ],
            [
             0.4444444444444444,
             "#bd3786"
            ],
            [
             0.5555555555555556,
             "#d8576b"
            ],
            [
             0.6666666666666666,
             "#ed7953"
            ],
            [
             0.7777777777777778,
             "#fb9f3a"
            ],
            [
             0.8888888888888888,
             "#fdca26"
            ],
            [
             1.0,
             "#f0f921"
            ]
           ],
           "diverging": [
            [
             0,
             "#8e0152"
            ],
            [
             0.1,
             "#c51b7d"
            ],
            [
             0.2,
             "#de77ae"
            ],
            [
             0.3,
             "#f1b6da"
            ],
            [
             0.4,
             "#fde0ef"
            ],
            [
             0.5,
             "#f7f7f7"
            ],
            [
             0.6,
             "#e6f5d0"
            ],
            [
             0.7,
             "#b8e186"
            ],
            [
             0.8,
             "#7fbc41"
            ],
            [
             0.9,
             "#4d9221"
            ],
            [
             1,
             "#276419"
            ]
           ]
          },
          "xaxis": {
           "gridcolor": "white",
           "linecolor": "white",
           "ticks": "",
           "title": {
            "standoff": 15
           },
           "zerolinecolor": "white",
           "automargin": true,
           "zerolinewidth": 2
          },
          "yaxis": {
           "gridcolor": "white",
           "linecolor": "white",
           "ticks": "",
           "title": {
            "standoff": 15
           },
           "zerolinecolor": "white",
           "automargin": true,
           "zerolinewidth": 2
          },
          "scene": {
           "xaxis": {
            "backgroundcolor": "#E5ECF6",
            "gridcolor": "white",
            "linecolor": "white",
            "showbackground": true,
            "ticks": "",
            "zerolinecolor": "white",
            "gridwidth": 2
           },
           "yaxis": {
            "backgroundcolor": "#E5ECF6",
            "gridcolor": "white",
            "linecolor": "white",
            "showbackground": true,
            "ticks": "",
            "zerolinecolor": "white",
            "gridwidth": 2
           },
           "zaxis": {
            "backgroundcolor": "#E5ECF6",
            "gridcolor": "white",
            "linecolor": "white",
            "showbackground": true,
            "ticks": "",
            "zerolinecolor": "white",
            "gridwidth": 2
           }
          },
          "shapedefaults": {
           "line": {
            "color": "#2a3f5f"
           }
          },
          "annotationdefaults": {
           "arrowcolor": "#2a3f5f",
           "arrowhead": 0,
           "arrowwidth": 1
          },
          "geo": {
           "bgcolor": "white",
           "landcolor": "#E5ECF6",
           "subunitcolor": "white",
           "showland": true,
           "showlakes": true,
           "lakecolor": "white"
          },
          "title": {
           "x": 0.05
          },
          "mapbox": {
           "style": "light"
          }
         }
        },
        "xaxis": {
         "anchor": "y",
         "domain": [
          0.0,
          1.0
         ],
         "scaleanchor": "y",
         "constrain": "domain",
         "title": {
          "text": "Source"
         }
        },
        "yaxis": {
         "anchor": "x",
         "domain": [
          0.0,
          1.0
         ],
         "autorange": "reversed",
         "constrain": "domain",
         "title": {
          "text": "Target"
         }
        },
        "coloraxis": {
         "colorbar": {
          "title": {
           "text": "Strength"
          }
         },
         "colorscale": [
          [
           0.0,
           "rgb(103,0,31)"
          ],
          [
           0.1,
           "rgb(178,24,43)"
          ],
          [
           0.2,
           "rgb(214,96,77)"
          ],
          [
           0.3,
           "rgb(244,165,130)"
          ],
          [
           0.4,
           "rgb(253,219,199)"
          ],
          [
           0.5,
           "rgb(247,247,247)"
          ],
          [
           0.6,
           "rgb(209,229,240)"
          ],
          [
           0.7,
           "rgb(146,197,222)"
          ],
          [
           0.8,
           "rgb(67,147,195)"
          ],
          [
           0.9,
           "rgb(33,102,172)"
          ],
          [
           1.0,
           "rgb(5,48,97)"
          ]
         ],
         "cmid": 0
        },
        "title": {
         "text": "Attention connectome"
        }
       },
       "config": {
        "plotlyServerURL": "https://plot.ly"
       }
      },
      "text/html": "<div>                            <div id=\"5a2c6d92-09a4-4d65-aa08-312cc3f8fa09\" class=\"plotly-graph-div\" style=\"height:525px; width:100%;\"></div>            <script type=\"text/javascript\">                require([\"plotly\"], function(Plotly) {                    window.PLOTLYENV=window.PLOTLYENV || {};                                    if (document.getElementById(\"5a2c6d92-09a4-4d65-aa08-312cc3f8fa09\")) {                    Plotly.newPlot(                        \"5a2c6d92-09a4-4d65-aa08-312cc3f8fa09\",                        [{\"coloraxis\":\"coloraxis\",\"name\":\"0\",\"x\":[\"0: '\\u003c|endoftext|\\u003e'\",\"1: 'When'\",\"2: ' Mary'\",\"3: ' and'\",\"4: ' John'\",\"5: ' went'\",\"6: ' to'\",\"7: ' the'\",\"8: ' store'\",\"9: ','\",\"10: ' John'\",\"11: ' gave'\",\"12: ' a'\",\"13: ' book'\",\"14: ' to'\"],\"y\":[\"0: '\\u003c|endoftext|\\u003e'\",\"1: 'When'\",\"2: ' Mary'\",\"3: ' and'\",\"4: ' John'\",\"5: ' went'\",\"6: ' to'\",\"7: ' the'\",\"8: ' store'\",\"9: ','\",\"10: ' John'\",\"11: ' gave'\",\"12: ' a'\",\"13: ' book'\",\"14: ' to'\"],\"z\":[[0.0,null,null,null,null,null,null,null,null,null,null,null,null,null,null],[0.0,0.01921270228922367,null,null,null,null,null,null,null,null,null,null,null,null,null],[0.0,-0.002351239090785384,0.038402751088142395,null,null,null,null,null,null,null,null,null,null,null,null],[0.0,-0.0701245367527008,-0.07439911365509033,-0.04888805001974106,null,null,null,null,null,null,null,null,null,null,null],[0.0,0.04686819761991501,-0.027714094147086143,-0.273615300655365,0.011894562281668186,null,null,null,null,null,null,null,null,null,null],[0.0,0.01277941558510065,0.016642341390252113,-0.08469434082508087,-0.1261618286371231,-0.029013553634285927,null,null,null,null,null,null,null,null,null],[0.0,0.0004387338412925601,-0.004145074635744095,-0.009203069843351841,-0.009376397356390953,-0.011587793007493019,-0.013762750662863255,null,null,null,null,null,null,null,null],[0.0,0.0021414742805063725,0.005106743890792131,-0.003157308092340827,0.0044882819056510925,-0.00445135124027729,-0.003937279339879751,-0.016131224110722542,null,null,null,null,null,null,null],[0.0,-0.008377797901630402,-0.0030036773532629013,-0.007145305164158344,-0.005773461889475584,-0.01047544740140438,-0.028211915865540504,-0.008853954263031483,-0.009717142209410667,null,null,null,null,null,null],[0.0,-0.00534851523116231,-0.029905300587415695,-0.016664499416947365,0.02866739220917225,-0.001417637220583856,-0.008427037857472897,-0.007749979849904776,-0.032699212431907654,-0.012763658538460732,null,null,null,null,null],[0.0,-0.016425682231783867,-0.07849199324846268,-0.21698811650276184,-0.050364281982183456,-0.1869114488363266,-0.013246709480881691,-0.009804298169910908,-0.05031208693981171,-0.042342495173215866,-0.04492221027612686,null,null,null,null],[0.0,-0.01214371994137764,-0.001718989689834416,-0.011543968692421913,0.01293452363461256,-0.009875204414129257,-0.01368150394409895,-0.006042807828634977,-0.027828332036733627,0.005955651868134737,-0.05925319716334343,-0.012320000678300858,null,null,null],[0.0,0.0009966299403458834,0.0027776628267019987,-0.0006745963473804295,0.002183328615501523,0.0020277283620089293,-0.0016805820632725954,-0.00382304098457098,-0.0002983981103170663,-0.010253372602164745,0.002156738890334964,0.016604427248239517,-0.0026757349260151386,null,null],[0.0,-0.0037304686848074198,0.0033931704238057137,-0.0004362718027550727,0.0013639649841934443,-0.00117340381257236,-0.00034665389102883637,-0.0005224428605288267,-0.008977055549621582,0.0027323614340275526,0.008749071508646011,0.01237564254552126,0.00348131125792861,-0.00043036293936893344,null],[0.0,0.014784986153244972,-0.12744258344173431,-0.08079054951667786,0.26127660274505615,-0.024637538939714432,0.0068183476105332375,-0.005151060409843922,-0.0019883359782397747,-0.02827346697449684,-0.43813902139663696,-0.06908506900072098,-0.017609920352697372,0.05932656675577164,0.009900317527353764]],\"type\":\"heatmap\",\"xaxis\":\"x\",\"yaxis\":\"y\",\"hovertemplate\":\"Source: %{x}\\u003cbr\\u003eTarget: %{y}\\u003cbr\\u003eStrength: %{z}\\u003cextra\\u003e\\u003c\\u002fextra\\u003e\"}],                        {\"template\":{\"data\":{\"histogram2dcontour\":[{\"type\":\"histogram2dcontour\",\"colorbar\":{\"outlinewidth\":0,\"ticks\":\"\"},\"colorscale\":[[0.0,\"#0d0887\"],[0.1111111111111111,\"#46039f\"],[0.2222222222222222,\"#7201a8\"],[0.3333333333333333,\"#9c179e\"],[0.4444444444444444,\"#bd3786\"],[0.5555555555555556,\"#d8576b\"],[0.6666666666666666,\"#ed7953\"],[0.7777777777777778,\"#fb9f3a\"],[0.8888888888888888,\"#fdca26\"],[1.0,\"#f0f921\"]]}],\"choropleth\":[{\"type\":\"choropleth\",\"colorbar\":{\"outlinewidth\":0,\"ticks\":\"\"}}],\"histogram2d\":[{\"type\":\"histogram2d\",\"colorbar\":{\"outlinewidth\":0,\"ticks\":\"\"},\"colorscale\":[[0.0,\"#0d0887\"],[0.1111111111111111,\"#46039f\"],[0.2222222222222222,\"#7201a8\"],[0.3333333333333333,\"#9c179e\"],[0.4444444444444444,\"#bd3786\"],[0.5555555555555556,\"#d8576b\"],[0.6666666666666666,\"#ed7953\"],[0.7777777777777778,\"#fb9f3a\"],[0.8888888888888888,\"#fdca26\"],[1.0,\"#f0f921\"]]}],\"heatmap\":[{\"type\":\"heatmap\",\"colorbar\":{\"outlinewidth\":0,\"ticks\":\"\"},\"colorscale\":[[0.0,\"#0d0887\"],[0.1111111111111111,\"#46039f\"],[0.2222222222222222,\"#7201a8\"],[0.3333333333333333,\"#9c179e\"],[0.4444444444444444,\"#bd3786\"],[0.5555555555555556,\"#d8576b\"],[0.6666666666666666,\"#ed7953\"],[0.7777777777777778,\"#fb9f3a\"],[0.8888888888888888,\"#fdca26\"],[1.0,\"#f0f921\"]]}],\"heatmapgl\":[{\"type\":\"heatmapgl\",\"colorbar\":{\"outlinewidth\":0,\"ticks\":\"\"},\"colorscale\":[[0.0,\"#0d0887\"],[0.1111111111111111,\"#46039f\"],[0.2222222222222222,\"#7201a8\"],[0.3333333333333333,\"#9c179e\"],[0.4444444444444444,\"#bd3786\"],[0.5555555555555556,\"#d8576b\"],[0.6666666666666666,\"#ed7953\"],[0.7777777777777778,\"#fb9f3a\"],[0.8888888888888888,\"#fdca26\"],[1.0,\"#f0f921\"]]}],\"contourcarpet\":[{\"type\":\"contourcarpet\",\"colorbar\":{\"outlinewidth\":0,\"ticks\":\"\"}}],\"contour\":[{\"type\":\"contour\",\"colorbar\":{\"outlinewidth\":0,\"ticks\":\"\"},\"colorscale\":[[0.0,\"#0d0887\"],[0.1111111111111111,\"#46039f\"],[0.2222222222222222,\"#7201a8\"],[0.3333333333333333,\"#9c179e\"],[0.4444444444444444,\"#bd3786\"],[0.5555555555555556,\"#d8576b\"],[0.6666666666666666,\"#ed7953\"],[0.7777777777777778,\"#fb9f3a\"],[0.8888888888888888,\"#fdca26\"],[1.0,\"#f0f921\"]]}],\"surface\":[{\"type\":\"surface\",\"colorbar\":{\"outlinewidth\":0,\"ticks\":\"\"},\"colorscale\":[[0.0,\"#0d0887\"],[0.1111111111111111,\"#46039f\"],[0.2222222222222222,\"#7201a8\"],[0.3333333333333333,\"#9c179e\"],[0.4444444444444444,\"#bd3786\"],[0.5555555555555556,\"#d8576b\"],[0.6666666666666666,\"#ed7953\"],[0.7777777777777778,\"#fb9f3a\"],[0.8888888888888888,\"#fdca26\"],[1.0,\"#f0f921\"]]}],\"mesh3d\":[{\"type\":\"mesh3d\",\"colorbar\":{\"outlinewidth\":0,\"ticks\":\"\"}}],\"scatter\":[{\"fillpattern\":{\"fillmode\":\"overlay\",\"size\":10,\"solidity\":0.2},\"type\":\"scatter\"}],\"parcoords\":[{\"type\":\"parcoords\",\"line\":{\"colorbar\":{\"outlinewidth\":0,\"ticks\":\"\"}}}],\"scatterpolargl\":[{\"type\":\"scatterpolargl\",\"marker\":{\"colorbar\":{\"outlinewidth\":0,\"ticks\":\"\"}}}],\"bar\":[{\"error_x\":{\"color\":\"#2a3f5f\"},\"error_y\":{\"color\":\"#2a3f5f\"},\"marker\":{\"line\":{\"color\":\"#E5ECF6\",\"width\":0.5},\"pattern\":{\"fillmode\":\"overlay\",\"size\":10,\"solidity\":0.2}},\"type\":\"bar\"}],\"scattergeo\":[{\"type\":\"scattergeo\",\"marker\":{\"colorbar\":{\"outlinewidth\":0,\"ticks\":\"\"}}}],\"scatterpolar\":[{\"type\":\"scatterpolar\",\"marker\":{\"colorbar\":{\"outlinewidth\":0,\"ticks\":\"\"}}}],\"histogram\":[{\"marker\":{\"pattern\":{\"fillmode\":\"overlay\",\"size\":10,\"solidity\":0.2}},\"type\":\"histogram\"}],\"scattergl\":[{\"type\":\"scattergl\",\"marker\":{\"colorbar\":{\"outlinewidth\":0,\"ticks\":\"\"}}}],\"scatter3d\":[{\"type\":\"scatter3d\",\"line\":{\"colorbar\":{\"outlinewidth\":0,\"ticks\":\"\"}},\"marker\":{\"colorbar\":{\"outlinewidth\":0,\"ticks\":\"\"}}}],\"scattermapbox\":[{\"type\":\"scattermapbox\",\"marker\":{\"colorbar\":{\"outlinewidth\":0,\"ticks\":\"\"}}}],\"scatterternary\":[{\"type\":\"scatterternary\",\"marker\":{\"colorbar\":{\"outlinewidth\":0,\"ticks\":\"\"}}}],\"scattercarpet\":[{\"type\":\"scattercarpet\",\"marker\":{\"colorbar\":{\"outlinewidth\":0,\"ticks\":\"\"}}}],\"carpet\":[{\"aaxis\":{\"endlinecolor\":\"#2a3f5f\",\"gridcolor\":\"white\",\"linecolor\":\"white\",\"minorgridcolor\":\"white\",\"startlinecolor\":\"#2a3f5f\"},\"baxis\":{\"endlinecolor\":\"#2a3f5f\",\"gridcolor\":\"white\",\"linecolor\":\"white\",\"minorgridcolor\":\"white\",\"startlinecolor\":\"#2a3f5f\"},\"type\":\"carpet\"}],\"table\":[{\"cells\":{\"fill\":{\"color\":\"#EBF0F8\"},\"line\":{\"color\":\"white\"}},\"header\":{\"fill\":{\"color\":\"#C8D4E3\"},\"line\":{\"color\":\"white\"}},\"type\":\"table\"}],\"barpolar\":[{\"marker\":{\"line\":{\"color\":\"#E5ECF6\",\"width\":0.5},\"pattern\":{\"fillmode\":\"overlay\",\"size\":10,\"solidity\":0.2}},\"type\":\"barpolar\"}],\"pie\":[{\"automargin\":true,\"type\":\"pie\"}]},\"layout\":{\"autotypenumbers\":\"strict\",\"colorway\":[\"#636efa\",\"#EF553B\",\"#00cc96\",\"#ab63fa\",\"#FFA15A\",\"#19d3f3\",\"#FF6692\",\"#B6E880\",\"#FF97FF\",\"#FECB52\"],\"font\":{\"color\":\"#2a3f5f\"},\"hovermode\":\"closest\",\"hoverlabel\":{\"align\":\"left\"},\"paper_bgcolor\":\"white\",\"plot_bgcolor\":\"#E5ECF6\",\"polar\":{\"bgcolor\":\"#E5ECF6\",\"angularaxis\":{\"gridcolor\":\"white\",\"linecolor\":\"white\",\"ticks\":\"\"},\"radialaxis\":{\"gridcolor\":\"white\",\"linecolor\":\"white\",\"ticks\":\"\"}},\"ternary\":{\"bgcolor\":\"#E5ECF6\",\"aaxis\":{\"gridcolor\":\"white\",\"linecolor\":\"white\",\"ticks\":\"\"},\"baxis\":{\"gridcolor\":\"white\",\"linecolor\":\"white\",\"ticks\":\"\"},\"caxis\":{\"gridcolor\":\"white\",\"linecolor\":\"white\",\"ticks\":\"\"}},\"coloraxis\":{\"colorbar\":{\"outlinewidth\":0,\"ticks\":\"\"}},\"colorscale\":{\"sequential\":[[0.0,\"#0d0887\"],[0.1111111111111111,\"#46039f\"],[0.2222222222222222,\"#7201a8\"],[0.3333333333333333,\"#9c179e\"],[0.4444444444444444,\"#bd3786\"],[0.5555555555555556,\"#d8576b\"],[0.6666666666666666,\"#ed7953\"],[0.7777777777777778,\"#fb9f3a\"],[0.8888888888888888,\"#fdca26\"],[1.0,\"#f0f921\"]],\"sequentialminus\":[[0.0,\"#0d0887\"],[0.1111111111111111,\"#46039f\"],[0.2222222222222222,\"#7201a8\"],[0.3333333333333333,\"#9c179e\"],[0.4444444444444444,\"#bd3786\"],[0.5555555555555556,\"#d8576b\"],[0.6666666666666666,\"#ed7953\"],[0.7777777777777778,\"#fb9f3a\"],[0.8888888888888888,\"#fdca26\"],[1.0,\"#f0f921\"]],\"diverging\":[[0,\"#8e0152\"],[0.1,\"#c51b7d\"],[0.2,\"#de77ae\"],[0.3,\"#f1b6da\"],[0.4,\"#fde0ef\"],[0.5,\"#f7f7f7\"],[0.6,\"#e6f5d0\"],[0.7,\"#b8e186\"],[0.8,\"#7fbc41\"],[0.9,\"#4d9221\"],[1,\"#276419\"]]},\"xaxis\":{\"gridcolor\":\"white\",\"linecolor\":\"white\",\"ticks\":\"\",\"title\":{\"standoff\":15},\"zerolinecolor\":\"white\",\"automargin\":true,\"zerolinewidth\":2},\"yaxis\":{\"gridcolor\":\"white\",\"linecolor\":\"white\",\"ticks\":\"\",\"title\":{\"standoff\":15},\"zerolinecolor\":\"white\",\"automargin\":true,\"zerolinewidth\":2},\"scene\":{\"xaxis\":{\"backgroundcolor\":\"#E5ECF6\",\"gridcolor\":\"white\",\"linecolor\":\"white\",\"showbackground\":true,\"ticks\":\"\",\"zerolinecolor\":\"white\",\"gridwidth\":2},\"yaxis\":{\"backgroundcolor\":\"#E5ECF6\",\"gridcolor\":\"white\",\"linecolor\":\"white\",\"showbackground\":true,\"ticks\":\"\",\"zerolinecolor\":\"white\",\"gridwidth\":2},\"zaxis\":{\"backgroundcolor\":\"#E5ECF6\",\"gridcolor\":\"white\",\"linecolor\":\"white\",\"showbackground\":true,\"ticks\":\"\",\"zerolinecolor\":\"white\",\"gridwidth\":2}},\"shapedefaults\":{\"line\":{\"color\":\"#2a3f5f\"}},\"annotationdefaults\":{\"arrowcolor\":\"#2a3f5f\",\"arrowhead\":0,\"arrowwidth\":1},\"geo\":{\"bgcolor\":\"white\",\"landcolor\":\"#E5ECF6\",\"subunitcolor\":\"white\",\"showland\":true,\"showlakes\":true,\"lakecolor\":\"white\"},\"title\":{\"x\":0.05},\"mapbox\":{\"style\":\"light\"}}},\"xaxis\":{\"anchor\":\"y\",\"domain\":[0.0,1.0],\"scaleanchor\":\"y\",\"constrain\":\"domain\",\"title\":{\"text\":\"Source\"}},\"yaxis\":{\"anchor\":\"x\",\"domain\":[0.0,1.0],\"autorange\":\"reversed\",\"constrain\":\"domain\",\"title\":{\"text\":\"Target\"}},\"coloraxis\":{\"colorbar\":{\"title\":{\"text\":\"Strength\"}},\"colorscale\":[[0.0,\"rgb(103,0,31)\"],[0.1,\"rgb(178,24,43)\"],[0.2,\"rgb(214,96,77)\"],[0.3,\"rgb(244,165,130)\"],[0.4,\"rgb(253,219,199)\"],[0.5,\"rgb(247,247,247)\"],[0.6,\"rgb(209,229,240)\"],[0.7,\"rgb(146,197,222)\"],[0.8,\"rgb(67,147,195)\"],[0.9,\"rgb(33,102,172)\"],[1.0,\"rgb(5,48,97)\"]],\"cmid\":0},\"title\":{\"text\":\"Attention connectome\"}},                        {\"responsive\": true}                    ).then(function(){\n                            \nvar gd = document.getElementById('5a2c6d92-09a4-4d65-aa08-312cc3f8fa09');\nvar x = new MutationObserver(function (mutations, observer) {{\n        var display = window.getComputedStyle(gd).display;\n        if (!display || display === 'none') {{\n            console.log([gd, 'removed!']);\n            Plotly.purge(gd);\n            observer.disconnect();\n        }}\n}});\n\n// Listen for the removal of the full notebook cells\nvar notebookContainer = gd.closest('#notebook-container');\nif (notebookContainer) {{\n    x.observe(notebookContainer, {childList: true});\n}}\n\n// Listen for the clearing of the current output cell\nvar outputEl = gd.closest('.output');\nif (outputEl) {{\n    x.observe(outputEl, {childList: true});\n}}\n\n                        })                };                });            </script>        </div>"
     },
     "metadata": {},
     "output_type": "display_data"
    },
    {
     "data": {
      "text/plain": "<IPython.core.display.SVG object>",
      "image/svg+xml": "<svg xmlns=\"http://www.w3.org/2000/svg\" xmlns:xlink=\"http://www.w3.org/1999/xlink\" width=\"590pt\" height=\"575pt\" viewBox=\"0.00 0.00 590.30 575.00\">\n<g id=\"graph0\" class=\"graph\" transform=\"scale(1 1) rotate(0) translate(4 571)\">\n<polygon fill=\"white\" stroke=\"none\" points=\"-4,4 -4,-571 586.3,-571 586.3,4 -4,4\"/>\n<!-- 1 -->\n<g id=\"node1\" class=\"node\">\n<title>1</title>\n<ellipse fill=\"none\" stroke=\"black\" cx=\"177\" cy=\"-549\" rx=\"46.23\" ry=\"18\"/>\n<text text-anchor=\"middle\" x=\"177\" y=\"-543.95\" font-family=\"Times,serif\" font-size=\"14.00\">1: 'When'</text>\n</g>\n<!-- 3 -->\n<g id=\"node3\" class=\"node\">\n<title>3</title>\n<ellipse fill=\"none\" stroke=\"black\" cx=\"177\" cy=\"-460.5\" rx=\"39.58\" ry=\"18\"/>\n<text text-anchor=\"middle\" x=\"177\" y=\"-455.45\" font-family=\"Times,serif\" font-size=\"14.00\">3: ' and'</text>\n</g>\n<!-- 1&#45;&gt;3 -->\n<g id=\"edge17\" class=\"edge\">\n<title>1-&gt;3</title>\n<path fill=\"none\" stroke=\"#87d37c\" d=\"M177,-530.91C177,-519.14 177,-503.23 177,-489.61\"/>\n<polygon fill=\"#87d37c\" stroke=\"#87d37c\" points=\"180.5,-489.85 177,-479.85 173.5,-489.85 180.5,-489.85\"/>\n<text text-anchor=\"middle\" x=\"191.25\" y=\"-499.7\" font-family=\"Times,serif\" font-size=\"14.00\">-0.07</text>\n</g>\n<!-- 2 -->\n<g id=\"node2\" class=\"node\">\n<title>2</title>\n<ellipse fill=\"none\" stroke=\"black\" cx=\"399\" cy=\"-549\" rx=\"46.75\" ry=\"18\"/>\n<text text-anchor=\"middle\" x=\"399\" y=\"-543.95\" font-family=\"Times,serif\" font-size=\"14.00\">2: ' Mary'</text>\n</g>\n<!-- 2&#45;&gt;3 -->\n<g id=\"edge16\" class=\"edge\">\n<title>2-&gt;3</title>\n<path fill=\"none\" stroke=\"#87d37c\" stroke-width=\"2\" d=\"M367.19,-535.61C328.02,-520.34 261.38,-494.38 218.29,-477.59\"/>\n<polygon fill=\"#87d37c\" stroke=\"#87d37c\" stroke-width=\"2\" points=\"218.86,-474.27 208.27,-473.9 216.32,-480.8 218.86,-474.27\"/>\n<text text-anchor=\"middle\" x=\"322.25\" y=\"-499.7\" font-family=\"Times,serif\" font-size=\"14.00\">-0.07</text>\n</g>\n<!-- 10 -->\n<g id=\"node7\" class=\"node\">\n<title>10</title>\n<ellipse fill=\"none\" stroke=\"black\" cx=\"221\" cy=\"-195\" rx=\"48.28\" ry=\"18\"/>\n<text text-anchor=\"middle\" x=\"221\" y=\"-189.95\" font-family=\"Times,serif\" font-size=\"14.00\">10: ' John'</text>\n</g>\n<!-- 2&#45;&gt;10 -->\n<g id=\"edge12\" class=\"edge\">\n<title>2-&gt;10</title>\n<path fill=\"none\" stroke=\"#87d37c\" stroke-width=\"2\" d=\"M399,-530.77C399,-513.31 399,-485.53 399,-461.5 399,-461.5 399,-461.5 399,-282.5 399,-228.81 332.68,-208.44 281.01,-200.71\"/>\n<polygon fill=\"#87d37c\" stroke=\"#87d37c\" stroke-width=\"2\" points=\"281.61,-196.86 271.23,-199.01 280.68,-203.8 281.61,-196.86\"/>\n<text text-anchor=\"middle\" x=\"413.25\" y=\"-366.95\" font-family=\"Times,serif\" font-size=\"14.00\">-0.08</text>\n</g>\n<!-- 14 -->\n<g id=\"node10\" class=\"node\">\n<title>14</title>\n<ellipse fill=\"none\" stroke=\"black\" cx=\"206\" cy=\"-18\" rx=\"38.04\" ry=\"18\"/>\n<text text-anchor=\"middle\" x=\"206\" y=\"-12.95\" font-family=\"Times,serif\" font-size=\"14.00\">14: ' to'</text>\n</g>\n<!-- 2&#45;&gt;14 -->\n<g id=\"edge6\" class=\"edge\">\n<title>2-&gt;14</title>\n<path fill=\"none\" stroke=\"#87d37c\" stroke-width=\"2\" d=\"M417.66,-532.17C434.29,-516.21 456,-489.92 456,-461.5 456,-461.5 456,-461.5 456,-105.5 456,-63.37 327.57,-37.19 254.82,-25.75\"/>\n<polygon fill=\"#87d37c\" stroke=\"#87d37c\" stroke-width=\"2\" points=\"254.77,-21.89 244.35,-23.84 253.71,-28.81 254.77,-21.89\"/>\n<text text-anchor=\"middle\" x=\"470.25\" y=\"-278.45\" font-family=\"Times,serif\" font-size=\"14.00\">-0.13</text>\n</g>\n<!-- 4 -->\n<g id=\"node4\" class=\"node\">\n<title>4</title>\n<ellipse fill=\"none\" stroke=\"black\" cx=\"99\" cy=\"-372\" rx=\"43.67\" ry=\"18\"/>\n<text text-anchor=\"middle\" x=\"99\" y=\"-366.95\" font-family=\"Times,serif\" font-size=\"14.00\">4: ' John'</text>\n</g>\n<!-- 3&#45;&gt;4 -->\n<g id=\"edge15\" class=\"edge\">\n<title>3-&gt;4</title>\n<path fill=\"none\" stroke=\"#87d37c\" stroke-width=\"4\" d=\"M156.95,-444.88C149.5,-438.97 141.22,-431.82 134.5,-424.5 128.43,-417.88 122.57,-410.17 117.43,-402.75\"/>\n<polygon fill=\"#87d37c\" stroke=\"#87d37c\" stroke-width=\"4\" points=\"120.22,-401.07 111.8,-394.64 114.37,-404.91 120.22,-401.07\"/>\n<text text-anchor=\"middle\" x=\"149.25\" y=\"-411.2\" font-family=\"Times,serif\" font-size=\"14.00\">-0.27</text>\n</g>\n<!-- 5 -->\n<g id=\"node5\" class=\"node\">\n<title>5</title>\n<ellipse fill=\"none\" stroke=\"black\" cx=\"327\" cy=\"-283.5\" rx=\"44.19\" ry=\"18\"/>\n<text text-anchor=\"middle\" x=\"327\" y=\"-278.45\" font-family=\"Times,serif\" font-size=\"14.00\">5: ' went'</text>\n</g>\n<!-- 3&#45;&gt;5 -->\n<g id=\"edge14\" class=\"edge\">\n<title>3-&gt;5</title>\n<path fill=\"none\" stroke=\"#87d37c\" stroke-width=\"2\" d=\"M190.84,-443.35C216.9,-412.95 273.42,-347.01 304.83,-310.37\"/>\n<polygon fill=\"#87d37c\" stroke=\"#87d37c\" stroke-width=\"2\" points=\"308.12,-312.74 311.97,-302.87 302.81,-308.18 308.12,-312.74\"/>\n<text text-anchor=\"middle\" x=\"281.25\" y=\"-366.95\" font-family=\"Times,serif\" font-size=\"14.00\">-0.08</text>\n</g>\n<!-- 3&#45;&gt;10 -->\n<g id=\"edge11\" class=\"edge\">\n<title>3-&gt;10</title>\n<path fill=\"none\" stroke=\"#87d37c\" stroke-width=\"3\" d=\"M172.13,-442.31C163.19,-407.75 146.96,-327.79 168,-265.5 173.39,-249.54 184.07,-234.35 194.44,-222.27\"/>\n<polygon fill=\"#87d37c\" stroke=\"#87d37c\" stroke-width=\"3\" points=\"196.56,-224.86 200.72,-215.11 191.39,-220.14 196.56,-224.86\"/>\n<text text-anchor=\"middle\" x=\"173.25\" y=\"-322.7\" font-family=\"Times,serif\" font-size=\"14.00\">-0.22</text>\n</g>\n<!-- 3&#45;&gt;14 -->\n<g id=\"edge5\" class=\"edge\">\n<title>3-&gt;14</title>\n<path fill=\"none\" stroke=\"#87d37c\" stroke-width=\"2\" d=\"M137.72,-457.26C85.57,-451.92 0,-433.88 0,-373 0,-373 0,-373 0,-105.5 0,-38.47 93.88,-22.52 154.89,-19.23\"/>\n<polygon fill=\"#87d37c\" stroke=\"#87d37c\" stroke-width=\"2\" points=\"154.89,-22.61 164.74,-18.7 154.6,-15.61 154.89,-22.61\"/>\n<text text-anchor=\"middle\" x=\"14.25\" y=\"-234.2\" font-family=\"Times,serif\" font-size=\"14.00\">-0.08</text>\n</g>\n<!-- 4&#45;&gt;5 -->\n<g id=\"edge13\" class=\"edge\">\n<title>4-&gt;5</title>\n<path fill=\"none\" stroke=\"#87d37c\" stroke-width=\"2\" d=\"M103.61,-353.8C107.67,-342.17 114.8,-327.52 126.5,-319.5 153.74,-300.83 241.75,-308.57 274,-301.5 276.62,-300.93 279.29,-300.28 281.98,-299.58\"/>\n<polygon fill=\"#87d37c\" stroke=\"#87d37c\" stroke-width=\"2\" points=\"283.82,-302.12 292.47,-296 281.89,-295.39 283.82,-302.12\"/>\n<text text-anchor=\"middle\" x=\"141.25\" y=\"-322.7\" font-family=\"Times,serif\" font-size=\"14.00\">-0.13</text>\n</g>\n<!-- 4&#45;&gt;10 -->\n<g id=\"edge10\" class=\"edge\">\n<title>4-&gt;10</title>\n<path fill=\"none\" stroke=\"#87d37c\" d=\"M97.1,-353.85C95.41,-332.37 94.76,-294.82 106.5,-265.5 117.6,-237.77 146.39,-220.37 172.32,-209.91\"/>\n<polygon fill=\"#87d37c\" stroke=\"#87d37c\" points=\"173.31,-212.9 181.44,-206.11 170.85,-206.35 173.31,-212.9\"/>\n<text text-anchor=\"middle\" x=\"121.25\" y=\"-278.45\" font-family=\"Times,serif\" font-size=\"14.00\">-0.05</text>\n</g>\n<!-- 4&#45;&gt;14 -->\n<g id=\"edge4\" class=\"edge\">\n<title>4-&gt;14</title>\n<path fill=\"none\" stroke=\"#e52b50\" stroke-width=\"4\" d=\"M81.94,-355.22C66.45,-339.09 46,-312.5 46,-284.5 46,-284.5 46,-284.5 46,-105.5 46,-55.68 106.78,-34.41 153.42,-25.43\"/>\n<polygon fill=\"#e52b50\" stroke=\"#e52b50\" stroke-width=\"4\" points=\"154.62,-28.92 163.89,-23.78 153.44,-22.02 154.62,-28.92\"/>\n<text text-anchor=\"middle\" x=\"58\" y=\"-189.95\" font-family=\"Times,serif\" font-size=\"14.00\">0.26</text>\n</g>\n<!-- 5&#45;&gt;10 -->\n<g id=\"edge9\" class=\"edge\">\n<title>5-&gt;10</title>\n<path fill=\"none\" stroke=\"#87d37c\" stroke-width=\"3\" d=\"M308.05,-267.04C292.27,-254.16 269.5,-235.58 251.21,-220.65\"/>\n<polygon fill=\"#87d37c\" stroke=\"#87d37c\" stroke-width=\"3\" points=\"253.46,-217.53 243.5,-213.92 249.04,-222.95 253.46,-217.53\"/>\n<text text-anchor=\"middle\" x=\"298.25\" y=\"-234.2\" font-family=\"Times,serif\" font-size=\"14.00\">-0.19</text>\n</g>\n<!-- 8 -->\n<g id=\"node6\" class=\"node\">\n<title>8</title>\n<ellipse fill=\"none\" stroke=\"black\" cx=\"221\" cy=\"-283.5\" rx=\"44.19\" ry=\"18\"/>\n<text text-anchor=\"middle\" x=\"221\" y=\"-278.45\" font-family=\"Times,serif\" font-size=\"14.00\">8: ' store'</text>\n</g>\n<!-- 8&#45;&gt;10 -->\n<g id=\"edge8\" class=\"edge\">\n<title>8-&gt;10</title>\n<path fill=\"none\" stroke=\"#87d37c\" d=\"M221,-265.41C221,-253.64 221,-237.73 221,-224.11\"/>\n<polygon fill=\"#87d37c\" stroke=\"#87d37c\" points=\"224.5,-224.35 221,-214.35 217.5,-224.35 224.5,-224.35\"/>\n<text text-anchor=\"middle\" x=\"235.25\" y=\"-234.2\" font-family=\"Times,serif\" font-size=\"14.00\">-0.05</text>\n</g>\n<!-- 11 -->\n<g id=\"node8\" class=\"node\">\n<title>11</title>\n<ellipse fill=\"none\" stroke=\"black\" cx=\"269\" cy=\"-106.5\" rx=\"48.28\" ry=\"18\"/>\n<text text-anchor=\"middle\" x=\"269\" y=\"-101.45\" font-family=\"Times,serif\" font-size=\"14.00\">11: ' gave'</text>\n</g>\n<!-- 10&#45;&gt;11 -->\n<g id=\"edge7\" class=\"edge\">\n<title>10-&gt;11</title>\n<path fill=\"none\" stroke=\"#87d37c\" d=\"M230.48,-176.91C237.25,-164.71 246.5,-148.05 254.23,-134.12\"/>\n<polygon fill=\"#87d37c\" stroke=\"#87d37c\" points=\"257.74,-136 259.54,-125.55 251.62,-132.6 257.74,-136\"/>\n<text text-anchor=\"middle\" x=\"264.25\" y=\"-145.7\" font-family=\"Times,serif\" font-size=\"14.00\">-0.06</text>\n</g>\n<!-- 10&#45;&gt;14 -->\n<g id=\"edge3\" class=\"edge\">\n<title>10-&gt;14</title>\n<path fill=\"none\" stroke=\"#87d37c\" stroke-width=\"7\" d=\"M208.89,-177.28C199.91,-163.78 188.4,-143.91 183.5,-124.5 177.28,-99.88 183.96,-71.74 191.62,-50.72\"/>\n<polygon fill=\"#87d37c\" stroke=\"#87d37c\" stroke-width=\"7\" points=\"197.54,-53.47 195.61,-41.9 186.19,-48.88 197.54,-53.47\"/>\n<text text-anchor=\"middle\" x=\"198.25\" y=\"-101.45\" font-family=\"Times,serif\" font-size=\"14.00\">-0.44</text>\n</g>\n<!-- 11&#45;&gt;14 -->\n<g id=\"edge2\" class=\"edge\">\n<title>11-&gt;14</title>\n<path fill=\"none\" stroke=\"#87d37c\" d=\"M256.85,-88.82C247.64,-76.18 234.83,-58.58 224.37,-44.22\"/>\n<polygon fill=\"#87d37c\" stroke=\"#87d37c\" points=\"226.61,-42.36 217.9,-36.33 220.95,-46.48 226.61,-42.36\"/>\n<text text-anchor=\"middle\" x=\"258.25\" y=\"-57.2\" font-family=\"Times,serif\" font-size=\"14.00\">-0.07</text>\n</g>\n<!-- 13 -->\n<g id=\"node9\" class=\"node\">\n<title>13</title>\n<ellipse fill=\"none\" stroke=\"black\" cx=\"533\" cy=\"-106.5\" rx=\"49.3\" ry=\"18\"/>\n<text text-anchor=\"middle\" x=\"533\" y=\"-101.45\" font-family=\"Times,serif\" font-size=\"14.00\">13: ' book'</text>\n</g>\n<!-- 13&#45;&gt;14 -->\n<g id=\"edge1\" class=\"edge\">\n<title>13-&gt;14</title>\n<path fill=\"none\" stroke=\"#e52b50\" d=\"M517.85,-88.95C506.02,-77.15 488.54,-62.03 470,-54 432.35,-37.7 320.01,-27.18 254.64,-22.26\"/>\n<polygon fill=\"#e52b50\" stroke=\"#e52b50\" points=\"255.02,-18.7 244.79,-21.46 254.51,-25.68 255.02,-18.7\"/>\n<text text-anchor=\"middle\" x=\"508\" y=\"-57.2\" font-family=\"Times,serif\" font-size=\"14.00\">0.06</text>\n</g>\n</g>\n</svg>"
     },
     "execution_count": 42,
     "metadata": {},
     "output_type": "execute_result"
    }
   ],
   "source": [
    "torch.topk()\n",
    "dampening = 0.25\n",
    "c = core.connectom(model, prompt,\n",
    "                   core.logit_diff_metric(model, ' Mary', ' John'),\n",
    "                   # d.CorruptIntervention(model, prompt, corrupt_prompt),\n",
    "                   core.DampenIntervention(dampening),\n",
    "                   # d.ZeroPattern(),\n",
    "                   core.BasicStrategy(),\n",
    "                   )\n",
    "core.plot_attn_connectome(model, prompt, c).show()\n",
    "graph = core.plot_graphviz_connectome(model, prompt, c, threshold=0.05).pipe('svg').decode('utf-8')\n",
    "SVG(graph)"
   ],
   "metadata": {
    "collapsed": false,
    "ExecuteTime": {
     "end_time": "2023-06-26T17:06:11.521497978Z",
     "start_time": "2023-06-26T17:06:05.965264614Z"
    }
   }
  }
 ],
 "metadata": {
  "kernelspec": {
   "display_name": "Python 3",
   "language": "python",
   "name": "python3"
  },
  "language_info": {
   "codemirror_mode": {
    "name": "ipython",
    "version": 2
   },
   "file_extension": ".py",
   "mimetype": "text/x-python",
   "name": "python",
   "nbconvert_exporter": "python",
   "pygments_lexer": "ipython2",
   "version": "2.7.6"
  }
 },
 "nbformat": 4,
 "nbformat_minor": 0
}
