{
 "cells": [
  {
   "cell_type": "code",
   "execution_count": 3,
   "metadata": {
    "collapsed": true,
    "ExecuteTime": {
     "end_time": "2023-06-26T17:59:26.930413216Z",
     "start_time": "2023-06-26T17:59:24.862926633Z"
    }
   },
   "outputs": [
    {
     "name": "stdout",
     "output_type": "stream",
     "text": [
      "The autoreload extension is already loaded. To reload it, use:\n",
      "  %reload_ext autoreload\n",
      "The autoreload extension is already loaded. To reload it, use:\n",
      "  %reload_ext autoreload\n"
     ]
    }
   ],
   "source": [
    "from functools import partial\n",
    "\n",
    "from transformer_lens import HookedTransformer\n",
    "from IPython.display import SVG\n",
    "\n",
    "import diego as d\n",
    "from utils import sankey_diagram_of_connectome\n",
    "\n",
    "%load_ext autoreload\n",
    "%autoreload 2"
   ]
  },
  {
   "cell_type": "code",
   "execution_count": 4,
   "outputs": [
    {
     "name": "stderr",
     "output_type": "stream",
     "text": [
      "Using pad_token, but it is not set yet.\n"
     ]
    },
    {
     "name": "stdout",
     "output_type": "stream",
     "text": [
      "Loaded pretrained model gpt2-small into HookedTransformer\n"
     ]
    }
   ],
   "source": [
    "model = HookedTransformer.from_pretrained(\"gpt2-small\")"
   ],
   "metadata": {
    "collapsed": false,
    "ExecuteTime": {
     "end_time": "2023-06-26T17:59:30.856220693Z",
     "start_time": "2023-06-26T17:59:28.398690447Z"
    }
   }
  },
  {
   "cell_type": "code",
   "execution_count": 5,
   "outputs": [],
   "source": [
    "# model = HookedTransformer.from_pretrained(\"attn-only-4l\")"
   ],
   "metadata": {
    "collapsed": false,
    "ExecuteTime": {
     "end_time": "2023-06-26T17:59:30.872257712Z",
     "start_time": "2023-06-26T17:59:30.857406242Z"
    }
   }
  },
  {
   "cell_type": "code",
   "execution_count": null,
   "outputs": [
    {
     "data": {
      "text/plain": "Exploring: 0 connexions [00:00, ? connexions/s]",
      "application/vnd.jupyter.widget-view+json": {
       "version_major": 2,
       "version_minor": 0,
       "model_id": "a3592cac75214cd1a08b8c988cfebab2"
      }
     },
     "metadata": {},
     "output_type": "display_data"
    }
   ],
   "source": [
    "threshold = 0.15\n",
    "prompt = \"When Mary and John went to the store, John gave a book to\"\n",
    "corrupt_prompt = \"When Tom and Sarah went to the store, Felix gave a book to\"\n",
    "\n",
    "c = d.connectom(model, prompt,\n",
    "          d.logit_diff_metric(model, ' Mary', ' John'),\n",
    "          # d.ZeroPattern(),\n",
    "          d.CorruptIntervention(model, prompt, corrupt_prompt),\n",
    "\n",
    "          d.BasicStrategy(),\n",
    "          # d.BacktrackBisectStrategy(threshold),\n",
    "          # d.BacktrackingStrategy(threshold),\n",
    "          # strategy=d.BisectStrategy(threshold),\n",
    ")\n",
    "# sankey_diagram_of_connectome(model, prompt, c, threshold=threshold);\n",
    "d.plot_attn_connectome(model, prompt, c).show()\n",
    "graph = d.plot_graphviz_connectome(model, prompt, c, threshold=threshold).pipe('svg').decode('utf-8')\n",
    "SVG(graph)"
   ],
   "metadata": {
    "collapsed": false,
    "is_executing": true,
    "ExecuteTime": {
     "start_time": "2023-06-26T18:01:48.475315137Z"
    }
   }
  },
  {
   "cell_type": "code",
   "execution_count": 42,
   "outputs": [
    {
     "data": {
      "text/plain": "  0%|          | 0/105 [00:00<?, ?it/s]",
      "application/vnd.jupyter.widget-view+json": {
       "version_major": 2,
       "version_minor": 0,
       "model_id": "76feb4a3a7a04d82b35cba0a9229807f"
      }
     },
     "metadata": {},
     "output_type": "display_data"
    },
    {
     "data": {
      "application/vnd.plotly.v1+json": {
       "data": [
        {
         "coloraxis": "coloraxis",
         "name": "0",
         "x": [
          "0: '<|endoftext|>'",
          "1: 'When'",
          "2: ' Mary'",
          "3: ' and'",
          "4: ' John'",
          "5: ' went'",
          "6: ' to'",
          "7: ' the'",
          "8: ' store'",
          "9: ','",
          "10: ' John'",
          "11: ' gave'",
          "12: ' a'",
          "13: ' book'",
          "14: ' to'"
         ],
         "y": [
          "0: '<|endoftext|>'",
          "1: 'When'",
          "2: ' Mary'",
          "3: ' and'",
          "4: ' John'",
          "5: ' went'",
          "6: ' to'",
          "7: ' the'",
          "8: ' store'",
          "9: ','",
          "10: ' John'",
          "11: ' gave'",
          "12: ' a'",
          "13: ' book'",
          "14: ' to'"
         ],
         "z": [
          [
           0.0,
           null,
           null,
           null,
           null,
           null,
           null,
           null,
           null,
           null,
           null,
           null,
           null,
           null,
           null
          ],
          [
           0.0,
           0.01921270228922367,
           null,
           null,
           null,
           null,
           null,
           null,
           null,
           null,
           null,
           null,
           null,
           null,
           null
          ],
          [
           0.0,
           -0.002351239090785384,
           0.038402751088142395,
           null,
           null,
           null,
           null,
           null,
           null,
           null,
           null,
           null,
           null,
           null,
           null
          ],
          [
           0.0,
           -0.0701245367527008,
           -0.07439911365509033,
           -0.04888805001974106,
           null,
           null,
           null,
           null,
           null,
           null,
           null,
           null,
           null,
           null,
           null
          ],
          [
           0.0,
           0.04686819761991501,
           -0.027714094147086143,
           -0.273615300655365,
           0.011894562281668186,
           null,
           null,
           null,
           null,
           null,
           null,
           null,
           null,
           null,
           null
          ],
          [
           0.0,
           0.01277941558510065,
           0.016642341390252113,
           -0.08469434082508087,
           -0.1261618286371231,
           -0.029013553634285927,
           null,
           null,
           null,
           null,
           null,
           null,
           null,
           null,
           null
          ],
          [
           0.0,
           4.387338412925601E-4,
           -0.004145074635744095,
           -0.009203069843351841,
           -0.009376397356390953,
           -0.011587793007493019,
           -0.013762750662863255,
           null,
           null,
           null,
           null,
           null,
           null,
           null,
           null
          ],
          [
           0.0,
           0.0021414742805063725,
           0.005106743890792131,
           -0.003157308092340827,
           0.0044882819056510925,
           -0.00445135124027729,
           -0.003937279339879751,
           -0.016131224110722542,
           null,
           null,
           null,
           null,
           null,
           null,
           null
          ],
          [
           0.0,
           -0.008377797901630402,
           -0.0030036773532629013,
           -0.007145305164158344,
           -0.005773461889475584,
           -0.01047544740140438,
           -0.028211915865540504,
           -0.008853954263031483,
           -0.009717142209410667,
           null,
           null,
           null,
           null,
           null,
           null
          ],
          [
           0.0,
           -0.00534851523116231,
           -0.029905300587415695,
           -0.016664499416947365,
           0.02866739220917225,
           -0.001417637220583856,
           -0.008427037857472897,
           -0.007749979849904776,
           -0.032699212431907654,
           -0.012763658538460732,
           null,
           null,
           null,
           null,
           null
          ],
          [
           0.0,
           -0.016425682231783867,
           -0.07849199324846268,
           -0.21698811650276184,
           -0.050364281982183456,
           -0.1869114488363266,
           -0.013246709480881691,
           -0.009804298169910908,
           -0.05031208693981171,
           -0.042342495173215866,
           -0.04492221027612686,
           null,
           null,
           null,
           null
          ],
          [
           0.0,
           -0.01214371994137764,
           -0.001718989689834416,
           -0.011543968692421913,
           0.01293452363461256,
           -0.009875204414129257,
           -0.01368150394409895,
           -0.006042807828634977,
           -0.027828332036733627,
           0.005955651868134737,
           -0.05925319716334343,
           -0.012320000678300858,
           null,
           null,
           null
          ],
          [
           0.0,
           9.966299403458834E-4,
           0.0027776628267019987,
           -6.745963473804295E-4,
           0.002183328615501523,
           0.0020277283620089293,
           -0.0016805820632725954,
           -0.00382304098457098,
           -2.983981103170663E-4,
           -0.010253372602164745,
           0.002156738890334964,
           0.016604427248239517,
           -0.0026757349260151386,
           null,
           null
          ],
          [
           0.0,
           -0.0037304686848074198,
           0.0033931704238057137,
           -4.362718027550727E-4,
           0.0013639649841934443,
           -0.00117340381257236,
           -3.4665389102883637E-4,
           -5.224428605288267E-4,
           -0.008977055549621582,
           0.0027323614340275526,
           0.008749071508646011,
           0.01237564254552126,
           0.00348131125792861,
           -4.3036293936893344E-4,
           null
          ],
          [
           0.0,
           0.014784986153244972,
           -0.12744258344173431,
           -0.08079054951667786,
           0.26127660274505615,
           -0.024637538939714432,
           0.0068183476105332375,
           -0.005151060409843922,
           -0.0019883359782397747,
           -0.02827346697449684,
           -0.43813902139663696,
           -0.06908506900072098,
           -0.017609920352697372,
           0.05932656675577164,
           0.009900317527353764
          ]
         ],
         "type": "heatmap",
         "xaxis": "x",
         "yaxis": "y",
         "hovertemplate": "Source: %{x}<br>Target: %{y}<br>Strength: %{z}<extra></extra>"
        }
       ],
       "layout": {
        "template": {
         "data": {
          "histogram2dcontour": [
           {
            "type": "histogram2dcontour",
            "colorbar": {
             "outlinewidth": 0,
             "ticks": ""
            },
            "colorscale": [
             [
              0.0,
              "#0d0887"
             ],
             [
              0.1111111111111111,
              "#46039f"
             ],
             [
              0.2222222222222222,
              "#7201a8"
             ],
             [
              0.3333333333333333,
              "#9c179e"
             ],
             [
              0.4444444444444444,
              "#bd3786"
             ],
             [
              0.5555555555555556,
              "#d8576b"
             ],
             [
              0.6666666666666666,
              "#ed7953"
             ],
             [
              0.7777777777777778,
              "#fb9f3a"
             ],
             [
              0.8888888888888888,
              "#fdca26"
             ],
             [
              1.0,
              "#f0f921"
             ]
            ]
           }
          ],
          "choropleth": [
           {
            "type": "choropleth",
            "colorbar": {
             "outlinewidth": 0,
             "ticks": ""
            }
           }
          ],
          "histogram2d": [
           {
            "type": "histogram2d",
            "colorbar": {
             "outlinewidth": 0,
             "ticks": ""
            },
            "colorscale": [
             [
              0.0,
              "#0d0887"
             ],
             [
              0.1111111111111111,
              "#46039f"
             ],
             [
              0.2222222222222222,
              "#7201a8"
             ],
             [
              0.3333333333333333,
              "#9c179e"
             ],
             [
              0.4444444444444444,
              "#bd3786"
             ],
             [
              0.5555555555555556,
              "#d8576b"
             ],
             [
              0.6666666666666666,
              "#ed7953"
             ],
             [
              0.7777777777777778,
              "#fb9f3a"
             ],
             [
              0.8888888888888888,
              "#fdca26"
             ],
             [
              1.0,
              "#f0f921"
             ]
            ]
           }
          ],
          "heatmap": [
           {
            "type": "heatmap",
            "colorbar": {
             "outlinewidth": 0,
             "ticks": ""
            },
            "colorscale": [
             [
              0.0,
              "#0d0887"
             ],
             [
              0.1111111111111111,
              "#46039f"
             ],
             [
              0.2222222222222222,
              "#7201a8"
             ],
             [
              0.3333333333333333,
              "#9c179e"
             ],
             [
              0.4444444444444444,
              "#bd3786"
             ],
             [
              0.5555555555555556,
              "#d8576b"
             ],
             [
              0.6666666666666666,
              "#ed7953"
             ],
             [
              0.7777777777777778,
              "#fb9f3a"
             ],
             [
              0.8888888888888888,
              "#fdca26"
             ],
             [
              1.0,
              "#f0f921"
             ]
            ]
           }
          ],
          "heatmapgl": [
           {
            "type": "heatmapgl",
            "colorbar": {
             "outlinewidth": 0,
             "ticks": ""
            },
            "colorscale": [
             [
              0.0,
              "#0d0887"
             ],
             [
              0.1111111111111111,
              "#46039f"
             ],
             [
              0.2222222222222222,
              "#7201a8"
             ],
             [
              0.3333333333333333,
              "#9c179e"
             ],
             [
              0.4444444444444444,
              "#bd3786"
             ],
             [
              0.5555555555555556,
              "#d8576b"
             ],
             [
              0.6666666666666666,
              "#ed7953"
             ],
             [
              0.7777777777777778,
              "#fb9f3a"
             ],
             [
              0.8888888888888888,
              "#fdca26"
             ],
             [
              1.0,
              "#f0f921"
             ]
            ]
           }
          ],
          "contourcarpet": [
           {
            "type": "contourcarpet",
            "colorbar": {
             "outlinewidth": 0,
             "ticks": ""
            }
           }
          ],
          "contour": [
           {
            "type": "contour",
            "colorbar": {
             "outlinewidth": 0,
             "ticks": ""
            },
            "colorscale": [
             [
              0.0,
              "#0d0887"
             ],
             [
              0.1111111111111111,
              "#46039f"
             ],
             [
              0.2222222222222222,
              "#7201a8"
             ],
             [
              0.3333333333333333,
              "#9c179e"
             ],
             [
              0.4444444444444444,
              "#bd3786"
             ],
             [
              0.5555555555555556,
              "#d8576b"
             ],
             [
              0.6666666666666666,
              "#ed7953"
             ],
             [
              0.7777777777777778,
              "#fb9f3a"
             ],
             [
              0.8888888888888888,
              "#fdca26"
             ],
             [
              1.0,
              "#f0f921"
             ]
            ]
           }
          ],
          "surface": [
           {
            "type": "surface",
            "colorbar": {
             "outlinewidth": 0,
             "ticks": ""
            },
            "colorscale": [
             [
              0.0,
              "#0d0887"
             ],
             [
              0.1111111111111111,
              "#46039f"
             ],
             [
              0.2222222222222222,
              "#7201a8"
             ],
             [
              0.3333333333333333,
              "#9c179e"
             ],
             [
              0.4444444444444444,
              "#bd3786"
             ],
             [
              0.5555555555555556,
              "#d8576b"
             ],
             [
              0.6666666666666666,
              "#ed7953"
             ],
             [
              0.7777777777777778,
              "#fb9f3a"
             ],
             [
              0.8888888888888888,
              "#fdca26"
             ],
             [
              1.0,
              "#f0f921"
             ]
            ]
           }
          ],
          "mesh3d": [
           {
            "type": "mesh3d",
            "colorbar": {
             "outlinewidth": 0,
             "ticks": ""
            }
           }
          ],
          "scatter": [
           {
            "fillpattern": {
             "fillmode": "overlay",
             "size": 10,
             "solidity": 0.2
            },
            "type": "scatter"
           }
          ],
          "parcoords": [
           {
            "type": "parcoords",
            "line": {
             "colorbar": {
              "outlinewidth": 0,
              "ticks": ""
             }
            }
           }
          ],
          "scatterpolargl": [
           {
            "type": "scatterpolargl",
            "marker": {
             "colorbar": {
              "outlinewidth": 0,
              "ticks": ""
             }
            }
           }
          ],
          "bar": [
           {
            "error_x": {
             "color": "#2a3f5f"
            },
            "error_y": {
             "color": "#2a3f5f"
            },
            "marker": {
             "line": {
              "color": "#E5ECF6",
              "width": 0.5
             },
             "pattern": {
              "fillmode": "overlay",
              "size": 10,
              "solidity": 0.2
             }
            },
            "type": "bar"
           }
          ],
          "scattergeo": [
           {
            "type": "scattergeo",
            "marker": {
             "colorbar": {
              "outlinewidth": 0,
              "ticks": ""
             }
            }
           }
          ],
          "scatterpolar": [
           {
            "type": "scatterpolar",
            "marker": {
             "colorbar": {
              "outlinewidth": 0,
              "ticks": ""
             }
            }
           }
          ],
          "histogram": [
           {
            "marker": {
             "pattern": {
              "fillmode": "overlay",
              "size": 10,
              "solidity": 0.2
             }
            },
            "type": "histogram"
           }
          ],
          "scattergl": [
           {
            "type": "scattergl",
            "marker": {
             "colorbar": {
              "outlinewidth": 0,
              "ticks": ""
             }
            }
           }
          ],
          "scatter3d": [
           {
            "type": "scatter3d",
            "line": {
             "colorbar": {
              "outlinewidth": 0,
              "ticks": ""
             }
            },
            "marker": {
             "colorbar": {
              "outlinewidth": 0,
              "ticks": ""
             }
            }
           }
          ],
          "scattermapbox": [
           {
            "type": "scattermapbox",
            "marker": {
             "colorbar": {
              "outlinewidth": 0,
              "ticks": ""
             }
            }
           }
          ],
          "scatterternary": [
           {
            "type": "scatterternary",
            "marker": {
             "colorbar": {
              "outlinewidth": 0,
              "ticks": ""
             }
            }
           }
          ],
          "scattercarpet": [
           {
            "type": "scattercarpet",
            "marker": {
             "colorbar": {
              "outlinewidth": 0,
              "ticks": ""
             }
            }
           }
          ],
          "carpet": [
           {
            "aaxis": {
             "endlinecolor": "#2a3f5f",
             "gridcolor": "white",
             "linecolor": "white",
             "minorgridcolor": "white",
             "startlinecolor": "#2a3f5f"
            },
            "baxis": {
             "endlinecolor": "#2a3f5f",
             "gridcolor": "white",
             "linecolor": "white",
             "minorgridcolor": "white",
             "startlinecolor": "#2a3f5f"
            },
            "type": "carpet"
           }
          ],
          "table": [
           {
            "cells": {
             "fill": {
              "color": "#EBF0F8"
             },
             "line": {
              "color": "white"
             }
            },
            "header": {
             "fill": {
              "color": "#C8D4E3"
             },
             "line": {
              "color": "white"
             }
            },
            "type": "table"
           }
          ],
          "barpolar": [
           {
            "marker": {
             "line": {
              "color": "#E5ECF6",
              "width": 0.5
             },
             "pattern": {
              "fillmode": "overlay",
              "size": 10,
              "solidity": 0.2
             }
            },
            "type": "barpolar"
           }
          ],
          "pie": [
           {
            "automargin": true,
            "type": "pie"
           }
          ]
         },
         "layout": {
          "autotypenumbers": "strict",
          "colorway": [
           "#636efa",
           "#EF553B",
           "#00cc96",
           "#ab63fa",
           "#FFA15A",
           "#19d3f3",
           "#FF6692",
           "#B6E880",
           "#FF97FF",
           "#FECB52"
          ],
          "font": {
           "color": "#2a3f5f"
          },
          "hovermode": "closest",
          "hoverlabel": {
           "align": "left"
          },
          "paper_bgcolor": "white",
          "plot_bgcolor": "#E5ECF6",
          "polar": {
           "bgcolor": "#E5ECF6",
           "angularaxis": {
            "gridcolor": "white",
            "linecolor": "white",
            "ticks": ""
           },
           "radialaxis": {
            "gridcolor": "white",
            "linecolor": "white",
            "ticks": ""
           }
          },
          "ternary": {
           "bgcolor": "#E5ECF6",
           "aaxis": {
            "gridcolor": "white",
            "linecolor": "white",
            "ticks": ""
           },
           "baxis": {
            "gridcolor": "white",
            "linecolor": "white",
            "ticks": ""
           },
           "caxis": {
            "gridcolor": "white",
            "linecolor": "white",
            "ticks": ""
           }
          },
          "coloraxis": {
           "colorbar": {
            "outlinewidth": 0,
            "ticks": ""
           }
          },
          "colorscale": {
           "sequential": [
            [
             0.0,
             "#0d0887"
            ],
            [
             0.1111111111111111,
             "#46039f"
            ],
            [
             0.2222222222222222,
             "#7201a8"
            ],
            [
             0.3333333333333333,
             "#9c179e"
            ],
            [
             0.4444444444444444,
             "#bd3786"
            ],
            [
             0.5555555555555556,
             "#d8576b"
            ],
            [
             0.6666666666666666,
             "#ed7953"
            ],
            [
             0.7777777777777778,
             "#fb9f3a"
            ],
            [
             0.8888888888888888,
             "#fdca26"
            ],
            [
             1.0,
             "#f0f921"
            ]
           ],
           "sequentialminus": [
            [
             0.0,
             "#0d0887"
            ],
            [
             0.1111111111111111,
             "#46039f"
            ],
            [
             0.2222222222222222,
             "#7201a8"
            ],
            [
             0.3333333333333333,
             "#9c179e"
            ],
            [
             0.4444444444444444,
             "#bd3786"
            ],
            [
             0.5555555555555556,
             "#d8576b"
            ],
            [
             0.6666666666666666,
             "#ed7953"
            ],
            [
             0.7777777777777778,
             "#fb9f3a"
            ],
            [
             0.8888888888888888,
             "#fdca26"
            ],
            [
             1.0,
             "#f0f921"
            ]
           ],
           "diverging": [
            [
             0,
             "#8e0152"
            ],
            [
             0.1,
             "#c51b7d"
            ],
            [
             0.2,
             "#de77ae"
            ],
            [
             0.3,
             "#f1b6da"
            ],
            [
             0.4,
             "#fde0ef"
            ],
            [
             0.5,
             "#f7f7f7"
            ],
            [
             0.6,
             "#e6f5d0"
            ],
            [
             0.7,
             "#b8e186"
            ],
            [
             0.8,
             "#7fbc41"
            ],
            [
             0.9,
             "#4d9221"
            ],
            [
             1,
             "#276419"
            ]
           ]
          },
          "xaxis": {
           "gridcolor": "white",
           "linecolor": "white",
           "ticks": "",
           "title": {
            "standoff": 15
           },
           "zerolinecolor": "white",
           "automargin": true,
           "zerolinewidth": 2
          },
          "yaxis": {
           "gridcolor": "white",
           "linecolor": "white",
           "ticks": "",
           "title": {
            "standoff": 15
           },
           "zerolinecolor": "white",
           "automargin": true,
           "zerolinewidth": 2
          },
          "scene": {
           "xaxis": {
            "backgroundcolor": "#E5ECF6",
            "gridcolor": "white",
            "linecolor": "white",
            "showbackground": true,
            "ticks": "",
            "zerolinecolor": "white",
            "gridwidth": 2
           },
           "yaxis": {
            "backgroundcolor": "#E5ECF6",
            "gridcolor": "white",
            "linecolor": "white",
            "showbackground": true,
            "ticks": "",
            "zerolinecolor": "white",
            "gridwidth": 2
           },
           "zaxis": {
            "backgroundcolor": "#E5ECF6",
            "gridcolor": "white",
            "linecolor": "white",
            "showbackground": true,
            "ticks": "",
            "zerolinecolor": "white",
            "gridwidth": 2
           }
          },
          "shapedefaults": {
           "line": {
            "color": "#2a3f5f"
           }
          },
          "annotationdefaults": {
           "arrowcolor": "#2a3f5f",
           "arrowhead": 0,
           "arrowwidth": 1
          },
          "geo": {
           "bgcolor": "white",
           "landcolor": "#E5ECF6",
           "subunitcolor": "white",
           "showland": true,
           "showlakes": true,
           "lakecolor": "white"
          },
          "title": {
           "x": 0.05
          },
          "mapbox": {
           "style": "light"
          }
         }
        },
        "xaxis": {
         "anchor": "y",
         "domain": [
          0.0,
          1.0
         ],
         "scaleanchor": "y",
         "constrain": "domain",
         "title": {
          "text": "Source"
         }
        },
        "yaxis": {
         "anchor": "x",
         "domain": [
          0.0,
          1.0
         ],
         "autorange": "reversed",
         "constrain": "domain",
         "title": {
          "text": "Target"
         }
        },
        "coloraxis": {
         "colorbar": {
          "title": {
           "text": "Strength"
          }
         },
         "colorscale": [
          [
           0.0,
           "rgb(103,0,31)"
          ],
          [
           0.1,
           "rgb(178,24,43)"
          ],
          [
           0.2,
           "rgb(214,96,77)"
          ],
          [
           0.3,
           "rgb(244,165,130)"
          ],
          [
           0.4,
           "rgb(253,219,199)"
          ],
          [
           0.5,
           "rgb(247,247,247)"
          ],
          [
           0.6,
           "rgb(209,229,240)"
          ],
          [
           0.7,
           "rgb(146,197,222)"
          ],
          [
           0.8,
           "rgb(67,147,195)"
          ],
          [
           0.9,
           "rgb(33,102,172)"
          ],
          [
           1.0,
           "rgb(5,48,97)"
          ]
         ],
         "cmid": 0
        },
        "title": {
         "text": "Attention connectome"
        }
       },
       "config": {
        "plotlyServerURL": "https://plot.ly"
       }
      },
      "text/html": "<div>                            <div id=\"5a2c6d92-09a4-4d65-aa08-312cc3f8fa09\" class=\"plotly-graph-div\" style=\"height:525px; width:100%;\"></div>            <script type=\"text/javascript\">                require([\"plotly\"], function(Plotly) {                    window.PLOTLYENV=window.PLOTLYENV || {};                                    if (document.getElementById(\"5a2c6d92-09a4-4d65-aa08-312cc3f8fa09\")) {                    Plotly.newPlot(                        \"5a2c6d92-09a4-4d65-aa08-312cc3f8fa09\",                        [{\"coloraxis\":\"coloraxis\",\"name\":\"0\",\"x\":[\"0: '\\u003c|endoftext|\\u003e'\",\"1: 'When'\",\"2: ' Mary'\",\"3: ' and'\",\"4: ' John'\",\"5: ' went'\",\"6: ' to'\",\"7: ' the'\",\"8: ' store'\",\"9: ','\",\"10: ' John'\",\"11: ' gave'\",\"12: ' a'\",\"13: ' book'\",\"14: ' to'\"],\"y\":[\"0: '\\u003c|endoftext|\\u003e'\",\"1: 'When'\",\"2: ' Mary'\",\"3: ' and'\",\"4: ' John'\",\"5: ' went'\",\"6: ' to'\",\"7: ' the'\",\"8: ' store'\",\"9: ','\",\"10: ' John'\",\"11: ' gave'\",\"12: ' a'\",\"13: ' book'\",\"14: ' to'\"],\"z\":[[0.0,null,null,null,null,null,null,null,null,null,null,null,null,null,null],[0.0,0.01921270228922367,null,null,null,null,null,null,null,null,null,null,null,null,null],[0.0,-0.002351239090785384,0.038402751088142395,null,null,null,null,null,null,null,null,null,null,null,null],[0.0,-0.0701245367527008,-0.07439911365509033,-0.04888805001974106,null,null,null,null,null,null,null,null,null,null,null],[0.0,0.04686819761991501,-0.027714094147086143,-0.273615300655365,0.011894562281668186,null,null,null,null,null,null,null,null,null,null],[0.0,0.01277941558510065,0.016642341390252113,-0.08469434082508087,-0.1261618286371231,-0.029013553634285927,null,null,null,null,null,null,null,null,null],[0.0,0.0004387338412925601,-0.004145074635744095,-0.009203069843351841,-0.009376397356390953,-0.011587793007493019,-0.013762750662863255,null,null,null,null,null,null,null,null],[0.0,0.0021414742805063725,0.005106743890792131,-0.003157308092340827,0.0044882819056510925,-0.00445135124027729,-0.003937279339879751,-0.016131224110722542,null,null,null,null,null,null,null],[0.0,-0.008377797901630402,-0.0030036773532629013,-0.007145305164158344,-0.005773461889475584,-0.01047544740140438,-0.028211915865540504,-0.008853954263031483,-0.009717142209410667,null,null,null,null,null,null],[0.0,-0.00534851523116231,-0.029905300587415695,-0.016664499416947365,0.02866739220917225,-0.001417637220583856,-0.008427037857472897,-0.007749979849904776,-0.032699212431907654,-0.012763658538460732,null,null,null,null,null],[0.0,-0.016425682231783867,-0.07849199324846268,-0.21698811650276184,-0.050364281982183456,-0.1869114488363266,-0.013246709480881691,-0.009804298169910908,-0.05031208693981171,-0.042342495173215866,-0.04492221027612686,null,null,null,null],[0.0,-0.01214371994137764,-0.001718989689834416,-0.011543968692421913,0.01293452363461256,-0.009875204414129257,-0.01368150394409895,-0.006042807828634977,-0.027828332036733627,0.005955651868134737,-0.05925319716334343,-0.012320000678300858,null,null,null],[0.0,0.0009966299403458834,0.0027776628267019987,-0.0006745963473804295,0.002183328615501523,0.0020277283620089293,-0.0016805820632725954,-0.00382304098457098,-0.0002983981103170663,-0.010253372602164745,0.002156738890334964,0.016604427248239517,-0.0026757349260151386,null,null],[0.0,-0.0037304686848074198,0.0033931704238057137,-0.0004362718027550727,0.0013639649841934443,-0.00117340381257236,-0.00034665389102883637,-0.0005224428605288267,-0.008977055549621582,0.0027323614340275526,0.008749071508646011,0.01237564254552126,0.00348131125792861,-0.00043036293936893344,null],[0.0,0.014784986153244972,-0.12744258344173431,-0.08079054951667786,0.26127660274505615,-0.024637538939714432,0.0068183476105332375,-0.005151060409843922,-0.0019883359782397747,-0.02827346697449684,-0.43813902139663696,-0.06908506900072098,-0.017609920352697372,0.05932656675577164,0.009900317527353764]],\"type\":\"heatmap\",\"xaxis\":\"x\",\"yaxis\":\"y\",\"hovertemplate\":\"Source: %{x}\\u003cbr\\u003eTarget: %{y}\\u003cbr\\u003eStrength: %{z}\\u003cextra\\u003e\\u003c\\u002fextra\\u003e\"}],                        {\"template\":{\"data\":{\"histogram2dcontour\":[{\"type\":\"histogram2dcontour\",\"colorbar\":{\"outlinewidth\":0,\"ticks\":\"\"},\"colorscale\":[[0.0,\"#0d0887\"],[0.1111111111111111,\"#46039f\"],[0.2222222222222222,\"#7201a8\"],[0.3333333333333333,\"#9c179e\"],[0.4444444444444444,\"#bd3786\"],[0.5555555555555556,\"#d8576b\"],[0.6666666666666666,\"#ed7953\"],[0.7777777777777778,\"#fb9f3a\"],[0.8888888888888888,\"#fdca26\"],[1.0,\"#f0f921\"]]}],\"choropleth\":[{\"type\":\"choropleth\",\"colorbar\":{\"outlinewidth\":0,\"ticks\":\"\"}}],\"histogram2d\":[{\"type\":\"histogram2d\",\"colorbar\":{\"outlinewidth\":0,\"ticks\":\"\"},\"colorscale\":[[0.0,\"#0d0887\"],[0.1111111111111111,\"#46039f\"],[0.2222222222222222,\"#7201a8\"],[0.3333333333333333,\"#9c179e\"],[0.4444444444444444,\"#bd3786\"],[0.5555555555555556,\"#d8576b\"],[0.6666666666666666,\"#ed7953\"],[0.7777777777777778,\"#fb9f3a\"],[0.8888888888888888,\"#fdca26\"],[1.0,\"#f0f921\"]]}],\"heatmap\":[{\"type\":\"heatmap\",\"colorbar\":{\"outlinewidth\":0,\"ticks\":\"\"},\"colorscale\":[[0.0,\"#0d0887\"],[0.1111111111111111,\"#46039f\"],[0.2222222222222222,\"#7201a8\"],[0.3333333333333333,\"#9c179e\"],[0.4444444444444444,\"#bd3786\"],[0.5555555555555556,\"#d8576b\"],[0.6666666666666666,\"#ed7953\"],[0.7777777777777778,\"#fb9f3a\"],[0.8888888888888888,\"#fdca26\"],[1.0,\"#f0f921\"]]}],\"heatmapgl\":[{\"type\":\"heatmapgl\",\"colorbar\":{\"outlinewidth\":0,\"ticks\":\"\"},\"colorscale\":[[0.0,\"#0d0887\"],[0.1111111111111111,\"#46039f\"],[0.2222222222222222,\"#7201a8\"],[0.3333333333333333,\"#9c179e\"],[0.4444444444444444,\"#bd3786\"],[0.5555555555555556,\"#d8576b\"],[0.6666666666666666,\"#ed7953\"],[0.7777777777777778,\"#fb9f3a\"],[0.8888888888888888,\"#fdca26\"],[1.0,\"#f0f921\"]]}],\"contourcarpet\":[{\"type\":\"contourcarpet\",\"colorbar\":{\"outlinewidth\":0,\"ticks\":\"\"}}],\"contour\":[{\"type\":\"contour\",\"colorbar\":{\"outlinewidth\":0,\"ticks\":\"\"},\"colorscale\":[[0.0,\"#0d0887\"],[0.1111111111111111,\"#46039f\"],[0.2222222222222222,\"#7201a8\"],[0.3333333333333333,\"#9c179e\"],[0.4444444444444444,\"#bd3786\"],[0.5555555555555556,\"#d8576b\"],[0.6666666666666666,\"#ed7953\"],[0.7777777777777778,\"#fb9f3a\"],[0.8888888888888888,\"#fdca26\"],[1.0,\"#f0f921\"]]}],\"surface\":[{\"type\":\"surface\",\"colorbar\":{\"outlinewidth\":0,\"ticks\":\"\"},\"colorscale\":[[0.0,\"#0d0887\"],[0.1111111111111111,\"#46039f\"],[0.2222222222222222,\"#7201a8\"],[0.3333333333333333,\"#9c179e\"],[0.4444444444444444,\"#bd3786\"],[0.5555555555555556,\"#d8576b\"],[0.6666666666666666,\"#ed7953\"],[0.7777777777777778,\"#fb9f3a\"],[0.8888888888888888,\"#fdca26\"],[1.0,\"#f0f921\"]]}],\"mesh3d\":[{\"type\":\"mesh3d\",\"colorbar\":{\"outlinewidth\":0,\"ticks\":\"\"}}],\"scatter\":[{\"fillpattern\":{\"fillmode\":\"overlay\",\"size\":10,\"solidity\":0.2},\"type\":\"scatter\"}],\"parcoords\":[{\"type\":\"parcoords\",\"line\":{\"colorbar\":{\"outlinewidth\":0,\"ticks\":\"\"}}}],\"scatterpolargl\":[{\"type\":\"scatterpolargl\",\"marker\":{\"colorbar\":{\"outlinewidth\":0,\"ticks\":\"\"}}}],\"bar\":[{\"error_x\":{\"color\":\"#2a3f5f\"},\"error_y\":{\"color\":\"#2a3f5f\"},\"marker\":{\"line\":{\"color\":\"#E5ECF6\",\"width\":0.5},\"pattern\":{\"fillmode\":\"overlay\",\"size\":10,\"solidity\":0.2}},\"type\":\"bar\"}],\"scattergeo\":[{\"type\":\"scattergeo\",\"marker\":{\"colorbar\":{\"outlinewidth\":0,\"ticks\":\"\"}}}],\"scatterpolar\":[{\"type\":\"scatterpolar\",\"marker\":{\"colorbar\":{\"outlinewidth\":0,\"ticks\":\"\"}}}],\"histogram\":[{\"marker\":{\"pattern\":{\"fillmode\":\"overlay\",\"size\":10,\"solidity\":0.2}},\"type\":\"histogram\"}],\"scattergl\":[{\"type\":\"scattergl\",\"marker\":{\"colorbar\":{\"outlinewidth\":0,\"ticks\":\"\"}}}],\"scatter3d\":[{\"type\":\"scatter3d\",\"line\":{\"colorbar\":{\"outlinewidth\":0,\"ticks\":\"\"}},\"marker\":{\"colorbar\":{\"outlinewidth\":0,\"ticks\":\"\"}}}],\"scattermapbox\":[{\"type\":\"scattermapbox\",\"marker\":{\"colorbar\":{\"outlinewidth\":0,\"ticks\":\"\"}}}],\"scatterternary\":[{\"type\":\"scatterternary\",\"marker\":{\"colorbar\":{\"outlinewidth\":0,\"ticks\":\"\"}}}],\"scattercarpet\":[{\"type\":\"scattercarpet\",\"marker\":{\"colorbar\":{\"outlinewidth\":0,\"ticks\":\"\"}}}],\"carpet\":[{\"aaxis\":{\"endlinecolor\":\"#2a3f5f\",\"gridcolor\":\"white\",\"linecolor\":\"white\",\"minorgridcolor\":\"white\",\"startlinecolor\":\"#2a3f5f\"},\"baxis\":{\"endlinecolor\":\"#2a3f5f\",\"gridcolor\":\"white\",\"linecolor\":\"white\",\"minorgridcolor\":\"white\",\"startlinecolor\":\"#2a3f5f\"},\"type\":\"carpet\"}],\"table\":[{\"cells\":{\"fill\":{\"color\":\"#EBF0F8\"},\"line\":{\"color\":\"white\"}},\"header\":{\"fill\":{\"color\":\"#C8D4E3\"},\"line\":{\"color\":\"white\"}},\"type\":\"table\"}],\"barpolar\":[{\"marker\":{\"line\":{\"color\":\"#E5ECF6\",\"width\":0.5},\"pattern\":{\"fillmode\":\"overlay\",\"size\":10,\"solidity\":0.2}},\"type\":\"barpolar\"}],\"pie\":[{\"automargin\":true,\"type\":\"pie\"}]},\"layout\":{\"autotypenumbers\":\"strict\",\"colorway\":[\"#636efa\",\"#EF553B\",\"#00cc96\",\"#ab63fa\",\"#FFA15A\",\"#19d3f3\",\"#FF6692\",\"#B6E880\",\"#FF97FF\",\"#FECB52\"],\"font\":{\"color\":\"#2a3f5f\"},\"hovermode\":\"closest\",\"hoverlabel\":{\"align\":\"left\"},\"paper_bgcolor\":\"white\",\"plot_bgcolor\":\"#E5ECF6\",\"polar\":{\"bgcolor\":\"#E5ECF6\",\"angularaxis\":{\"gridcolor\":\"white\",\"linecolor\":\"white\",\"ticks\":\"\"},\"radialaxis\":{\"gridcolor\":\"white\",\"linecolor\":\"white\",\"ticks\":\"\"}},\"ternary\":{\"bgcolor\":\"#E5ECF6\",\"aaxis\":{\"gridcolor\":\"white\",\"linecolor\":\"white\",\"ticks\":\"\"},\"baxis\":{\"gridcolor\":\"white\",\"linecolor\":\"white\",\"ticks\":\"\"},\"caxis\":{\"gridcolor\":\"white\",\"linecolor\":\"white\",\"ticks\":\"\"}},\"coloraxis\":{\"colorbar\":{\"outlinewidth\":0,\"ticks\":\"\"}},\"colorscale\":{\"sequential\":[[0.0,\"#0d0887\"],[0.1111111111111111,\"#46039f\"],[0.2222222222222222,\"#7201a8\"],[0.3333333333333333,\"#9c179e\"],[0.4444444444444444,\"#bd3786\"],[0.5555555555555556,\"#d8576b\"],[0.6666666666666666,\"#ed7953\"],[0.7777777777777778,\"#fb9f3a\"],[0.8888888888888888,\"#fdca26\"],[1.0,\"#f0f921\"]],\"sequentialminus\":[[0.0,\"#0d0887\"],[0.1111111111111111,\"#46039f\"],[0.2222222222222222,\"#7201a8\"],[0.3333333333333333,\"#9c179e\"],[0.4444444444444444,\"#bd3786\"],[0.5555555555555556,\"#d8576b\"],[0.6666666666666666,\"#ed7953\"],[0.7777777777777778,\"#fb9f3a\"],[0.8888888888888888,\"#fdca26\"],[1.0,\"#f0f921\"]],\"diverging\":[[0,\"#8e0152\"],[0.1,\"#c51b7d\"],[0.2,\"#de77ae\"],[0.3,\"#f1b6da\"],[0.4,\"#fde0ef\"],[0.5,\"#f7f7f7\"],[0.6,\"#e6f5d0\"],[0.7,\"#b8e186\"],[0.8,\"#7fbc41\"],[0.9,\"#4d9221\"],[1,\"#276419\"]]},\"xaxis\":{\"gridcolor\":\"white\",\"linecolor\":\"white\",\"ticks\":\"\",\"title\":{\"standoff\":15},\"zerolinecolor\":\"white\",\"automargin\":true,\"zerolinewidth\":2},\"yaxis\":{\"gridcolor\":\"white\",\"linecolor\":\"white\",\"ticks\":\"\",\"title\":{\"standoff\":15},\"zerolinecolor\":\"white\",\"automargin\":true,\"zerolinewidth\":2},\"scene\":{\"xaxis\":{\"backgroundcolor\":\"#E5ECF6\",\"gridcolor\":\"white\",\"linecolor\":\"white\",\"showbackground\":true,\"ticks\":\"\",\"zerolinecolor\":\"white\",\"gridwidth\":2},\"yaxis\":{\"backgroundcolor\":\"#E5ECF6\",\"gridcolor\":\"white\",\"linecolor\":\"white\",\"showbackground\":true,\"ticks\":\"\",\"zerolinecolor\":\"white\",\"gridwidth\":2},\"zaxis\":{\"backgroundcolor\":\"#E5ECF6\",\"gridcolor\":\"white\",\"linecolor\":\"white\",\"showbackground\":true,\"ticks\":\"\",\"zerolinecolor\":\"white\",\"gridwidth\":2}},\"shapedefaults\":{\"line\":{\"color\":\"#2a3f5f\"}},\"annotationdefaults\":{\"arrowcolor\":\"#2a3f5f\",\"arrowhead\":0,\"arrowwidth\":1},\"geo\":{\"bgcolor\":\"white\",\"landcolor\":\"#E5ECF6\",\"subunitcolor\":\"white\",\"showland\":true,\"showlakes\":true,\"lakecolor\":\"white\"},\"title\":{\"x\":0.05},\"mapbox\":{\"style\":\"light\"}}},\"xaxis\":{\"anchor\":\"y\",\"domain\":[0.0,1.0],\"scaleanchor\":\"y\",\"constrain\":\"domain\",\"title\":{\"text\":\"Source\"}},\"yaxis\":{\"anchor\":\"x\",\"domain\":[0.0,1.0],\"autorange\":\"reversed\",\"constrain\":\"domain\",\"title\":{\"text\":\"Target\"}},\"coloraxis\":{\"colorbar\":{\"title\":{\"text\":\"Strength\"}},\"colorscale\":[[0.0,\"rgb(103,0,31)\"],[0.1,\"rgb(178,24,43)\"],[0.2,\"rgb(214,96,77)\"],[0.3,\"rgb(244,165,130)\"],[0.4,\"rgb(253,219,199)\"],[0.5,\"rgb(247,247,247)\"],[0.6,\"rgb(209,229,240)\"],[0.7,\"rgb(146,197,222)\"],[0.8,\"rgb(67,147,195)\"],[0.9,\"rgb(33,102,172)\"],[1.0,\"rgb(5,48,97)\"]],\"cmid\":0},\"title\":{\"text\":\"Attention connectome\"}},                        {\"responsive\": true}                    ).then(function(){\n                            \nvar gd = document.getElementById('5a2c6d92-09a4-4d65-aa08-312cc3f8fa09');\nvar x = new MutationObserver(function (mutations, observer) {{\n        var display = window.getComputedStyle(gd).display;\n        if (!display || display === 'none') {{\n            console.log([gd, 'removed!']);\n            Plotly.purge(gd);\n            observer.disconnect();\n        }}\n}});\n\n// Listen for the removal of the full notebook cells\nvar notebookContainer = gd.closest('#notebook-container');\nif (notebookContainer) {{\n    x.observe(notebookContainer, {childList: true});\n}}\n\n// Listen for the clearing of the current output cell\nvar outputEl = gd.closest('.output');\nif (outputEl) {{\n    x.observe(outputEl, {childList: true});\n}}\n\n                        })                };                });            </script>        </div>"
     },
     "metadata": {},
     "output_type": "display_data"
    },
    {
     "data": {
      "text/plain": "<IPython.core.display.SVG object>",
      "image/svg+xml": "<svg xmlns=\"http://www.w3.org/2000/svg\" xmlns:xlink=\"http://www.w3.org/1999/xlink\" width=\"590pt\" height=\"575pt\" viewBox=\"0.00 0.00 590.30 575.00\">\n<g id=\"graph0\" class=\"graph\" transform=\"scale(1 1) rotate(0) translate(4 571)\">\n<polygon fill=\"white\" stroke=\"none\" points=\"-4,4 -4,-571 586.3,-571 586.3,4 -4,4\"/>\n<!-- 1 -->\n<g id=\"node1\" class=\"node\">\n<title>1</title>\n<ellipse fill=\"none\" stroke=\"black\" cx=\"177\" cy=\"-549\" rx=\"46.23\" ry=\"18\"/>\n<text text-anchor=\"middle\" x=\"177\" y=\"-543.95\" font-family=\"Times,serif\" font-size=\"14.00\">1: 'When'</text>\n</g>\n<!-- 3 -->\n<g id=\"node3\" class=\"node\">\n<title>3</title>\n<ellipse fill=\"none\" stroke=\"black\" cx=\"177\" cy=\"-460.5\" rx=\"39.58\" ry=\"18\"/>\n<text text-anchor=\"middle\" x=\"177\" y=\"-455.45\" font-family=\"Times,serif\" font-size=\"14.00\">3: ' and'</text>\n</g>\n<!-- 1&#45;&gt;3 -->\n<g id=\"edge17\" class=\"edge\">\n<title>1-&gt;3</title>\n<path fill=\"none\" stroke=\"#87d37c\" d=\"M177,-530.91C177,-519.14 177,-503.23 177,-489.61\"/>\n<polygon fill=\"#87d37c\" stroke=\"#87d37c\" points=\"180.5,-489.85 177,-479.85 173.5,-489.85 180.5,-489.85\"/>\n<text text-anchor=\"middle\" x=\"191.25\" y=\"-499.7\" font-family=\"Times,serif\" font-size=\"14.00\">-0.07</text>\n</g>\n<!-- 2 -->\n<g id=\"node2\" class=\"node\">\n<title>2</title>\n<ellipse fill=\"none\" stroke=\"black\" cx=\"399\" cy=\"-549\" rx=\"46.75\" ry=\"18\"/>\n<text text-anchor=\"middle\" x=\"399\" y=\"-543.95\" font-family=\"Times,serif\" font-size=\"14.00\">2: ' Mary'</text>\n</g>\n<!-- 2&#45;&gt;3 -->\n<g id=\"edge16\" class=\"edge\">\n<title>2-&gt;3</title>\n<path fill=\"none\" stroke=\"#87d37c\" stroke-width=\"2\" d=\"M367.19,-535.61C328.02,-520.34 261.38,-494.38 218.29,-477.59\"/>\n<polygon fill=\"#87d37c\" stroke=\"#87d37c\" stroke-width=\"2\" points=\"218.86,-474.27 208.27,-473.9 216.32,-480.8 218.86,-474.27\"/>\n<text text-anchor=\"middle\" x=\"322.25\" y=\"-499.7\" font-family=\"Times,serif\" font-size=\"14.00\">-0.07</text>\n</g>\n<!-- 10 -->\n<g id=\"node7\" class=\"node\">\n<title>10</title>\n<ellipse fill=\"none\" stroke=\"black\" cx=\"221\" cy=\"-195\" rx=\"48.28\" ry=\"18\"/>\n<text text-anchor=\"middle\" x=\"221\" y=\"-189.95\" font-family=\"Times,serif\" font-size=\"14.00\">10: ' John'</text>\n</g>\n<!-- 2&#45;&gt;10 -->\n<g id=\"edge12\" class=\"edge\">\n<title>2-&gt;10</title>\n<path fill=\"none\" stroke=\"#87d37c\" stroke-width=\"2\" d=\"M399,-530.77C399,-513.31 399,-485.53 399,-461.5 399,-461.5 399,-461.5 399,-282.5 399,-228.81 332.68,-208.44 281.01,-200.71\"/>\n<polygon fill=\"#87d37c\" stroke=\"#87d37c\" stroke-width=\"2\" points=\"281.61,-196.86 271.23,-199.01 280.68,-203.8 281.61,-196.86\"/>\n<text text-anchor=\"middle\" x=\"413.25\" y=\"-366.95\" font-family=\"Times,serif\" font-size=\"14.00\">-0.08</text>\n</g>\n<!-- 14 -->\n<g id=\"node10\" class=\"node\">\n<title>14</title>\n<ellipse fill=\"none\" stroke=\"black\" cx=\"206\" cy=\"-18\" rx=\"38.04\" ry=\"18\"/>\n<text text-anchor=\"middle\" x=\"206\" y=\"-12.95\" font-family=\"Times,serif\" font-size=\"14.00\">14: ' to'</text>\n</g>\n<!-- 2&#45;&gt;14 -->\n<g id=\"edge6\" class=\"edge\">\n<title>2-&gt;14</title>\n<path fill=\"none\" stroke=\"#87d37c\" stroke-width=\"2\" d=\"M417.66,-532.17C434.29,-516.21 456,-489.92 456,-461.5 456,-461.5 456,-461.5 456,-105.5 456,-63.37 327.57,-37.19 254.82,-25.75\"/>\n<polygon fill=\"#87d37c\" stroke=\"#87d37c\" stroke-width=\"2\" points=\"254.77,-21.89 244.35,-23.84 253.71,-28.81 254.77,-21.89\"/>\n<text text-anchor=\"middle\" x=\"470.25\" y=\"-278.45\" font-family=\"Times,serif\" font-size=\"14.00\">-0.13</text>\n</g>\n<!-- 4 -->\n<g id=\"node4\" class=\"node\">\n<title>4</title>\n<ellipse fill=\"none\" stroke=\"black\" cx=\"99\" cy=\"-372\" rx=\"43.67\" ry=\"18\"/>\n<text text-anchor=\"middle\" x=\"99\" y=\"-366.95\" font-family=\"Times,serif\" font-size=\"14.00\">4: ' John'</text>\n</g>\n<!-- 3&#45;&gt;4 -->\n<g id=\"edge15\" class=\"edge\">\n<title>3-&gt;4</title>\n<path fill=\"none\" stroke=\"#87d37c\" stroke-width=\"4\" d=\"M156.95,-444.88C149.5,-438.97 141.22,-431.82 134.5,-424.5 128.43,-417.88 122.57,-410.17 117.43,-402.75\"/>\n<polygon fill=\"#87d37c\" stroke=\"#87d37c\" stroke-width=\"4\" points=\"120.22,-401.07 111.8,-394.64 114.37,-404.91 120.22,-401.07\"/>\n<text text-anchor=\"middle\" x=\"149.25\" y=\"-411.2\" font-family=\"Times,serif\" font-size=\"14.00\">-0.27</text>\n</g>\n<!-- 5 -->\n<g id=\"node5\" class=\"node\">\n<title>5</title>\n<ellipse fill=\"none\" stroke=\"black\" cx=\"327\" cy=\"-283.5\" rx=\"44.19\" ry=\"18\"/>\n<text text-anchor=\"middle\" x=\"327\" y=\"-278.45\" font-family=\"Times,serif\" font-size=\"14.00\">5: ' went'</text>\n</g>\n<!-- 3&#45;&gt;5 -->\n<g id=\"edge14\" class=\"edge\">\n<title>3-&gt;5</title>\n<path fill=\"none\" stroke=\"#87d37c\" stroke-width=\"2\" d=\"M190.84,-443.35C216.9,-412.95 273.42,-347.01 304.83,-310.37\"/>\n<polygon fill=\"#87d37c\" stroke=\"#87d37c\" stroke-width=\"2\" points=\"308.12,-312.74 311.97,-302.87 302.81,-308.18 308.12,-312.74\"/>\n<text text-anchor=\"middle\" x=\"281.25\" y=\"-366.95\" font-family=\"Times,serif\" font-size=\"14.00\">-0.08</text>\n</g>\n<!-- 3&#45;&gt;10 -->\n<g id=\"edge11\" class=\"edge\">\n<title>3-&gt;10</title>\n<path fill=\"none\" stroke=\"#87d37c\" stroke-width=\"3\" d=\"M172.13,-442.31C163.19,-407.75 146.96,-327.79 168,-265.5 173.39,-249.54 184.07,-234.35 194.44,-222.27\"/>\n<polygon fill=\"#87d37c\" stroke=\"#87d37c\" stroke-width=\"3\" points=\"196.56,-224.86 200.72,-215.11 191.39,-220.14 196.56,-224.86\"/>\n<text text-anchor=\"middle\" x=\"173.25\" y=\"-322.7\" font-family=\"Times,serif\" font-size=\"14.00\">-0.22</text>\n</g>\n<!-- 3&#45;&gt;14 -->\n<g id=\"edge5\" class=\"edge\">\n<title>3-&gt;14</title>\n<path fill=\"none\" stroke=\"#87d37c\" stroke-width=\"2\" d=\"M137.72,-457.26C85.57,-451.92 0,-433.88 0,-373 0,-373 0,-373 0,-105.5 0,-38.47 93.88,-22.52 154.89,-19.23\"/>\n<polygon fill=\"#87d37c\" stroke=\"#87d37c\" stroke-width=\"2\" points=\"154.89,-22.61 164.74,-18.7 154.6,-15.61 154.89,-22.61\"/>\n<text text-anchor=\"middle\" x=\"14.25\" y=\"-234.2\" font-family=\"Times,serif\" font-size=\"14.00\">-0.08</text>\n</g>\n<!-- 4&#45;&gt;5 -->\n<g id=\"edge13\" class=\"edge\">\n<title>4-&gt;5</title>\n<path fill=\"none\" stroke=\"#87d37c\" stroke-width=\"2\" d=\"M103.61,-353.8C107.67,-342.17 114.8,-327.52 126.5,-319.5 153.74,-300.83 241.75,-308.57 274,-301.5 276.62,-300.93 279.29,-300.28 281.98,-299.58\"/>\n<polygon fill=\"#87d37c\" stroke=\"#87d37c\" stroke-width=\"2\" points=\"283.82,-302.12 292.47,-296 281.89,-295.39 283.82,-302.12\"/>\n<text text-anchor=\"middle\" x=\"141.25\" y=\"-322.7\" font-family=\"Times,serif\" font-size=\"14.00\">-0.13</text>\n</g>\n<!-- 4&#45;&gt;10 -->\n<g id=\"edge10\" class=\"edge\">\n<title>4-&gt;10</title>\n<path fill=\"none\" stroke=\"#87d37c\" d=\"M97.1,-353.85C95.41,-332.37 94.76,-294.82 106.5,-265.5 117.6,-237.77 146.39,-220.37 172.32,-209.91\"/>\n<polygon fill=\"#87d37c\" stroke=\"#87d37c\" points=\"173.31,-212.9 181.44,-206.11 170.85,-206.35 173.31,-212.9\"/>\n<text text-anchor=\"middle\" x=\"121.25\" y=\"-278.45\" font-family=\"Times,serif\" font-size=\"14.00\">-0.05</text>\n</g>\n<!-- 4&#45;&gt;14 -->\n<g id=\"edge4\" class=\"edge\">\n<title>4-&gt;14</title>\n<path fill=\"none\" stroke=\"#e52b50\" stroke-width=\"4\" d=\"M81.94,-355.22C66.45,-339.09 46,-312.5 46,-284.5 46,-284.5 46,-284.5 46,-105.5 46,-55.68 106.78,-34.41 153.42,-25.43\"/>\n<polygon fill=\"#e52b50\" stroke=\"#e52b50\" stroke-width=\"4\" points=\"154.62,-28.92 163.89,-23.78 153.44,-22.02 154.62,-28.92\"/>\n<text text-anchor=\"middle\" x=\"58\" y=\"-189.95\" font-family=\"Times,serif\" font-size=\"14.00\">0.26</text>\n</g>\n<!-- 5&#45;&gt;10 -->\n<g id=\"edge9\" class=\"edge\">\n<title>5-&gt;10</title>\n<path fill=\"none\" stroke=\"#87d37c\" stroke-width=\"3\" d=\"M308.05,-267.04C292.27,-254.16 269.5,-235.58 251.21,-220.65\"/>\n<polygon fill=\"#87d37c\" stroke=\"#87d37c\" stroke-width=\"3\" points=\"253.46,-217.53 243.5,-213.92 249.04,-222.95 253.46,-217.53\"/>\n<text text-anchor=\"middle\" x=\"298.25\" y=\"-234.2\" font-family=\"Times,serif\" font-size=\"14.00\">-0.19</text>\n</g>\n<!-- 8 -->\n<g id=\"node6\" class=\"node\">\n<title>8</title>\n<ellipse fill=\"none\" stroke=\"black\" cx=\"221\" cy=\"-283.5\" rx=\"44.19\" ry=\"18\"/>\n<text text-anchor=\"middle\" x=\"221\" y=\"-278.45\" font-family=\"Times,serif\" font-size=\"14.00\">8: ' store'</text>\n</g>\n<!-- 8&#45;&gt;10 -->\n<g id=\"edge8\" class=\"edge\">\n<title>8-&gt;10</title>\n<path fill=\"none\" stroke=\"#87d37c\" d=\"M221,-265.41C221,-253.64 221,-237.73 221,-224.11\"/>\n<polygon fill=\"#87d37c\" stroke=\"#87d37c\" points=\"224.5,-224.35 221,-214.35 217.5,-224.35 224.5,-224.35\"/>\n<text text-anchor=\"middle\" x=\"235.25\" y=\"-234.2\" font-family=\"Times,serif\" font-size=\"14.00\">-0.05</text>\n</g>\n<!-- 11 -->\n<g id=\"node8\" class=\"node\">\n<title>11</title>\n<ellipse fill=\"none\" stroke=\"black\" cx=\"269\" cy=\"-106.5\" rx=\"48.28\" ry=\"18\"/>\n<text text-anchor=\"middle\" x=\"269\" y=\"-101.45\" font-family=\"Times,serif\" font-size=\"14.00\">11: ' gave'</text>\n</g>\n<!-- 10&#45;&gt;11 -->\n<g id=\"edge7\" class=\"edge\">\n<title>10-&gt;11</title>\n<path fill=\"none\" stroke=\"#87d37c\" d=\"M230.48,-176.91C237.25,-164.71 246.5,-148.05 254.23,-134.12\"/>\n<polygon fill=\"#87d37c\" stroke=\"#87d37c\" points=\"257.74,-136 259.54,-125.55 251.62,-132.6 257.74,-136\"/>\n<text text-anchor=\"middle\" x=\"264.25\" y=\"-145.7\" font-family=\"Times,serif\" font-size=\"14.00\">-0.06</text>\n</g>\n<!-- 10&#45;&gt;14 -->\n<g id=\"edge3\" class=\"edge\">\n<title>10-&gt;14</title>\n<path fill=\"none\" stroke=\"#87d37c\" stroke-width=\"7\" d=\"M208.89,-177.28C199.91,-163.78 188.4,-143.91 183.5,-124.5 177.28,-99.88 183.96,-71.74 191.62,-50.72\"/>\n<polygon fill=\"#87d37c\" stroke=\"#87d37c\" stroke-width=\"7\" points=\"197.54,-53.47 195.61,-41.9 186.19,-48.88 197.54,-53.47\"/>\n<text text-anchor=\"middle\" x=\"198.25\" y=\"-101.45\" font-family=\"Times,serif\" font-size=\"14.00\">-0.44</text>\n</g>\n<!-- 11&#45;&gt;14 -->\n<g id=\"edge2\" class=\"edge\">\n<title>11-&gt;14</title>\n<path fill=\"none\" stroke=\"#87d37c\" d=\"M256.85,-88.82C247.64,-76.18 234.83,-58.58 224.37,-44.22\"/>\n<polygon fill=\"#87d37c\" stroke=\"#87d37c\" points=\"226.61,-42.36 217.9,-36.33 220.95,-46.48 226.61,-42.36\"/>\n<text text-anchor=\"middle\" x=\"258.25\" y=\"-57.2\" font-family=\"Times,serif\" font-size=\"14.00\">-0.07</text>\n</g>\n<!-- 13 -->\n<g id=\"node9\" class=\"node\">\n<title>13</title>\n<ellipse fill=\"none\" stroke=\"black\" cx=\"533\" cy=\"-106.5\" rx=\"49.3\" ry=\"18\"/>\n<text text-anchor=\"middle\" x=\"533\" y=\"-101.45\" font-family=\"Times,serif\" font-size=\"14.00\">13: ' book'</text>\n</g>\n<!-- 13&#45;&gt;14 -->\n<g id=\"edge1\" class=\"edge\">\n<title>13-&gt;14</title>\n<path fill=\"none\" stroke=\"#e52b50\" d=\"M517.85,-88.95C506.02,-77.15 488.54,-62.03 470,-54 432.35,-37.7 320.01,-27.18 254.64,-22.26\"/>\n<polygon fill=\"#e52b50\" stroke=\"#e52b50\" points=\"255.02,-18.7 244.79,-21.46 254.51,-25.68 255.02,-18.7\"/>\n<text text-anchor=\"middle\" x=\"508\" y=\"-57.2\" font-family=\"Times,serif\" font-size=\"14.00\">0.06</text>\n</g>\n</g>\n</svg>"
     },
     "execution_count": 42,
     "metadata": {},
     "output_type": "execute_result"
    }
   ],
   "source": [
    "dampening = 0.25\n",
    "c = d.connectom(model, prompt,\n",
    "          d.logit_diff_metric(model, ' Mary', ' John'),\n",
    "          # d.CorruptIntervention(model, prompt, corrupt_prompt),\n",
    "          d.DampenIntervention(dampening),\n",
    "          # d.ZeroPattern(),\n",
    "          d.BasicStrategy(),\n",
    "          )\n",
    "d.plot_attn_connectome(model, prompt, c).show()\n",
    "graph = d.plot_graphviz_connectome(model, prompt, c, threshold=0.05).pipe('svg').decode('utf-8')\n",
    "SVG(graph)"
   ],
   "metadata": {
    "collapsed": false,
    "ExecuteTime": {
     "end_time": "2023-06-26T17:06:11.521497978Z",
     "start_time": "2023-06-26T17:06:05.965264614Z"
    }
   }
  }
 ],
 "metadata": {
  "kernelspec": {
   "display_name": "Python 3",
   "language": "python",
   "name": "python3"
  },
  "language_info": {
   "codemirror_mode": {
    "name": "ipython",
    "version": 2
   },
   "file_extension": ".py",
   "mimetype": "text/x-python",
   "name": "python",
   "nbconvert_exporter": "python",
   "pygments_lexer": "ipython2",
   "version": "2.7.6"
  }
 },
 "nbformat": 4,
 "nbformat_minor": 0
}
