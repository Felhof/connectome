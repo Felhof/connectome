{
 "cells": [
  {
   "cell_type": "code",
   "execution_count": null,
   "metadata": {
    "collapsed": true
   },
   "outputs": [],
   "source": [
    "from dataclasses import dataclass\n",
    "from transformer_lens import HookedTransformer\n",
    "import core\n",
    "\n",
    "%load_ext autoreload\n",
    "%autoreload 2"
   ]
  },
  {
   "cell_type": "code",
   "execution_count": null,
   "outputs": [],
   "source": [
    "# Models\n",
    "gpt2 = HookedTransformer.from_pretrained(\"gpt2-small\")\n",
    "attn_only_4l = HookedTransformer.from_pretrained(\"attn-only-4l\")"
   ],
   "metadata": {
    "collapsed": false
   }
  },
  {
   "cell_type": "code",
   "execution_count": null,
   "outputs": [],
   "source": [
    "@dataclass\n",
    "class Task:\n",
    "    model: HookedTransformer\n",
    "    prompt: str\n",
    "    corrupted: list[str]\n",
    "    correct: str\n",
    "    incorrect: list[str]\n",
    "    short_name: str"
   ],
   "metadata": {
    "collapsed": false
   }
  },
  {
   "cell_type": "code",
   "execution_count": null,
   "outputs": [],
   "source": [
    "task_ioi_ABBA = Task(\n",
    "    model=gpt2,\n",
    "    prompt=\"When Mary and John went to the store, John gave a book to\",\n",
    "    correct=\" Mary\",\n",
    "    incorrect=[\" John\"],\n",
    "    corrupted=[\"When Felix and Sarah went to the store, Diego gave a book to\",\n",
    "               \"When Felix and Sarah went to the store, Felix gave a book to\"],\n",
    "    short_name=\"ioi_abba\",\n",
    ")\n",
    "\n",
    "task_ioi_BABA = Task(\n",
    "    model=gpt2,\n",
    "    prompt=\"When John and Mary went to the store, John gave a book to\",\n",
    "    correct=\" Mary\",\n",
    "    incorrect=[\" John\"],\n",
    "    corrupted=[\"When Felix and Sarah went to the store, Diego gave a book to\",\n",
    "               \"When Felix and Sarah went to the store, Felix gave a book to\"],\n",
    "    short_name=\"ioi_baba\",\n",
    ")\n",
    "task_docstring = Task(\n",
    "    model=attn_only_4l,\n",
    "    prompt = '''def port(self, load, size, file, last):\n",
    "    \"\"\"oil column piece\n",
    "\n",
    "    :param load: crime population\n",
    "    :param size: unit dark\n",
    "    :param''',\n",
    "    correct = \" file\",\n",
    "    incorrect = [\" last\", \" load\", \" size\", \" self\"],\n",
    "    corrupted = [],  # TODO: fill in\n",
    "    short_name=\"docstring 1\",\n",
    ")\n",
    "task_docstring_2 = Task(\n",
    "    model=attn_only_4l,\n",
    "    prompt = '''def run(place, nb, last, first):\n",
    "    \"\"\"run the place\n",
    "\n",
    "    :param place: place to run\n",
    "    :param nb: number of times to run\n",
    "    :param''',\n",
    "    correct = \" first\",\n",
    "    incorrect = [\" last\", \" place\", \" nb\"],\n",
    "    corrupted = [],  # TODO: fill in\n",
    "    short_name=\"docstring 2\",\n",
    ")\n",
    "TASKS = [task_ioi_ABBA, task_ioi_BABA]"
   ],
   "metadata": {
    "collapsed": false
   }
  },
  {
   "cell_type": "code",
   "execution_count": null,
   "outputs": [],
   "source": [
    "threshold = 0.3\n",
    "top_k = 10\n",
    "for task in TASKS:\n",
    "    metric = core.logit_diff_metric(task.model, task.correct, *task.incorrect)\n",
    "    assert metric(task.model(task.prompt)[0]) > 0.1, \"The model cannot do the task\"\n",
    "    interventions = [\n",
    "        core.ZeroPattern(),\n",
    "        core.DampenIntervention(0.1),\n",
    "        core.DampenIntervention(0.3),\n",
    "        core.CropIntervention(task.model, task.prompt),\n",
    "    ]\n",
    "    # for corrupted in task.corrupted:\n",
    "    #     interventions.append(core.CorruptIntervention(task.model, task.prompt, corrupted))\n",
    "\n",
    "    strategy = core.BasicStrategy()\n",
    "    for intervention in interventions:\n",
    "        connectome = core.connectom(task.model, task.prompt, metric, intervention, strategy)\n",
    "        print(task.short_name)\n",
    "        print(task.prompt)\n",
    "        print(\"Correct: \", task.correct)\n",
    "        print(\"Incorrect: \", task.incorrect)\n",
    "        print(\"Intervention: \", intervention)\n",
    "        core.plot_graphviz_connectome(task.model, task.prompt, connectome, top_k=top_k)\n"
   ],
   "metadata": {
    "collapsed": false
   }
  },
  {
   "cell_type": "code",
   "execution_count": null,
   "outputs": [],
   "source": [],
   "metadata": {
    "collapsed": false
   }
  }
 ],
 "metadata": {
  "kernelspec": {
   "display_name": "Python 3",
   "language": "python",
   "name": "python3"
  },
  "language_info": {
   "codemirror_mode": {
    "name": "ipython",
    "version": 2
   },
   "file_extension": ".py",
   "mimetype": "text/x-python",
   "name": "python",
   "nbconvert_exporter": "python",
   "pygments_lexer": "ipython2",
   "version": "2.7.6"
  }
 },
 "nbformat": 4,
 "nbformat_minor": 0
}
